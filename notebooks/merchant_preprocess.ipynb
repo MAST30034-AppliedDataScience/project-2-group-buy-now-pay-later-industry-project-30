{
 "cells": [
  {
   "cell_type": "code",
   "execution_count": 2,
   "metadata": {},
   "outputs": [],
   "source": [
    "import pandas as pd\n",
    "import numpy as np\n",
    "import geopandas as gpd\n",
    "import os\n",
    "import re\n",
    "import glob\n",
    "import math\n",
    "import matplotlib.pyplot as plt\n",
    "from pyspark.sql import functions as F\n",
    "from pyspark.sql import SparkSession\n",
    "from pyspark.sql.types import StructType, StructField, StringType, LongType, IntegerType, DateType, DoubleType\n",
    "from datetime import datetime, timedelta"
   ]
  },
  {
   "cell_type": "code",
   "execution_count": 3,
   "metadata": {},
   "outputs": [
    {
     "name": "stderr",
     "output_type": "stream",
     "text": [
      "24/10/16 16:30:36 WARN Utils: Your hostname, Alans-MacBook-Air-4.local resolves to a loopback address: 127.0.0.1; using 192.168.0.52 instead (on interface en0)\n",
      "24/10/16 16:30:36 WARN Utils: Set SPARK_LOCAL_IP if you need to bind to another address\n",
      "Setting default log level to \"WARN\".\n",
      "To adjust logging level use sc.setLogLevel(newLevel). For SparkR, use setLogLevel(newLevel).\n",
      "24/10/16 16:30:37 WARN NativeCodeLoader: Unable to load native-hadoop library for your platform... using builtin-java classes where applicable\n",
      "24/10/16 16:30:39 WARN Utils: Service 'SparkUI' could not bind on port 4040. Attempting port 4041.\n"
     ]
    }
   ],
   "source": [
    "spark = (\n",
    "    SparkSession.builder.appName('Merchant Data Preprocess')\n",
    "    .config(\"spark.sql.repl.eagerEval.enabled\", True)\n",
    "    .config(\"spark.sql.parquet.cacheMetadata\", \"true\")\n",
    "    .config(\"spark.sql.session.timeZone\", \"Etc/UTC\")\n",
    "    .config('spark.driver.memory', '4g')\n",
    "    .config('spark.executor.memory', '2g')\n",
    "    .getOrCreate()\n",
    ")"
   ]
  },
  {
   "cell_type": "code",
   "execution_count": 5,
   "metadata": {},
   "outputs": [
    {
     "name": "stderr",
     "output_type": "stream",
     "text": [
      "                                                                                \r"
     ]
    },
    {
     "name": "stdout",
     "output_type": "stream",
     "text": [
      "+------------------------------------+-----------------------------------------------------------------------------------------------------------------+------------+\n",
      "|name                                |tags                                                                                                             |merchant_abn|\n",
      "+------------------------------------+-----------------------------------------------------------------------------------------------------------------+------------+\n",
      "|Felis Limited                       |((furniture, home furnishings and equipment shops, and manufacturers, except appliances), (e), (take rate: 0.18))|10023283211 |\n",
      "|Arcu Ac Orci Corporation            |([cable, satellite, and otHer pay television and radio services], [b], [take rate: 4.22])                        |10142254217 |\n",
      "|Nunc Sed Company                    |([jewelry, watch, clock, and silverware shops], [b], [take rate: 4.40])                                          |10165489824 |\n",
      "|Ultricies Dignissim Lacus Foundation|([wAtch, clock, and jewelry repair shops], [b], [take rate: 3.29])                                               |10187291046 |\n",
      "|Enim Condimentum PC                 |([music shops - musical instruments, pianos, and sheet music], [a], [take rate: 6.33])                           |10192359162 |\n",
      "|Fusce Company                       |[(gift, card, novelty, and souvenir shops), (a), (take rate: 6.34)]                                              |10206519221 |\n",
      "|Aliquam Enim Incorporated           |[(computers, comPUter peripheral equipment, and softwAre), (b), (take rate: 4.32)]                               |10255988167 |\n",
      "|Ipsum Primis Ltd                    |[[watch, clock, and jewelry repair shops], [c], [take rate: 2.39]]                                               |10264435225 |\n",
      "|Pede Ultrices Industries            |([computer programming , data processing, and integrated systems design services], [a], [take rate: 5.71])       |10279061213 |\n",
      "|Nunc Inc.                           |[(furniture, home furnishings and equipment shopS, and manufacturers, except appliances), (a), (take rate: 6.61)]|10323485998 |\n",
      "|Facilisis Facilisis Corp.           |([computers, computer peripheral equipment, and software], [a], [take rate: 6.34])                               |10342410215 |\n",
      "|Odio Institute                      |((equipment, tool, furniture, and appliance  rent al and leAsing), (b), (take rate: 3.57))                       |10346855916 |\n",
      "|Rutrum Justo Ltd                    |([music shops - musical instruments, pianos, and sheet music], [b], [take rate: 3.63])                           |10364012396 |\n",
      "|Tellus Foundation                   |[[artist supply and craft  shops], [b], [take rate: 3.17]]                                                       |10385011947 |\n",
      "|Sed Et Company                      |([florists supplies, nursery stock, and flowers], [a], [take rate: 6.61])                                        |10385163239 |\n",
      "|Id Ltd                              |([computers, computer peripheral  equipment, and software], [a], [take rate: 5.54])                              |10385250025 |\n",
      "|Consequat Foundation                |[[antique shops - sales, repairs, and restoration serVices], [a], [take rate: 6.93]]                             |10404542215 |\n",
      "|Sit Amet Nulla Corp.                |[[motor vehicle supplies and new parts], [b], [take rate: 4.97]]                                                 |10430380319 |\n",
      "|Massa Vestibulum Foundation         |[(moTor vehicle supplies and new parts), (a), (take rate: 5.77)]                                                 |10441711491 |\n",
      "|Ut Consulting                       |([gift, card, novelty, and souvenir shops], [c], [take rate: 2.95])                                              |10462560289 |\n",
      "+------------------------------------+-----------------------------------------------------------------------------------------------------------------+------------+\n",
      "only showing top 20 rows\n",
      "\n"
     ]
    }
   ],
   "source": [
    "tbl_merchants = spark.read.parquet(\".././data/landing/tables/tbl_merchants.parquet\")\n",
    "tbl_merchants.show(truncate=False)"
   ]
  },
  {
   "cell_type": "code",
   "execution_count": 6,
   "metadata": {},
   "outputs": [
    {
     "name": "stdout",
     "output_type": "stream",
     "text": [
      "+------------+--------------+------------------+\n",
      "|merchant_abn|order_datetime| fraud_probability|\n",
      "+------------+--------------+------------------+\n",
      "| 19492220327|    2021-11-28|44.403658647495355|\n",
      "| 31334588839|    2021-10-02| 42.75530083865367|\n",
      "| 19492220327|    2021-12-22|38.867790051131095|\n",
      "| 82999039227|    2021-12-19|  94.1347004808891|\n",
      "| 90918180829|    2021-09-02| 43.32551731714902|\n",
      "| 31334588839|    2021-12-26| 38.36165958070444|\n",
      "| 23686790459|    2021-12-10|  79.4543441508535|\n",
      "| 14827550074|    2021-11-26| 46.45775596795885|\n",
      "| 31334588839|    2021-11-26| 36.20971272078342|\n",
      "| 19492220327|    2021-12-18|33.819672154331755|\n",
      "| 31334588839|    2021-11-29|35.386213297375505|\n",
      "| 14827550074|    2021-12-05| 43.85519494291279|\n",
      "| 19492220327|    2021-11-18|32.193139919494016|\n",
      "| 93260930990|    2021-11-30| 37.87197154172081|\n",
      "| 90918180829|    2021-09-16| 36.62001350882694|\n",
      "| 83199298021|    2022-02-27|26.025158824861773|\n",
      "| 83199298021|    2022-02-17| 25.77998392496447|\n",
      "| 94311056026|    2021-12-16| 30.85150199484772|\n",
      "| 97217894162|    2022-01-21| 34.94582650821017|\n",
      "| 43083074133|    2021-12-18| 48.66890735193894|\n",
      "+------------+--------------+------------------+\n",
      "only showing top 20 rows\n",
      "\n"
     ]
    }
   ],
   "source": [
    "merchant_fraud = spark.read.option(\"header\", True).csv(\".././data/landing/tables/merchant_fraud_probability.csv\")\n",
    "merchant_fraud.show()"
   ]
  },
  {
   "cell_type": "code",
   "execution_count": 7,
   "metadata": {},
   "outputs": [
    {
     "name": "stdout",
     "output_type": "stream",
     "text": [
      "root\n",
      " |-- name: string (nullable = true)\n",
      " |-- tags: string (nullable = true)\n",
      " |-- merchant_abn: long (nullable = true)\n",
      "\n"
     ]
    }
   ],
   "source": [
    "tbl_merchants.printSchema()"
   ]
  },
  {
   "cell_type": "code",
   "execution_count": 8,
   "metadata": {},
   "outputs": [],
   "source": [
    "tbl_merchants = tbl_merchants.withColumn('merchant_abn', F.col('merchant_abn').cast(StringType()))"
   ]
  },
  {
   "cell_type": "code",
   "execution_count": 9,
   "metadata": {},
   "outputs": [],
   "source": [
    "abn = merchant_fraud.select(F.col('merchant_abn')).distinct()\n",
    "abn = merchant_fraud.toPandas()\n",
    "abn = abn['merchant_abn'].tolist()"
   ]
  },
  {
   "cell_type": "code",
   "execution_count": 10,
   "metadata": {},
   "outputs": [],
   "source": [
    "merchants_abn = tbl_merchants.select(F.col('merchant_abn')).distinct()\n",
    "merchants_abn = merchants_abn.toPandas()\n",
    "merchants_abn = merchants_abn['merchant_abn'].tolist()"
   ]
  },
  {
   "cell_type": "code",
   "execution_count": 11,
   "metadata": {},
   "outputs": [
    {
     "data": {
      "text/plain": [
       "4026"
      ]
     },
     "execution_count": 11,
     "metadata": {},
     "output_type": "execute_result"
    }
   ],
   "source": [
    "tbl_merchants.count()"
   ]
  },
  {
   "cell_type": "code",
   "execution_count": 12,
   "metadata": {},
   "outputs": [
    {
     "name": "stdout",
     "output_type": "stream",
     "text": [
      "root\n",
      " |-- merchant_abn: string (nullable = true)\n",
      " |-- order_datetime: string (nullable = true)\n",
      " |-- fraud_probability: string (nullable = true)\n",
      "\n"
     ]
    }
   ],
   "source": [
    "merchant_fraud.printSchema()"
   ]
  },
  {
   "cell_type": "code",
   "execution_count": 13,
   "metadata": {},
   "outputs": [
    {
     "name": "stdout",
     "output_type": "stream",
     "text": [
      "13\n"
     ]
    }
   ],
   "source": [
    "print(len(set(abn).difference(merchants_abn)))"
   ]
  },
  {
   "cell_type": "code",
   "execution_count": 14,
   "metadata": {},
   "outputs": [
    {
     "name": "stdout",
     "output_type": "stream",
     "text": [
      "{'99989036621', '83220249221', '94311056026', '14827550074', '23686790459', '29674997261', '19010030815', '81146325646', '73052515151', '59258669983', '82999039227', '57564805948', '75892370170'}\n"
     ]
    }
   ],
   "source": [
    "print(set(abn).difference(merchants_abn))"
   ]
  },
  {
   "cell_type": "code",
   "execution_count": 15,
   "metadata": {},
   "outputs": [],
   "source": [
    "lst = list(set(abn).difference(merchants_abn))"
   ]
  },
  {
   "cell_type": "code",
   "execution_count": 16,
   "metadata": {},
   "outputs": [],
   "source": [
    "merchant_fraud = merchant_fraud.filter(~merchant_fraud['merchant_abn'].isin(lst))"
   ]
  },
  {
   "cell_type": "code",
   "execution_count": 17,
   "metadata": {},
   "outputs": [
    {
     "name": "stdout",
     "output_type": "stream",
     "text": [
      "+------------+--------------+-----------------+\n",
      "|merchant_abn|order_datetime|fraud_probability|\n",
      "+------------+--------------+-----------------+\n",
      "+------------+--------------+-----------------+\n",
      "\n"
     ]
    }
   ],
   "source": [
    "merchant_fraud.filter(F.col('merchant_abn') == '82999039227').show()\n"
   ]
  },
  {
   "cell_type": "code",
   "execution_count": 18,
   "metadata": {},
   "outputs": [
    {
     "name": "stdout",
     "output_type": "stream",
     "text": [
      "+----+----+------------+\n",
      "|name|tags|merchant_abn|\n",
      "+----+----+------------+\n",
      "+----+----+------------+\n",
      "\n"
     ]
    }
   ],
   "source": [
    "tbl_merchants.filter(F.col('merchant_abn') == '82999039227').show()"
   ]
  },
  {
   "cell_type": "code",
   "execution_count": 19,
   "metadata": {},
   "outputs": [
    {
     "name": "stdout",
     "output_type": "stream",
     "text": [
      "+------------------------------------+------------+----------------------------------------------------------------+----+---------+\n",
      "|merchant_name                       |merchant_abn|tags                                                            |type|take_rate|\n",
      "+------------------------------------+------------+----------------------------------------------------------------+----+---------+\n",
      "|Felis Limited                       |10023283211 |furniture, home furnishings, equipment, manufacturers           |e   |0.18     |\n",
      "|Arcu Ac Orci Corporation            |10142254217 |cable, satellite, other pay television, radio                   |b   |4.22     |\n",
      "|Nunc Sed Company                    |10165489824 |jewelry, watch, clock, silverware                               |b   |4.4      |\n",
      "|Ultricies Dignissim Lacus Foundation|10187291046 |watch, clock, jewelry repair                                    |b   |3.29     |\n",
      "|Enim Condimentum PC                 |10192359162 |music, musical instruments, pianos, sheet music                 |a   |6.33     |\n",
      "|Fusce Company                       |10206519221 |gift, card, novelty, souvenir                                   |a   |6.34     |\n",
      "|Aliquam Enim Incorporated           |10255988167 |computers, computer peripheral equipment, software              |b   |4.32     |\n",
      "|Ipsum Primis Ltd                    |10264435225 |watch, clock, jewelry repair                                    |c   |2.39     |\n",
      "|Pede Ultrices Industries            |10279061213 |computer programming, data processing, integrated systems design|a   |5.71     |\n",
      "|Nunc Inc.                           |10323485998 |furniture, home furnishings, equipment, manufacturers           |a   |6.61     |\n",
      "|Facilisis Facilisis Corp.           |10342410215 |computers, computer peripheral equipment, software              |a   |6.34     |\n",
      "|Odio Institute                      |10346855916 |equipment, tool, furniture, appliance rental, leasing           |b   |3.57     |\n",
      "|Rutrum Justo Ltd                    |10364012396 |music, musical instruments, pianos, sheet music                 |b   |3.63     |\n",
      "|Tellus Foundation                   |10385011947 |artist supply, craft                                            |b   |3.17     |\n",
      "|Sed Et Company                      |10385163239 |florists supplies, nursery stock, flowers                       |a   |6.61     |\n",
      "|Id Ltd                              |10385250025 |computers, computer peripheral equipment, software              |a   |5.54     |\n",
      "|Consequat Foundation                |10404542215 |antique, repairs, restoration                                   |a   |6.93     |\n",
      "|Sit Amet Nulla Corp.                |10430380319 |motor vehicle supplies, new parts                               |b   |4.97     |\n",
      "|Massa Vestibulum Foundation         |10441711491 |motor vehicle supplies, new parts                               |a   |5.77     |\n",
      "|Ut Consulting                       |10462560289 |gift, card, novelty, souvenir                                   |c   |2.95     |\n",
      "+------------------------------------+------------+----------------------------------------------------------------+----+---------+\n",
      "only showing top 20 rows\n",
      "\n"
     ]
    }
   ],
   "source": [
    "tbl_merchants = tbl_merchants.withColumn('tags', F.regexp_replace('tags', r'\\(', r'\\[')) \\\n",
    "    .withColumn('tags', F.lower(F.regexp_replace('tags', r'\\)', r'\\]')))\n",
    "\n",
    "\n",
    "tbl_merchants = tbl_merchants.withColumn('tags1', (F.regexp_extract('tags', r'\\[\\[([^\\]]*)\\][^\\[]*\\[([^\\]]*)\\][^\\[]*\\[take rate: ([^\\]]*)\\]\\]', idx=1)))\n",
    "tbl_merchants = tbl_merchants.withColumn('tags2', (F.regexp_extract('tags', r'\\[\\[([^\\]]*)\\][^\\[]*\\[([^\\]]*)\\][^\\[]*\\[take rate: ([^\\]]*)\\]\\]', idx=2)))\n",
    "tbl_merchants = tbl_merchants.withColumn('tags3', (F.regexp_extract('tags', r'\\[\\[([^\\]]*)\\][^\\[]*\\[([^\\]]*)\\][^\\[]*\\[take rate: ([^\\]]*)\\]\\]', idx=3)).cast(DoubleType()))\n",
    "\n",
    "tbl_merchants = tbl_merchants.withColumn(\"tags1\", F.regexp_replace(F.col(\"tags1\"), \"\\\\s+\", \" \"))\n",
    "tbl_merchants = tbl_merchants.withColumn(\"tags1\", F.regexp_replace(F.col(\"tags1\"), \", except appliances\", \"\"))\n",
    "tbl_merchants = tbl_merchants.withColumn(\"tags1\", F.regexp_replace(F.col(\"tags1\"), \"rent al\", \"rental\"))\n",
    "tbl_merchants = tbl_merchants.withColumn(\"tags1\", F.regexp_replace(F.col(\"tags1\"), \":\", \",\"))\n",
    "tbl_merchants = tbl_merchants.withColumn(\"tags1\", F.regexp_replace(F.col(\"tags1\"), \" -\", \",\"))\n",
    "tbl_merchants = tbl_merchants.withColumn(\"tags1\", F.regexp_replace(F.col(\"tags1\"), \" shops\", \"\"))\n",
    "tbl_merchants = tbl_merchants.withColumn(\"tags1\", F.regexp_replace(F.col(\"tags1\"), \" services\", \"\"))\n",
    "tbl_merchants = tbl_merchants.withColumn(\"tags1\", F.regexp_replace(F.col(\"tags1\"), \" service\", \"\"))\n",
    "tbl_merchants = tbl_merchants.withColumn(\"tags1\", F.regexp_replace(F.col(\"tags1\"), \" and\", \",\"))\n",
    "tbl_merchants = tbl_merchants.withColumn(\"tags1\", F.regexp_replace(F.col(\"tags1\"), \", sales\", \"\"))\n",
    "tbl_merchants = tbl_merchants.withColumn(\"tags1\", F.regexp_replace(F.col(\"tags1\"), \" ,\", \",\"))\n",
    "tbl_merchants = tbl_merchants.withColumn(\"tags1\", F.regexp_replace(F.col(\"tags1\"), \",,\", \",\"))\n",
    "tbl_merchants = tbl_merchants.withColumn(\"tags1\", F.regexp_replace(F.col(\"tags1\"), \",]\", \"]\"))\n",
    "tbl_merchants = tbl_merchants.withColumn(\"tags1\", F.regexp_replace(F.col(\"tags1\"), r\"\\[\", \"\"))\n",
    "tbl_merchants = tbl_merchants.withColumn(\"tags1\", F.regexp_replace(F.col(\"tags1\"), r\"\\]\", \"\"))\n",
    "\n",
    "tbl_merchants = tbl_merchants.withColumnRenamed('tags3', 'take_rate')\n",
    "tbl_merchants = tbl_merchants.withColumnRenamed('tags2', 'type')\n",
    "tbl_merchants = tbl_merchants.withColumnRenamed(\"name\", \"merchant_name\")\n",
    "tbl_merchants = tbl_merchants.drop('tags')\n",
    "tbl_merchants = tbl_merchants.withColumnRenamed('tags1', 'tags')\n",
    "\n",
    "tbl_merchants.show(truncate=False)"
   ]
  },
  {
   "cell_type": "markdown",
   "metadata": {},
   "source": [
    "Check Range for Merchant Fraud"
   ]
  },
  {
   "cell_type": "code",
   "execution_count": 20,
   "metadata": {},
   "outputs": [
    {
     "data": {
      "text/plain": [
       "0"
      ]
     },
     "execution_count": 20,
     "metadata": {},
     "output_type": "execute_result"
    }
   ],
   "source": [
    "merchant_fraud.filter(F.col('fraud_probability') < 0).count()"
   ]
  },
  {
   "cell_type": "code",
   "execution_count": 21,
   "metadata": {},
   "outputs": [
    {
     "data": {
      "text/plain": [
       "0"
      ]
     },
     "execution_count": 21,
     "metadata": {},
     "output_type": "execute_result"
    }
   ],
   "source": [
    "merchant_fraud.filter(F.col('fraud_probability') >= 100).count()"
   ]
  },
  {
   "cell_type": "markdown",
   "metadata": {},
   "source": [
    "Check for null values"
   ]
  },
  {
   "cell_type": "code",
   "execution_count": 22,
   "metadata": {},
   "outputs": [
    {
     "data": {
      "text/plain": [
       "0"
      ]
     },
     "execution_count": 22,
     "metadata": {},
     "output_type": "execute_result"
    }
   ],
   "source": [
    "merchant_fraud.filter(F.isnull('merchant_abn')).count()\n"
   ]
  },
  {
   "cell_type": "code",
   "execution_count": 23,
   "metadata": {},
   "outputs": [
    {
     "data": {
      "text/plain": [
       "0"
      ]
     },
     "execution_count": 23,
     "metadata": {},
     "output_type": "execute_result"
    }
   ],
   "source": [
    "merchant_fraud.filter(F.isnull('fraud_probability')).count()"
   ]
  },
  {
   "cell_type": "code",
   "execution_count": 24,
   "metadata": {},
   "outputs": [
    {
     "data": {
      "text/plain": [
       "0"
      ]
     },
     "execution_count": 24,
     "metadata": {},
     "output_type": "execute_result"
    }
   ],
   "source": [
    "merchant_fraud.filter(F.isnull('order_datetime')).count()"
   ]
  },
  {
   "cell_type": "code",
   "execution_count": 25,
   "metadata": {},
   "outputs": [
    {
     "data": {
      "text/plain": [
       "0"
      ]
     },
     "execution_count": 25,
     "metadata": {},
     "output_type": "execute_result"
    }
   ],
   "source": [
    "tbl_merchants.filter(F.isnull('merchant_abn')).count()"
   ]
  },
  {
   "cell_type": "code",
   "execution_count": 26,
   "metadata": {},
   "outputs": [
    {
     "data": {
      "text/plain": [
       "0"
      ]
     },
     "execution_count": 26,
     "metadata": {},
     "output_type": "execute_result"
    }
   ],
   "source": [
    "tbl_merchants.filter(F.isnull('tags')).count()"
   ]
  },
  {
   "cell_type": "code",
   "execution_count": 27,
   "metadata": {},
   "outputs": [
    {
     "data": {
      "text/plain": [
       "0"
      ]
     },
     "execution_count": 27,
     "metadata": {},
     "output_type": "execute_result"
    }
   ],
   "source": [
    "tbl_merchants.filter(F.isnull('name')).count()"
   ]
  },
  {
   "cell_type": "code",
   "execution_count": 28,
   "metadata": {},
   "outputs": [],
   "source": [
    "merchant_fraud = merchant_fraud.withColumn('order_datetime', F.col('order_datetime').cast('date'))"
   ]
  },
  {
   "cell_type": "markdown",
   "metadata": {},
   "source": [
    "There are no null values"
   ]
  },
  {
   "cell_type": "code",
   "execution_count": 29,
   "metadata": {},
   "outputs": [],
   "source": [
    "merchant_fraud.write.mode('overwrite').parquet('.././data/curated/merchant_fraud')"
   ]
  },
  {
   "cell_type": "code",
   "execution_count": 30,
   "metadata": {},
   "outputs": [
    {
     "name": "stderr",
     "output_type": "stream",
     "text": [
      "                                                                                \r"
     ]
    }
   ],
   "source": [
    "tbl_merchants.write.mode('overwrite').parquet('.././data/curated/tbl_merchants')"
   ]
  }
 ],
 "metadata": {
  "kernelspec": {
   "display_name": "Python 3",
   "language": "python",
   "name": "python3"
  },
  "language_info": {
   "codemirror_mode": {
    "name": "ipython",
    "version": 3
   },
   "file_extension": ".py",
   "mimetype": "text/x-python",
   "name": "python",
   "nbconvert_exporter": "python",
   "pygments_lexer": "ipython3",
   "version": "3.11.4"
  }
 },
 "nbformat": 4,
 "nbformat_minor": 2
}
