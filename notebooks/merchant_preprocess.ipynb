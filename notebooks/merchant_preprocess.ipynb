{
 "cells": [
  {
   "cell_type": "code",
   "execution_count": 1,
   "metadata": {},
   "outputs": [],
   "source": [
    "import pandas as pd\n",
    "import numpy as np\n",
    "import geopandas as gpd\n",
    "import os\n",
    "import re\n",
    "import glob\n",
    "import math\n",
    "import matplotlib.pyplot as plt\n",
    "from pyspark.sql import functions as F\n",
    "from pyspark.sql import SparkSession\n",
    "from pyspark.sql.types import StructType, StructField, StringType, LongType, IntegerType, DateType, DoubleType\n",
    "from datetime import datetime, timedelta"
   ]
  },
  {
   "cell_type": "code",
   "execution_count": 2,
   "metadata": {},
   "outputs": [
    {
     "name": "stderr",
     "output_type": "stream",
     "text": [
      "your 131072x1 screen size is bogus. expect trouble\n",
      "24/09/12 17:38:05 WARN Utils: Your hostname, DESKTOP-F216TKE resolves to a loopback address: 127.0.1.1; using 10.255.255.254 instead (on interface lo)\n",
      "24/09/12 17:38:05 WARN Utils: Set SPARK_LOCAL_IP if you need to bind to another address\n",
      "Setting default log level to \"WARN\".\n",
      "To adjust logging level use sc.setLogLevel(newLevel). For SparkR, use setLogLevel(newLevel).\n",
      "24/09/12 17:38:05 WARN NativeCodeLoader: Unable to load native-hadoop library for your platform... using builtin-java classes where applicable\n",
      "24/09/12 17:38:06 WARN Utils: Service 'SparkUI' could not bind on port 4040. Attempting port 4041.\n",
      "24/09/12 17:38:06 WARN Utils: Service 'SparkUI' could not bind on port 4041. Attempting port 4042.\n"
     ]
    }
   ],
   "source": [
    "spark = (\n",
    "    SparkSession.builder.appName('Merchant Data Preprocess')\n",
    "    .config(\"spark.sql.repl.eagerEval.enabled\", True)\n",
    "    .config(\"spark.sql.parquet.cacheMetadata\", \"true\")\n",
    "    .config(\"spark.sql.session.timeZone\", \"Etc/UTC\")\n",
    "    .config('spark.driver.memory', '4g')\n",
    "    .config('spark.executor.memory', '2g')\n",
    "    .getOrCreate()\n",
    ")"
   ]
  },
  {
   "cell_type": "code",
   "execution_count": 3,
   "metadata": {},
   "outputs": [
    {
     "name": "stderr",
     "output_type": "stream",
     "text": [
      "                                                                                \r"
     ]
    },
    {
     "name": "stdout",
     "output_type": "stream",
     "text": [
      "+------------------------------------+-----------------------------------------------------------------------------------------------------------------+------------+\n",
      "|name                                |tags                                                                                                             |merchant_abn|\n",
      "+------------------------------------+-----------------------------------------------------------------------------------------------------------------+------------+\n",
      "|Felis Limited                       |((furniture, home furnishings and equipment shops, and manufacturers, except appliances), (e), (take rate: 0.18))|10023283211 |\n",
      "|Arcu Ac Orci Corporation            |([cable, satellite, and otHer pay television and radio services], [b], [take rate: 4.22])                        |10142254217 |\n",
      "|Nunc Sed Company                    |([jewelry, watch, clock, and silverware shops], [b], [take rate: 4.40])                                          |10165489824 |\n",
      "|Ultricies Dignissim Lacus Foundation|([wAtch, clock, and jewelry repair shops], [b], [take rate: 3.29])                                               |10187291046 |\n",
      "|Enim Condimentum PC                 |([music shops - musical instruments, pianos, and sheet music], [a], [take rate: 6.33])                           |10192359162 |\n",
      "|Fusce Company                       |[(gift, card, novelty, and souvenir shops), (a), (take rate: 6.34)]                                              |10206519221 |\n",
      "|Aliquam Enim Incorporated           |[(computers, comPUter peripheral equipment, and softwAre), (b), (take rate: 4.32)]                               |10255988167 |\n",
      "|Ipsum Primis Ltd                    |[[watch, clock, and jewelry repair shops], [c], [take rate: 2.39]]                                               |10264435225 |\n",
      "|Pede Ultrices Industries            |([computer programming , data processing, and integrated systems design services], [a], [take rate: 5.71])       |10279061213 |\n",
      "|Nunc Inc.                           |[(furniture, home furnishings and equipment shopS, and manufacturers, except appliances), (a), (take rate: 6.61)]|10323485998 |\n",
      "|Facilisis Facilisis Corp.           |([computers, computer peripheral equipment, and software], [a], [take rate: 6.34])                               |10342410215 |\n",
      "|Odio Institute                      |((equipment, tool, furniture, and appliance  rent al and leAsing), (b), (take rate: 3.57))                       |10346855916 |\n",
      "|Rutrum Justo Ltd                    |([music shops - musical instruments, pianos, and sheet music], [b], [take rate: 3.63])                           |10364012396 |\n",
      "|Tellus Foundation                   |[[artist supply and craft  shops], [b], [take rate: 3.17]]                                                       |10385011947 |\n",
      "|Sed Et Company                      |([florists supplies, nursery stock, and flowers], [a], [take rate: 6.61])                                        |10385163239 |\n",
      "|Id Ltd                              |([computers, computer peripheral  equipment, and software], [a], [take rate: 5.54])                              |10385250025 |\n",
      "|Consequat Foundation                |[[antique shops - sales, repairs, and restoration serVices], [a], [take rate: 6.93]]                             |10404542215 |\n",
      "|Sit Amet Nulla Corp.                |[[motor vehicle supplies and new parts], [b], [take rate: 4.97]]                                                 |10430380319 |\n",
      "|Massa Vestibulum Foundation         |[(moTor vehicle supplies and new parts), (a), (take rate: 5.77)]                                                 |10441711491 |\n",
      "|Ut Consulting                       |([gift, card, novelty, and souvenir shops], [c], [take rate: 2.95])                                              |10462560289 |\n",
      "+------------------------------------+-----------------------------------------------------------------------------------------------------------------+------------+\n",
      "only showing top 20 rows\n",
      "\n"
     ]
    }
   ],
   "source": [
    "tbl_merchants = spark.read.parquet(\".././data/tables/tbl_merchants.parquet\")\n",
    "tbl_merchants.show(truncate=False)"
   ]
  },
  {
   "cell_type": "code",
   "execution_count": 5,
   "metadata": {},
   "outputs": [
    {
     "name": "stdout",
     "output_type": "stream",
     "text": [
      "+------------+--------------+------------------+\n",
      "|merchant_abn|order_datetime| fraud_probability|\n",
      "+------------+--------------+------------------+\n",
      "| 19492220327|    2021-11-28|44.403658647495355|\n",
      "| 31334588839|    2021-10-02| 42.75530083865367|\n",
      "| 19492220327|    2021-12-22|38.867790051131095|\n",
      "| 82999039227|    2021-12-19|  94.1347004808891|\n",
      "| 90918180829|    2021-09-02| 43.32551731714902|\n",
      "| 31334588839|    2021-12-26| 38.36165958070444|\n",
      "| 23686790459|    2021-12-10|  79.4543441508535|\n",
      "| 14827550074|    2021-11-26| 46.45775596795885|\n",
      "| 31334588839|    2021-11-26| 36.20971272078342|\n",
      "| 19492220327|    2021-12-18|33.819672154331755|\n",
      "| 31334588839|    2021-11-29|35.386213297375505|\n",
      "| 14827550074|    2021-12-05| 43.85519494291279|\n",
      "| 19492220327|    2021-11-18|32.193139919494016|\n",
      "| 93260930990|    2021-11-30| 37.87197154172081|\n",
      "| 90918180829|    2021-09-16| 36.62001350882694|\n",
      "| 83199298021|    2022-02-27|26.025158824861773|\n",
      "| 83199298021|    2022-02-17| 25.77998392496447|\n",
      "| 94311056026|    2021-12-16| 30.85150199484772|\n",
      "| 97217894162|    2022-01-21| 34.94582650821017|\n",
      "| 43083074133|    2021-12-18| 48.66890735193894|\n",
      "+------------+--------------+------------------+\n",
      "only showing top 20 rows\n",
      "\n"
     ]
    }
   ],
   "source": [
    "merchant_fraud = spark.read.option(\"header\", True).csv(\".././data/tables/merchant_fraud_probability.csv\")\n",
    "merchant_fraud.show()"
   ]
  },
  {
   "cell_type": "code",
   "execution_count": 9,
   "metadata": {},
   "outputs": [
    {
     "name": "stdout",
     "output_type": "stream",
     "text": [
      "root\n",
      " |-- name: string (nullable = true)\n",
      " |-- tags: string (nullable = true)\n",
      " |-- merchant_abn: string (nullable = true)\n",
      "\n"
     ]
    }
   ],
   "source": [
    "tbl_merchants.printSchema()"
   ]
  },
  {
   "cell_type": "code",
   "execution_count": 8,
   "metadata": {},
   "outputs": [],
   "source": [
    "tbl_merchants = tbl_merchants.withColumn('merchant_abn', F.col('merchant_abn').cast(StringType()))"
   ]
  },
  {
   "cell_type": "code",
   "execution_count": 10,
   "metadata": {},
   "outputs": [],
   "source": [
    "abn = merchant_fraud.select(F.col('merchant_abn')).distinct()\n",
    "abn = merchant_fraud.toPandas()\n",
    "abn = abn['merchant_abn'].tolist()"
   ]
  },
  {
   "cell_type": "code",
   "execution_count": 11,
   "metadata": {},
   "outputs": [],
   "source": [
    "merchants_abn = tbl_merchants.select(F.col('merchant_abn')).distinct()\n",
    "merchants_abn = merchants_abn.toPandas()\n",
    "merchants_abn = merchants_abn['merchant_abn'].tolist()"
   ]
  },
  {
   "cell_type": "code",
   "execution_count": 12,
   "metadata": {},
   "outputs": [
    {
     "data": {
      "text/plain": [
       "4026"
      ]
     },
     "execution_count": 12,
     "metadata": {},
     "output_type": "execute_result"
    }
   ],
   "source": [
    "tbl_merchants.count()"
   ]
  },
  {
   "cell_type": "code",
   "execution_count": 15,
   "metadata": {},
   "outputs": [
    {
     "name": "stdout",
     "output_type": "stream",
     "text": [
      "root\n",
      " |-- merchant_abn: string (nullable = true)\n",
      " |-- order_datetime: string (nullable = true)\n",
      " |-- fraud_probability: string (nullable = true)\n",
      "\n"
     ]
    }
   ],
   "source": [
    "merchant_fraud.printSchema()"
   ]
  },
  {
   "cell_type": "code",
   "execution_count": 13,
   "metadata": {},
   "outputs": [
    {
     "name": "stdout",
     "output_type": "stream",
     "text": [
      "13\n"
     ]
    }
   ],
   "source": [
    "print(len(set(abn).difference(merchants_abn)))"
   ]
  },
  {
   "cell_type": "code",
   "execution_count": 14,
   "metadata": {},
   "outputs": [
    {
     "name": "stdout",
     "output_type": "stream",
     "text": [
      "{'14827550074', '75892370170', '83220249221', '23686790459', '94311056026', '82999039227', '99989036621', '59258669983', '19010030815', '73052515151', '29674997261', '57564805948', '81146325646'}\n"
     ]
    }
   ],
   "source": [
    "print(set(abn).difference(merchants_abn))"
   ]
  },
  {
   "cell_type": "code",
   "execution_count": 16,
   "metadata": {},
   "outputs": [],
   "source": [
    "lst = list(set(abn).difference(merchants_abn))"
   ]
  },
  {
   "cell_type": "code",
   "execution_count": 19,
   "metadata": {},
   "outputs": [],
   "source": [
    "merchant_fraud = merchant_fraud.filter(~merchant_fraud['merchant_abn'].isin(lst))"
   ]
  },
  {
   "cell_type": "code",
   "execution_count": null,
   "metadata": {},
   "outputs": [
    {
     "name": "stdout",
     "output_type": "stream",
     "text": [
      "+------------+--------------+-----------------+\n",
      "|merchant_abn|order_datetime|fraud_probability|\n",
      "+------------+--------------+-----------------+\n",
      "| 82999039227|    2021-12-19| 94.1347004808891|\n",
      "+------------+--------------+-----------------+\n",
      "\n"
     ]
    }
   ],
   "source": [
    "merchant_fraud.filter(F.col('merchant_abn') == '82999039227').show()\n"
   ]
  },
  {
   "cell_type": "code",
   "execution_count": null,
   "metadata": {},
   "outputs": [
    {
     "name": "stdout",
     "output_type": "stream",
     "text": [
      "+----+----+------------+\n",
      "|name|tags|merchant_abn|\n",
      "+----+----+------------+\n",
      "+----+----+------------+\n",
      "\n"
     ]
    }
   ],
   "source": [
    "tbl_merchants.filter(F.col('merchant_abn') == '82999039227').show()"
   ]
  },
  {
   "cell_type": "code",
   "execution_count": 20,
   "metadata": {},
   "outputs": [
    {
     "name": "stdout",
     "output_type": "stream",
     "text": [
      "+----------------------------+-----------------------------------------------------------------------------------------------------------------+------------+---------------------------------------------------------------------------------------+-----+-----+\n",
      "|name                        |tags                                                                                                             |merchant_abn|tags1                                                                                  |tags2|tags3|\n",
      "+----------------------------+-----------------------------------------------------------------------------------------------------------------+------------+---------------------------------------------------------------------------------------+-----+-----+\n",
      "|Lacus LLP                   |[[books, periodicals, and newspapers], [e], [take rate: 0.10]]                                                   |55622580330 |[books, periodicals, and newspapers]                                                   |e    |0.1  |\n",
      "|Et Nunc Consulting          |[[books, periodicals, and newspapers], [e], [take rate: 0.16]]                                                   |41944909975 |[books, periodicals, and newspapers]                                                   |e    |0.16 |\n",
      "|Proin Vel Inc.              |[[stationery, office supplies and printing and writing paper], [e], [take rate: 0.16]]                           |25019506172 |[stationery, office supplies and printing and writing paper]                           |e    |0.16 |\n",
      "|Feugiat Non Inc.            |[[health and beauty spas], [e], [take rate: 0.16]]                                                               |52985233084 |[health and beauty spas]                                                               |e    |0.16 |\n",
      "|Enim Etiam Institute        |[[telecom], [e], [take rate: 0.16]]                                                                              |73973714129 |[telecom]                                                                              |e    |0.16 |\n",
      "|At Pretium Limited          |[[digital goods: books, movies, music], [e], [take rate: 0.17]]                                                  |73205504863 |[digital goods: books, movies, music]                                                  |e    |0.17 |\n",
      "|Felis Limited               |[[furniture, home furnishings and equipment shops, and manufacturers, except appliances], [e], [take rate: 0.18]]|10023283211 |[furniture, home furnishings and equipment shops, and manufacturers, except appliances]|e    |0.18 |\n",
      "|Hendrerit Donec Limited     |[[digital goods: books, movies, music], [e], [take rate: 0.18]]                                                  |57079678065 |[digital goods: books, movies, music]                                                  |e    |0.18 |\n",
      "|Massa PC                    |[[motor vehicle supplies and new parts], [e], [take rate: 0.18]]                                                 |99990536339 |[motor vehicle supplies and new parts]                                                 |e    |0.18 |\n",
      "|Sed Dictum Eleifend Ltd     |[[equipment, tool, furniture, and appliance rent al  and leasing], [e], [take rate: 0.20]]                       |93230533382 |[equipment, tool, furniture, and appliance rent al  and leasing]                       |e    |0.2  |\n",
      "|Risus Nulla Institute       |[[bicycle shops - sales and service], [e], [take rate: 0.22]]                                                    |19995295153 |[bicycle shops - sales and service]                                                    |e    |0.22 |\n",
      "|Nunc Est LLP                |[[watch, clock, and jewelry repair shops], [e], [take rate: 0.22]]                                               |34920839316 |[watch, clock, and jewelry repair shops]                                               |e    |0.22 |\n",
      "|Nullam Vitae Diam PC        |[[opticians, optical goods, and eyeglasses], [e], [take rate: 0.22]]                                             |55433932875 |[opticians, optical goods, and eyeglasses]                                             |e    |0.22 |\n",
      "|Turpis Incorporated         |[[gift, card, novelty, and souvenir shops], [e], [take rate: 0.23]]                                              |64196096120 |[gift, card, novelty, and souvenir shops]                                              |e    |0.23 |\n",
      "|Vitae Sodales Institute     |[[stationery, office supplies and printing and writing paper], [e], [take rate: 0.23]]                           |66952421200 |[stationery, office supplies and printing and writing paper]                           |e    |0.23 |\n",
      "|Lacinia Orci Associates     |[[digital goods: books, movies, music], [e], [take rate: 0.24]]                                                  |59358011432 |[digital goods: books, movies, music]                                                  |e    |0.24 |\n",
      "|Dis Parturient Corporation  |[[gift, card, novelty, and souvenir shops], [e], [take rate: 0.24]]                                              |13093581573 |[gift, card, novelty, and souvenir shops]                                              |e    |0.24 |\n",
      "|Quisque LLC                 |[[health and beauty spas], [e], [take rate: 0.24]]                                                               |96381568282 |[health and beauty spas]                                                               |e    |0.24 |\n",
      "|Nullam Enim Sed Incorporated|[[tent and awning shops], [e], [take rate: 0.27]]                                                                |78080443264 |[tent and awning shops]                                                                |e    |0.27 |\n",
      "|Et Pede Inc.                |[[motor vehicle supplies and new parts], [e], [take rate: 0.28]]                                                 |54292545196 |[motor vehicle supplies and new parts]                                                 |e    |0.28 |\n",
      "+----------------------------+-----------------------------------------------------------------------------------------------------------------+------------+---------------------------------------------------------------------------------------+-----+-----+\n",
      "only showing top 20 rows\n",
      "\n"
     ]
    }
   ],
   "source": [
    "tbl_merchants = tbl_merchants.withColumn('tags', F.regexp_replace('tags', r'\\(', r'\\[')) \\\n",
    "    .withColumn('tags', F.lower(F.regexp_replace('tags', r'\\)', r'\\]')))\n",
    "\n",
    "tbl_merchants = tbl_merchants.withColumn('tags1', (F.regexp_extract('tags', r'\\[(\\[[^\\]]*\\])[^\\[]*\\[([^\\]]*)\\][^\\[]*\\[take rate: ([^\\]]*)\\]\\]', idx=1)))\n",
    "tbl_merchants = tbl_merchants.withColumn('tags2', (F.regexp_extract('tags', r'\\[(\\[[^\\]]*\\])[^\\[]*\\[([^\\]]*)\\][^\\[]*\\[take rate: ([^\\]]*)\\]\\]', idx=2)))\n",
    "tbl_merchants = tbl_merchants.withColumn('tags3', (F.regexp_extract('tags', r'\\[(\\[[^\\]]*\\])[^\\[]*\\[([^\\]]*)\\][^\\[]*\\[take rate: ([^\\]]*)\\]\\]', idx=3)).cast(DoubleType()))\n",
    "tbl_merchants.sort('tags3').show(truncate=False)\n",
    "tbl_merchants = tbl_merchants.withColumnRenamed(\"name\", \"merchant_name\")\n"
   ]
  },
  {
   "cell_type": "markdown",
   "metadata": {},
   "source": [
    "Check Range for Merchant Fraud"
   ]
  },
  {
   "cell_type": "code",
   "execution_count": 21,
   "metadata": {},
   "outputs": [
    {
     "data": {
      "text/plain": [
       "0"
      ]
     },
     "execution_count": 21,
     "metadata": {},
     "output_type": "execute_result"
    }
   ],
   "source": [
    "merchant_fraud.filter(F.col('fraud_probability') < 0).count()"
   ]
  },
  {
   "cell_type": "code",
   "execution_count": 22,
   "metadata": {},
   "outputs": [
    {
     "data": {
      "text/plain": [
       "0"
      ]
     },
     "execution_count": 22,
     "metadata": {},
     "output_type": "execute_result"
    }
   ],
   "source": [
    "merchant_fraud.filter(F.col('fraud_probability') >= 100).count()"
   ]
  },
  {
   "cell_type": "markdown",
   "metadata": {},
   "source": [
    "Check for null values"
   ]
  },
  {
   "cell_type": "code",
   "execution_count": 23,
   "metadata": {},
   "outputs": [
    {
     "data": {
      "text/plain": [
       "0"
      ]
     },
     "execution_count": 23,
     "metadata": {},
     "output_type": "execute_result"
    }
   ],
   "source": [
    "merchant_fraud.filter(F.isnull('merchant_abn')).count()\n"
   ]
  },
  {
   "cell_type": "code",
   "execution_count": 24,
   "metadata": {},
   "outputs": [
    {
     "data": {
      "text/plain": [
       "0"
      ]
     },
     "execution_count": 24,
     "metadata": {},
     "output_type": "execute_result"
    }
   ],
   "source": [
    "merchant_fraud.filter(F.isnull('fraud_probability')).count()"
   ]
  },
  {
   "cell_type": "code",
   "execution_count": 25,
   "metadata": {},
   "outputs": [
    {
     "data": {
      "text/plain": [
       "0"
      ]
     },
     "execution_count": 25,
     "metadata": {},
     "output_type": "execute_result"
    }
   ],
   "source": [
    "merchant_fraud.filter(F.isnull('order_datetime')).count()"
   ]
  },
  {
   "cell_type": "code",
   "execution_count": 26,
   "metadata": {},
   "outputs": [
    {
     "data": {
      "text/plain": [
       "0"
      ]
     },
     "execution_count": 26,
     "metadata": {},
     "output_type": "execute_result"
    }
   ],
   "source": [
    "tbl_merchants.filter(F.isnull('merchant_abn')).count()"
   ]
  },
  {
   "cell_type": "code",
   "execution_count": 27,
   "metadata": {},
   "outputs": [
    {
     "data": {
      "text/plain": [
       "0"
      ]
     },
     "execution_count": 27,
     "metadata": {},
     "output_type": "execute_result"
    }
   ],
   "source": [
    "tbl_merchants.filter(F.isnull('tags')).count()"
   ]
  },
  {
   "cell_type": "code",
   "execution_count": 28,
   "metadata": {},
   "outputs": [
    {
     "data": {
      "text/plain": [
       "0"
      ]
     },
     "execution_count": 28,
     "metadata": {},
     "output_type": "execute_result"
    }
   ],
   "source": [
    "tbl_merchants.filter(F.isnull('name')).count()"
   ]
  },
  {
   "cell_type": "markdown",
   "metadata": {},
   "source": [
    "There are no null values"
   ]
  },
  {
   "cell_type": "code",
   "execution_count": 29,
   "metadata": {},
   "outputs": [],
   "source": [
    "merchant_fraud.write.mode('overwrite').parquet('.././data/curated/merchant_fraud')"
   ]
  },
  {
   "cell_type": "code",
   "execution_count": 30,
   "metadata": {},
   "outputs": [],
   "source": [
    "tbl_merchants.write.mode('overwrite').parquet('.././data/curated/tbl_merchants')"
   ]
  }
 ],
 "metadata": {
  "kernelspec": {
   "display_name": "Python 3",
   "language": "python",
   "name": "python3"
  },
  "language_info": {
   "codemirror_mode": {
    "name": "ipython",
    "version": 3
   },
   "file_extension": ".py",
   "mimetype": "text/x-python",
   "name": "python",
   "nbconvert_exporter": "python",
   "pygments_lexer": "ipython3",
   "version": "3.10.12"
  }
 },
 "nbformat": 4,
 "nbformat_minor": 2
}
