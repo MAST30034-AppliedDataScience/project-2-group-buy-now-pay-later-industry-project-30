{
 "cells": [
  {
   "cell_type": "code",
   "execution_count": 1,
   "metadata": {},
   "outputs": [],
   "source": [
    "from pyspark.sql import SparkSession\n",
    "from pyspark.sql import functions as F\n",
    "import os\n",
    "import pandas as pd\n",
    "from pyspark.sql.types import IntegerType, LongType, DoubleType, BooleanType, DateType"
   ]
  },
  {
   "cell_type": "code",
   "execution_count": 2,
   "metadata": {},
   "outputs": [
    {
     "name": "stderr",
     "output_type": "stream",
     "text": [
      "your 131072x1 screen size is bogus. expect trouble\n",
      "24/09/11 13:36:24 WARN Utils: Your hostname, Andy-PC resolves to a loopback address: 127.0.1.1; using 172.18.158.239 instead (on interface eth0)\n",
      "24/09/11 13:36:24 WARN Utils: Set SPARK_LOCAL_IP if you need to bind to another address\n",
      "Setting default log level to \"WARN\".\n",
      "To adjust logging level use sc.setLogLevel(newLevel). For SparkR, use setLogLevel(newLevel).\n",
      "24/09/11 13:36:25 WARN NativeCodeLoader: Unable to load native-hadoop library for your platform... using builtin-java classes where applicable\n",
      "24/09/11 13:36:26 WARN Utils: Service 'SparkUI' could not bind on port 4040. Attempting port 4041.\n"
     ]
    }
   ],
   "source": [
    "# Probably need to change this if your on MAC\n",
    "spark = (\n",
    "    SparkSession.builder.appName(\"Preprocessing\")\n",
    "    .config(\"spark.sql.repl.eagerEval.enabled\", True)\n",
    "    .config(\"spark.sql.parquet.cacheMetadata\", \"true\")\n",
    "    .config(\"spark.sql.session.timeZone\", \"Etc/UTC\")\n",
    "    .config('spark.driver.memory', '4g')\n",
    "    .config('spark.executor.memory', '2g')\n",
    "    .getOrCreate()\n",
    ")"
   ]
  },
  {
   "cell_type": "code",
   "execution_count": 3,
   "metadata": {},
   "outputs": [
    {
     "name": "stderr",
     "output_type": "stream",
     "text": [
      "                                                                                \r"
     ]
    },
    {
     "name": "stdout",
     "output_type": "stream",
     "text": [
      "+-------+------------+------------------+--------------------+--------------+\n",
      "|user_id|merchant_abn|      dollar_value|            order_id|order_datetime|\n",
      "+-------+------------+------------------+--------------------+--------------+\n",
      "|  18478| 62191208634|63.255848959735246|949a63c8-29f7-4ab...|    2021-08-20|\n",
      "|      2| 15549624934| 130.3505283105634|6a84c3cf-612a-457...|    2021-08-20|\n",
      "|  18479| 64403598239|120.15860593212783|b10dcc33-e53f-425...|    2021-08-20|\n",
      "|      3| 60956456424| 136.6785200286976|0f09c5a5-784e-447...|    2021-08-20|\n",
      "|  18479| 94493496784| 72.96316578355305|f6c78c1a-4600-4c5...|    2021-08-20|\n",
      "|      3| 76819856970|  448.529684285612|5ace6a24-cdf0-4aa...|    2021-08-20|\n",
      "|  18479| 67609108741|  86.4040605836911|d0e180f0-cb06-42a...|    2021-08-20|\n",
      "|      3| 34096466752| 301.5793450525113|6fb1ff48-24bb-4f9...|    2021-08-20|\n",
      "|  18482| 70501974849| 68.75486276223054|8505fb33-b69a-412...|    2021-08-20|\n",
      "|      4| 49891706470| 48.89796461900801|ed11e477-b09f-4ae...|    2021-08-20|\n",
      "|  18482| 46804135891|6.6168976971833615|05b5edb5-b925-414...|    2021-08-20|\n",
      "|      7| 33064796871| 373.0873675184212|fe188788-b89f-4dd...|    2021-08-20|\n",
      "|  18483| 44160392990| 83.98473054761176|7c44302d-98b3-48b...|    2021-08-20|\n",
      "|      7| 68435002949| 232.5364986739752|b4a89891-a113-45e...|    2021-08-20|\n",
      "|  18484| 70033549200| 871.7678061729196|4b1d941a-21a1-43e...|    2021-08-20|\n",
      "|      7| 41944909975|30.910755230234322|302ae628-8eba-4a5...|    2021-08-20|\n",
      "|  18485| 41705715409| 309.5417224575787|67f4f98e-3149-4e8...|    2021-08-20|\n",
      "|      8| 29566626791| 74.15732460440282|71a81652-cc91-4bf...|    2021-08-20|\n",
      "|  18487| 32361057556|119.19055863068847|15577921-1104-470...|    2021-08-20|\n",
      "|      9| 47663262928| 36.69873283148887|c4fcb49a-ce87-4e1...|    2021-08-20|\n",
      "+-------+------------+------------------+--------------------+--------------+\n",
      "only showing top 20 rows\n",
      "\n"
     ]
    }
   ],
   "source": [
    "transactions1 = spark.read.parquet(\"../data/tables/transactions_20210228_20210827_snapshot\")\n",
    "transactions2 = spark.read.parquet(\"../data/tables/transactions_20210828_20220227_snapshot\")\n",
    "transactions3 = spark.read.parquet(\"../data/tables/transactions_20220228_20220828_snapshot\")\n",
    "transactions = transactions1.union(transactions2).union(transactions3)\n",
    "transactions.show()"
   ]
  },
  {
   "cell_type": "code",
   "execution_count": 4,
   "metadata": {},
   "outputs": [
    {
     "name": "stdout",
     "output_type": "stream",
     "text": [
      "Number of counts before preprocessing: 499999\n"
     ]
    },
    {
     "name": "stderr",
     "output_type": "stream",
     "text": [
      "                                                                                \r"
     ]
    },
    {
     "name": "stdout",
     "output_type": "stream",
     "text": [
      "+-----+\n",
      "|state|\n",
      "+-----+\n",
      "|   NT|\n",
      "|  ACT|\n",
      "|   SA|\n",
      "|  TAS|\n",
      "|   WA|\n",
      "|  QLD|\n",
      "|  VIC|\n",
      "|  NSW|\n",
      "+-----+\n",
      "\n",
      "+-----------+\n",
      "|     gender|\n",
      "+-----------+\n",
      "|Undisclosed|\n",
      "|     Female|\n",
      "|       Male|\n",
      "+-----------+\n",
      "\n",
      "Number of unique consumer_id: 499690\n",
      "Number of counts after preprocessing: 499690\n",
      "root\n",
      " |-- consumer_name: string (nullable = true)\n",
      " |-- state: string (nullable = true)\n",
      " |-- postcode: integer (nullable = true)\n",
      " |-- gender: string (nullable = true)\n",
      " |-- consumer_id: string (nullable = true)\n",
      "\n"
     ]
    },
    {
     "data": {
      "text/html": [
       "<table border='1'>\n",
       "<tr><th>consumer_name</th><th>state</th><th>postcode</th><th>gender</th><th>consumer_id</th></tr>\n",
       "<tr><td>Yolanda Williams</td><td>WA</td><td>6935</td><td>Female</td><td>1195503</td></tr>\n",
       "<tr><td>Mary Smith</td><td>NSW</td><td>2782</td><td>Female</td><td>179208</td></tr>\n",
       "<tr><td>Jill Jones MD</td><td>NT</td><td>862</td><td>Female</td><td>1194530</td></tr>\n",
       "<tr><td>Lindsay Jimenez</td><td>NSW</td><td>2780</td><td>Female</td><td>154128</td></tr>\n",
       "<tr><td>Rebecca Blanchard</td><td>WA</td><td>6355</td><td>Female</td><td>712975</td></tr>\n",
       "<tr><td>Karen Chapman</td><td>NSW</td><td>2033</td><td>Female</td><td>407340</td></tr>\n",
       "<tr><td>Andrea Jones</td><td>QLD</td><td>4606</td><td>Female</td><td>511685</td></tr>\n",
       "<tr><td>Stephen Williams</td><td>WA</td><td>6056</td><td>Male</td><td>448088</td></tr>\n",
       "<tr><td>Stephanie Reyes</td><td>NSW</td><td>2482</td><td>Female</td><td>650435</td></tr>\n",
       "<tr><td>Jillian Gonzales</td><td>VIC</td><td>3220</td><td>Female</td><td>1058499</td></tr>\n",
       "<tr><td>Eugene Lucas</td><td>VIC</td><td>3063</td><td>Undisclosed</td><td>428325</td></tr>\n",
       "<tr><td>Melissa Jones</td><td>WA</td><td>6743</td><td>Female</td><td>1494640</td></tr>\n",
       "<tr><td>Angela Brown PhD</td><td>QLD</td><td>4673</td><td>Female</td><td>1146717</td></tr>\n",
       "<tr><td>Lance Butler</td><td>VIC</td><td>3332</td><td>Male</td><td>1343547</td></tr>\n",
       "<tr><td>Paul Abbott</td><td>QLD</td><td>4512</td><td>Male</td><td>1463076</td></tr>\n",
       "<tr><td>Tracy Hart</td><td>NSW</td><td>2452</td><td>Male</td><td>1356405</td></tr>\n",
       "<tr><td>Alyssa Wilson</td><td>VIC</td><td>3719</td><td>Female</td><td>1331093</td></tr>\n",
       "<tr><td>Michael Burnett</td><td>NSW</td><td>1109</td><td>Male</td><td>80965</td></tr>\n",
       "<tr><td>Victoria Gonzalez</td><td>TAS</td><td>7276</td><td>Female</td><td>1226530</td></tr>\n",
       "<tr><td>James Norris</td><td>VIC</td><td>3234</td><td>Undisclosed</td><td>1390367</td></tr>\n",
       "</table>\n",
       "only showing top 20 rows\n"
      ],
      "text/plain": [
       "+-----------------+-----+--------+-----------+-----------+\n",
       "|    consumer_name|state|postcode|     gender|consumer_id|\n",
       "+-----------------+-----+--------+-----------+-----------+\n",
       "| Yolanda Williams|   WA|    6935|     Female|    1195503|\n",
       "|       Mary Smith|  NSW|    2782|     Female|     179208|\n",
       "|    Jill Jones MD|   NT|     862|     Female|    1194530|\n",
       "|  Lindsay Jimenez|  NSW|    2780|     Female|     154128|\n",
       "|Rebecca Blanchard|   WA|    6355|     Female|     712975|\n",
       "|    Karen Chapman|  NSW|    2033|     Female|     407340|\n",
       "|     Andrea Jones|  QLD|    4606|     Female|     511685|\n",
       "| Stephen Williams|   WA|    6056|       Male|     448088|\n",
       "|  Stephanie Reyes|  NSW|    2482|     Female|     650435|\n",
       "| Jillian Gonzales|  VIC|    3220|     Female|    1058499|\n",
       "|     Eugene Lucas|  VIC|    3063|Undisclosed|     428325|\n",
       "|    Melissa Jones|   WA|    6743|     Female|    1494640|\n",
       "| Angela Brown PhD|  QLD|    4673|     Female|    1146717|\n",
       "|     Lance Butler|  VIC|    3332|       Male|    1343547|\n",
       "|      Paul Abbott|  QLD|    4512|       Male|    1463076|\n",
       "|       Tracy Hart|  NSW|    2452|       Male|    1356405|\n",
       "|    Alyssa Wilson|  VIC|    3719|     Female|    1331093|\n",
       "|  Michael Burnett|  NSW|    1109|       Male|      80965|\n",
       "|Victoria Gonzalez|  TAS|    7276|     Female|    1226530|\n",
       "|     James Norris|  VIC|    3234|Undisclosed|    1390367|\n",
       "+-----------------+-----+--------+-----------+-----------+\n",
       "only showing top 20 rows"
      ]
     },
     "execution_count": 4,
     "metadata": {},
     "output_type": "execute_result"
    }
   ],
   "source": [
    "tbl_consumer = spark.read.option(\"header\", True).option(\"delimiter\", \"|\").csv(\"../data/tables/tbl_consumer.csv\")\n",
    "print(\"Number of counts before preprocessing: \" + str(tbl_consumer.count()))\n",
    "\n",
    "tbl_consumer = tbl_consumer.drop(\"address\") # dropped address column\n",
    "tbl_consumer = tbl_consumer.filter(F.col(\"state\").isin([\"NSW\", \"WA\", \"NT\", \"VIC\", \"TAS\", \"QLD\", \"SA\",   \"ACT\"]))   \n",
    "tbl_consumer = tbl_consumer.filter(F.col(\"gender\").isin([\"Female\", \"Male\", \"Undisclosed\"]))\n",
    "tbl_consumer = tbl_consumer.withColumn(\"postcode\", tbl_consumer[\"postcode\"].cast(IntegerType()))\n",
    "\n",
    "# Looked up all the valid postcodes in Australia. But some of them are considered LVR or PO boxes only, but I kept them in anyways idk.\n",
    "tbl_consumer = tbl_consumer.filter(\n",
    "    ((F.col(\"postcode\") >= 1000) & (F.col(\"postcode\") <= 1999)) |  \n",
    "    ((F.col(\"postcode\") >= 2000) & (F.col(\"postcode\") <= 2599)) |\n",
    "    ((F.col(\"postcode\") >= 2619) & (F.col(\"postcode\") <= 2899)) |\n",
    "    ((F.col(\"postcode\") >= 2921) & (F.col(\"postcode\") <= 2999)) |\n",
    "    ((F.col(\"postcode\") >= 200) & (F.col(\"postcode\") <= 299)) |  \n",
    "    ((F.col(\"postcode\") >= 2600) & (F.col(\"postcode\") <= 2618)) |\n",
    "    ((F.col(\"postcode\") >= 2900) & (F.col(\"postcode\") <= 2920)) |\n",
    "    ((F.col(\"postcode\") >= 3000) & (F.col(\"postcode\") <= 3999)) |\n",
    "    ((F.col(\"postcode\") >= 8000) & (F.col(\"postcode\") <= 8999)) |  \n",
    "    ((F.col(\"postcode\") >= 4000) & (F.col(\"postcode\") <= 4999)) |\n",
    "    ((F.col(\"postcode\") >= 9000) & (F.col(\"postcode\") <= 9999)) |  \n",
    "    ((F.col(\"postcode\") >= 5000) & (F.col(\"postcode\") <= 5799)) |\n",
    "    ((F.col(\"postcode\") >= 5800) & (F.col(\"postcode\") <= 5999)) |  \n",
    "    ((F.col(\"postcode\") >= 6000) & (F.col(\"postcode\") <= 6797)) |\n",
    "    ((F.col(\"postcode\") >= 6800) & (F.col(\"postcode\") <= 6999)) |  \n",
    "    ((F.col(\"postcode\") >= 7000) & (F.col(\"postcode\") <= 7799)) |\n",
    "    ((F.col(\"postcode\") >= 7800) & (F.col(\"postcode\") <= 7999)) |  \n",
    "    ((F.col(\"postcode\") >= 800) & (F.col(\"postcode\") <= 899)) |\n",
    "    ((F.col(\"postcode\") >= 900) & (F.col(\"postcode\") <= 999))\n",
    ")\n",
    "\n",
    "print(tbl_consumer.select(\"state\").distinct())\n",
    "print(tbl_consumer.select(\"gender\").distinct())\n",
    "\n",
    "\n",
    "print(\"Number of unique consumer_id: \"+str(tbl_consumer.select(\"consumer_id\").distinct().count()))\n",
    "print(\"Number of counts after preprocessing: \" + str(tbl_consumer.count()))\n",
    "tbl_consumer = tbl_consumer.withColumnRenamed(\"name\",\"consumer_name\")\n",
    "\n",
    "tbl_consumer.printSchema()\n",
    "tbl_consumer"
   ]
  },
  {
   "cell_type": "code",
   "execution_count": 5,
   "metadata": {},
   "outputs": [
    {
     "name": "stdout",
     "output_type": "stream",
     "text": [
      "114\n",
      "root\n",
      " |-- merchant_abn: string (nullable = true)\n",
      " |-- order_datetime: date (nullable = true)\n",
      " |-- fraud_probability: double (nullable = true)\n",
      "\n",
      "+------------+--------------+--------------------------+\n",
      "|merchant_abn|order_datetime|merchant_fraud_probability|\n",
      "+------------+--------------+--------------------------+\n",
      "|           0|             0|                         0|\n",
      "+------------+--------------+--------------------------+\n",
      "\n"
     ]
    }
   ],
   "source": [
    "merchant_fraud = spark.read.option(\"header\", True).csv(\"../data/tables/merchant_fraud_probability.csv\")\n",
    "print(merchant_fraud.count())\n",
    "\n",
    "merchant_fraud = merchant_fraud.filter((F.col(\"fraud_probability\")>=0) &(F.col(\"fraud_probability\")<=100))\n",
    "# Type casting\n",
    "merchant_fraud = merchant_fraud.withColumn(\"fraud_probability\", merchant_fraud[\"fraud_probability\"].cast(DoubleType()))\n",
    "merchant_fraud = merchant_fraud.withColumn(\"order_datetime\", merchant_fraud[\"order_datetime\"].cast(DateType()))\n",
    "\n",
    "\n",
    "#merchant_fraud = merchant_fraud.withColumn(\"order_datetime\", F.date_format(merchant_fraud[\"order_datetime\"], \"yyyy-MM\"))    # I dropped the date here cause we said we only need month.\n",
    "merchant_fraud.printSchema()\n",
    "merchant_fraud = merchant_fraud.withColumnRenamed(\"fraud_probability\", \"merchant_fraud_probability\")\n",
    "merchant_fraud.select([F.sum(F.col(i).isNull().cast(\"int\")).alias(i) for i in merchant_fraud.columns]).show()\n",
    "\n"
   ]
  },
  {
   "cell_type": "code",
   "execution_count": 6,
   "metadata": {},
   "outputs": [
    {
     "name": "stdout",
     "output_type": "stream",
     "text": [
      "+----------------------------+-----------------------------------------------------------------------------------------------------------------+------------+---------------------------------------------------------------------------------------+-----+-----+\n",
      "|name                        |tags                                                                                                             |merchant_abn|tags1                                                                                  |tags2|tags3|\n",
      "+----------------------------+-----------------------------------------------------------------------------------------------------------------+------------+---------------------------------------------------------------------------------------+-----+-----+\n",
      "|Lacus LLP                   |[[books, periodicals, and newspapers], [e], [take rate: 0.10]]                                                   |55622580330 |[books, periodicals, and newspapers]                                                   |e    |0.1  |\n",
      "|Et Nunc Consulting          |[[books, periodicals, and newspapers], [e], [take rate: 0.16]]                                                   |41944909975 |[books, periodicals, and newspapers]                                                   |e    |0.16 |\n",
      "|Proin Vel Inc.              |[[stationery, office supplies and printing and writing paper], [e], [take rate: 0.16]]                           |25019506172 |[stationery, office supplies and printing and writing paper]                           |e    |0.16 |\n",
      "|Feugiat Non Inc.            |[[health and beauty spas], [e], [take rate: 0.16]]                                                               |52985233084 |[health and beauty spas]                                                               |e    |0.16 |\n",
      "|Enim Etiam Institute        |[[telecom], [e], [take rate: 0.16]]                                                                              |73973714129 |[telecom]                                                                              |e    |0.16 |\n",
      "|At Pretium Limited          |[[digital goods: books, movies, music], [e], [take rate: 0.17]]                                                  |73205504863 |[digital goods: books, movies, music]                                                  |e    |0.17 |\n",
      "|Felis Limited               |[[furniture, home furnishings and equipment shops, and manufacturers, except appliances], [e], [take rate: 0.18]]|10023283211 |[furniture, home furnishings and equipment shops, and manufacturers, except appliances]|e    |0.18 |\n",
      "|Hendrerit Donec Limited     |[[digital goods: books, movies, music], [e], [take rate: 0.18]]                                                  |57079678065 |[digital goods: books, movies, music]                                                  |e    |0.18 |\n",
      "|Massa PC                    |[[motor vehicle supplies and new parts], [e], [take rate: 0.18]]                                                 |99990536339 |[motor vehicle supplies and new parts]                                                 |e    |0.18 |\n",
      "|Sed Dictum Eleifend Ltd     |[[equipment, tool, furniture, and appliance rent al  and leasing], [e], [take rate: 0.20]]                       |93230533382 |[equipment, tool, furniture, and appliance rent al  and leasing]                       |e    |0.2  |\n",
      "|Risus Nulla Institute       |[[bicycle shops - sales and service], [e], [take rate: 0.22]]                                                    |19995295153 |[bicycle shops - sales and service]                                                    |e    |0.22 |\n",
      "|Nunc Est LLP                |[[watch, clock, and jewelry repair shops], [e], [take rate: 0.22]]                                               |34920839316 |[watch, clock, and jewelry repair shops]                                               |e    |0.22 |\n",
      "|Nullam Vitae Diam PC        |[[opticians, optical goods, and eyeglasses], [e], [take rate: 0.22]]                                             |55433932875 |[opticians, optical goods, and eyeglasses]                                             |e    |0.22 |\n",
      "|Turpis Incorporated         |[[gift, card, novelty, and souvenir shops], [e], [take rate: 0.23]]                                              |64196096120 |[gift, card, novelty, and souvenir shops]                                              |e    |0.23 |\n",
      "|Vitae Sodales Institute     |[[stationery, office supplies and printing and writing paper], [e], [take rate: 0.23]]                           |66952421200 |[stationery, office supplies and printing and writing paper]                           |e    |0.23 |\n",
      "|Lacinia Orci Associates     |[[digital goods: books, movies, music], [e], [take rate: 0.24]]                                                  |59358011432 |[digital goods: books, movies, music]                                                  |e    |0.24 |\n",
      "|Dis Parturient Corporation  |[[gift, card, novelty, and souvenir shops], [e], [take rate: 0.24]]                                              |13093581573 |[gift, card, novelty, and souvenir shops]                                              |e    |0.24 |\n",
      "|Quisque LLC                 |[[health and beauty spas], [e], [take rate: 0.24]]                                                               |96381568282 |[health and beauty spas]                                                               |e    |0.24 |\n",
      "|Nullam Enim Sed Incorporated|[[tent and awning shops], [e], [take rate: 0.27]]                                                                |78080443264 |[tent and awning shops]                                                                |e    |0.27 |\n",
      "|Et Pede Inc.                |[[motor vehicle supplies and new parts], [e], [take rate: 0.28]]                                                 |54292545196 |[motor vehicle supplies and new parts]                                                 |e    |0.28 |\n",
      "+----------------------------+-----------------------------------------------------------------------------------------------------------------+------------+---------------------------------------------------------------------------------------+-----+-----+\n",
      "only showing top 20 rows\n",
      "\n"
     ]
    }
   ],
   "source": [
    "# copied from Alan\n",
    "tbl_merchants = spark.read.parquet(\"../data/tables/tbl_merchants.parquet\")\n",
    "tbl_merchants = tbl_merchants.withColumn('tags', F.regexp_replace('tags', r'\\(', r'\\[')) \\\n",
    "    .withColumn('tags', F.lower(F.regexp_replace('tags', r'\\)', r'\\]')))\n",
    "\n",
    "tbl_merchants = tbl_merchants.withColumn('tags1', (F.regexp_extract('tags', r'\\[(\\[[^\\]]*\\])[^\\[]*\\[([^\\]]*)\\][^\\[]*\\[take rate: ([^\\]]*)\\]\\]', idx=1)))\n",
    "tbl_merchants = tbl_merchants.withColumn('tags2', (F.regexp_extract('tags', r'\\[(\\[[^\\]]*\\])[^\\[]*\\[([^\\]]*)\\][^\\[]*\\[take rate: ([^\\]]*)\\]\\]', idx=2)))\n",
    "tbl_merchants = tbl_merchants.withColumn('tags3', (F.regexp_extract('tags', r'\\[(\\[[^\\]]*\\])[^\\[]*\\[([^\\]]*)\\][^\\[]*\\[take rate: ([^\\]]*)\\]\\]', idx=3)).cast(DoubleType()))\n",
    "tbl_merchants.sort('tags3').show(truncate=False)\n",
    "tbl_merchants = tbl_merchants.withColumnRenamed(\"name\", \"merchant_name\")\n"
   ]
  },
  {
   "cell_type": "markdown",
   "metadata": {},
   "source": [
    "For here, I looked up what is considered a legit ABN number, and this is code that will execute it, but when its done you can see that there is only 5 entries left so I'm not sure if we should leave it in or not."
   ]
  },
  {
   "cell_type": "code",
   "execution_count": 7,
   "metadata": {},
   "outputs": [
    {
     "data": {
      "text/plain": [
       "'\\ndef valid_abn(abn_number):\\n    abn_number = str(abn_number)\\n    \\n    if len(abn_number) != 11 or not abn_number.isdigit():\\n        return False \\n    \\n    digits = [int(i) for i in abn_number]\\n    \\n    digits[0] -= 1\\n    \\n    weights = [10, 1, 3, 5, 7, 9, 11, 13, 15, 17, 19]\\n    \\n    total = sum(d * w for d, w in zip(digits, weights))\\n    \\n    return total % 89 == 0\\n\\nvalidate_abn_udf = F.udf(valid_abn, BooleanType())\\n'"
      ]
     },
     "execution_count": 7,
     "metadata": {},
     "output_type": "execute_result"
    }
   ],
   "source": [
    "'''\n",
    "def valid_abn(abn_number):\n",
    "    abn_number = str(abn_number)\n",
    "    \n",
    "    if len(abn_number) != 11 or not abn_number.isdigit():\n",
    "        return False \n",
    "    \n",
    "    digits = [int(i) for i in abn_number]\n",
    "    \n",
    "    digits[0] -= 1\n",
    "    \n",
    "    weights = [10, 1, 3, 5, 7, 9, 11, 13, 15, 17, 19]\n",
    "    \n",
    "    total = sum(d * w for d, w in zip(digits, weights))\n",
    "    \n",
    "    return total % 89 == 0\n",
    "\n",
    "validate_abn_udf = F.udf(valid_abn, BooleanType())\n",
    "'''"
   ]
  },
  {
   "cell_type": "code",
   "execution_count": 8,
   "metadata": {},
   "outputs": [
    {
     "data": {
      "text/plain": [
       "'\\ntest = merchant_fraud.withColumn(\"valid_abn\", validate_abn_udf(merchant_fraud[\"merchant_abn\"]))\\ntest = test.filter(F.col(\"valid_abn\") == True)\\ntest.show()\\n'"
      ]
     },
     "execution_count": 8,
     "metadata": {},
     "output_type": "execute_result"
    }
   ],
   "source": [
    "'''\n",
    "test = merchant_fraud.withColumn(\"valid_abn\", validate_abn_udf(merchant_fraud[\"merchant_abn\"]))\n",
    "test = test.filter(F.col(\"valid_abn\") == True)\n",
    "test.show()\n",
    "'''"
   ]
  },
  {
   "cell_type": "code",
   "execution_count": 9,
   "metadata": {},
   "outputs": [
    {
     "name": "stderr",
     "output_type": "stream",
     "text": [
      "                                                                                \r"
     ]
    }
   ],
   "source": [
    "if not os.path.exists('../data/curated/'):\n",
    "    os.makedirs('../data/curated/')\n",
    "    \n",
    "if not os.path.exists('../data/curated/'):\n",
    "    os.makedirs('../data/curated/')\n",
    "\n",
    "merchant_fraud.write.mode('overwrite').parquet(\"../data/curated/merchant_fraud\")\n",
    "tbl_consumer.write.mode('overwrite').parquet(\"../data/curated/tbl_consumer\")\n",
    "tbl_merchants.write.mode('overwrite').parquet(\"../data/curated/tbl_merchants\")"
   ]
  },
  {
   "cell_type": "markdown",
   "metadata": {},
   "source": [
    "## Joining to one big table."
   ]
  },
  {
   "cell_type": "code",
   "execution_count": 10,
   "metadata": {},
   "outputs": [],
   "source": [
    "tbl_consumer = spark.read.parquet(\"../data/curated/tbl_consumer\")\n",
    "merchant_fraud = spark.read.parquet(\"../data/curated/merchant_fraud\")\n",
    "consumer_fraud = spark.read.parquet(\"../data/curated/consumer_fraud\")\n",
    "consumer_details = spark.read.parquet(\"../data/curated/consumer_details\")\n",
    "tbl_merchants = spark.read.parquet(\"../data/curated/tbl_merchants\")"
   ]
  },
  {
   "cell_type": "code",
   "execution_count": 11,
   "metadata": {},
   "outputs": [],
   "source": [
    "full_transactions = transactions.join(consumer_details, on=\"user_id\",how=\"left\") \\\n",
    "                   .join(tbl_consumer, on=\"consumer_id\",how=\"left\") \\\n",
    "                   .join(consumer_fraud, on=[\"user_id\", \"order_datetime\"],how=\"left\") \\\n",
    "                   .join(tbl_merchants, on=\"merchant_abn\",how=\"left\") \\\n",
    "                   .join(merchant_fraud, on=[\"order_datetime\", \"merchant_abn\"], how=\"left\")\n"
   ]
  },
  {
   "cell_type": "code",
   "execution_count": 12,
   "metadata": {},
   "outputs": [
    {
     "name": "stdout",
     "output_type": "stream",
     "text": [
      "+--------------+------------+-------+-----------+------------------+--------------------+----------------+-----+--------+------+-----------------+--------------------+--------------------+--------------------+-----+-----+--------------------------+\n",
      "|order_datetime|merchant_abn|user_id|consumer_id|      dollar_value|            order_id|   consumer_name|state|postcode|gender|fraud_probability|       merchant_name|                tags|               tags1|tags2|tags3|merchant_fraud_probability|\n",
      "+--------------+------------+-------+-----------+------------------+--------------------+----------------+-----+--------+------+-----------------+--------------------+--------------------+--------------------+-----+-----+--------------------------+\n",
      "|    2021-08-20| 62191208634|  18478|     651338|63.255848959735246|949a63c8-29f7-4ab...|     James Smith|  TAS|    7001|  Male|             NULL|Cursus Non Egesta...|[[furniture, home...|[furniture, home ...|    c| 2.17|                      NULL|\n",
      "|    2021-08-20| 15549624934|      2|     179208| 130.3505283105634|6a84c3cf-612a-457...|      Mary Smith|  NSW|    2782|Female|             NULL|  Commodo Associates|[[opticians, opti...|[opticians, optic...|    c| 2.76|                      NULL|\n",
      "|    2021-08-20| 64403598239|  18479|     467663|120.15860593212783|b10dcc33-e53f-425...|  Sandra Schultz|  TAS|    7010|Female|             NULL|Lobortis Ultrices...|[[music shops - m...|[music shops - mu...|    a| 6.31|                      NULL|\n",
      "|    2021-08-20| 60956456424|      3|    1194530| 136.6785200286976|0f09c5a5-784e-447...|   Jill Jones MD|   NT|     862|Female|             NULL|Ultricies Digniss...|[[gift, card, nov...|[gift, card, nove...|    b| 4.69|                      NULL|\n",
      "|    2021-08-20| 94493496784|  18479|     467663| 72.96316578355305|f6c78c1a-4600-4c5...|  Sandra Schultz|  TAS|    7010|Female|             NULL|Dictum Phasellus ...|[[gift, card, nov...|[gift, card, nove...|    a| 5.65|                      NULL|\n",
      "|    2021-08-20| 76819856970|      3|    1194530|  448.529684285612|5ace6a24-cdf0-4aa...|   Jill Jones MD|   NT|     862|Female|             NULL| Egestas Blandit Ltd|[[tent and awning...|[tent and awning ...|    b| 3.19|                      NULL|\n",
      "|    2021-08-20| 67609108741|  18479|     467663|  86.4040605836911|d0e180f0-cb06-42a...|  Sandra Schultz|  TAS|    7010|Female|             NULL|Metus Sit Amet In...|[[cable, satellit...|[cable, satellite...|    e| 0.38|                      NULL|\n",
      "|    2021-08-20| 34096466752|      3|    1194530| 301.5793450525113|6fb1ff48-24bb-4f9...|   Jill Jones MD|   NT|     862|Female|             NULL|     Nullam Enim Ltd|[[computers, comp...|[computers, compu...|    b| 3.22|                      NULL|\n",
      "|    2021-08-20| 70501974849|  18482|     918448| 68.75486276223054|8505fb33-b69a-412...|      Ethan Webb|  NSW|    1430|  Male|             NULL|Facilisis Lorem T...|[[computers, comp...|[computers, compu...|    b|  3.3|                      NULL|\n",
      "|    2021-08-20| 49891706470|      4|     154128| 48.89796461900801|ed11e477-b09f-4ae...| Lindsay Jimenez|  NSW|    2780|Female|             NULL|Non Vestibulum In...|[[tent and awning...|[tent and awning ...|    a|  5.8|                      NULL|\n",
      "|    2021-08-20| 46804135891|  18482|     918448|6.6168976971833615|05b5edb5-b925-414...|      Ethan Webb|  NSW|    1430|  Male|             NULL|Suspendisse Dui C...|[[opticians, opti...|[opticians, optic...|    c| 2.93|                      NULL|\n",
      "|    2021-08-20| 33064796871|      7|     511685| 373.0873675184212|fe188788-b89f-4dd...|    Andrea Jones|  QLD|    4606|Female|             NULL|Curabitur Massa C...|[[computer progra...|[computer program...|    b| 3.75|                      NULL|\n",
      "|    2021-08-20| 44160392990|  18483|     191119| 83.98473054761176|7c44302d-98b3-48b...| Linda Mccormick|  QLD|    4118|Female|             NULL|Sociis Natoque In...|[[digital goods: ...|[digital goods: b...|    a| 5.97|                      NULL|\n",
      "|    2021-08-20| 68435002949|      7|     511685| 232.5364986739752|b4a89891-a113-45e...|    Andrea Jones|  QLD|    4606|Female|             NULL|     Aliquam Eu Inc.|[[artist supply a...|[artist supply an...|    a| 6.65|                      NULL|\n",
      "|    2021-08-20| 70033549200|  18484|     596919| 871.7678061729196|4b1d941a-21a1-43e...|      Jose Jones|  QLD|    4309|  Male|             NULL|       Mus Proin LLP|[[tent and awning...|[tent and awning ...|    b| 4.78|                      NULL|\n",
      "|    2021-08-20| 41944909975|      7|     511685|30.910755230234322|302ae628-8eba-4a5...|    Andrea Jones|  QLD|    4606|Female|             NULL|  Et Nunc Consulting|[[books, periodic...|[books, periodica...|    e| 0.16|                      NULL|\n",
      "|    2021-08-20| 41705715409|  18485|    1212819| 309.5417224575787|67f4f98e-3149-4e8...|   Samuel Haynes|  VIC|    3073|  Male|             NULL|        Augue Eu LLP|[[furniture, home...|[furniture, home ...|    a| 6.05|                      NULL|\n",
      "|    2021-08-20| 29566626791|      8|     448088| 74.15732460440282|71a81652-cc91-4bf...|Stephen Williams|   WA|    6056|  Male|             NULL|                NULL|                NULL|                NULL| NULL| NULL|                      NULL|\n",
      "|    2021-08-20| 32361057556|  18487|    1165699|119.19055863068847|15577921-1104-470...|      Erin Davis|  NSW|    1004|Female|             NULL|Orci In Consequat...|[[gift, card, nov...|[gift, card, nove...|    a| 6.61|                      NULL|\n",
      "|    2021-08-20| 47663262928|      9|     650435| 36.69873283148887|c4fcb49a-ce87-4e1...| Stephanie Reyes|  NSW|    2482|Female|             NULL|      Eget Lacus LLP|[[cable, satellit...|[cable, satellite...|    a| 6.66|                      NULL|\n",
      "+--------------+------------+-------+-----------+------------------+--------------------+----------------+-----+--------+------+-----------------+--------------------+--------------------+--------------------+-----+-----+--------------------------+\n",
      "only showing top 20 rows\n",
      "\n"
     ]
    }
   ],
   "source": [
    "full_transactions.show()"
   ]
  },
  {
   "cell_type": "code",
   "execution_count": 13,
   "metadata": {},
   "outputs": [
    {
     "name": "stdout",
     "output_type": "stream",
     "text": [
      "+--------------+------------+-------+-----------+------------------+--------------------+------------------+-----+--------+-----------+-----------------+-------------+----+-----+-----+-----+--------------------------+\n",
      "|order_datetime|merchant_abn|user_id|consumer_id|      dollar_value|            order_id|     consumer_name|state|postcode|     gender|fraud_probability|merchant_name|tags|tags1|tags2|tags3|merchant_fraud_probability|\n",
      "+--------------+------------+-------+-----------+------------------+--------------------+------------------+-----+--------+-----------+-----------------+-------------+----+-----+-----+-----+--------------------------+\n",
      "|    2021-08-20| 29566626791|      8|     448088| 74.15732460440282|71a81652-cc91-4bf...|  Stephen Williams|   WA|    6056|       Male|             NULL|         NULL|NULL| NULL| NULL| NULL|                      NULL|\n",
      "|    2021-08-20| 32234779638|  18490|    1158069|107.14809429376949|20149572-a55b-41f...|       Sara Holmes|   WA|    6425|     Female|             NULL|         NULL|NULL| NULL| NULL| NULL|                      NULL|\n",
      "|    2021-08-20| 67202032418|     20|    1390367| 55.46394975814555|a29071b4-29b3-4f2...|      James Norris|  VIC|    3234|Undisclosed|             NULL|         NULL|NULL| NULL| NULL| NULL|                      NULL|\n",
      "|    2021-08-20| 32461318592|     23|     662940| 613.9306657410166|4b2e2154-65d8-44f...|        Cody Scott|   WA|    6849|       Male|             NULL|         NULL|NULL| NULL| NULL| NULL|                      NULL|\n",
      "|    2021-08-20| 32234779638|     25|     885864| 87.15685629102919|e6763664-e95f-4eb...|Christopher Jordan|   WA|    6107|       Male|             NULL|         NULL|NULL| NULL| NULL| NULL|                      NULL|\n",
      "|    2021-08-20| 23633724513|     26|    1421465|3459.2423030023524|fee9ead7-9ce2-4a4...|     Kristi Adkins|  VIC|    3469|     Female|             NULL|         NULL|NULL| NULL| NULL| NULL|                      NULL|\n",
      "|    2021-08-20| 87921002735|     32|    1211170|1450.5989075026375|9ae8b9fe-34c4-432...|     Karen Stewart|  VIC|    3485|Undisclosed|             NULL|         NULL|NULL| NULL| NULL| NULL|                      NULL|\n",
      "|    2021-08-20| 80788167198|     44|     564558|158.88701712957197|360a891b-8271-461...|   Michael Johnson|   SA|    5074|Undisclosed|             NULL|         NULL|NULL| NULL| NULL| NULL|                      NULL|\n",
      "|    2021-08-20| 32234779638|  18526|    1467972| 125.0953784625931|720bfb52-fb76-4cc...|    Anthony Herman|   SA|    5303|       Male|             NULL|         NULL|NULL| NULL| NULL| NULL|                      NULL|\n",
      "|    2021-08-20| 27130058170|     48|     463573|1020.8064117602456|01c016c5-abbb-4bf...|       Sarah Smith|  NSW|    2158|     Female|             NULL|         NULL|NULL| NULL| NULL| NULL|                      NULL|\n",
      "|    2021-08-20| 29323795999|     58|     838663|134.39374602616718|f1f5f6fe-6b92-4b9...|    Adam Velazquez|  NSW|    2403|       Male|             NULL|         NULL|NULL| NULL| NULL| NULL|                      NULL|\n",
      "|    2021-08-20| 67202032418|  18552|    1295545| 275.1791373600999|02a4308c-4a49-40b...|        Terri Howe|  VIC|    3833|     Female|             NULL|         NULL|NULL| NULL| NULL| NULL|                      NULL|\n",
      "|    2021-08-20| 87802246756|     76|    1318148| 54.08449721878287|e374d6fb-7a06-45a...| Tyler Fitzpatrick|  VIC|    3551|       Male|             NULL|         NULL|NULL| NULL| NULL| NULL|                      NULL|\n",
      "|    2021-08-20| 29566626791|     77|     577363| 48.53264869718864|1f5b59f6-77f3-460...|  Francisco Harmon|   WA|    6603|       Male|             NULL|         NULL|NULL| NULL| NULL| NULL|                      NULL|\n",
      "|    2021-08-20| 67202032418|     78|     316477| 344.9909397642447|04652ffd-79ff-414...|        Lee Fuller|   WA|    6282|       Male|             NULL|         NULL|NULL| NULL| NULL| NULL|                      NULL|\n",
      "|    2021-08-20| 79953723663|     98|    1401736| 70.72951839995908|056d6fab-752f-404...|      Shannon Wise|  NSW|    2832|     Female|             NULL|         NULL|NULL| NULL| NULL| NULL|                      NULL|\n",
      "|    2021-08-20| 56180588880|    112|     892053| 1810.952354187923|474888e4-351f-4b7...|      Carrie White|   SA|    5263|     Female|             NULL|         NULL|NULL| NULL| NULL| NULL|                      NULL|\n",
      "|    2021-08-20| 29323795999|  18616|     682419|16.267692547515654|fbf74564-1fd4-433...|       Brett Woods|  VIC|    3938|       Male|             NULL|         NULL|NULL| NULL| NULL| NULL|                      NULL|\n",
      "|    2021-08-20| 32234779638|    147|    1028770| 192.1781956472948|773cde37-a01e-42f...|   Eileen Sandoval|   SA|    5085|     Female|             NULL|         NULL|NULL| NULL| NULL| NULL|                      NULL|\n",
      "|    2021-08-20| 20562405782|    149|    1150639|175.84255848580304|e1ecc7b5-8eda-446...|      Austin Cowan|  NSW|    1046|       Male|             NULL|         NULL|NULL| NULL| NULL| NULL|                      NULL|\n",
      "+--------------+------------+-------+-----------+------------------+--------------------+------------------+-----+--------+-----------+-----------------+-------------+----+-----+-----+-----+--------------------------+\n",
      "only showing top 20 rows\n",
      "\n"
     ]
    }
   ],
   "source": [
    "full_transactions.filter(F.col('merchant_name').isNull()).show()"
   ]
  },
  {
   "cell_type": "code",
   "execution_count": 14,
   "metadata": {},
   "outputs": [
    {
     "name": "stderr",
     "output_type": "stream",
     "text": [
      "                                                                                \r"
     ]
    }
   ],
   "source": [
    "full_transactions.write.mode('overwrite').parquet(\"../data/curated/full_transaction\")"
   ]
  }
 ],
 "metadata": {
  "kernelspec": {
   "display_name": "Python 3",
   "language": "python",
   "name": "python3"
  },
  "language_info": {
   "codemirror_mode": {
    "name": "ipython",
    "version": 3
   },
   "file_extension": ".py",
   "mimetype": "text/x-python",
   "name": "python",
   "nbconvert_exporter": "python",
   "pygments_lexer": "ipython3",
   "version": "3.10.12"
  }
 },
 "nbformat": 4,
 "nbformat_minor": 2
}
