{
 "cells": [
  {
   "cell_type": "code",
   "execution_count": 1,
   "metadata": {},
   "outputs": [],
   "source": [
    "from pyspark.sql import SparkSession\n",
    "from pyspark.sql import functions as F\n",
    "import os\n",
    "import pandas as pd\n",
    "from pyspark.sql.types import IntegerType, LongType, DoubleType, BooleanType, DateType"
   ]
  },
  {
   "cell_type": "code",
   "execution_count": 2,
   "metadata": {},
   "outputs": [
    {
     "name": "stderr",
     "output_type": "stream",
     "text": [
      "your 131072x1 screen size is bogus. expect trouble\n",
      "24/09/01 15:30:28 WARN Utils: Your hostname, Andy-PC resolves to a loopback address: 127.0.1.1; using 172.27.185.53 instead (on interface eth0)\n",
      "24/09/01 15:30:28 WARN Utils: Set SPARK_LOCAL_IP if you need to bind to another address\n",
      "Setting default log level to \"WARN\".\n",
      "To adjust logging level use sc.setLogLevel(newLevel). For SparkR, use setLogLevel(newLevel).\n",
      "24/09/01 15:30:30 WARN NativeCodeLoader: Unable to load native-hadoop library for your platform... using builtin-java classes where applicable\n"
     ]
    }
   ],
   "source": [
    "# Probably need to change this if your on MAC\n",
    "spark = (\n",
    "    SparkSession.builder.appName(\"Preprocessing\")\n",
    "    .config(\"spark.sql.repl.eagerEval.enabled\", True)\n",
    "    .config(\"spark.sql.parquet.cacheMetadata\", \"true\")\n",
    "    .config(\"spark.sql.session.timeZone\", \"Etc/UTC\")\n",
    "    .config('spark.driver.memory', '4g')\n",
    "    .config('spark.executor.memory', '2g')\n",
    "    .getOrCreate()\n",
    ")"
   ]
  },
  {
   "cell_type": "code",
   "execution_count": 3,
   "metadata": {},
   "outputs": [
    {
     "name": "stderr",
     "output_type": "stream",
     "text": [
      "                                                                                \r"
     ]
    },
    {
     "name": "stdout",
     "output_type": "stream",
     "text": [
      "+-------+------------+------------------+--------------------+--------------+\n",
      "|user_id|merchant_abn|      dollar_value|            order_id|order_datetime|\n",
      "+-------+------------+------------------+--------------------+--------------+\n",
      "|  18478| 62191208634|63.255848959735246|949a63c8-29f7-4ab...|    2021-08-20|\n",
      "|      2| 15549624934| 130.3505283105634|6a84c3cf-612a-457...|    2021-08-20|\n",
      "|  18479| 64403598239|120.15860593212783|b10dcc33-e53f-425...|    2021-08-20|\n",
      "|      3| 60956456424| 136.6785200286976|0f09c5a5-784e-447...|    2021-08-20|\n",
      "|  18479| 94493496784| 72.96316578355305|f6c78c1a-4600-4c5...|    2021-08-20|\n",
      "|      3| 76819856970|  448.529684285612|5ace6a24-cdf0-4aa...|    2021-08-20|\n",
      "|  18479| 67609108741|  86.4040605836911|d0e180f0-cb06-42a...|    2021-08-20|\n",
      "|      3| 34096466752| 301.5793450525113|6fb1ff48-24bb-4f9...|    2021-08-20|\n",
      "|  18482| 70501974849| 68.75486276223054|8505fb33-b69a-412...|    2021-08-20|\n",
      "|      4| 49891706470| 48.89796461900801|ed11e477-b09f-4ae...|    2021-08-20|\n",
      "|  18482| 46804135891|6.6168976971833615|05b5edb5-b925-414...|    2021-08-20|\n",
      "|      7| 33064796871| 373.0873675184212|fe188788-b89f-4dd...|    2021-08-20|\n",
      "|  18483| 44160392990| 83.98473054761176|7c44302d-98b3-48b...|    2021-08-20|\n",
      "|      7| 68435002949| 232.5364986739752|b4a89891-a113-45e...|    2021-08-20|\n",
      "|  18484| 70033549200| 871.7678061729196|4b1d941a-21a1-43e...|    2021-08-20|\n",
      "|      7| 41944909975|30.910755230234322|302ae628-8eba-4a5...|    2021-08-20|\n",
      "|  18485| 41705715409| 309.5417224575787|67f4f98e-3149-4e8...|    2021-08-20|\n",
      "|      8| 29566626791| 74.15732460440282|71a81652-cc91-4bf...|    2021-08-20|\n",
      "|  18487| 32361057556|119.19055863068847|15577921-1104-470...|    2021-08-20|\n",
      "|      9| 47663262928| 36.69873283148887|c4fcb49a-ce87-4e1...|    2021-08-20|\n",
      "+-------+------------+------------------+--------------------+--------------+\n",
      "only showing top 20 rows\n",
      "\n"
     ]
    }
   ],
   "source": [
    "transactions1 = spark.read.parquet(\"../data/tables/project-2-bnpl-tables-part2/tables/transactions_20210228_20210827_snapshot\")\n",
    "transactions2 = spark.read.parquet(\"../data/tables/project-2-bnpl-tables-part3/tables/transactions_20210828_20220227_snapshot\")\n",
    "transactions3 = spark.read.parquet(\"../data/tables/project-2-bnpl-tables-part4/tables/transactions_20220228_20220828_snapshot\")\n",
    "transactions = transactions1.union(transactions2).union(transactions3)\n",
    "transactions.show()"
   ]
  },
  {
   "cell_type": "code",
   "execution_count": 4,
   "metadata": {},
   "outputs": [
    {
     "name": "stdout",
     "output_type": "stream",
     "text": [
      "Number of counts before preprocessing: 499999\n",
      "+-----+\n",
      "|state|\n",
      "+-----+\n",
      "|   NT|\n",
      "|  ACT|\n",
      "|   SA|\n",
      "|  TAS|\n",
      "|   WA|\n",
      "|  QLD|\n",
      "|  VIC|\n",
      "|  NSW|\n",
      "+-----+\n",
      "\n",
      "+-----------+\n",
      "|     gender|\n",
      "+-----------+\n",
      "|Undisclosed|\n",
      "|     Female|\n",
      "|       Male|\n",
      "+-----------+\n",
      "\n",
      "Number of unique consumer_id: 499690\n",
      "Number of counts after preprocessing: 499690\n",
      "root\n",
      " |-- name: string (nullable = true)\n",
      " |-- state: string (nullable = true)\n",
      " |-- postcode: integer (nullable = true)\n",
      " |-- gender: string (nullable = true)\n",
      " |-- consumer_id: long (nullable = true)\n",
      "\n"
     ]
    },
    {
     "data": {
      "text/html": [
       "<table border='1'>\n",
       "<tr><th>name</th><th>state</th><th>postcode</th><th>gender</th><th>consumer_id</th></tr>\n",
       "<tr><td>Yolanda Williams</td><td>WA</td><td>6935</td><td>Female</td><td>1195503</td></tr>\n",
       "<tr><td>Mary Smith</td><td>NSW</td><td>2782</td><td>Female</td><td>179208</td></tr>\n",
       "<tr><td>Jill Jones MD</td><td>NT</td><td>862</td><td>Female</td><td>1194530</td></tr>\n",
       "<tr><td>Lindsay Jimenez</td><td>NSW</td><td>2780</td><td>Female</td><td>154128</td></tr>\n",
       "<tr><td>Rebecca Blanchard</td><td>WA</td><td>6355</td><td>Female</td><td>712975</td></tr>\n",
       "<tr><td>Karen Chapman</td><td>NSW</td><td>2033</td><td>Female</td><td>407340</td></tr>\n",
       "<tr><td>Andrea Jones</td><td>QLD</td><td>4606</td><td>Female</td><td>511685</td></tr>\n",
       "<tr><td>Stephen Williams</td><td>WA</td><td>6056</td><td>Male</td><td>448088</td></tr>\n",
       "<tr><td>Stephanie Reyes</td><td>NSW</td><td>2482</td><td>Female</td><td>650435</td></tr>\n",
       "<tr><td>Jillian Gonzales</td><td>VIC</td><td>3220</td><td>Female</td><td>1058499</td></tr>\n",
       "<tr><td>Eugene Lucas</td><td>VIC</td><td>3063</td><td>Undisclosed</td><td>428325</td></tr>\n",
       "<tr><td>Melissa Jones</td><td>WA</td><td>6743</td><td>Female</td><td>1494640</td></tr>\n",
       "<tr><td>Angela Brown PhD</td><td>QLD</td><td>4673</td><td>Female</td><td>1146717</td></tr>\n",
       "<tr><td>Lance Butler</td><td>VIC</td><td>3332</td><td>Male</td><td>1343547</td></tr>\n",
       "<tr><td>Paul Abbott</td><td>QLD</td><td>4512</td><td>Male</td><td>1463076</td></tr>\n",
       "<tr><td>Tracy Hart</td><td>NSW</td><td>2452</td><td>Male</td><td>1356405</td></tr>\n",
       "<tr><td>Alyssa Wilson</td><td>VIC</td><td>3719</td><td>Female</td><td>1331093</td></tr>\n",
       "<tr><td>Michael Burnett</td><td>NSW</td><td>1109</td><td>Male</td><td>80965</td></tr>\n",
       "<tr><td>Victoria Gonzalez</td><td>TAS</td><td>7276</td><td>Female</td><td>1226530</td></tr>\n",
       "<tr><td>James Norris</td><td>VIC</td><td>3234</td><td>Undisclosed</td><td>1390367</td></tr>\n",
       "</table>\n",
       "only showing top 20 rows\n"
      ],
      "text/plain": [
       "+-----------------+-----+--------+-----------+-----------+\n",
       "|             name|state|postcode|     gender|consumer_id|\n",
       "+-----------------+-----+--------+-----------+-----------+\n",
       "| Yolanda Williams|   WA|    6935|     Female|    1195503|\n",
       "|       Mary Smith|  NSW|    2782|     Female|     179208|\n",
       "|    Jill Jones MD|   NT|     862|     Female|    1194530|\n",
       "|  Lindsay Jimenez|  NSW|    2780|     Female|     154128|\n",
       "|Rebecca Blanchard|   WA|    6355|     Female|     712975|\n",
       "|    Karen Chapman|  NSW|    2033|     Female|     407340|\n",
       "|     Andrea Jones|  QLD|    4606|     Female|     511685|\n",
       "| Stephen Williams|   WA|    6056|       Male|     448088|\n",
       "|  Stephanie Reyes|  NSW|    2482|     Female|     650435|\n",
       "| Jillian Gonzales|  VIC|    3220|     Female|    1058499|\n",
       "|     Eugene Lucas|  VIC|    3063|Undisclosed|     428325|\n",
       "|    Melissa Jones|   WA|    6743|     Female|    1494640|\n",
       "| Angela Brown PhD|  QLD|    4673|     Female|    1146717|\n",
       "|     Lance Butler|  VIC|    3332|       Male|    1343547|\n",
       "|      Paul Abbott|  QLD|    4512|       Male|    1463076|\n",
       "|       Tracy Hart|  NSW|    2452|       Male|    1356405|\n",
       "|    Alyssa Wilson|  VIC|    3719|     Female|    1331093|\n",
       "|  Michael Burnett|  NSW|    1109|       Male|      80965|\n",
       "|Victoria Gonzalez|  TAS|    7276|     Female|    1226530|\n",
       "|     James Norris|  VIC|    3234|Undisclosed|    1390367|\n",
       "+-----------------+-----+--------+-----------+-----------+\n",
       "only showing top 20 rows"
      ]
     },
     "execution_count": 4,
     "metadata": {},
     "output_type": "execute_result"
    }
   ],
   "source": [
    "tbl_consumer = spark.read.option(\"header\", True).option(\"delimiter\", \"|\").csv(\"../data/tables/project-2-bnpl-tables-part1/tables/tbl_consumer.csv\")\n",
    "print(\"Number of counts before preprocessing: \" + str(tbl_consumer.count()))\n",
    "\n",
    "tbl_consumer = tbl_consumer.drop(\"address\") # dropped address column\n",
    "tbl_consumer = tbl_consumer.filter(F.col(\"state\").isin([\"NSW\", \"WA\", \"NT\", \"VIC\", \"TAS\", \"QLD\", \"SA\",   \"ACT\"]))   \n",
    "tbl_consumer = tbl_consumer.filter(F.col(\"gender\").isin([\"Female\", \"Male\", \"Undisclosed\"]))\n",
    "tbl_consumer = tbl_consumer.withColumn(\"postcode\", tbl_consumer[\"postcode\"].cast(IntegerType()))\n",
    "tbl_consumer = tbl_consumer.withColumn(\"consumer_id\", tbl_consumer[\"consumer_id\"].cast(LongType()))\n",
    "# Looked up all the valid postcodes in Australia. But some of them are considered LVR or PO boxes only, but I kept them in anyways idk.\n",
    "tbl_consumer = tbl_consumer.filter(\n",
    "    ((F.col(\"postcode\") >= 1000) & (F.col(\"postcode\") <= 1999)) |  \n",
    "    ((F.col(\"postcode\") >= 2000) & (F.col(\"postcode\") <= 2599)) |\n",
    "    ((F.col(\"postcode\") >= 2619) & (F.col(\"postcode\") <= 2899)) |\n",
    "    ((F.col(\"postcode\") >= 2921) & (F.col(\"postcode\") <= 2999)) |\n",
    "    ((F.col(\"postcode\") >= 200) & (F.col(\"postcode\") <= 299)) |  \n",
    "    ((F.col(\"postcode\") >= 2600) & (F.col(\"postcode\") <= 2618)) |\n",
    "    ((F.col(\"postcode\") >= 2900) & (F.col(\"postcode\") <= 2920)) |\n",
    "    ((F.col(\"postcode\") >= 3000) & (F.col(\"postcode\") <= 3999)) |\n",
    "    ((F.col(\"postcode\") >= 8000) & (F.col(\"postcode\") <= 8999)) |  \n",
    "    ((F.col(\"postcode\") >= 4000) & (F.col(\"postcode\") <= 4999)) |\n",
    "    ((F.col(\"postcode\") >= 9000) & (F.col(\"postcode\") <= 9999)) |  \n",
    "    ((F.col(\"postcode\") >= 5000) & (F.col(\"postcode\") <= 5799)) |\n",
    "    ((F.col(\"postcode\") >= 5800) & (F.col(\"postcode\") <= 5999)) |  \n",
    "    ((F.col(\"postcode\") >= 6000) & (F.col(\"postcode\") <= 6797)) |\n",
    "    ((F.col(\"postcode\") >= 6800) & (F.col(\"postcode\") <= 6999)) |  \n",
    "    ((F.col(\"postcode\") >= 7000) & (F.col(\"postcode\") <= 7799)) |\n",
    "    ((F.col(\"postcode\") >= 7800) & (F.col(\"postcode\") <= 7999)) |  \n",
    "    ((F.col(\"postcode\") >= 800) & (F.col(\"postcode\") <= 899)) |\n",
    "    ((F.col(\"postcode\") >= 900) & (F.col(\"postcode\") <= 999))\n",
    ")\n",
    "\n",
    "print(tbl_consumer.select(\"state\").distinct())\n",
    "print(tbl_consumer.select(\"gender\").distinct())\n",
    "\n",
    "\n",
    "print(\"Number of unique consumer_id: \"+str(tbl_consumer.select(\"consumer_id\").distinct().count()))\n",
    "print(\"Number of counts after preprocessing: \" + str(tbl_consumer.count()))\n",
    "\n",
    "tbl_consumer.printSchema()\n",
    "tbl_consumer"
   ]
  },
  {
   "cell_type": "code",
   "execution_count": 11,
   "metadata": {},
   "outputs": [
    {
     "name": "stdout",
     "output_type": "stream",
     "text": [
      "114\n",
      "root\n",
      " |-- merchant_abn: long (nullable = true)\n",
      " |-- order_datetime: string (nullable = true)\n",
      " |-- fraud_probability: double (nullable = true)\n",
      "\n"
     ]
    },
    {
     "data": {
      "text/html": [
       "<table border='1'>\n",
       "<tr><th>merchant_abn</th><th>order_datetime</th><th>fraud_probability</th></tr>\n",
       "<tr><td>19492220327</td><td>2021-11</td><td>44.403658647495355</td></tr>\n",
       "<tr><td>31334588839</td><td>2021-10</td><td>42.75530083865367</td></tr>\n",
       "<tr><td>19492220327</td><td>2021-12</td><td>38.867790051131095</td></tr>\n",
       "<tr><td>82999039227</td><td>2021-12</td><td>94.1347004808891</td></tr>\n",
       "<tr><td>90918180829</td><td>2021-09</td><td>43.32551731714902</td></tr>\n",
       "<tr><td>31334588839</td><td>2021-12</td><td>38.36165958070444</td></tr>\n",
       "<tr><td>23686790459</td><td>2021-12</td><td>79.4543441508535</td></tr>\n",
       "<tr><td>14827550074</td><td>2021-11</td><td>46.45775596795885</td></tr>\n",
       "<tr><td>31334588839</td><td>2021-11</td><td>36.20971272078342</td></tr>\n",
       "<tr><td>19492220327</td><td>2021-12</td><td>33.819672154331755</td></tr>\n",
       "<tr><td>31334588839</td><td>2021-11</td><td>35.386213297375505</td></tr>\n",
       "<tr><td>14827550074</td><td>2021-12</td><td>43.85519494291279</td></tr>\n",
       "<tr><td>19492220327</td><td>2021-11</td><td>32.193139919494016</td></tr>\n",
       "<tr><td>93260930990</td><td>2021-11</td><td>37.87197154172081</td></tr>\n",
       "<tr><td>90918180829</td><td>2021-09</td><td>36.62001350882694</td></tr>\n",
       "<tr><td>83199298021</td><td>2022-02</td><td>26.025158824861773</td></tr>\n",
       "<tr><td>83199298021</td><td>2022-02</td><td>25.77998392496447</td></tr>\n",
       "<tr><td>94311056026</td><td>2021-12</td><td>30.85150199484772</td></tr>\n",
       "<tr><td>97217894162</td><td>2022-01</td><td>34.94582650821017</td></tr>\n",
       "<tr><td>43083074133</td><td>2021-12</td><td>48.66890735193894</td></tr>\n",
       "</table>\n",
       "only showing top 20 rows\n"
      ],
      "text/plain": [
       "+------------+--------------+------------------+\n",
       "|merchant_abn|order_datetime| fraud_probability|\n",
       "+------------+--------------+------------------+\n",
       "| 19492220327|       2021-11|44.403658647495355|\n",
       "| 31334588839|       2021-10| 42.75530083865367|\n",
       "| 19492220327|       2021-12|38.867790051131095|\n",
       "| 82999039227|       2021-12|  94.1347004808891|\n",
       "| 90918180829|       2021-09| 43.32551731714902|\n",
       "| 31334588839|       2021-12| 38.36165958070444|\n",
       "| 23686790459|       2021-12|  79.4543441508535|\n",
       "| 14827550074|       2021-11| 46.45775596795885|\n",
       "| 31334588839|       2021-11| 36.20971272078342|\n",
       "| 19492220327|       2021-12|33.819672154331755|\n",
       "| 31334588839|       2021-11|35.386213297375505|\n",
       "| 14827550074|       2021-12| 43.85519494291279|\n",
       "| 19492220327|       2021-11|32.193139919494016|\n",
       "| 93260930990|       2021-11| 37.87197154172081|\n",
       "| 90918180829|       2021-09| 36.62001350882694|\n",
       "| 83199298021|       2022-02|26.025158824861773|\n",
       "| 83199298021|       2022-02| 25.77998392496447|\n",
       "| 94311056026|       2021-12| 30.85150199484772|\n",
       "| 97217894162|       2022-01| 34.94582650821017|\n",
       "| 43083074133|       2021-12| 48.66890735193894|\n",
       "+------------+--------------+------------------+\n",
       "only showing top 20 rows"
      ]
     },
     "execution_count": 11,
     "metadata": {},
     "output_type": "execute_result"
    }
   ],
   "source": [
    "merchant_fraud = spark.read.option(\"header\", True).csv(\"../data/tables/project-2-bnpl-tables-part1/tables/merchant_fraud_probability.csv\")\n",
    "print(merchant_fraud.count())\n",
    "\n",
    "merchant_fraud = merchant_fraud.filter((F.col(\"fraud_probability\")>=0) &(F.col(\"fraud_probability\")<=100))\n",
    "# Type casting\n",
    "merchant_fraud = merchant_fraud.withColumn(\"fraud_probability\", merchant_fraud[\"fraud_probability\"].cast(DoubleType()))\n",
    "merchant_fraud = merchant_fraud.withColumn(\"merchant_abn\", merchant_fraud[\"merchant_abn\"].cast(LongType()))\n",
    "\n",
    "\n",
    "merchant_fraud = merchant_fraud.withColumn(\"order_datetime\", F.date_format(merchant_fraud[\"order_datetime\"], \"yyyy-MM\"))    # I dropped the date here cause we said we only need month.\n",
    "merchant_fraud.printSchema()\n",
    "\n",
    "merchant_fraud"
   ]
  },
  {
   "cell_type": "markdown",
   "metadata": {},
   "source": [
    "For here, I looked up what is considered a legit ABN number, and this is code that will execute it, but when its done you can see that there is only 5 entries left so I'm not sure if we should leave it in or not."
   ]
  },
  {
   "cell_type": "code",
   "execution_count": 6,
   "metadata": {},
   "outputs": [],
   "source": [
    "def valid_abn(abn_number):\n",
    "    abn_number = str(abn_number)\n",
    "    \n",
    "    if len(abn_number) != 11 or not abn_number.isdigit():\n",
    "        return False \n",
    "    \n",
    "    digits = [int(i) for i in abn_number]\n",
    "    \n",
    "    digits[0] -= 1\n",
    "    \n",
    "    weights = [10, 1, 3, 5, 7, 9, 11, 13, 15, 17, 19]\n",
    "    \n",
    "    total = sum(d * w for d, w in zip(digits, weights))\n",
    "    \n",
    "    return total % 89 == 0\n",
    "\n",
    "validate_abn_udf = F.udf(valid_abn, BooleanType())"
   ]
  },
  {
   "cell_type": "code",
   "execution_count": 7,
   "metadata": {},
   "outputs": [
    {
     "name": "stdout",
     "output_type": "stream",
     "text": [
      "+------------+--------------+------------------+---------+\n",
      "|merchant_abn|order_datetime| fraud_probability|valid_abn|\n",
      "+------------+--------------+------------------+---------+\n",
      "| 11149063370|       2021-08| 56.43761254995139|     true|\n",
      "| 11149063370|       2021-11|52.407803322764764|     true|\n",
      "| 11149063370|       2022-02| 51.01538421455241|     true|\n",
      "| 80518954462|       2021-11|30.024291830924508|     true|\n",
      "| 30275989942|       2022-01|63.108592876362856|     true|\n",
      "+------------+--------------+------------------+---------+\n",
      "\n"
     ]
    }
   ],
   "source": [
    "test = merchant_fraud.withColumn(\"valid_abn\", validate_abn_udf(merchant_fraud[\"merchant_abn\"]))\n",
    "test = test.filter(F.col(\"valid_abn\") == True)\n",
    "test.show()"
   ]
  }
 ],
 "metadata": {
  "kernelspec": {
   "display_name": "Python 3",
   "language": "python",
   "name": "python3"
  },
  "language_info": {
   "codemirror_mode": {
    "name": "ipython",
    "version": 3
   },
   "file_extension": ".py",
   "mimetype": "text/x-python",
   "name": "python",
   "nbconvert_exporter": "python",
   "pygments_lexer": "ipython3",
   "version": "3.10.12"
  }
 },
 "nbformat": 4,
 "nbformat_minor": 2
}
