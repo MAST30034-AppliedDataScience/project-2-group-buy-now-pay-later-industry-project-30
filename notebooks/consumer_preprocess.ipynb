{
 "cells": [
  {
   "cell_type": "markdown",
   "metadata": {},
   "source": [
    "# Preprocessing Consumer Data"
   ]
  },
  {
   "cell_type": "markdown",
   "metadata": {},
   "source": [
    "This Notebook Preprocesses The Consumer Data "
   ]
  },
  {
   "cell_type": "code",
   "execution_count": 1,
   "metadata": {},
   "outputs": [],
   "source": [
    "import pandas as pd\n",
    "import numpy as np\n",
    "import geopandas as gpd\n",
    "import os\n",
    "import re\n",
    "import glob\n",
    "import math\n",
    "import matplotlib.pyplot as plt\n",
    "from pyspark.sql import functions as F\n",
    "from pyspark.sql import SparkSession\n",
    "from pyspark.sql.types import StructType, StructField, StringType, LongType, IntegerType, DateType\n",
    "from datetime import datetime, timedelta"
   ]
  },
  {
   "cell_type": "code",
   "execution_count": 2,
   "metadata": {},
   "outputs": [
    {
     "name": "stderr",
     "output_type": "stream",
     "text": [
      "your 131072x1 screen size is bogus. expect trouble\n",
      "24/10/13 21:52:57 WARN Utils: Your hostname, DESKTOP-F216TKE resolves to a loopback address: 127.0.1.1; using 10.255.255.254 instead (on interface lo)\n",
      "24/10/13 21:52:57 WARN Utils: Set SPARK_LOCAL_IP if you need to bind to another address\n",
      "Setting default log level to \"WARN\".\n",
      "To adjust logging level use sc.setLogLevel(newLevel). For SparkR, use setLogLevel(newLevel).\n",
      "24/10/13 21:52:57 WARN NativeCodeLoader: Unable to load native-hadoop library for your platform... using builtin-java classes where applicable\n",
      "24/10/13 21:52:58 WARN Utils: Service 'SparkUI' could not bind on port 4040. Attempting port 4041.\n",
      "24/10/13 21:52:58 WARN Utils: Service 'SparkUI' could not bind on port 4041. Attempting port 4042.\n"
     ]
    }
   ],
   "source": [
    "spark = (\n",
    "    SparkSession.builder.appName('Consumer Data Preprocess')\n",
    "    .config(\"spark.sql.repl.eagerEval.enabled\", True)\n",
    "    .config(\"spark.sql.parquet.cacheMetadata\", \"true\")\n",
    "    .config(\"spark.sql.session.timeZone\", \"Etc/UTC\")\n",
    "    .config('spark.driver.memory', '4g')\n",
    "    .config('spark.executor.memory', '2g')\n",
    "    .getOrCreate()\n",
    ")"
   ]
  },
  {
   "cell_type": "code",
   "execution_count": 6,
   "metadata": {},
   "outputs": [],
   "source": [
    "tbl_consumer =  spark.read.option(\"header\", True).option(\"delimiter\", \"|\").csv(\".././data/tables/tbl_consumer.csv\")"
   ]
  },
  {
   "cell_type": "code",
   "execution_count": 7,
   "metadata": {},
   "outputs": [
    {
     "name": "stdout",
     "output_type": "stream",
     "text": [
      "+-----------------+--------------------+-----+--------+-----------+-----------+\n",
      "|             name|             address|state|postcode|     gender|consumer_id|\n",
      "+-----------------+--------------------+-----+--------+-----------+-----------+\n",
      "| Yolanda Williams|413 Haney Gardens...|   WA|    6935|     Female|    1195503|\n",
      "|       Mary Smith|     3764 Amber Oval|  NSW|    2782|     Female|     179208|\n",
      "|    Jill Jones MD|  40693 Henry Greens|   NT|     862|     Female|    1194530|\n",
      "|  Lindsay Jimenez|00653 Davenport C...|  NSW|    2780|     Female|     154128|\n",
      "|Rebecca Blanchard|9271 Michael Mano...|   WA|    6355|     Female|     712975|\n",
      "|    Karen Chapman|2706 Stewart Oval...|  NSW|    2033|     Female|     407340|\n",
      "|     Andrea Jones|   122 Brandon Cliff|  QLD|    4606|     Female|     511685|\n",
      "| Stephen Williams|6804 Wright Crest...|   WA|    6056|       Male|     448088|\n",
      "|  Stephanie Reyes|5813 Denise Land ...|  NSW|    2482|     Female|     650435|\n",
      "| Jillian Gonzales|461 Ryan Common S...|  VIC|    3220|     Female|    1058499|\n",
      "|     Eugene Lucas|33983 Kevin Drive...|  VIC|    3063|Undisclosed|     428325|\n",
      "|    Melissa Jones| 13706 Kimberly Port|   WA|    6743|     Female|    1494640|\n",
      "| Angela Brown PhD|0236 Mills Land S...|  QLD|    4673|     Female|    1146717|\n",
      "|     Lance Butler|   8943 Kenneth Camp|  VIC|    3332|       Male|    1343547|\n",
      "|      Paul Abbott|     60495 Ryan Hill|  QLD|    4512|       Male|    1463076|\n",
      "|       Tracy Hart|9671 Jacob Harbor...|  NSW|    2452|       Male|    1356405|\n",
      "|    Alyssa Wilson|  44353 Nathan Ridge|  VIC|    3719|     Female|    1331093|\n",
      "|  Michael Burnett|   89400 Torres Fort|  NSW|    1109|       Male|      80965|\n",
      "|Victoria Gonzalez|68657 Johnson Gle...|  TAS|    7276|     Female|    1226530|\n",
      "|     James Norris|   790 Ramos Landing|  VIC|    3234|Undisclosed|    1390367|\n",
      "+-----------------+--------------------+-----+--------+-----------+-----------+\n",
      "only showing top 20 rows\n",
      "\n"
     ]
    }
   ],
   "source": [
    "tbl_consumer.show()"
   ]
  },
  {
   "cell_type": "markdown",
   "metadata": {},
   "source": [
    "Since Address is not valid it has been dropped"
   ]
  },
  {
   "cell_type": "code",
   "execution_count": 8,
   "metadata": {},
   "outputs": [],
   "source": [
    "tbl_consumer = tbl_consumer.drop(\"address\")"
   ]
  },
  {
   "cell_type": "code",
   "execution_count": 9,
   "metadata": {},
   "outputs": [
    {
     "data": {
      "text/plain": [
       "499999"
      ]
     },
     "execution_count": 9,
     "metadata": {},
     "output_type": "execute_result"
    }
   ],
   "source": [
    "tbl_consumer.count()"
   ]
  },
  {
   "cell_type": "code",
   "execution_count": 10,
   "metadata": {},
   "outputs": [
    {
     "name": "stderr",
     "output_type": "stream",
     "text": [
      "                                                                                \r"
     ]
    },
    {
     "name": "stdout",
     "output_type": "stream",
     "text": [
      "+-----+\n",
      "|state|\n",
      "+-----+\n",
      "|   NT|\n",
      "|  ACT|\n",
      "|   SA|\n",
      "|  TAS|\n",
      "|   WA|\n",
      "|  QLD|\n",
      "|  VIC|\n",
      "|  NSW|\n",
      "+-----+\n",
      "\n",
      "+-----------+\n",
      "|     gender|\n",
      "+-----------+\n",
      "|Undisclosed|\n",
      "|     Female|\n",
      "|       Male|\n",
      "+-----------+\n",
      "\n"
     ]
    }
   ],
   "source": [
    "print(tbl_consumer.select(\"state\").distinct())\n",
    "print(tbl_consumer.select(\"gender\").distinct())"
   ]
  },
  {
   "cell_type": "code",
   "execution_count": 11,
   "metadata": {},
   "outputs": [],
   "source": [
    "tbl_consumer = tbl_consumer.filter(F.col(\"state\").isin([\"NSW\", \"WA\", \"NT\", \"VIC\", \"TAS\", \"QLD\", \"SA\",   \"ACT\"]))"
   ]
  },
  {
   "cell_type": "code",
   "execution_count": 12,
   "metadata": {},
   "outputs": [],
   "source": [
    "tbl_consumer = tbl_consumer.filter(F.col(\"gender\").isin([\"Female\", \"Male\", \"Undisclosed\"]))"
   ]
  },
  {
   "cell_type": "code",
   "execution_count": 13,
   "metadata": {},
   "outputs": [
    {
     "name": "stdout",
     "output_type": "stream",
     "text": [
      "root\n",
      " |-- name: string (nullable = true)\n",
      " |-- state: string (nullable = true)\n",
      " |-- postcode: string (nullable = true)\n",
      " |-- gender: string (nullable = true)\n",
      " |-- consumer_id: string (nullable = true)\n",
      "\n"
     ]
    }
   ],
   "source": [
    "tbl_consumer.printSchema()"
   ]
  },
  {
   "cell_type": "markdown",
   "metadata": {},
   "source": [
    "Check if all postcodes are valid"
   ]
  },
  {
   "cell_type": "code",
   "execution_count": 14,
   "metadata": {},
   "outputs": [
    {
     "name": "stderr",
     "output_type": "stream",
     "text": [
      "                                                                                \r"
     ]
    },
    {
     "data": {
      "text/plain": [
       "499690"
      ]
     },
     "execution_count": 14,
     "metadata": {},
     "output_type": "execute_result"
    }
   ],
   "source": [
    "tbl_consumer.filter(\n",
    "    ((F.col(\"postcode\") >= 1000) & (F.col(\"postcode\") <= 1999)) |  \n",
    "    ((F.col(\"postcode\") >= 2000) & (F.col(\"postcode\") <= 2599)) |\n",
    "    ((F.col(\"postcode\") >= 2619) & (F.col(\"postcode\") <= 2899)) |\n",
    "    ((F.col(\"postcode\") >= 2921) & (F.col(\"postcode\") <= 2999)) |\n",
    "    ((F.col(\"postcode\") >= 200) & (F.col(\"postcode\") <= 299)) |  \n",
    "    ((F.col(\"postcode\") >= 2600) & (F.col(\"postcode\") <= 2618)) |\n",
    "    ((F.col(\"postcode\") >= 2900) & (F.col(\"postcode\") <= 2920)) |\n",
    "    ((F.col(\"postcode\") >= 3000) & (F.col(\"postcode\") <= 3999)) |\n",
    "    ((F.col(\"postcode\") >= 8000) & (F.col(\"postcode\") <= 8999)) |  \n",
    "    ((F.col(\"postcode\") >= 4000) & (F.col(\"postcode\") <= 4999)) |\n",
    "    ((F.col(\"postcode\") >= 9000) & (F.col(\"postcode\") <= 9999)) |  \n",
    "    ((F.col(\"postcode\") >= 5000) & (F.col(\"postcode\") <= 5799)) |\n",
    "    ((F.col(\"postcode\") >= 5800) & (F.col(\"postcode\") <= 5999)) |  \n",
    "    ((F.col(\"postcode\") >= 6000) & (F.col(\"postcode\") <= 6797)) |\n",
    "    ((F.col(\"postcode\") >= 6800) & (F.col(\"postcode\") <= 6999)) |  \n",
    "    ((F.col(\"postcode\") >= 7000) & (F.col(\"postcode\") <= 7799)) |\n",
    "    ((F.col(\"postcode\") >= 7800) & (F.col(\"postcode\") <= 7999)) |  \n",
    "    ((F.col(\"postcode\") >= 800) & (F.col(\"postcode\") <= 899)) |\n",
    "    ((F.col(\"postcode\") >= 900) & (F.col(\"postcode\") <= 999))\n",
    ").count()"
   ]
  },
  {
   "cell_type": "code",
   "execution_count": 15,
   "metadata": {},
   "outputs": [],
   "source": [
    "sdf = tbl_consumer.filter(\n",
    "    ((F.col(\"postcode\") >= 1000) & (F.col(\"postcode\") <= 1999)) |  \n",
    "    ((F.col(\"postcode\") >= 2000) & (F.col(\"postcode\") <= 2599)) |\n",
    "    ((F.col(\"postcode\") >= 2619) & (F.col(\"postcode\") <= 2899)) |\n",
    "    ((F.col(\"postcode\") >= 2921) & (F.col(\"postcode\") <= 2999)) |\n",
    "    ((F.col(\"postcode\") >= 200) & (F.col(\"postcode\") <= 299)) |  \n",
    "    ((F.col(\"postcode\") >= 2600) & (F.col(\"postcode\") <= 2618)) |\n",
    "    ((F.col(\"postcode\") >= 2900) & (F.col(\"postcode\") <= 2920)) |\n",
    "    ((F.col(\"postcode\") >= 3000) & (F.col(\"postcode\") <= 3999)) |\n",
    "    ((F.col(\"postcode\") >= 8000) & (F.col(\"postcode\") <= 8999)) |  \n",
    "    ((F.col(\"postcode\") >= 4000) & (F.col(\"postcode\") <= 4999)) |\n",
    "    ((F.col(\"postcode\") >= 9000) & (F.col(\"postcode\") <= 9999)) |  \n",
    "    ((F.col(\"postcode\") >= 5000) & (F.col(\"postcode\") <= 5799)) |\n",
    "    ((F.col(\"postcode\") >= 5800) & (F.col(\"postcode\") <= 5999)) |  \n",
    "    ((F.col(\"postcode\") >= 6000) & (F.col(\"postcode\") <= 6797)) |\n",
    "    ((F.col(\"postcode\") >= 6800) & (F.col(\"postcode\") <= 6999)) |  \n",
    "    ((F.col(\"postcode\") >= 7000) & (F.col(\"postcode\") <= 7799)) |\n",
    "    ((F.col(\"postcode\") >= 7800) & (F.col(\"postcode\") <= 7999)) |  \n",
    "    ((F.col(\"postcode\") >= 800) & (F.col(\"postcode\") <= 899)) |\n",
    "    ((F.col(\"postcode\") >= 900) & (F.col(\"postcode\") <= 999))\n",
    ")"
   ]
  },
  {
   "cell_type": "code",
   "execution_count": 16,
   "metadata": {},
   "outputs": [
    {
     "data": {
      "text/plain": [
       "499690"
      ]
     },
     "execution_count": 16,
     "metadata": {},
     "output_type": "execute_result"
    }
   ],
   "source": [
    "sdf.count()"
   ]
  },
  {
   "cell_type": "code",
   "execution_count": 17,
   "metadata": {},
   "outputs": [
    {
     "name": "stderr",
     "output_type": "stream",
     "text": [
      "                                                                                \r"
     ]
    },
    {
     "data": {
      "text/html": [
       "<table border='1'>\n",
       "<tr><th>name</th><th>state</th><th>postcode</th><th>gender</th><th>consumer_id</th></tr>\n",
       "<tr><td>Holly Patel</td><td>WA</td><td>6798</td><td>Female</td><td>526854</td></tr>\n",
       "<tr><td>Michelle Morrison</td><td>WA</td><td>6799</td><td>Female</td><td>680827</td></tr>\n",
       "<tr><td>Sarah Underwood</td><td>WA</td><td>6798</td><td>Female</td><td>906266</td></tr>\n",
       "<tr><td>Clifford Roberts</td><td>WA</td><td>6799</td><td>Male</td><td>1191458</td></tr>\n",
       "<tr><td>Heidi Brown</td><td>WA</td><td>6798</td><td>Female</td><td>76750</td></tr>\n",
       "<tr><td>Jorge Bennett</td><td>WA</td><td>6798</td><td>Male</td><td>81388</td></tr>\n",
       "<tr><td>Samuel Porter</td><td>WA</td><td>6799</td><td>Undisclosed</td><td>655248</td></tr>\n",
       "<tr><td>Jason Lane</td><td>WA</td><td>6799</td><td>Male</td><td>911214</td></tr>\n",
       "<tr><td>David Keller</td><td>WA</td><td>6798</td><td>Male</td><td>1267439</td></tr>\n",
       "<tr><td>Jennifer Lopez</td><td>WA</td><td>6798</td><td>Female</td><td>546210</td></tr>\n",
       "<tr><td>Jay Berg</td><td>WA</td><td>6799</td><td>Male</td><td>1459361</td></tr>\n",
       "<tr><td>Anthony Powell</td><td>WA</td><td>6798</td><td>Male</td><td>1058206</td></tr>\n",
       "<tr><td>April Williamson</td><td>WA</td><td>6798</td><td>Female</td><td>524130</td></tr>\n",
       "<tr><td>Lori Quinn</td><td>WA</td><td>6798</td><td>Female</td><td>575478</td></tr>\n",
       "<tr><td>Donna Miller</td><td>WA</td><td>6799</td><td>Female</td><td>951617</td></tr>\n",
       "<tr><td>Kristin Lane</td><td>WA</td><td>6798</td><td>Female</td><td>701397</td></tr>\n",
       "<tr><td>Catherine Cortez</td><td>WA</td><td>6799</td><td>Female</td><td>807196</td></tr>\n",
       "<tr><td>Janice Wilson</td><td>WA</td><td>6798</td><td>Female</td><td>4159</td></tr>\n",
       "<tr><td>Marvin Price</td><td>WA</td><td>6798</td><td>Male</td><td>474426</td></tr>\n",
       "<tr><td>Jake Scott</td><td>WA</td><td>6799</td><td>Male</td><td>29069</td></tr>\n",
       "</table>\n",
       "only showing top 20 rows\n"
      ],
      "text/plain": [
       "+-----------------+-----+--------+-----------+-----------+\n",
       "|             name|state|postcode|     gender|consumer_id|\n",
       "+-----------------+-----+--------+-----------+-----------+\n",
       "|      Holly Patel|   WA|    6798|     Female|     526854|\n",
       "|Michelle Morrison|   WA|    6799|     Female|     680827|\n",
       "|  Sarah Underwood|   WA|    6798|     Female|     906266|\n",
       "| Clifford Roberts|   WA|    6799|       Male|    1191458|\n",
       "|      Heidi Brown|   WA|    6798|     Female|      76750|\n",
       "|    Jorge Bennett|   WA|    6798|       Male|      81388|\n",
       "|    Samuel Porter|   WA|    6799|Undisclosed|     655248|\n",
       "|       Jason Lane|   WA|    6799|       Male|     911214|\n",
       "|     David Keller|   WA|    6798|       Male|    1267439|\n",
       "|   Jennifer Lopez|   WA|    6798|     Female|     546210|\n",
       "|         Jay Berg|   WA|    6799|       Male|    1459361|\n",
       "|   Anthony Powell|   WA|    6798|       Male|    1058206|\n",
       "| April Williamson|   WA|    6798|     Female|     524130|\n",
       "|       Lori Quinn|   WA|    6798|     Female|     575478|\n",
       "|     Donna Miller|   WA|    6799|     Female|     951617|\n",
       "|     Kristin Lane|   WA|    6798|     Female|     701397|\n",
       "| Catherine Cortez|   WA|    6799|     Female|     807196|\n",
       "|    Janice Wilson|   WA|    6798|     Female|       4159|\n",
       "|     Marvin Price|   WA|    6798|       Male|     474426|\n",
       "|       Jake Scott|   WA|    6799|       Male|      29069|\n",
       "+-----------------+-----+--------+-----------+-----------+\n",
       "only showing top 20 rows"
      ]
     },
     "execution_count": 17,
     "metadata": {},
     "output_type": "execute_result"
    }
   ],
   "source": [
    "tbl_consumer.subtract(sdf)"
   ]
  },
  {
   "cell_type": "markdown",
   "metadata": {},
   "source": [
    "All postcodes are considered valid ; even those for sparesely populated islands "
   ]
  },
  {
   "cell_type": "code",
   "execution_count": 18,
   "metadata": {},
   "outputs": [],
   "source": [
    "tbl_consumer = tbl_consumer.withColumn(\"postcode\", tbl_consumer[\"postcode\"].cast(IntegerType()))"
   ]
  },
  {
   "cell_type": "code",
   "execution_count": 19,
   "metadata": {},
   "outputs": [
    {
     "name": "stderr",
     "output_type": "stream",
     "text": [
      "                                                                                \r"
     ]
    },
    {
     "name": "stdout",
     "output_type": "stream",
     "text": [
      "Number of unique consumer_id: 499999\n",
      "Number of counts after preprocessing: 499999\n"
     ]
    }
   ],
   "source": [
    "print(\"Number of unique consumer_id: \"+str(tbl_consumer.select(\"consumer_id\").distinct().count()))\n",
    "print(\"Number of counts after preprocessing: \" + str(tbl_consumer.count()))\n",
    "tbl_consumer = tbl_consumer.withColumnRenamed(\"name\",\"consumer_name\")"
   ]
  },
  {
   "cell_type": "code",
   "execution_count": 20,
   "metadata": {},
   "outputs": [
    {
     "name": "stdout",
     "output_type": "stream",
     "text": [
      "+-----------------+-----+--------+-----------+-----------+\n",
      "|    consumer_name|state|postcode|     gender|consumer_id|\n",
      "+-----------------+-----+--------+-----------+-----------+\n",
      "| Yolanda Williams|   WA|    6935|     Female|    1195503|\n",
      "|       Mary Smith|  NSW|    2782|     Female|     179208|\n",
      "|    Jill Jones MD|   NT|     862|     Female|    1194530|\n",
      "|  Lindsay Jimenez|  NSW|    2780|     Female|     154128|\n",
      "|Rebecca Blanchard|   WA|    6355|     Female|     712975|\n",
      "|    Karen Chapman|  NSW|    2033|     Female|     407340|\n",
      "|     Andrea Jones|  QLD|    4606|     Female|     511685|\n",
      "| Stephen Williams|   WA|    6056|       Male|     448088|\n",
      "|  Stephanie Reyes|  NSW|    2482|     Female|     650435|\n",
      "| Jillian Gonzales|  VIC|    3220|     Female|    1058499|\n",
      "|     Eugene Lucas|  VIC|    3063|Undisclosed|     428325|\n",
      "|    Melissa Jones|   WA|    6743|     Female|    1494640|\n",
      "| Angela Brown PhD|  QLD|    4673|     Female|    1146717|\n",
      "|     Lance Butler|  VIC|    3332|       Male|    1343547|\n",
      "|      Paul Abbott|  QLD|    4512|       Male|    1463076|\n",
      "|       Tracy Hart|  NSW|    2452|       Male|    1356405|\n",
      "|    Alyssa Wilson|  VIC|    3719|     Female|    1331093|\n",
      "|  Michael Burnett|  NSW|    1109|       Male|      80965|\n",
      "|Victoria Gonzalez|  TAS|    7276|     Female|    1226530|\n",
      "|     James Norris|  VIC|    3234|Undisclosed|    1390367|\n",
      "+-----------------+-----+--------+-----------+-----------+\n",
      "only showing top 20 rows\n",
      "\n"
     ]
    }
   ],
   "source": [
    "tbl_consumer.show()"
   ]
  },
  {
   "cell_type": "code",
   "execution_count": 21,
   "metadata": {},
   "outputs": [
    {
     "data": {
      "text/plain": [
       "0"
      ]
     },
     "execution_count": 21,
     "metadata": {},
     "output_type": "execute_result"
    }
   ],
   "source": [
    "tbl_consumer.filter(F.isnull('consumer_name')).count()"
   ]
  },
  {
   "cell_type": "code",
   "execution_count": 22,
   "metadata": {},
   "outputs": [
    {
     "data": {
      "text/plain": [
       "0"
      ]
     },
     "execution_count": 22,
     "metadata": {},
     "output_type": "execute_result"
    }
   ],
   "source": [
    "tbl_consumer.filter(F.isnull('gender')).count()"
   ]
  },
  {
   "cell_type": "code",
   "execution_count": 23,
   "metadata": {},
   "outputs": [
    {
     "data": {
      "text/plain": [
       "0"
      ]
     },
     "execution_count": 23,
     "metadata": {},
     "output_type": "execute_result"
    }
   ],
   "source": [
    "tbl_consumer.filter(F.isnull('postcode')).count()"
   ]
  },
  {
   "cell_type": "code",
   "execution_count": 24,
   "metadata": {},
   "outputs": [
    {
     "data": {
      "text/plain": [
       "0"
      ]
     },
     "execution_count": 24,
     "metadata": {},
     "output_type": "execute_result"
    }
   ],
   "source": [
    "tbl_consumer.filter(F.isnull('consumer_id')).count()"
   ]
  },
  {
   "cell_type": "code",
   "execution_count": 25,
   "metadata": {},
   "outputs": [
    {
     "data": {
      "text/plain": [
       "0"
      ]
     },
     "execution_count": 25,
     "metadata": {},
     "output_type": "execute_result"
    }
   ],
   "source": [
    "tbl_consumer.filter(F.isnull('state')).count()"
   ]
  },
  {
   "cell_type": "markdown",
   "metadata": {},
   "source": [
    "Consumer Details Dataframe Preprocess"
   ]
  },
  {
   "cell_type": "code",
   "execution_count": 26,
   "metadata": {},
   "outputs": [
    {
     "name": "stdout",
     "output_type": "stream",
     "text": [
      "+-------+-----------+\n",
      "|user_id|consumer_id|\n",
      "+-------+-----------+\n",
      "|      1|    1195503|\n",
      "|      2|     179208|\n",
      "|      3|    1194530|\n",
      "|      4|     154128|\n",
      "|      5|     712975|\n",
      "|      6|     407340|\n",
      "|      7|     511685|\n",
      "|      8|     448088|\n",
      "|      9|     650435|\n",
      "|     10|    1058499|\n",
      "|     11|     428325|\n",
      "|     12|    1494640|\n",
      "|     13|    1146717|\n",
      "|     14|    1343547|\n",
      "|     15|    1463076|\n",
      "|     16|    1356405|\n",
      "|     17|    1331093|\n",
      "|     18|      80965|\n",
      "|     19|    1226530|\n",
      "|     20|    1390367|\n",
      "+-------+-----------+\n",
      "only showing top 20 rows\n",
      "\n"
     ]
    }
   ],
   "source": [
    "consumer_details = spark.read.parquet(\".././data/tables/consumer_user_details.parquet\")\n",
    "consumer_details.show()"
   ]
  },
  {
   "cell_type": "code",
   "execution_count": 27,
   "metadata": {},
   "outputs": [
    {
     "name": "stdout",
     "output_type": "stream",
     "text": [
      "root\n",
      " |-- user_id: long (nullable = true)\n",
      " |-- consumer_id: long (nullable = true)\n",
      "\n"
     ]
    }
   ],
   "source": [
    "consumer_details.printSchema()"
   ]
  },
  {
   "cell_type": "markdown",
   "metadata": {},
   "source": [
    "Change user_id and consumer_id to string type "
   ]
  },
  {
   "cell_type": "code",
   "execution_count": 28,
   "metadata": {},
   "outputs": [],
   "source": [
    "consumer_details = consumer_details.withColumn('user_id', F.col('user_id').cast('string'))\n",
    "consumer_details = consumer_details.withColumn('consumer_id', F.col('consumer_id').cast('string'))"
   ]
  },
  {
   "cell_type": "code",
   "execution_count": 29,
   "metadata": {},
   "outputs": [
    {
     "name": "stdout",
     "output_type": "stream",
     "text": [
      "root\n",
      " |-- user_id: string (nullable = true)\n",
      " |-- consumer_id: string (nullable = true)\n",
      "\n"
     ]
    }
   ],
   "source": [
    "consumer_details.printSchema()"
   ]
  },
  {
   "cell_type": "code",
   "execution_count": 30,
   "metadata": {},
   "outputs": [
    {
     "name": "stdout",
     "output_type": "stream",
     "text": [
      "-RECORD 0--------------\n",
      " user_id     | 1       \n",
      " consumer_id | 1195503 \n",
      "only showing top 1 row\n",
      "\n"
     ]
    }
   ],
   "source": [
    "consumer_details.show(1, vertical=True, truncate=False)"
   ]
  },
  {
   "cell_type": "markdown",
   "metadata": {},
   "source": [
    "Look for Dupilcate Values"
   ]
  },
  {
   "cell_type": "code",
   "execution_count": 31,
   "metadata": {},
   "outputs": [
    {
     "data": {
      "text/plain": [
       "499999"
      ]
     },
     "execution_count": 31,
     "metadata": {},
     "output_type": "execute_result"
    }
   ],
   "source": [
    "consumer_details.count()"
   ]
  },
  {
   "cell_type": "code",
   "execution_count": 32,
   "metadata": {},
   "outputs": [
    {
     "data": {
      "text/plain": [
       "499999"
      ]
     },
     "execution_count": 32,
     "metadata": {},
     "output_type": "execute_result"
    }
   ],
   "source": [
    "#consumer_details.dropDuplicates().count()\n",
    "consumer_details.select('user_id').distinct().count()"
   ]
  },
  {
   "cell_type": "code",
   "execution_count": 33,
   "metadata": {},
   "outputs": [
    {
     "data": {
      "text/plain": [
       "499999"
      ]
     },
     "execution_count": 33,
     "metadata": {},
     "output_type": "execute_result"
    }
   ],
   "source": [
    "consumer_details.select('consumer_id').distinct().count()"
   ]
  },
  {
   "cell_type": "markdown",
   "metadata": {},
   "source": [
    "No duplicate values have been found"
   ]
  },
  {
   "cell_type": "markdown",
   "metadata": {},
   "source": [
    "Check for Missing Values "
   ]
  },
  {
   "cell_type": "code",
   "execution_count": 34,
   "metadata": {},
   "outputs": [
    {
     "data": {
      "text/plain": [
       "0"
      ]
     },
     "execution_count": 34,
     "metadata": {},
     "output_type": "execute_result"
    }
   ],
   "source": [
    "consumer_details.filter(F.isnull('consumer_id')).count()\n"
   ]
  },
  {
   "cell_type": "code",
   "execution_count": 35,
   "metadata": {},
   "outputs": [
    {
     "data": {
      "text/plain": [
       "0"
      ]
     },
     "execution_count": 35,
     "metadata": {},
     "output_type": "execute_result"
    }
   ],
   "source": [
    "consumer_details.filter(F.isnan('consumer_id')).count()"
   ]
  },
  {
   "cell_type": "code",
   "execution_count": 36,
   "metadata": {},
   "outputs": [
    {
     "data": {
      "text/plain": [
       "0"
      ]
     },
     "execution_count": 36,
     "metadata": {},
     "output_type": "execute_result"
    }
   ],
   "source": [
    "consumer_details.filter(F.isnull('user_id')).count()"
   ]
  },
  {
   "cell_type": "code",
   "execution_count": 37,
   "metadata": {},
   "outputs": [
    {
     "data": {
      "text/plain": [
       "0"
      ]
     },
     "execution_count": 37,
     "metadata": {},
     "output_type": "execute_result"
    }
   ],
   "source": [
    "consumer_details.filter(F.isnan('user_id')).count()"
   ]
  },
  {
   "cell_type": "code",
   "execution_count": 38,
   "metadata": {},
   "outputs": [
    {
     "name": "stderr",
     "output_type": "stream",
     "text": [
      "                                                                                \r"
     ]
    }
   ],
   "source": [
    "consumer_details.write.mode('overwrite').parquet('.././data/curated/consumer_details')"
   ]
  },
  {
   "cell_type": "code",
   "execution_count": 39,
   "metadata": {},
   "outputs": [
    {
     "name": "stdout",
     "output_type": "stream",
     "text": [
      "+-------+--------------+-----------------+\n",
      "|user_id|order_datetime|fraud_probability|\n",
      "+-------+--------------+-----------------+\n",
      "|   6228|    2021-12-19| 97.6298077657765|\n",
      "|  21419|    2021-12-10|99.24738020302328|\n",
      "|   5606|    2021-10-17|84.05825045251777|\n",
      "|   3101|    2021-04-17|91.42192091901347|\n",
      "|  22239|    2021-10-19|94.70342477508035|\n",
      "|  16556|    2022-02-20|89.65663294494827|\n",
      "|  10278|    2021-09-28|83.59136689427714|\n",
      "|  15790|    2021-12-30|71.77065889280253|\n",
      "|   5233|    2021-08-29|85.87123303878818|\n",
      "|    230|    2021-08-28|86.28328808934151|\n",
      "|  13601|    2021-12-26|83.13696487489679|\n",
      "|   6383|    2021-09-15| 66.2676451623754|\n",
      "|   3513|    2022-02-27|75.16981192247916|\n",
      "|  18658|    2021-10-19|82.98609082999361|\n",
      "|   5965|    2021-11-14|69.37164467869053|\n",
      "|  18714|    2021-11-14|83.78813794627237|\n",
      "|  22957|    2022-02-12|82.79065699075498|\n",
      "|  20118|    2021-09-05|80.34030486265003|\n",
      "|   6436|    2021-12-24|84.81618344606828|\n",
      "|  17900|    2022-02-25|92.73262811161372|\n",
      "+-------+--------------+-----------------+\n",
      "only showing top 20 rows\n",
      "\n"
     ]
    }
   ],
   "source": [
    "consumer_fraud = spark.read.option(\"header\", True).csv(\".././data/tables/consumer_fraud_probability.csv\")\n",
    "consumer_fraud.show()"
   ]
  },
  {
   "cell_type": "code",
   "execution_count": 40,
   "metadata": {},
   "outputs": [
    {
     "name": "stdout",
     "output_type": "stream",
     "text": [
      "root\n",
      " |-- user_id: string (nullable = true)\n",
      " |-- order_datetime: string (nullable = true)\n",
      " |-- fraud_probability: string (nullable = true)\n",
      "\n"
     ]
    }
   ],
   "source": [
    "consumer_fraud.printSchema()"
   ]
  },
  {
   "cell_type": "code",
   "execution_count": 41,
   "metadata": {},
   "outputs": [],
   "source": [
    "consumer_fraud = consumer_fraud.withColumn('order_datetime', F.col('order_datetime').cast(DateType()))"
   ]
  },
  {
   "cell_type": "code",
   "execution_count": 42,
   "metadata": {},
   "outputs": [],
   "source": [
    "consumer_fraud = consumer_fraud.withColumn('fraud_probability', F.col('fraud_probability').cast('double'))"
   ]
  },
  {
   "cell_type": "code",
   "execution_count": 43,
   "metadata": {},
   "outputs": [
    {
     "name": "stdout",
     "output_type": "stream",
     "text": [
      "root\n",
      " |-- user_id: string (nullable = true)\n",
      " |-- order_datetime: date (nullable = true)\n",
      " |-- fraud_probability: double (nullable = true)\n",
      "\n"
     ]
    }
   ],
   "source": [
    "consumer_fraud.printSchema()"
   ]
  },
  {
   "cell_type": "markdown",
   "metadata": {},
   "source": [
    "Check the range for fraude probability"
   ]
  },
  {
   "cell_type": "code",
   "execution_count": 44,
   "metadata": {},
   "outputs": [
    {
     "data": {
      "text/plain": [
       "0"
      ]
     },
     "execution_count": 44,
     "metadata": {},
     "output_type": "execute_result"
    }
   ],
   "source": [
    "consumer_fraud.filter(F.col('fraud_probability') < 0).count()"
   ]
  },
  {
   "cell_type": "code",
   "execution_count": 45,
   "metadata": {},
   "outputs": [
    {
     "data": {
      "text/plain": [
       "0"
      ]
     },
     "execution_count": 45,
     "metadata": {},
     "output_type": "execute_result"
    }
   ],
   "source": [
    "consumer_fraud.filter(F.col('fraud_probability') > 100).count()"
   ]
  },
  {
   "cell_type": "markdown",
   "metadata": {},
   "source": [
    "The ranges of fraud probability lies in the correct range"
   ]
  },
  {
   "cell_type": "markdown",
   "metadata": {},
   "source": [
    "Ensure all user_id's are properly referenced "
   ]
  },
  {
   "cell_type": "code",
   "execution_count": 46,
   "metadata": {},
   "outputs": [],
   "source": [
    "userids = consumer_fraud.select(F.col('user_id')).distinct()"
   ]
  },
  {
   "cell_type": "code",
   "execution_count": 47,
   "metadata": {},
   "outputs": [],
   "source": [
    "userids = userids.toPandas()"
   ]
  },
  {
   "cell_type": "code",
   "execution_count": 48,
   "metadata": {},
   "outputs": [],
   "source": [
    "\n",
    "userids = userids['user_id'].tolist()"
   ]
  },
  {
   "cell_type": "code",
   "execution_count": 49,
   "metadata": {},
   "outputs": [
    {
     "data": {
      "text/plain": [
       "['7252',\n",
       " '1512',\n",
       " '14157',\n",
       " '2294',\n",
       " '9586',\n",
       " '21248',\n",
       " '17401',\n",
       " '16250',\n",
       " '2904',\n",
       " '22596',\n",
       " '9009',\n",
       " '21783',\n",
       " '18574',\n",
       " '18306',\n",
       " '15634',\n",
       " '18556',\n",
       " '21452',\n",
       " '19095',\n",
       " '22254',\n",
       " '14887',\n",
       " '22121',\n",
       " '1159',\n",
       " '6240',\n",
       " '20868',\n",
       " '6194',\n",
       " '22728',\n",
       " '21331',\n",
       " '18726',\n",
       " '21889',\n",
       " '16320',\n",
       " '3606',\n",
       " '829',\n",
       " '14838',\n",
       " '18509',\n",
       " '21249',\n",
       " '7762',\n",
       " '9583',\n",
       " '2069',\n",
       " '20158',\n",
       " '14204',\n",
       " '2088',\n",
       " '15271',\n",
       " '17686',\n",
       " '8304',\n",
       " '21259',\n",
       " '18947',\n",
       " '5645',\n",
       " '21894',\n",
       " '17427',\n",
       " '4937',\n",
       " '296',\n",
       " '14899',\n",
       " '14369',\n",
       " '12529',\n",
       " '23918',\n",
       " '3210',\n",
       " '675',\n",
       " '13192',\n",
       " '17714',\n",
       " '23843',\n",
       " '5325',\n",
       " '10436',\n",
       " '1572',\n",
       " '23097',\n",
       " '15555',\n",
       " '4821',\n",
       " '20512',\n",
       " '4032',\n",
       " '9993',\n",
       " '2162',\n",
       " '19338',\n",
       " '467',\n",
       " '3959',\n",
       " '12847',\n",
       " '11563',\n",
       " '11888',\n",
       " '10096',\n",
       " '18992',\n",
       " '11078',\n",
       " '15269',\n",
       " '1090',\n",
       " '7273',\n",
       " '6731',\n",
       " '6613',\n",
       " '11722',\n",
       " '9030',\n",
       " '23459',\n",
       " '691',\n",
       " '10351',\n",
       " '2136',\n",
       " '18634',\n",
       " '13282',\n",
       " '20219',\n",
       " '23318',\n",
       " '20428',\n",
       " '5925',\n",
       " '853',\n",
       " '14879',\n",
       " '23479',\n",
       " '5067',\n",
       " '19289',\n",
       " '3015',\n",
       " '6558',\n",
       " '16549',\n",
       " '11313',\n",
       " '21515',\n",
       " '4894',\n",
       " '21645',\n",
       " '3650',\n",
       " '15539',\n",
       " '8092',\n",
       " '13985',\n",
       " '17910',\n",
       " '21534',\n",
       " '17757',\n",
       " '9830',\n",
       " '7655',\n",
       " '10272',\n",
       " '2110',\n",
       " '12888',\n",
       " '7743',\n",
       " '12542',\n",
       " '21453',\n",
       " '125',\n",
       " '10338',\n",
       " '9003',\n",
       " '14218',\n",
       " '24078',\n",
       " '3858',\n",
       " '20959',\n",
       " '21535',\n",
       " '19665',\n",
       " '9630',\n",
       " '5149',\n",
       " '11247',\n",
       " '18429',\n",
       " '4838',\n",
       " '9407',\n",
       " '12637',\n",
       " '3826',\n",
       " '19582',\n",
       " '8386',\n",
       " '1669',\n",
       " '9308',\n",
       " '17866',\n",
       " '1394',\n",
       " '2464',\n",
       " '23514',\n",
       " '22542',\n",
       " '7994',\n",
       " '20256',\n",
       " '14974',\n",
       " '1372',\n",
       " '16639',\n",
       " '8965',\n",
       " '7650',\n",
       " '15947',\n",
       " '19989',\n",
       " '5523',\n",
       " '11236',\n",
       " '20141',\n",
       " '3368',\n",
       " '5657',\n",
       " '17835',\n",
       " '9569',\n",
       " '3517',\n",
       " '6366',\n",
       " '10603',\n",
       " '22436',\n",
       " '23113',\n",
       " '20252',\n",
       " '19990',\n",
       " '17551',\n",
       " '23592',\n",
       " '21711',\n",
       " '22130',\n",
       " '7328',\n",
       " '944',\n",
       " '6248',\n",
       " '15448',\n",
       " '18386',\n",
       " '22314',\n",
       " '10250',\n",
       " '18283',\n",
       " '2898',\n",
       " '22629',\n",
       " '14552',\n",
       " '19817',\n",
       " '1265',\n",
       " '5316',\n",
       " '23382',\n",
       " '1808',\n",
       " '11687',\n",
       " '21016',\n",
       " '13170',\n",
       " '7208',\n",
       " '1361',\n",
       " '14455',\n",
       " '16027',\n",
       " '10133',\n",
       " '15041',\n",
       " '23054',\n",
       " '17901',\n",
       " '870',\n",
       " '919',\n",
       " '6848',\n",
       " '13866',\n",
       " '1870',\n",
       " '3526',\n",
       " '17438',\n",
       " '18570',\n",
       " '23889',\n",
       " '7784',\n",
       " '7248',\n",
       " '7487',\n",
       " '12104',\n",
       " '16340',\n",
       " '6900',\n",
       " '19404',\n",
       " '17260',\n",
       " '12204',\n",
       " '2700',\n",
       " '17275',\n",
       " '20546',\n",
       " '13395',\n",
       " '7418',\n",
       " '18276',\n",
       " '12003',\n",
       " '16303',\n",
       " '6903',\n",
       " '5757',\n",
       " '4127',\n",
       " '13660',\n",
       " '11106',\n",
       " '19051',\n",
       " '5044',\n",
       " '2917',\n",
       " '18462',\n",
       " '15273',\n",
       " '8832',\n",
       " '11351',\n",
       " '23462',\n",
       " '10801',\n",
       " '18921',\n",
       " '17024',\n",
       " '10784',\n",
       " '17256',\n",
       " '19390',\n",
       " '23949',\n",
       " '1241',\n",
       " '23236',\n",
       " '18683',\n",
       " '19822',\n",
       " '7263',\n",
       " '12750',\n",
       " '1280',\n",
       " '15478',\n",
       " '11251',\n",
       " '7378',\n",
       " '3836',\n",
       " '23645',\n",
       " '20293',\n",
       " '5913',\n",
       " '2725',\n",
       " '19882',\n",
       " '12811',\n",
       " '6081',\n",
       " '17839',\n",
       " '16619',\n",
       " '7301',\n",
       " '5181',\n",
       " '3200',\n",
       " '23666',\n",
       " '13460',\n",
       " '22529',\n",
       " '23595',\n",
       " '20626',\n",
       " '16413',\n",
       " '17741',\n",
       " '10114',\n",
       " '23565',\n",
       " '13041',\n",
       " '21456',\n",
       " '2530',\n",
       " '14000',\n",
       " '10730',\n",
       " '12164',\n",
       " '18714',\n",
       " '21833',\n",
       " '447',\n",
       " '20244',\n",
       " '3266',\n",
       " '14392',\n",
       " '16683',\n",
       " '2550',\n",
       " '2034',\n",
       " '10616',\n",
       " '20143',\n",
       " '2930',\n",
       " '1953',\n",
       " '9835',\n",
       " '6768',\n",
       " '2888',\n",
       " '6143',\n",
       " '22431',\n",
       " '591',\n",
       " '17947',\n",
       " '12957',\n",
       " '21690',\n",
       " '14340',\n",
       " '4236',\n",
       " '6732',\n",
       " '11711',\n",
       " '20280',\n",
       " '5082',\n",
       " '10993',\n",
       " '2895',\n",
       " '18564',\n",
       " '4249',\n",
       " '16267',\n",
       " '17128',\n",
       " '8409',\n",
       " '13805',\n",
       " '51',\n",
       " '22154',\n",
       " '1903',\n",
       " '9858',\n",
       " '6380',\n",
       " '22335',\n",
       " '14940',\n",
       " '5234',\n",
       " '7616',\n",
       " '22893',\n",
       " '17715',\n",
       " '3249',\n",
       " '20075',\n",
       " '3121',\n",
       " '6252',\n",
       " '12067',\n",
       " '4665',\n",
       " '8153',\n",
       " '5057',\n",
       " '12816',\n",
       " '15176',\n",
       " '19239',\n",
       " '16946',\n",
       " '5297',\n",
       " '7249',\n",
       " '6850',\n",
       " '4583',\n",
       " '21683',\n",
       " '1528',\n",
       " '9622',\n",
       " '20899',\n",
       " '14313',\n",
       " '4988',\n",
       " '23834',\n",
       " '5320',\n",
       " '12710',\n",
       " '14697',\n",
       " '124',\n",
       " '17718',\n",
       " '9196',\n",
       " '6820',\n",
       " '6106',\n",
       " '3652',\n",
       " '14963',\n",
       " '11902',\n",
       " '16253',\n",
       " '17886',\n",
       " '8258',\n",
       " '13027',\n",
       " '4276',\n",
       " '13133',\n",
       " '22077',\n",
       " '7054',\n",
       " '12223',\n",
       " '17660',\n",
       " '9544',\n",
       " '14649',\n",
       " '6227',\n",
       " '11878',\n",
       " '13025',\n",
       " '21556',\n",
       " '22107',\n",
       " '3312',\n",
       " '21086',\n",
       " '15433',\n",
       " '18637',\n",
       " '8145',\n",
       " '15277',\n",
       " '22920',\n",
       " '14839',\n",
       " '11177',\n",
       " '22415',\n",
       " '23535',\n",
       " '15829',\n",
       " '3057',\n",
       " '23959',\n",
       " '18106',\n",
       " '14654',\n",
       " '10872',\n",
       " '1695',\n",
       " '16654',\n",
       " '15446',\n",
       " '22919',\n",
       " '17491',\n",
       " '18750',\n",
       " '11002',\n",
       " '3902',\n",
       " '16133',\n",
       " '13180',\n",
       " '8279',\n",
       " '5450',\n",
       " '20723',\n",
       " '18768',\n",
       " '22043',\n",
       " '6758',\n",
       " '8701',\n",
       " '17099',\n",
       " '13700',\n",
       " '613',\n",
       " '18905',\n",
       " '307',\n",
       " '22922',\n",
       " '574',\n",
       " '18012',\n",
       " '10805',\n",
       " '17583',\n",
       " '13655',\n",
       " '10417',\n",
       " '4262',\n",
       " '3895',\n",
       " '13337',\n",
       " '15553',\n",
       " '7013',\n",
       " '20183',\n",
       " '12860',\n",
       " '16273',\n",
       " '9109',\n",
       " '20881',\n",
       " '10668',\n",
       " '1500',\n",
       " '13429',\n",
       " '11137',\n",
       " '3898',\n",
       " '21117',\n",
       " '8502',\n",
       " '13906',\n",
       " '11847',\n",
       " '22652',\n",
       " '17274',\n",
       " '5986',\n",
       " '10195',\n",
       " '7541',\n",
       " '15515',\n",
       " '17375',\n",
       " '10481',\n",
       " '16798',\n",
       " '1445',\n",
       " '20856',\n",
       " '20098',\n",
       " '18925',\n",
       " '9686',\n",
       " '9911',\n",
       " '14861',\n",
       " '11992',\n",
       " '11795',\n",
       " '4594',\n",
       " '8179',\n",
       " '1773',\n",
       " '17481',\n",
       " '9043',\n",
       " '1897',\n",
       " '3491',\n",
       " '11218',\n",
       " '475',\n",
       " '18339',\n",
       " '1957',\n",
       " '7544',\n",
       " '6348',\n",
       " '6402',\n",
       " '2161',\n",
       " '13276',\n",
       " '15488',\n",
       " '7574',\n",
       " '21611',\n",
       " '7014',\n",
       " '23947',\n",
       " '17917',\n",
       " '6464',\n",
       " '3993',\n",
       " '21714',\n",
       " '8744',\n",
       " '7093',\n",
       " '20592',\n",
       " '7316',\n",
       " '20435',\n",
       " '7402',\n",
       " '740',\n",
       " '7746',\n",
       " '14361',\n",
       " '14116',\n",
       " '14244',\n",
       " '8183',\n",
       " '6949',\n",
       " '2808',\n",
       " '23328',\n",
       " '16622',\n",
       " '17855',\n",
       " '334',\n",
       " '21748',\n",
       " '22895',\n",
       " '205',\n",
       " '3299',\n",
       " '6217',\n",
       " '4818',\n",
       " '8691',\n",
       " '4672',\n",
       " '577',\n",
       " '23468',\n",
       " '14443',\n",
       " '16031',\n",
       " '5071',\n",
       " '12789',\n",
       " '22049',\n",
       " '18613',\n",
       " '5434',\n",
       " '1706',\n",
       " '5085',\n",
       " '5543',\n",
       " '14986',\n",
       " '6687',\n",
       " '581',\n",
       " '19568',\n",
       " '12508',\n",
       " '3786',\n",
       " '2129',\n",
       " '169',\n",
       " '4690',\n",
       " '9296',\n",
       " '1425',\n",
       " '10452',\n",
       " '14267',\n",
       " '7829',\n",
       " '20714',\n",
       " '3553',\n",
       " '6278',\n",
       " '21584',\n",
       " '3241',\n",
       " '9417',\n",
       " '17570',\n",
       " '2477',\n",
       " '21498',\n",
       " '22508',\n",
       " '19877',\n",
       " '3179',\n",
       " '9314',\n",
       " '2915',\n",
       " '19985',\n",
       " '22875',\n",
       " '11510',\n",
       " '544',\n",
       " '1043',\n",
       " '12024',\n",
       " '14353',\n",
       " '18991',\n",
       " '17100',\n",
       " '15343',\n",
       " '14432',\n",
       " '12386',\n",
       " '1880',\n",
       " '6264',\n",
       " '18161',\n",
       " '2644',\n",
       " '23171',\n",
       " '12043',\n",
       " '9980',\n",
       " '3848',\n",
       " '4465',\n",
       " '4782',\n",
       " '14164',\n",
       " '18533',\n",
       " '7364',\n",
       " '23250',\n",
       " '13571',\n",
       " '8680',\n",
       " '5291',\n",
       " '16131',\n",
       " '17507',\n",
       " '1987',\n",
       " '15107',\n",
       " '19353',\n",
       " '23728',\n",
       " '11463',\n",
       " '6605',\n",
       " '2402',\n",
       " '15103',\n",
       " '6209',\n",
       " '12531',\n",
       " '13851',\n",
       " '22800',\n",
       " '21951',\n",
       " '11592',\n",
       " '975',\n",
       " '462',\n",
       " '14114',\n",
       " '1418',\n",
       " '11929',\n",
       " '2948',\n",
       " '10487',\n",
       " '23928',\n",
       " '17946',\n",
       " '8370',\n",
       " '19225',\n",
       " '14701',\n",
       " '1104',\n",
       " '9067',\n",
       " '4333',\n",
       " '1349',\n",
       " '7689',\n",
       " '20372',\n",
       " '18746',\n",
       " '11965',\n",
       " '2249',\n",
       " '4934',\n",
       " '13406',\n",
       " '2200',\n",
       " '19360',\n",
       " '14618',\n",
       " '3408',\n",
       " '23749',\n",
       " '13030',\n",
       " '13051',\n",
       " '13352',\n",
       " '3250',\n",
       " '13451',\n",
       " '7015',\n",
       " '8699',\n",
       " '19717',\n",
       " '711',\n",
       " '14896',\n",
       " '9440',\n",
       " '10856',\n",
       " '15114',\n",
       " '23895',\n",
       " '4078',\n",
       " '7353',\n",
       " '18454',\n",
       " '2718',\n",
       " '17211',\n",
       " '9024',\n",
       " '22022',\n",
       " '4685',\n",
       " '15845',\n",
       " '23934',\n",
       " '23245',\n",
       " '21484',\n",
       " '3641',\n",
       " '13929',\n",
       " '470',\n",
       " '11600',\n",
       " '15203',\n",
       " '9361',\n",
       " '7121',\n",
       " '5104',\n",
       " '4315',\n",
       " '17348',\n",
       " '4408',\n",
       " '8824',\n",
       " '3365',\n",
       " '272',\n",
       " '9654',\n",
       " '7685',\n",
       " '12643',\n",
       " '18223',\n",
       " '15409',\n",
       " '12138',\n",
       " '5321',\n",
       " '5498',\n",
       " '19269',\n",
       " '22543',\n",
       " '13512',\n",
       " '17033',\n",
       " '24071',\n",
       " '2980',\n",
       " '20096',\n",
       " '11058',\n",
       " '14991',\n",
       " '2964',\n",
       " '11578',\n",
       " '12437',\n",
       " '6958',\n",
       " '20058',\n",
       " '10260',\n",
       " '10365',\n",
       " '6212',\n",
       " '6883',\n",
       " '11966',\n",
       " '21745',\n",
       " '18423',\n",
       " '9656',\n",
       " '647',\n",
       " '20433',\n",
       " '21247',\n",
       " '1485',\n",
       " '2531',\n",
       " '15972',\n",
       " '20387',\n",
       " '10512',\n",
       " '16085',\n",
       " '22014',\n",
       " '5855',\n",
       " '16510',\n",
       " '4789',\n",
       " '3280',\n",
       " '6612',\n",
       " '5079',\n",
       " '8483',\n",
       " '11863',\n",
       " '21181',\n",
       " '2729',\n",
       " '23111',\n",
       " '22482',\n",
       " '1765',\n",
       " '2144',\n",
       " '16194',\n",
       " '20020',\n",
       " '4415',\n",
       " '18504',\n",
       " '1435',\n",
       " '13889',\n",
       " '5170',\n",
       " '15412',\n",
       " '383',\n",
       " '8931',\n",
       " '6069',\n",
       " '2341',\n",
       " '1305',\n",
       " '23831',\n",
       " '232',\n",
       " '1686',\n",
       " '3953',\n",
       " '21107',\n",
       " '14659',\n",
       " '19249',\n",
       " '14331',\n",
       " '23930',\n",
       " '13636',\n",
       " '19442',\n",
       " '12880',\n",
       " '15',\n",
       " '19085',\n",
       " '282',\n",
       " '10484',\n",
       " '1008',\n",
       " '2605',\n",
       " '19866',\n",
       " '20064',\n",
       " '12215',\n",
       " '3089',\n",
       " '11150',\n",
       " '10346',\n",
       " '16251',\n",
       " '24035',\n",
       " '18577',\n",
       " '11945',\n",
       " '12081',\n",
       " '15868',\n",
       " '14613',\n",
       " '20232',\n",
       " '12937',\n",
       " '7256',\n",
       " '5306',\n",
       " '3819',\n",
       " '16980',\n",
       " '13116',\n",
       " '10563',\n",
       " '7434',\n",
       " '14958',\n",
       " '448',\n",
       " '8682',\n",
       " '16597',\n",
       " '23371',\n",
       " '6333',\n",
       " '54',\n",
       " '10228',\n",
       " '10676',\n",
       " '20776',\n",
       " '4856',\n",
       " '9441',\n",
       " '14672',\n",
       " '23112',\n",
       " '13065',\n",
       " '5412',\n",
       " '19005',\n",
       " '3661',\n",
       " '21021',\n",
       " '18913',\n",
       " '13520',\n",
       " '12881',\n",
       " '21408',\n",
       " '17294',\n",
       " '21159',\n",
       " '15100',\n",
       " '10407',\n",
       " '16255',\n",
       " '10557',\n",
       " '7953',\n",
       " '6091',\n",
       " '12498',\n",
       " '22633',\n",
       " '2720',\n",
       " '16668',\n",
       " '13328',\n",
       " '18312',\n",
       " '700',\n",
       " '19896',\n",
       " '18619',\n",
       " '12680',\n",
       " '3454',\n",
       " '21221',\n",
       " '14232',\n",
       " '17303',\n",
       " '1487',\n",
       " '9016',\n",
       " '5859',\n",
       " '19358',\n",
       " '5041',\n",
       " '22375',\n",
       " '18808',\n",
       " '12763',\n",
       " '13563',\n",
       " '15348',\n",
       " '10687',\n",
       " '4205',\n",
       " '155',\n",
       " '1207',\n",
       " '4730',\n",
       " '8424',\n",
       " '23496',\n",
       " '19170',\n",
       " '4066',\n",
       " '10169',\n",
       " '22698',\n",
       " '19777',\n",
       " '23080',\n",
       " '6952',\n",
       " '8173',\n",
       " '20349',\n",
       " '8089',\n",
       " '11749',\n",
       " '20675',\n",
       " '2988',\n",
       " '12420',\n",
       " '3863',\n",
       " '15874',\n",
       " '18607',\n",
       " '1791',\n",
       " '17067',\n",
       " '886',\n",
       " '18258',\n",
       " '5799',\n",
       " '5179',\n",
       " '12850',\n",
       " '12296',\n",
       " '7791',\n",
       " '483',\n",
       " '5497',\n",
       " '2436',\n",
       " '13687',\n",
       " '1936',\n",
       " '11588',\n",
       " '23679',\n",
       " '635',\n",
       " '23969',\n",
       " '21283',\n",
       " '862',\n",
       " '9618',\n",
       " '5352',\n",
       " '3145',\n",
       " '11537',\n",
       " '20243',\n",
       " '8547',\n",
       " '8432',\n",
       " '3996',\n",
       " '8229',\n",
       " '17179',\n",
       " '19250',\n",
       " '1412',\n",
       " '18715',\n",
       " '18936',\n",
       " '1304',\n",
       " '10433',\n",
       " '14460',\n",
       " '20294',\n",
       " '6609',\n",
       " '19857',\n",
       " '11048',\n",
       " '5096',\n",
       " '17623',\n",
       " '19811',\n",
       " '21646',\n",
       " '15801',\n",
       " '9472',\n",
       " '18669',\n",
       " '2415',\n",
       " '12408',\n",
       " '12192',\n",
       " '10891',\n",
       " '10628',\n",
       " '23821',\n",
       " '6875',\n",
       " '6423',\n",
       " '2016',\n",
       " '1158',\n",
       " '2812',\n",
       " '17160',\n",
       " '15014',\n",
       " '13126',\n",
       " '19916',\n",
       " '11393',\n",
       " '17014',\n",
       " '11428',\n",
       " '12195',\n",
       " '11245',\n",
       " '11376',\n",
       " '1496',\n",
       " '13367',\n",
       " '22923',\n",
       " '8975',\n",
       " '18059',\n",
       " '5965',\n",
       " '19869',\n",
       " '12838',\n",
       " '3740',\n",
       " '3781',\n",
       " '18539',\n",
       " '21430',\n",
       " '12778',\n",
       " '23065',\n",
       " '18111',\n",
       " '15899',\n",
       " '21401',\n",
       " '16735',\n",
       " '21612',\n",
       " '17423',\n",
       " '21045',\n",
       " '3808',\n",
       " '7621',\n",
       " '6388',\n",
       " '5829',\n",
       " '4403',\n",
       " '714',\n",
       " '6300',\n",
       " '22249',\n",
       " '6019',\n",
       " '5802',\n",
       " '317',\n",
       " '4884',\n",
       " '23819',\n",
       " '11718',\n",
       " '22821',\n",
       " '5656',\n",
       " '10088',\n",
       " '11237',\n",
       " '727',\n",
       " '20764',\n",
       " '6460',\n",
       " '3490',\n",
       " '15331',\n",
       " '22434',\n",
       " '14872',\n",
       " '10710',\n",
       " '22526',\n",
       " '14387',\n",
       " '9201',\n",
       " '16561',\n",
       " '3967',\n",
       " '6121',\n",
       " '4369',\n",
       " '7625',\n",
       " '5732',\n",
       " '7521',\n",
       " '19844',\n",
       " '9687',\n",
       " '23486',\n",
       " '154',\n",
       " '23383',\n",
       " '8421',\n",
       " '11280',\n",
       " '13735',\n",
       " '4165',\n",
       " '3140',\n",
       " '3711',\n",
       " '8714',\n",
       " '20722',\n",
       " '15492',\n",
       " '16705',\n",
       " '19214',\n",
       " ...]"
      ]
     },
     "execution_count": 49,
     "metadata": {},
     "output_type": "execute_result"
    }
   ],
   "source": [
    "userids"
   ]
  },
  {
   "cell_type": "code",
   "execution_count": 50,
   "metadata": {},
   "outputs": [],
   "source": [
    "detailsuserid = consumer_details.select(F.col('user_id')).distinct()\n",
    "detailsuserid = detailsuserid.toPandas()\n",
    "detailsuserid = detailsuserid['user_id'].tolist()"
   ]
  },
  {
   "cell_type": "code",
   "execution_count": 51,
   "metadata": {},
   "outputs": [
    {
     "name": "stdout",
     "output_type": "stream",
     "text": [
      "0\n"
     ]
    }
   ],
   "source": [
    "print(len(set(userids).difference(detailsuserid)))"
   ]
  },
  {
   "cell_type": "code",
   "execution_count": 52,
   "metadata": {},
   "outputs": [],
   "source": [
    "consumersusers = tbl_consumer.select(F.col('consumer_id')).distinct()\n",
    "consumersusers = consumersusers.toPandas()\n",
    "consumersusers = consumersusers['consumer_id'].tolist()"
   ]
  },
  {
   "cell_type": "code",
   "execution_count": 53,
   "metadata": {},
   "outputs": [],
   "source": [
    "detailsconid = consumer_details.select(F.col('consumer_id')).distinct()\n",
    "detailsconid = detailsconid.toPandas()\n",
    "detailsconid = detailsconid['consumer_id'].tolist()"
   ]
  },
  {
   "cell_type": "code",
   "execution_count": 54,
   "metadata": {},
   "outputs": [
    {
     "name": "stdout",
     "output_type": "stream",
     "text": [
      "0\n"
     ]
    }
   ],
   "source": [
    "print(len(set(detailsconid).difference(consumersusers)))"
   ]
  },
  {
   "cell_type": "code",
   "execution_count": 55,
   "metadata": {},
   "outputs": [],
   "source": [
    "consumer_details.write.mode('overwrite').parquet('.././data/curated/consumer_details')"
   ]
  },
  {
   "cell_type": "code",
   "execution_count": 56,
   "metadata": {},
   "outputs": [
    {
     "name": "stderr",
     "output_type": "stream",
     "text": [
      "                                                                                \r"
     ]
    }
   ],
   "source": [
    "tbl_consumer.write.mode('overwrite').parquet('.././data/curated/tbl_consumer')"
   ]
  },
  {
   "cell_type": "code",
   "execution_count": 57,
   "metadata": {},
   "outputs": [
    {
     "name": "stdout",
     "output_type": "stream",
     "text": [
      "+--------------+-----+--------+------+-----------+\n",
      "| consumer_name|state|postcode|gender|consumer_id|\n",
      "+--------------+-----+--------+------+-----------+\n",
      "|Anthony Powell|   WA|    6798|  Male|    1058206|\n",
      "+--------------+-----+--------+------+-----------+\n",
      "\n"
     ]
    }
   ],
   "source": [
    "tbl_consumer.filter(F.col('consumer_id') == '1058206').show()"
   ]
  },
  {
   "cell_type": "code",
   "execution_count": 58,
   "metadata": {},
   "outputs": [
    {
     "name": "stdout",
     "output_type": "stream",
     "text": [
      "+-------+-----------+\n",
      "|user_id|consumer_id|\n",
      "+-------+-----------+\n",
      "|      1|    1195503|\n",
      "|      2|     179208|\n",
      "|      3|    1194530|\n",
      "|      4|     154128|\n",
      "|      5|     712975|\n",
      "|      6|     407340|\n",
      "|      7|     511685|\n",
      "|      8|     448088|\n",
      "|      9|     650435|\n",
      "|     10|    1058499|\n",
      "|     11|     428325|\n",
      "|     12|    1494640|\n",
      "|     13|    1146717|\n",
      "|     14|    1343547|\n",
      "|     15|    1463076|\n",
      "|     16|    1356405|\n",
      "|     17|    1331093|\n",
      "|     18|      80965|\n",
      "|     19|    1226530|\n",
      "|     20|    1390367|\n",
      "+-------+-----------+\n",
      "only showing top 20 rows\n",
      "\n"
     ]
    }
   ],
   "source": [
    "consumer_details.show()"
   ]
  },
  {
   "cell_type": "code",
   "execution_count": 59,
   "metadata": {},
   "outputs": [
    {
     "name": "stdout",
     "output_type": "stream",
     "text": [
      "+-------+-----------+\n",
      "|user_id|consumer_id|\n",
      "+-------+-----------+\n",
      "|   1681|     546210|\n",
      "+-------+-----------+\n",
      "\n"
     ]
    }
   ],
   "source": [
    "consumer_details.filter(F.col('consumer_id') == '546210').show()"
   ]
  },
  {
   "cell_type": "markdown",
   "metadata": {},
   "source": [
    "There are no additional user_id's that have not been referenced "
   ]
  },
  {
   "cell_type": "code",
   "execution_count": 60,
   "metadata": {},
   "outputs": [],
   "source": [
    "consumer_fraud.write.mode('overwrite').parquet('.././data/curated/consumer_fraud')"
   ]
  }
 ],
 "metadata": {
  "kernelspec": {
   "display_name": "Python 3",
   "language": "python",
   "name": "python3"
  },
  "language_info": {
   "codemirror_mode": {
    "name": "ipython",
    "version": 3
   },
   "file_extension": ".py",
   "mimetype": "text/x-python",
   "name": "python",
   "nbconvert_exporter": "python",
   "pygments_lexer": "ipython3",
   "version": "3.10.12"
  }
 },
 "nbformat": 4,
 "nbformat_minor": 2
}
