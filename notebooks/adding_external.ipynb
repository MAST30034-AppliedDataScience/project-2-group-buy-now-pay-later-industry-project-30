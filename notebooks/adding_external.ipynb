{
 "cells": [
  {
   "cell_type": "markdown",
   "metadata": {},
   "source": [
    "# Add External Data to Transaction Data "
   ]
  },
  {
   "cell_type": "code",
   "execution_count": 1,
   "metadata": {},
   "outputs": [],
   "source": [
    "import pandas as pd\n",
    "import numpy as np\n",
    "import geopandas as gpd\n",
    "import os\n",
    "import re\n",
    "import glob\n",
    "import math\n",
    "import matplotlib.pyplot as plt\n",
    "from pyspark.sql import functions as F\n",
    "from pyspark.sql import SparkSession\n",
    "from pyspark.sql.types import StructType, StructField, StringType, LongType, IntegerType, DoubleType\n",
    "from datetime import datetime, timedelta"
   ]
  },
  {
   "cell_type": "code",
   "execution_count": 2,
   "metadata": {},
   "outputs": [
    {
     "name": "stderr",
     "output_type": "stream",
     "text": [
      "24/10/18 21:32:29 WARN Utils: Your hostname, Alans-MacBook-Air-4.local resolves to a loopback address: 127.0.0.1; using 192.168.0.52 instead (on interface en0)\n",
      "24/10/18 21:32:29 WARN Utils: Set SPARK_LOCAL_IP if you need to bind to another address\n",
      "Setting default log level to \"WARN\".\n",
      "To adjust logging level use sc.setLogLevel(newLevel). For SparkR, use setLogLevel(newLevel).\n",
      "24/10/18 21:32:31 WARN NativeCodeLoader: Unable to load native-hadoop library for your platform... using builtin-java classes where applicable\n",
      "24/10/18 21:32:32 WARN Utils: Service 'SparkUI' could not bind on port 4040. Attempting port 4041.\n"
     ]
    }
   ],
   "source": [
    "spark = (\n",
    "    SparkSession.builder.appName('Specific Analysis')\n",
    "    .config(\"spark.sql.repl.eagerEval.enabled\", True)\n",
    "    .config(\"spark.sql.parquet.cacheMetadata\", \"true\")\n",
    "    .config(\"spark.sql.session.timeZone\", \"Etc/UTC\")\n",
    "    .config('spark.driver.memory', '4g')\n",
    "    .config('spark.executor.memory', '2g')\n",
    "    .getOrCreate()\n",
    ")"
   ]
  },
  {
   "cell_type": "code",
   "execution_count": 3,
   "metadata": {},
   "outputs": [
    {
     "name": "stderr",
     "output_type": "stream",
     "text": [
      "                                                                                \r"
     ]
    }
   ],
   "source": [
    "consumer_details = spark.read.parquet(\".././data/curated/consumer_details\")\n",
    "transactions = spark.read.parquet(\".././data/curated/total_transactions\")\n",
    "merchant_fraud = spark.read.parquet(\".././data/curated/merchant_fraud\")\n",
    "tbl_consumer = spark.read.parquet(\".././data/curated/tbl_consumer\")\n",
    "tbl_merchant = spark.read.parquet(\".././data/curated/tbl_merchants\")"
   ]
  },
  {
   "cell_type": "code",
   "execution_count": 4,
   "metadata": {},
   "outputs": [
    {
     "name": "stderr",
     "output_type": "stream",
     "text": [
      "                                                                                \r"
     ]
    },
    {
     "name": "stdout",
     "output_type": "stream",
     "text": [
      "+--------------------+------------+--------------------+----+---------+\n",
      "|       merchant_name|merchant_abn|                tags|type|take_rate|\n",
      "+--------------------+------------+--------------------+----+---------+\n",
      "|       Felis Limited| 10023283211|furniture, home f...|   e|     0.18|\n",
      "|Arcu Ac Orci Corp...| 10142254217|cable, satellite,...|   b|     4.22|\n",
      "|    Nunc Sed Company| 10165489824|jewelry, watch, c...|   b|      4.4|\n",
      "|Ultricies Digniss...| 10187291046|watch, clock, jew...|   b|     3.29|\n",
      "| Enim Condimentum PC| 10192359162|music, musical in...|   a|     6.33|\n",
      "|       Fusce Company| 10206519221|gift, card, novel...|   a|     6.34|\n",
      "|Aliquam Enim Inco...| 10255988167|computers, comput...|   b|     4.32|\n",
      "|    Ipsum Primis Ltd| 10264435225|watch, clock, jew...|   c|     2.39|\n",
      "|Pede Ultrices Ind...| 10279061213|computer programm...|   a|     5.71|\n",
      "|           Nunc Inc.| 10323485998|furniture, home f...|   a|     6.61|\n",
      "|Facilisis Facilis...| 10342410215|computers, comput...|   a|     6.34|\n",
      "|      Odio Institute| 10346855916|equipment, tool, ...|   b|     3.57|\n",
      "|    Rutrum Justo Ltd| 10364012396|music, musical in...|   b|     3.63|\n",
      "|   Tellus Foundation| 10385011947|artist supply, craft|   b|     3.17|\n",
      "|      Sed Et Company| 10385163239|florists supplies...|   a|     6.61|\n",
      "|              Id Ltd| 10385250025|computers, comput...|   a|     5.54|\n",
      "|Consequat Foundation| 10404542215|antique, repairs,...|   a|     6.93|\n",
      "|Sit Amet Nulla Corp.| 10430380319|motor vehicle sup...|   b|     4.97|\n",
      "|Massa Vestibulum ...| 10441711491|motor vehicle sup...|   a|     5.77|\n",
      "|       Ut Consulting| 10462560289|gift, card, novel...|   c|     2.95|\n",
      "+--------------------+------------+--------------------+----+---------+\n",
      "only showing top 20 rows\n",
      "\n"
     ]
    }
   ],
   "source": [
    "tbl_merchant.show()"
   ]
  },
  {
   "cell_type": "code",
   "execution_count": 5,
   "metadata": {},
   "outputs": [],
   "source": [
    "consumer_fraud = spark.read.parquet(\".././data/curated/consumer_fraud\")"
   ]
  },
  {
   "cell_type": "code",
   "execution_count": 6,
   "metadata": {},
   "outputs": [
    {
     "name": "stdout",
     "output_type": "stream",
     "text": [
      "+-------+--------------+-----------------+\n",
      "|user_id|order_datetime|fraud_probability|\n",
      "+-------+--------------+-----------------+\n",
      "|   6228|    2021-12-19| 97.6298077657765|\n",
      "|  21419|    2021-12-10|99.24738020302328|\n",
      "|   5606|    2021-10-17|84.05825045251777|\n",
      "|   3101|    2021-04-17|91.42192091901347|\n",
      "|  22239|    2021-10-19|94.70342477508035|\n",
      "|  16556|    2022-02-20|89.65663294494827|\n",
      "|  10278|    2021-09-28|83.59136689427714|\n",
      "|  15790|    2021-12-30|71.77065889280253|\n",
      "|   5233|    2021-08-29|85.87123303878818|\n",
      "|    230|    2021-08-28|86.28328808934151|\n",
      "|  13601|    2021-12-26|83.13696487489679|\n",
      "|   6383|    2021-09-15| 66.2676451623754|\n",
      "|   3513|    2022-02-27|75.16981192247916|\n",
      "|  18658|    2021-10-19|82.98609082999361|\n",
      "|   5965|    2021-11-14|69.37164467869053|\n",
      "|  18714|    2021-11-14|83.78813794627237|\n",
      "|  22957|    2022-02-12|82.79065699075498|\n",
      "|  20118|    2021-09-05|80.34030486265003|\n",
      "|   6436|    2021-12-24|84.81618344606828|\n",
      "|  17900|    2022-02-25|92.73262811161372|\n",
      "+-------+--------------+-----------------+\n",
      "only showing top 20 rows\n",
      "\n"
     ]
    }
   ],
   "source": [
    "consumer_fraud.show()"
   ]
  },
  {
   "cell_type": "code",
   "execution_count": 7,
   "metadata": {},
   "outputs": [],
   "source": [
    "merchant_fraud = merchant_fraud.withColumnRenamed('fraud_probability', 'merchant_fraud_probability')"
   ]
  },
  {
   "cell_type": "code",
   "execution_count": 8,
   "metadata": {},
   "outputs": [
    {
     "name": "stdout",
     "output_type": "stream",
     "text": [
      "root\n",
      " |-- merchant_name: string (nullable = true)\n",
      " |-- merchant_abn: string (nullable = true)\n",
      " |-- tags: string (nullable = true)\n",
      " |-- type: string (nullable = true)\n",
      " |-- take_rate: double (nullable = true)\n",
      "\n"
     ]
    }
   ],
   "source": [
    "tbl_merchant.printSchema()"
   ]
  },
  {
   "cell_type": "code",
   "execution_count": 9,
   "metadata": {},
   "outputs": [
    {
     "name": "stdout",
     "output_type": "stream",
     "text": [
      "root\n",
      " |-- merchant_abn: string (nullable = true)\n",
      " |-- order_datetime: date (nullable = true)\n",
      " |-- merchant_fraud_probability: string (nullable = true)\n",
      "\n"
     ]
    }
   ],
   "source": [
    "merchant_fraud.printSchema()"
   ]
  },
  {
   "cell_type": "code",
   "execution_count": 10,
   "metadata": {},
   "outputs": [],
   "source": [
    "merchant_fraud = merchant_fraud.withColumn('merchant_fraud_probability', F.col('merchant_fraud_probability').cast(DoubleType()))"
   ]
  },
  {
   "cell_type": "code",
   "execution_count": 11,
   "metadata": {},
   "outputs": [
    {
     "name": "stdout",
     "output_type": "stream",
     "text": [
      "root\n",
      " |-- user_id: string (nullable = true)\n",
      " |-- order_datetime: date (nullable = true)\n",
      " |-- fraud_probability: double (nullable = true)\n",
      "\n"
     ]
    }
   ],
   "source": [
    "consumer_fraud.printSchema()"
   ]
  },
  {
   "cell_type": "code",
   "execution_count": 12,
   "metadata": {},
   "outputs": [
    {
     "name": "stdout",
     "output_type": "stream",
     "text": [
      "root\n",
      " |-- consumer_name: string (nullable = true)\n",
      " |-- state: string (nullable = true)\n",
      " |-- postcode: integer (nullable = true)\n",
      " |-- gender: string (nullable = true)\n",
      " |-- consumer_id: string (nullable = true)\n",
      "\n"
     ]
    }
   ],
   "source": [
    "tbl_consumer.printSchema()"
   ]
  },
  {
   "cell_type": "code",
   "execution_count": 13,
   "metadata": {},
   "outputs": [
    {
     "name": "stdout",
     "output_type": "stream",
     "text": [
      "root\n",
      " |-- user_id: string (nullable = true)\n",
      " |-- merchant_abn: string (nullable = true)\n",
      " |-- dollar_value: double (nullable = true)\n",
      " |-- order_id: string (nullable = true)\n",
      " |-- order_datetime: date (nullable = true)\n",
      "\n"
     ]
    }
   ],
   "source": [
    "transactions.printSchema()"
   ]
  },
  {
   "cell_type": "code",
   "execution_count": 14,
   "metadata": {},
   "outputs": [],
   "source": [
    "full_transactions = transactions.join(consumer_details, on=\"user_id\",how=\"left\") \\\n",
    "                   .join(tbl_consumer, on=\"consumer_id\",how=\"left\") \\\n",
    "                   .join(consumer_fraud, on=[\"user_id\", \"order_datetime\"],how=\"left\") \\\n",
    "                   .join(tbl_merchant, on=\"merchant_abn\",how=\"left\") \\\n",
    "                   .join(merchant_fraud, on=[\"order_datetime\", \"merchant_abn\"], how=\"left\")"
   ]
  },
  {
   "cell_type": "code",
   "execution_count": 15,
   "metadata": {},
   "outputs": [
    {
     "name": "stderr",
     "output_type": "stream",
     "text": [
      "                                                                                \r"
     ]
    },
    {
     "name": "stdout",
     "output_type": "stream",
     "text": [
      "+--------------+------------+-------+-----------+------------------+--------------------+------------------+-----+--------+------+-----------------+--------------------+--------------------+----+---------+--------------------------+\n",
      "|order_datetime|merchant_abn|user_id|consumer_id|      dollar_value|            order_id|     consumer_name|state|postcode|gender|fraud_probability|       merchant_name|                tags|type|take_rate|merchant_fraud_probability|\n",
      "+--------------+------------+-------+-----------+------------------+--------------------+------------------+-----+--------+------+-----------------+--------------------+--------------------+----+---------+--------------------------+\n",
      "|    2022-08-25| 63290521567|  11138|     401483|41.239626303220014|09f6132a-a6a8-47a...|   Veronica Nelson|   WA|    6519|Female|             NULL|Vehicula Pellente...|artist supply, craft|   a|     6.48|                      NULL|\n",
      "|    2022-08-25| 63465140133|  22285|     416278| 8.815286645396842|f4fc1a3b-a5b1-4d7...|       Luke Greene|   WA|    6170|  Male|             NULL|  Vitae Odio Limited|digital goods, bo...|   b|     3.68|                      NULL|\n",
      "|    2022-08-25| 21359184622|  11139|     505718| 66.46301590693417|b1a52524-b6e6-42a...|    Monica Garrett|  NSW|    2281|Female|             NULL|         Sit Amet PC|motor vehicle sup...|   b|      3.6|                      NULL|\n",
      "|    2022-08-25| 75034515922|  22285|     416278|19.654995598411727|ba240514-5dea-405...|       Luke Greene|   WA|    6170|  Male|             NULL|   Ac Eleifend Corp.|digital goods, bo...|   a|     6.22|                      NULL|\n",
      "|    2022-08-25| 96334476428|  11140|     813297| 6.383881161736656|3f1c61aa-6b5b-4c8...|Benjamin Schneider|  VIC|    3677|  Male|             NULL|         Sed Est Ltd|            bicycle,|   b|     3.66|                      NULL|\n",
      "|    2022-08-25| 96442520325|  22285|     416278| 91.14307120608396|89e25ac5-7775-4be...|       Luke Greene|   WA|    6170|  Male|             NULL|Nullam Lobortis Q...|computers, comput...|   b|     3.65|                      NULL|\n",
      "|    2022-08-25| 74753274268|  11140|     813297| 1532.603740282265|9764b14c-82ba-498...|Benjamin Schneider|  VIC|    3677|  Male|             NULL|       Duis A Mi LLP|music, musical in...|   b|     3.16|                      NULL|\n",
      "|    2022-08-25| 89107518982|  22288|     530970| 89.41184219239359|b95d447c-a089-4a5...|     Robert Harmon|  NSW|    1044|  Male|             NULL|Adipiscing Lobort...|gift, card, novel...|   b|     3.66|                      NULL|\n",
      "|    2022-08-25| 28896046710|  11140|     813297|   371.95178106226|dd5d2e91-c03b-4f0...|Benjamin Schneider|  VIC|    3677|  Male|             NULL|        Nec Orci Ltd|computers, comput...|   a|     6.75|                      NULL|\n",
      "|    2022-08-25| 86578477987|  22289|     708403| 29.86919166344463|91317698-0a33-468...|    Gary Contreras|   SA|    5049|  Male|             NULL|   Leo In Consulting|watch, clock, jew...|   a|     6.43|                      NULL|\n",
      "|    2022-08-25| 23338656015|  22289|     708403|208.56112392056014|d2f80078-57bf-477...|    Gary Contreras|   SA|    5049|  Male|             NULL|         Iaculis LLC|watch, clock, jew...|   b|     3.25|                      NULL|\n",
      "|    2022-08-25| 71674475255|  11141|    1027466|28.632569840078762|aabf0b5b-4cb2-414...|         Amy Jones|  VIC|    3202|Female|             NULL|  Lacinia Mattis LLC|opticians, optica...|   b|     3.81|                      NULL|\n",
      "|    2022-08-25| 19933438190|  22290|     948149|14.323239293792307|e21d5163-4224-403...|    Stephen Nguyen|   SA|    5139|  Male|             NULL| Dui Nec Corporation|        tent, awning|   c|     2.22|                      NULL|\n",
      "|    2022-08-25| 33495932835|  11141|    1027466| 41.29031713659889|99e70960-fbf4-4c3...|         Amy Jones|  VIC|    3202|Female|             NULL| Vel Arcu Foundation|furniture, home f...|   b|     4.69|                      NULL|\n",
      "|    2022-08-25| 24598653065|  22290|     948149|153.15593430224752|549cba08-9ae5-47b...|    Stephen Nguyen|   SA|    5139|  Male|             NULL|Et Rutrum Foundation|cable, satellite,...|   c|     2.17|                      NULL|\n",
      "|    2022-08-25| 43186523025|  11142|     926065|48.875777274640306|006278ce-6897-484...|     Joseph Bailey|  VIC|    3501|  Male|             NULL|Lorem Ipsum Sodal...|florists supplies...|   b|     4.47|                      NULL|\n",
      "|    2022-08-25| 75089928159|  22293|     969847| 84.36075929447935|aaceca97-402c-4da...|     Eric Odonnell|  QLD|    4861|  Male|             NULL|Porttitor Vulputa...|gift, card, novel...|   c|     1.67|                      NULL|\n",
      "|    2022-08-25| 79283124876|  11142|     926065|243.81248238450115|8e402226-1bde-453...|     Joseph Bailey|  VIC|    3501|  Male|             NULL|Pellentesque Mass...|florists supplies...|   b|     5.03|                      NULL|\n",
      "|    2022-08-25| 63290521567|  22294|     349919| 7.762579944884716|f415da44-ea65-4cb...|  Christina Phelps|  VIC|    3147|Female|             NULL|Vehicula Pellente...|artist supply, craft|   a|     6.48|                      NULL|\n",
      "|    2022-08-25| 49505931725|  11142|     926065| 93.94146089501055|1144ebc2-2998-490...|     Joseph Bailey|  VIC|    3501|  Male|             NULL|Suspendisse Ac As...|digital goods, bo...|   b|      4.7|                      NULL|\n",
      "+--------------+------------+-------+-----------+------------------+--------------------+------------------+-----+--------+------+-----------------+--------------------+--------------------+----+---------+--------------------------+\n",
      "only showing top 20 rows\n",
      "\n"
     ]
    }
   ],
   "source": [
    "full_transactions.show()"
   ]
  },
  {
   "cell_type": "code",
   "execution_count": 16,
   "metadata": {},
   "outputs": [],
   "source": [
    "#full_transactions.write.mode('overwrite').parquet('.././data/curated/full_transactions')"
   ]
  },
  {
   "cell_type": "markdown",
   "metadata": {},
   "source": [
    "Add ShapeFile Information"
   ]
  },
  {
   "cell_type": "code",
   "execution_count": 17,
   "metadata": {},
   "outputs": [
    {
     "name": "stderr",
     "output_type": "stream",
     "text": [
      "/var/folders/xv/sxpnj6zd667gmqqstx378jj80000gn/T/ipykernel_53492/1659376015.py:4: UserWarning: Geometry is in a geographic CRS. Results from 'centroid' are likely incorrect. Use 'GeoSeries.to_crs()' to re-project geometries to a projected CRS before this operation.\n",
      "\n",
      "  postcodes['lon'] = postcodes.geometry.centroid.x\n",
      "/var/folders/xv/sxpnj6zd667gmqqstx378jj80000gn/T/ipykernel_53492/1659376015.py:5: UserWarning: Geometry is in a geographic CRS. Results from 'centroid' are likely incorrect. Use 'GeoSeries.to_crs()' to re-project geometries to a projected CRS before this operation.\n",
      "\n",
      "  postcodes['lat'] = postcodes.geometry.centroid.y\n",
      "                                                                                \r"
     ]
    },
    {
     "name": "stdout",
     "output_type": "stream",
     "text": [
      "+--------+--------------+------------+-------+-----------+------------------+------------------------------------+------------------+-----+------+-----------------+---------------------------------+-----------------------------------------------------+----+---------+--------------------------+----------+--------------+----------------+------------------+-------------------+\n",
      "|postcode|order_datetime|merchant_abn|user_id|consumer_id|dollar_value      |order_id                            |consumer_name     |state|gender|fraud_probability|merchant_name                    |tags                                                 |type|take_rate|merchant_fraud_probability|AREASQKM21|SHAPE_Leng    |SHAPE_Area      |lon               |lat                |\n",
      "+--------+--------------+------------+-------+-----------+------------------+------------------------------------+------------------+-----+------+-----------------+---------------------------------+-----------------------------------------------------+----+---------+--------------------------+----------+--------------+----------------+------------------+-------------------+\n",
      "|6519    |2022-08-25    |63290521567 |11138  |401483     |41.239626303220014|09f6132a-a6a8-47a2-a03e-383ddbf5feaa|Veronica Nelson   |WA   |Female|NULL             |Vehicula Pellentesque Corporation|artist supply, craft                                 |a   |6.48     |NULL                      |2656.6928 |2.5708772467  |0.247235249687  |115.57732627080664|-29.525753922346176|\n",
      "|6170    |2022-08-25    |63465140133 |22285  |416278     |8.815286645396842 |f4fc1a3b-a5b1-4d75-b459-cf9bc12e1347|Luke Greene       |WA   |Male  |NULL             |Vitae Odio Limited               |digital goods, books, movies, music                  |b   |3.68     |NULL                      |25.1197   |0.273815991311|0.00240427992111|115.82983013986298|-32.26676947616427 |\n",
      "|2281    |2022-08-25    |21359184622 |11139  |505718     |66.46301590693417 |b1a52524-b6e6-42a5-9726-687033350acc|Monica Garrett    |NSW  |Female|NULL             |Sit Amet PC                      |motor vehicle supplies, new parts                    |b   |3.6      |NULL                      |30.9078   |0.574920487909|0.00298619538495|151.63053860482896|-33.11936492147126 |\n",
      "|6170    |2022-08-25    |75034515922 |22285  |416278     |19.654995598411727|ba240514-5dea-4059-ac35-5917d4853188|Luke Greene       |WA   |Male  |NULL             |Ac Eleifend Corp.                |digital goods, books, movies, music                  |a   |6.22     |NULL                      |25.1197   |0.273815991311|0.00240427992111|115.82983013986298|-32.26676947616427 |\n",
      "|3677    |2022-08-25    |96334476428 |11140  |813297     |6.383881161736656 |3f1c61aa-6b5b-4c8d-b981-f23029087927|Benjamin Schneider|VIC  |Male  |NULL             |Sed Est Ltd                      |bicycle,                                             |b   |3.66     |NULL                      |48.7989   |0.485028986409|0.00490032322583|146.316005335411  |-36.36938362617703 |\n",
      "|6170    |2022-08-25    |96442520325 |22285  |416278     |91.14307120608396 |89e25ac5-7775-4be8-9c5a-1879387db58b|Luke Greene       |WA   |Male  |NULL             |Nullam Lobortis Quam Company     |computers, computer peripheral equipment, software   |b   |3.65     |NULL                      |25.1197   |0.273815991311|0.00240427992111|115.82983013986298|-32.26676947616427 |\n",
      "|3677    |2022-08-25    |74753274268 |11140  |813297     |1532.603740282265 |9764b14c-82ba-498e-9b95-63b66cff29fe|Benjamin Schneider|VIC  |Male  |NULL             |Duis A Mi LLP                    |music, musical instruments, pianos, sheet music      |b   |3.16     |NULL                      |48.7989   |0.485028986409|0.00490032322583|146.316005335411  |-36.36938362617703 |\n",
      "|3677    |2022-08-25    |28896046710 |11140  |813297     |371.95178106226   |dd5d2e91-c03b-4f0e-b283-764d0ff48d0b|Benjamin Schneider|VIC  |Male  |NULL             |Nec Orci Ltd                     |computers, computer peripheral equipment, software   |a   |6.75     |NULL                      |48.7989   |0.485028986409|0.00490032322583|146.316005335411  |-36.36938362617703 |\n",
      "|5049    |2022-08-25    |86578477987 |22289  |708403     |29.86919166344463 |91317698-0a33-468b-a626-8afb2f14eb23|Gary Contreras    |SA   |Male  |NULL             |Leo In Consulting                |watch, clock, jewelry repair                         |a   |6.43     |NULL                      |9.1543    |0.136127952039|9.04383971909E-4|138.5253254820878 |-35.04458571910915 |\n",
      "|5049    |2022-08-25    |23338656015 |22289  |708403     |208.56112392056014|d2f80078-57bf-4778-b9dd-4ceb0212db16|Gary Contreras    |SA   |Male  |NULL             |Iaculis LLC                      |watch, clock, jewelry repair                         |b   |3.25     |NULL                      |9.1543    |0.136127952039|9.04383971909E-4|138.5253254820878 |-35.04458571910915 |\n",
      "|3202    |2022-08-25    |71674475255 |11141  |1027466    |28.632569840078762|aabf0b5b-4cb2-414c-b2f7-aef45b44233c|Amy Jones         |VIC  |Female|NULL             |Lacinia Mattis LLC               |opticians, optical goods, eyeglasses                 |b   |3.81     |NULL                      |7.1165    |0.124299313525|7.2958124547E-4 |145.09320011027017|-37.9560532414967  |\n",
      "|5139    |2022-08-25    |19933438190 |22290  |948149     |14.323239293792307|e21d5163-4224-403b-8ec6-a3943303000d|Stephen Nguyen    |SA   |Male  |NULL             |Dui Nec Corporation              |tent, awning                                         |c   |2.22     |NULL                      |9.345     |0.188775599849|9.21956074956E-4|138.8008792369133 |-34.92985858149402 |\n",
      "|3202    |2022-08-25    |33495932835 |11141  |1027466    |41.29031713659889 |99e70960-fbf4-4c32-a7ae-f6aefb57c1bb|Amy Jones         |VIC  |Female|NULL             |Vel Arcu Foundation              |furniture, home furnishings, equipment, manufacturers|b   |4.69     |NULL                      |7.1165    |0.124299313525|7.2958124547E-4 |145.09320011027017|-37.9560532414967  |\n",
      "|5139    |2022-08-25    |24598653065 |22290  |948149     |153.15593430224752|549cba08-9ae5-47b8-a787-077b787b0bf5|Stephen Nguyen    |SA   |Male  |NULL             |Et Rutrum Foundation             |cable, satellite, other pay television, radio        |c   |2.17     |NULL                      |9.345     |0.188775599849|9.21956074956E-4|138.8008792369133 |-34.92985858149402 |\n",
      "|3501    |2022-08-25    |43186523025 |11142  |926065     |48.875777274640306|006278ce-6897-4848-abb0-2c47dcc9b718|Joseph Bailey     |VIC  |Male  |NULL             |Lorem Ipsum Sodales Industries   |florists supplies, nursery stock, flowers            |b   |4.47     |NULL                      |1022.8815 |2.8494040059  |0.100586926796  |142.29171160591616|-34.65567436632965 |\n",
      "|4861    |2022-08-25    |75089928159 |22293  |969847     |84.36075929447935 |aaceca97-402c-4dae-8fe8-254a901e71c7|Eric Odonnell     |QLD  |Male  |NULL             |Porttitor Vulputate Limited      |gift, card, novelty, souvenir                        |c   |1.67     |NULL                      |118.9753  |1.0676489509  |0.0101131663581 |145.94365920715651|-17.32760008705828 |\n",
      "|3501    |2022-08-25    |79283124876 |11142  |926065     |243.81248238450115|8e402226-1bde-453a-b15d-3b8d15ade6ac|Joseph Bailey     |VIC  |Male  |NULL             |Pellentesque Massa Associates    |florists supplies, nursery stock, flowers            |b   |5.03     |NULL                      |1022.8815 |2.8494040059  |0.100586926796  |142.29171160591616|-34.65567436632965 |\n",
      "|3147    |2022-08-25    |63290521567 |22294  |349919     |7.762579944884716 |f415da44-ea65-4cb2-82e9-15deb1689080|Christina Phelps  |VIC  |Female|NULL             |Vehicula Pellentesque Corporation|artist supply, craft                                 |a   |6.48     |NULL                      |5.4627    |0.151077508447|5.59351251664E-4|145.09045632274646|-37.86701904495482 |\n",
      "|3501    |2022-08-25    |49505931725 |11142  |926065     |93.94146089501055 |1144ebc2-2998-4909-897d-16496e6c243b|Joseph Bailey     |VIC  |Male  |NULL             |Suspendisse Ac Associates        |digital goods, books, movies, music                  |b   |4.7      |NULL                      |1022.8815 |2.8494040059  |0.100586926796  |142.29171160591616|-34.65567436632965 |\n",
      "|2760    |2022-08-25    |37442271968 |22295  |1310415    |5.647240735643751 |d34d17c2-c8bf-48da-a4de-a6d0317afc4c|Sandra Clark      |NSW  |Female|NULL             |Magna Tellus Faucibus LLP        |watch, clock, jewelry repair                         |a   |6.81     |NULL                      |19.9308   |0.316273505526|0.00193959403316|150.78121557118465|-33.76079362827471 |\n",
      "+--------+--------------+------------+-------+-----------+------------------+------------------------------------+------------------+-----+------+-----------------+---------------------------------+-----------------------------------------------------+----+---------+--------------------------+----------+--------------+----------------+------------------+-------------------+\n",
      "only showing top 20 rows\n",
      "\n"
     ]
    }
   ],
   "source": [
    "postcodes = gpd.read_file(\".././data/landing/POA_2021_AUST_GDA2020_SHP\")\n",
    "postcodes = postcodes.to_crs(epsg='4326')\n",
    "\n",
    "postcodes['lon'] = postcodes.geometry.centroid.x\n",
    "postcodes['lat'] = postcodes.geometry.centroid.y\n",
    "postcodes = postcodes.drop(columns='geometry')\n",
    "postcodes = postcodes.loc[:, ['POA_CODE21', 'AREASQKM21', 'SHAPE_Leng', 'SHAPE_Area', 'lon', 'lat']]\n",
    "postcodes = postcodes.rename(columns={'POA_CODE21': 'postcode'})\n",
    "\n",
    "postcodes = spark.createDataFrame(postcodes)\n",
    "\n",
    "full_transactions = full_transactions.join(postcodes, on='postcode')\n",
    "full_transactions.show(truncate=False)"
   ]
  },
  {
   "cell_type": "markdown",
   "metadata": {},
   "source": [
    "Add Census Data"
   ]
  },
  {
   "cell_type": "code",
   "execution_count": 18,
   "metadata": {},
   "outputs": [
    {
     "name": "stdout",
     "output_type": "stream",
     "text": [
      "+--------+------------------+-------------------------+-------------------------+----------------------+-------+-------+-------+\n",
      "|postcode|Median_age_persons|Median_tot_fam_inc_weekly|Median_tot_hhd_inc_weekly|Average_household_size|Tot_M  |Tot_P  |Tot_F  |\n",
      "+--------+------------------+-------------------------+-------------------------+----------------------+-------+-------+-------+\n",
      "|2000    |32.0              |2367.0                   |2225.0                   |2.1                   |14223.0|27936.0|13713.0|\n",
      "|2007    |30.0              |2197.0                   |1805.0                   |2.1                   |3763.0 |7410.0 |3644.0 |\n",
      "|2008    |28.0              |2453.0                   |1746.0                   |1.9                   |5315.0 |10400.0|5083.0 |\n",
      "|2009    |37.0              |3035.0                   |2422.0                   |2.1                   |6391.0 |12658.0|6267.0 |\n",
      "|2010    |36.0              |3709.0                   |2297.0                   |1.7                   |15356.0|26443.0|11082.0|\n",
      "|2011    |39.0              |3565.0                   |2041.0                   |1.5                   |9758.0 |18187.0|8424.0 |\n",
      "|2015    |34.0              |3514.0                   |2607.0                   |2.1                   |5906.0 |11422.0|5515.0 |\n",
      "|2016    |36.0              |3263.0                   |2145.0                   |1.9                   |7123.0 |13072.0|5943.0 |\n",
      "|2017    |32.0              |2684.0                   |2104.0                   |1.9                   |15333.0|29003.0|13669.0|\n",
      "|2018    |34.0              |2407.0                   |2017.0                   |2.3                   |9958.0 |19878.0|9919.0 |\n",
      "|2019    |36.0              |2834.0                   |2363.0                   |2.6                   |6647.0 |13467.0|6816.0 |\n",
      "|2020    |30.0              |2394.0                   |2254.0                   |2.5                   |11057.0|21591.0|10539.0|\n",
      "|2021    |37.0              |4589.0                   |2823.0                   |2.1                   |7167.0 |14946.0|7776.0 |\n",
      "|2022    |36.0              |3460.0                   |2484.0                   |2.2                   |6547.0 |13509.0|6959.0 |\n",
      "|2023    |39.0              |4509.0                   |3315.0                   |2.5                   |5066.0 |10590.0|5529.0 |\n",
      "|2024    |38.0              |4259.0                   |3197.0                   |2.4                   |5421.0 |11380.0|5961.0 |\n",
      "|2025    |42.0              |4557.0                   |3013.0                   |2.2                   |3220.0 |7189.0 |3966.0 |\n",
      "|2026    |34.0              |3685.0                   |2896.0                   |2.2                   |15997.0|32693.0|16699.0|\n",
      "|2027    |46.0              |4558.0                   |3027.0                   |2.0                   |3580.0 |7810.0 |4230.0 |\n",
      "|2028    |39.0              |4250.0                   |3077.0                   |2.1                   |2114.0 |4709.0 |2598.0 |\n",
      "+--------+------------------+-------------------------+-------------------------+----------------------+-------+-------+-------+\n",
      "only showing top 20 rows\n",
      "\n"
     ]
    },
    {
     "name": "stderr",
     "output_type": "stream",
     "text": [
      "24/10/16 16:37:33 WARN SparkStringUtils: Truncated the string representation of a plan since it was too large. This behavior can be adjusted by setting 'spark.sql.debug.maxToStringFields'.\n"
     ]
    },
    {
     "name": "stdout",
     "output_type": "stream",
     "text": [
      "+--------+--------------+------------+-------+-----------+------------------+------------------------------------+------------------+-----+------+-----------------+---------------------------------+-----------------------------------------------------+----+---------+--------------------------+----------+--------------+----------------+------------------+-------------------+------------------+-------------------------+-------------------------+----------------------+-------+-------+-------+\n",
      "|postcode|order_datetime|merchant_abn|user_id|consumer_id|dollar_value      |order_id                            |consumer_name     |state|gender|fraud_probability|merchant_name                    |tags                                                 |type|take_rate|merchant_fraud_probability|AREASQKM21|SHAPE_Leng    |SHAPE_Area      |lon               |lat                |Median_age_persons|Median_tot_fam_inc_weekly|Median_tot_hhd_inc_weekly|Average_household_size|Tot_M  |Tot_P  |Tot_F  |\n",
      "+--------+--------------+------------+-------+-----------+------------------+------------------------------------+------------------+-----+------+-----------------+---------------------------------+-----------------------------------------------------+----+---------+--------------------------+----------+--------------+----------------+------------------+-------------------+------------------+-------------------------+-------------------------+----------------------+-------+-------+-------+\n",
      "|6519    |2022-08-25    |63290521567 |11138  |401483     |41.239626303220014|09f6132a-a6a8-47a2-a03e-383ddbf5feaa|Veronica Nelson   |WA   |Female|NULL             |Vehicula Pellentesque Corporation|artist supply, craft                                 |a   |6.48     |NULL                      |2656.6928 |2.5708772467  |0.247235249687  |115.57732627080664|-29.525753922346176|42.0              |1696.0                   |1366.0                   |2.3                   |296.0  |575.0  |274.0  |\n",
      "|6170    |2022-08-25    |63465140133 |22285  |416278     |8.815286645396842 |f4fc1a3b-a5b1-4d75-b459-cf9bc12e1347|Luke Greene       |WA   |Male  |NULL             |Vitae Odio Limited               |digital goods, books, movies, music                  |b   |3.68     |NULL                      |25.1197   |0.273815991311|0.00240427992111|115.82983013986298|-32.26676947616427 |31.0              |2153.0                   |2012.0                   |3.0                   |8615.0 |17329.0|8709.0 |\n",
      "|2281    |2022-08-25    |21359184622 |11139  |505718     |66.46301590693417 |b1a52524-b6e6-42a5-9726-687033350acc|Monica Garrett    |NSW  |Female|NULL             |Sit Amet PC                      |motor vehicle supplies, new parts                    |b   |3.6      |NULL                      |30.9078   |0.574920487909|0.00298619538495|151.63053860482896|-33.11936492147126 |49.0              |1825.0                   |1400.0                   |2.4                   |7511.0 |15323.0|7813.0 |\n",
      "|6170    |2022-08-25    |75034515922 |22285  |416278     |19.654995598411727|ba240514-5dea-4059-ac35-5917d4853188|Luke Greene       |WA   |Male  |NULL             |Ac Eleifend Corp.                |digital goods, books, movies, music                  |a   |6.22     |NULL                      |25.1197   |0.273815991311|0.00240427992111|115.82983013986298|-32.26676947616427 |31.0              |2153.0                   |2012.0                   |3.0                   |8615.0 |17329.0|8709.0 |\n",
      "|3677    |2022-08-25    |96334476428 |11140  |813297     |6.383881161736656 |3f1c61aa-6b5b-4c8d-b981-f23029087927|Benjamin Schneider|VIC  |Male  |NULL             |Sed Est Ltd                      |bicycle,                                             |b   |3.66     |NULL                      |48.7989   |0.485028986409|0.00490032322583|146.316005335411  |-36.36938362617703 |44.0              |1694.0                   |1218.0                   |2.2                   |9043.0 |19214.0|10169.0|\n",
      "|6170    |2022-08-25    |96442520325 |22285  |416278     |91.14307120608396 |89e25ac5-7775-4be8-9c5a-1879387db58b|Luke Greene       |WA   |Male  |NULL             |Nullam Lobortis Quam Company     |computers, computer peripheral equipment, software   |b   |3.65     |NULL                      |25.1197   |0.273815991311|0.00240427992111|115.82983013986298|-32.26676947616427 |31.0              |2153.0                   |2012.0                   |3.0                   |8615.0 |17329.0|8709.0 |\n",
      "|3677    |2022-08-25    |74753274268 |11140  |813297     |1532.603740282265 |9764b14c-82ba-498e-9b95-63b66cff29fe|Benjamin Schneider|VIC  |Male  |NULL             |Duis A Mi LLP                    |music, musical instruments, pianos, sheet music      |b   |3.16     |NULL                      |48.7989   |0.485028986409|0.00490032322583|146.316005335411  |-36.36938362617703 |44.0              |1694.0                   |1218.0                   |2.2                   |9043.0 |19214.0|10169.0|\n",
      "|3677    |2022-08-25    |28896046710 |11140  |813297     |371.95178106226   |dd5d2e91-c03b-4f0e-b283-764d0ff48d0b|Benjamin Schneider|VIC  |Male  |NULL             |Nec Orci Ltd                     |computers, computer peripheral equipment, software   |a   |6.75     |NULL                      |48.7989   |0.485028986409|0.00490032322583|146.316005335411  |-36.36938362617703 |44.0              |1694.0                   |1218.0                   |2.2                   |9043.0 |19214.0|10169.0|\n",
      "|5049    |2022-08-25    |86578477987 |22289  |708403     |29.86919166344463 |91317698-0a33-468b-a626-8afb2f14eb23|Gary Contreras    |SA   |Male  |NULL             |Leo In Consulting                |watch, clock, jewelry repair                         |a   |6.43     |NULL                      |9.1543    |0.136127952039|9.04383971909E-4|138.5253254820878 |-35.04458571910915 |44.0              |2247.0                   |1853.0                   |2.5                   |5079.0 |10380.0|5297.0 |\n",
      "|5049    |2022-08-25    |23338656015 |22289  |708403     |208.56112392056014|d2f80078-57bf-4778-b9dd-4ceb0212db16|Gary Contreras    |SA   |Male  |NULL             |Iaculis LLC                      |watch, clock, jewelry repair                         |b   |3.25     |NULL                      |9.1543    |0.136127952039|9.04383971909E-4|138.5253254820878 |-35.04458571910915 |44.0              |2247.0                   |1853.0                   |2.5                   |5079.0 |10380.0|5297.0 |\n",
      "|3202    |2022-08-25    |71674475255 |11141  |1027466    |28.632569840078762|aabf0b5b-4cb2-414c-b2f7-aef45b44233c|Amy Jones         |VIC  |Female|NULL             |Lacinia Mattis LLC               |opticians, optical goods, eyeglasses                 |b   |3.81     |NULL                      |7.1165    |0.124299313525|7.2958124547E-4 |145.09320011027017|-37.9560532414967  |41.0              |2531.0                   |2088.0                   |2.8                   |1386.0 |2826.0 |1441.0 |\n",
      "|5139    |2022-08-25    |19933438190 |22290  |948149     |14.323239293792307|e21d5163-4224-403b-8ec6-a3943303000d|Stephen Nguyen    |SA   |Male  |NULL             |Dui Nec Corporation              |tent, awning                                         |c   |2.22     |NULL                      |9.345     |0.188775599849|9.21956074956E-4|138.8008792369133 |-34.92985858149402 |38.0              |2333.0                   |2089.0                   |2.8                   |139.0  |290.0  |145.0  |\n",
      "|3202    |2022-08-25    |33495932835 |11141  |1027466    |41.29031713659889 |99e70960-fbf4-4c32-a7ae-f6aefb57c1bb|Amy Jones         |VIC  |Female|NULL             |Vel Arcu Foundation              |furniture, home furnishings, equipment, manufacturers|b   |4.69     |NULL                      |7.1165    |0.124299313525|7.2958124547E-4 |145.09320011027017|-37.9560532414967  |41.0              |2531.0                   |2088.0                   |2.8                   |1386.0 |2826.0 |1441.0 |\n",
      "|5139    |2022-08-25    |24598653065 |22290  |948149     |153.15593430224752|549cba08-9ae5-47b8-a787-077b787b0bf5|Stephen Nguyen    |SA   |Male  |NULL             |Et Rutrum Foundation             |cable, satellite, other pay television, radio        |c   |2.17     |NULL                      |9.345     |0.188775599849|9.21956074956E-4|138.8008792369133 |-34.92985858149402 |38.0              |2333.0                   |2089.0                   |2.8                   |139.0  |290.0  |145.0  |\n",
      "|3501    |2022-08-25    |43186523025 |11142  |926065     |48.875777274640306|006278ce-6897-4848-abb0-2c47dcc9b718|Joseph Bailey     |VIC  |Male  |NULL             |Lorem Ipsum Sodales Industries   |florists supplies, nursery stock, flowers            |b   |4.47     |NULL                      |1022.8815 |2.8494040059  |0.100586926796  |142.29171160591616|-34.65567436632965 |40.0              |2357.0                   |2055.0                   |2.9                   |1074.0 |2146.0 |1074.0 |\n",
      "|4861    |2022-08-25    |75089928159 |22293  |969847     |84.36075929447935 |aaceca97-402c-4dae-8fe8-254a901e71c7|Eric Odonnell     |QLD  |Male  |NULL             |Porttitor Vulputate Limited      |gift, card, novelty, souvenir                        |c   |1.67     |NULL                      |118.9753  |1.0676489509  |0.0101131663581 |145.94365920715651|-17.32760008705828 |47.0              |1529.0                   |1131.0                   |2.3                   |797.0  |1541.0 |745.0  |\n",
      "|3501    |2022-08-25    |79283124876 |11142  |926065     |243.81248238450115|8e402226-1bde-453a-b15d-3b8d15ade6ac|Joseph Bailey     |VIC  |Male  |NULL             |Pellentesque Massa Associates    |florists supplies, nursery stock, flowers            |b   |5.03     |NULL                      |1022.8815 |2.8494040059  |0.100586926796  |142.29171160591616|-34.65567436632965 |40.0              |2357.0                   |2055.0                   |2.9                   |1074.0 |2146.0 |1074.0 |\n",
      "|3147    |2022-08-25    |63290521567 |22294  |349919     |7.762579944884716 |f415da44-ea65-4cb2-82e9-15deb1689080|Christina Phelps  |VIC  |Female|NULL             |Vehicula Pellentesque Corporation|artist supply, craft                                 |a   |6.48     |NULL                      |5.4627    |0.151077508447|5.59351251664E-4|145.09045632274646|-37.86701904495482 |40.0              |2969.0                   |2273.0                   |2.6                   |7439.0 |15102.0|7664.0 |\n",
      "|3501    |2022-08-25    |49505931725 |11142  |926065     |93.94146089501055 |1144ebc2-2998-4909-897d-16496e6c243b|Joseph Bailey     |VIC  |Male  |NULL             |Suspendisse Ac Associates        |digital goods, books, movies, music                  |b   |4.7      |NULL                      |1022.8815 |2.8494040059  |0.100586926796  |142.29171160591616|-34.65567436632965 |40.0              |2357.0                   |2055.0                   |2.9                   |1074.0 |2146.0 |1074.0 |\n",
      "|2760    |2022-08-25    |37442271968 |22295  |1310415    |5.647240735643751 |d34d17c2-c8bf-48da-a4de-a6d0317afc4c|Sandra Clark      |NSW  |Female|NULL             |Magna Tellus Faucibus LLP        |watch, clock, jewelry repair                         |a   |6.81     |NULL                      |19.9308   |0.316273505526|0.00193959403316|150.78121557118465|-33.76079362827471 |34.0              |1853.0                   |1575.0                   |2.8                   |18597.0|37632.0|19033.0|\n",
      "+--------+--------------+------------+-------+-----------+------------------+------------------------------------+------------------+-----+------+-----------------+---------------------------------+-----------------------------------------------------+----+---------+--------------------------+----------+--------------+----------------+------------------+-------------------+------------------+-------------------------+-------------------------+----------------------+-------+-------+-------+\n",
      "only showing top 20 rows\n",
      "\n"
     ]
    }
   ],
   "source": [
    "# Combine the census data into a single dataframe, by postcode\n",
    "# https://www.abs.gov.au/census/find-census-data/datapacks?release=2021&product=GCP&geography=SA2&header=S\n",
    "TABLES = [\n",
    "    '2021Census_G02_AUST_POA.csv',\n",
    "    '2021Census_G04A_AUST_POA.csv',\n",
    "    '2021Census_G04B_AUST_POA.csv'\n",
    "]\n",
    "POSTCODE_COLUMN = 'POA_CODE_2021'\n",
    "SELECTED_COLUMNS = [\n",
    "    POSTCODE_COLUMN,\n",
    "    'Median_age_persons', \n",
    "    'Median_tot_fam_inc_weekly', \n",
    "    'Median_tot_hhd_inc_weekly', \n",
    "    'Average_household_size', \n",
    "    'Tot_M', \n",
    "    'Tot_P', \n",
    "    'Tot_F'\n",
    "]\n",
    "\n",
    "census_df = None\n",
    "for table in TABLES:\n",
    "    df = spark.read.options(header=True) \\\n",
    "        .csv(f\".././data/landing/2021_GCP_POA_for_AUS_short-header/2021 Census GCP Postal Areas for AUS/{table}\")\n",
    "\n",
    "    if census_df is None:\n",
    "        census_df = df\n",
    "    else:\n",
    "        census_df = census_df.join(df, POSTCODE_COLUMN).drop(df[POSTCODE_COLUMN])\n",
    "\n",
    "census_df = census_df.withColumn(POSTCODE_COLUMN, F.regexp_replace(F.col(POSTCODE_COLUMN), \"(\\D)\", \"\"))\n",
    "census_df = census_df.select(*SELECTED_COLUMNS)\n",
    "for column in SELECTED_COLUMNS[1:]:\n",
    "    census_df = census_df.withColumn(column, F.col(column).cast(DoubleType()))\n",
    "census_df = census_df.withColumnRenamed(\"POA_CODE_2021\", \"postcode\")\n",
    "census_df.show(truncate=False)\n",
    "\n",
    "full_transactions = full_transactions.join(census_df, on='postcode', how=\"left\")\n",
    "full_transactions.show(truncate=False)"
   ]
  },
  {
   "cell_type": "markdown",
   "metadata": {},
   "source": [
    "Add Retail Sales Data "
   ]
  },
  {
   "cell_type": "code",
   "execution_count": 19,
   "metadata": {},
   "outputs": [
    {
     "data": {
      "text/html": [
       "<div>\n",
       "<style scoped>\n",
       "    .dataframe tbody tr th:only-of-type {\n",
       "        vertical-align: middle;\n",
       "    }\n",
       "\n",
       "    .dataframe tbody tr th {\n",
       "        vertical-align: top;\n",
       "    }\n",
       "\n",
       "    .dataframe thead th {\n",
       "        text-align: right;\n",
       "    }\n",
       "</style>\n",
       "<table border=\"1\" class=\"dataframe\">\n",
       "  <thead>\n",
       "    <tr style=\"text-align: right;\">\n",
       "      <th></th>\n",
       "      <th>NSW_original</th>\n",
       "      <th>VIC_original</th>\n",
       "      <th>QLD_original</th>\n",
       "      <th>SA_original</th>\n",
       "      <th>WA_original</th>\n",
       "      <th>TAS_original</th>\n",
       "      <th>NT_original</th>\n",
       "      <th>ACT_original</th>\n",
       "      <th>Total_original</th>\n",
       "      <th>NSW_seasonal</th>\n",
       "      <th>...</th>\n",
       "      <th>NSW_trend</th>\n",
       "      <th>VIC_trend</th>\n",
       "      <th>QLD_trend</th>\n",
       "      <th>SA_trend</th>\n",
       "      <th>WA_trend</th>\n",
       "      <th>TAS_trend</th>\n",
       "      <th>NT_trend</th>\n",
       "      <th>ACT_trend</th>\n",
       "      <th>Total_trend</th>\n",
       "      <th>date</th>\n",
       "    </tr>\n",
       "  </thead>\n",
       "  <tbody>\n",
       "    <tr>\n",
       "      <th>1982-06</th>\n",
       "      <td>1234.2</td>\n",
       "      <td>887</td>\n",
       "      <td>494.1</td>\n",
       "      <td>277.2</td>\n",
       "      <td>301.5</td>\n",
       "      <td>77.5</td>\n",
       "      <td>NaN</td>\n",
       "      <td>55.3</td>\n",
       "      <td>3357.8</td>\n",
       "      <td>1309.8</td>\n",
       "      <td>...</td>\n",
       "      <td>1305.1</td>\n",
       "      <td>946.3</td>\n",
       "      <td>515.7</td>\n",
       "      <td>291.8</td>\n",
       "      <td>317.8</td>\n",
       "      <td>81.9</td>\n",
       "      <td>NaN</td>\n",
       "      <td>57.7</td>\n",
       "      <td>3547</td>\n",
       "      <td>1982-06</td>\n",
       "    </tr>\n",
       "    <tr>\n",
       "      <th>1982-07</th>\n",
       "      <td>1265</td>\n",
       "      <td>921.3</td>\n",
       "      <td>515.6</td>\n",
       "      <td>296.1</td>\n",
       "      <td>316.4</td>\n",
       "      <td>82.7</td>\n",
       "      <td>NaN</td>\n",
       "      <td>56.3</td>\n",
       "      <td>3486.8</td>\n",
       "      <td>1291.9</td>\n",
       "      <td>...</td>\n",
       "      <td>1302.4</td>\n",
       "      <td>954.3</td>\n",
       "      <td>517.3</td>\n",
       "      <td>296.3</td>\n",
       "      <td>319.1</td>\n",
       "      <td>82.2</td>\n",
       "      <td>NaN</td>\n",
       "      <td>58.2</td>\n",
       "      <td>3560.6</td>\n",
       "      <td>1982-07</td>\n",
       "    </tr>\n",
       "    <tr>\n",
       "      <th>1982-08</th>\n",
       "      <td>1217.6</td>\n",
       "      <td>883.2</td>\n",
       "      <td>501.4</td>\n",
       "      <td>288.4</td>\n",
       "      <td>300.5</td>\n",
       "      <td>78.1</td>\n",
       "      <td>NaN</td>\n",
       "      <td>55.4</td>\n",
       "      <td>3355.9</td>\n",
       "      <td>1314.4</td>\n",
       "      <td>...</td>\n",
       "      <td>1298.1</td>\n",
       "      <td>963.6</td>\n",
       "      <td>518</td>\n",
       "      <td>301.1</td>\n",
       "      <td>320.4</td>\n",
       "      <td>82.4</td>\n",
       "      <td>NaN</td>\n",
       "      <td>58.9</td>\n",
       "      <td>3573.6</td>\n",
       "      <td>1982-08</td>\n",
       "    </tr>\n",
       "    <tr>\n",
       "      <th>1982-09</th>\n",
       "      <td>1244.9</td>\n",
       "      <td>917.9</td>\n",
       "      <td>517.7</td>\n",
       "      <td>293</td>\n",
       "      <td>312.3</td>\n",
       "      <td>79.1</td>\n",
       "      <td>NaN</td>\n",
       "      <td>57.5</td>\n",
       "      <td>3454.3</td>\n",
       "      <td>1292.4</td>\n",
       "      <td>...</td>\n",
       "      <td>1293.1</td>\n",
       "      <td>974.1</td>\n",
       "      <td>517.9</td>\n",
       "      <td>306.2</td>\n",
       "      <td>321.6</td>\n",
       "      <td>82.4</td>\n",
       "      <td>NaN</td>\n",
       "      <td>60</td>\n",
       "      <td>3586.7</td>\n",
       "      <td>1982-09</td>\n",
       "    </tr>\n",
       "    <tr>\n",
       "      <th>1982-10</th>\n",
       "      <td>1264.2</td>\n",
       "      <td>983.3</td>\n",
       "      <td>504.2</td>\n",
       "      <td>307.9</td>\n",
       "      <td>318.7</td>\n",
       "      <td>78.7</td>\n",
       "      <td>NaN</td>\n",
       "      <td>61.9</td>\n",
       "      <td>3551.5</td>\n",
       "      <td>1289.4</td>\n",
       "      <td>...</td>\n",
       "      <td>1293.2</td>\n",
       "      <td>985.5</td>\n",
       "      <td>518.1</td>\n",
       "      <td>311.3</td>\n",
       "      <td>322.6</td>\n",
       "      <td>82.5</td>\n",
       "      <td>NaN</td>\n",
       "      <td>61.2</td>\n",
       "      <td>3605.8</td>\n",
       "      <td>1982-10</td>\n",
       "    </tr>\n",
       "    <tr>\n",
       "      <th>...</th>\n",
       "      <td>...</td>\n",
       "      <td>...</td>\n",
       "      <td>...</td>\n",
       "      <td>...</td>\n",
       "      <td>...</td>\n",
       "      <td>...</td>\n",
       "      <td>...</td>\n",
       "      <td>...</td>\n",
       "      <td>...</td>\n",
       "      <td>...</td>\n",
       "      <td>...</td>\n",
       "      <td>...</td>\n",
       "      <td>...</td>\n",
       "      <td>...</td>\n",
       "      <td>...</td>\n",
       "      <td>...</td>\n",
       "      <td>...</td>\n",
       "      <td>...</td>\n",
       "      <td>...</td>\n",
       "      <td>...</td>\n",
       "      <td>...</td>\n",
       "    </tr>\n",
       "    <tr>\n",
       "      <th>2024-03</th>\n",
       "      <td>10873.5</td>\n",
       "      <td>9101.1</td>\n",
       "      <td>7185.7</td>\n",
       "      <td>2292.9</td>\n",
       "      <td>3975.6</td>\n",
       "      <td>721</td>\n",
       "      <td>313.8</td>\n",
       "      <td>673.1</td>\n",
       "      <td>35136.7</td>\n",
       "      <td>11082.4</td>\n",
       "      <td>...</td>\n",
       "      <td>11151.2</td>\n",
       "      <td>9210.3</td>\n",
       "      <td>7363</td>\n",
       "      <td>2317.9</td>\n",
       "      <td>4032.8</td>\n",
       "      <td>720.4</td>\n",
       "      <td>329.7</td>\n",
       "      <td>673</td>\n",
       "      <td>35798.2</td>\n",
       "      <td>2024-03</td>\n",
       "    </tr>\n",
       "    <tr>\n",
       "      <th>2024-04</th>\n",
       "      <td>10639.8</td>\n",
       "      <td>8820.1</td>\n",
       "      <td>6907.1</td>\n",
       "      <td>2218.8</td>\n",
       "      <td>3800.2</td>\n",
       "      <td>682.8</td>\n",
       "      <td>311</td>\n",
       "      <td>641.2</td>\n",
       "      <td>34020.9</td>\n",
       "      <td>11183.2</td>\n",
       "      <td>...</td>\n",
       "      <td>11164.9</td>\n",
       "      <td>9230.6</td>\n",
       "      <td>7379.6</td>\n",
       "      <td>2320.4</td>\n",
       "      <td>4059.1</td>\n",
       "      <td>720.3</td>\n",
       "      <td>331.3</td>\n",
       "      <td>675</td>\n",
       "      <td>35881.3</td>\n",
       "      <td>2024-04</td>\n",
       "    </tr>\n",
       "    <tr>\n",
       "      <th>2024-05</th>\n",
       "      <td>11090.6</td>\n",
       "      <td>9144.7</td>\n",
       "      <td>7206.6</td>\n",
       "      <td>2298.7</td>\n",
       "      <td>4004.9</td>\n",
       "      <td>707.1</td>\n",
       "      <td>335.3</td>\n",
       "      <td>667.6</td>\n",
       "      <td>35455.4</td>\n",
       "      <td>11179</td>\n",
       "      <td>...</td>\n",
       "      <td>11179.7</td>\n",
       "      <td>9254.4</td>\n",
       "      <td>7401.6</td>\n",
       "      <td>2322.8</td>\n",
       "      <td>4087.5</td>\n",
       "      <td>720.2</td>\n",
       "      <td>333</td>\n",
       "      <td>676.9</td>\n",
       "      <td>35976</td>\n",
       "      <td>2024-05</td>\n",
       "    </tr>\n",
       "    <tr>\n",
       "      <th>2024-06</th>\n",
       "      <td>10777.4</td>\n",
       "      <td>8937.4</td>\n",
       "      <td>7163.6</td>\n",
       "      <td>2229</td>\n",
       "      <td>3973.2</td>\n",
       "      <td>678.1</td>\n",
       "      <td>346.4</td>\n",
       "      <td>661.2</td>\n",
       "      <td>34766.2</td>\n",
       "      <td>11217.2</td>\n",
       "      <td>...</td>\n",
       "      <td>11195.8</td>\n",
       "      <td>9281.9</td>\n",
       "      <td>7426</td>\n",
       "      <td>2325.3</td>\n",
       "      <td>4116.3</td>\n",
       "      <td>720.1</td>\n",
       "      <td>334.7</td>\n",
       "      <td>678.8</td>\n",
       "      <td>36078.9</td>\n",
       "      <td>2024-06</td>\n",
       "    </tr>\n",
       "    <tr>\n",
       "      <th>2024-07</th>\n",
       "      <td>10772.9</td>\n",
       "      <td>8957.7</td>\n",
       "      <td>7424.2</td>\n",
       "      <td>2253.4</td>\n",
       "      <td>4040.8</td>\n",
       "      <td>693.2</td>\n",
       "      <td>372.7</td>\n",
       "      <td>654.4</td>\n",
       "      <td>35169.4</td>\n",
       "      <td>11196.7</td>\n",
       "      <td>...</td>\n",
       "      <td>11204.4</td>\n",
       "      <td>9300.1</td>\n",
       "      <td>7446</td>\n",
       "      <td>2324.7</td>\n",
       "      <td>4139.6</td>\n",
       "      <td>719.5</td>\n",
       "      <td>336</td>\n",
       "      <td>679.7</td>\n",
       "      <td>36150</td>\n",
       "      <td>2024-07</td>\n",
       "    </tr>\n",
       "  </tbody>\n",
       "</table>\n",
       "<p>506 rows × 28 columns</p>\n",
       "</div>"
      ],
      "text/plain": [
       "        NSW_original VIC_original QLD_original SA_original WA_original  \\\n",
       "1982-06       1234.2          887        494.1       277.2       301.5   \n",
       "1982-07         1265        921.3        515.6       296.1       316.4   \n",
       "1982-08       1217.6        883.2        501.4       288.4       300.5   \n",
       "1982-09       1244.9        917.9        517.7         293       312.3   \n",
       "1982-10       1264.2        983.3        504.2       307.9       318.7   \n",
       "...              ...          ...          ...         ...         ...   \n",
       "2024-03      10873.5       9101.1       7185.7      2292.9      3975.6   \n",
       "2024-04      10639.8       8820.1       6907.1      2218.8      3800.2   \n",
       "2024-05      11090.6       9144.7       7206.6      2298.7      4004.9   \n",
       "2024-06      10777.4       8937.4       7163.6        2229      3973.2   \n",
       "2024-07      10772.9       8957.7       7424.2      2253.4      4040.8   \n",
       "\n",
       "        TAS_original NT_original ACT_original Total_original NSW_seasonal  \\\n",
       "1982-06         77.5         NaN         55.3         3357.8       1309.8   \n",
       "1982-07         82.7         NaN         56.3         3486.8       1291.9   \n",
       "1982-08         78.1         NaN         55.4         3355.9       1314.4   \n",
       "1982-09         79.1         NaN         57.5         3454.3       1292.4   \n",
       "1982-10         78.7         NaN         61.9         3551.5       1289.4   \n",
       "...              ...         ...          ...            ...          ...   \n",
       "2024-03          721       313.8        673.1        35136.7      11082.4   \n",
       "2024-04        682.8         311        641.2        34020.9      11183.2   \n",
       "2024-05        707.1       335.3        667.6        35455.4        11179   \n",
       "2024-06        678.1       346.4        661.2        34766.2      11217.2   \n",
       "2024-07        693.2       372.7        654.4        35169.4      11196.7   \n",
       "\n",
       "         ... NSW_trend VIC_trend QLD_trend SA_trend WA_trend TAS_trend  \\\n",
       "1982-06  ...    1305.1     946.3     515.7    291.8    317.8      81.9   \n",
       "1982-07  ...    1302.4     954.3     517.3    296.3    319.1      82.2   \n",
       "1982-08  ...    1298.1     963.6       518    301.1    320.4      82.4   \n",
       "1982-09  ...    1293.1     974.1     517.9    306.2    321.6      82.4   \n",
       "1982-10  ...    1293.2     985.5     518.1    311.3    322.6      82.5   \n",
       "...      ...       ...       ...       ...      ...      ...       ...   \n",
       "2024-03  ...   11151.2    9210.3      7363   2317.9   4032.8     720.4   \n",
       "2024-04  ...   11164.9    9230.6    7379.6   2320.4   4059.1     720.3   \n",
       "2024-05  ...   11179.7    9254.4    7401.6   2322.8   4087.5     720.2   \n",
       "2024-06  ...   11195.8    9281.9      7426   2325.3   4116.3     720.1   \n",
       "2024-07  ...   11204.4    9300.1      7446   2324.7   4139.6     719.5   \n",
       "\n",
       "        NT_trend ACT_trend Total_trend     date  \n",
       "1982-06      NaN      57.7        3547  1982-06  \n",
       "1982-07      NaN      58.2      3560.6  1982-07  \n",
       "1982-08      NaN      58.9      3573.6  1982-08  \n",
       "1982-09      NaN        60      3586.7  1982-09  \n",
       "1982-10      NaN      61.2      3605.8  1982-10  \n",
       "...          ...       ...         ...      ...  \n",
       "2024-03    329.7       673     35798.2  2024-03  \n",
       "2024-04    331.3       675     35881.3  2024-04  \n",
       "2024-05      333     676.9       35976  2024-05  \n",
       "2024-06    334.7     678.8     36078.9  2024-06  \n",
       "2024-07      336     679.7       36150  2024-07  \n",
       "\n",
       "[506 rows x 28 columns]"
      ]
     },
     "execution_count": 19,
     "metadata": {},
     "output_type": "execute_result"
    }
   ],
   "source": [
    "retail_df = pd.read_excel(\"../data/landing/850103.xlsx\", sheet_name=\"Data1\", index_col=0)\n",
    "\n",
    "states = [\"NSW\", \"VIC\", \"QLD\", \"SA\", \"WA\", \"TAS\", \"NT\", \"ACT\", \"Total\"]\n",
    "trend_types = [\"original\", \"seasonal\", \"trend\"]\n",
    "retail_columns = []\n",
    "for trend_type in trend_types:\n",
    "    for state in states:\n",
    "        retail_columns.append(f\"{state}_{trend_type}\")\n",
    "\n",
    "# Add date column\n",
    "retail_df.columns = retail_columns\n",
    "retail_df = retail_df.iloc[11:,:]\n",
    "retail_df.index = pd.to_datetime(retail_df.index).strftime(\"%Y-%m\")\n",
    "retail_df['date'] = retail_df.index\n",
    "retail_df.to_parquet(\"../data/raw/retail_sales.parquet\", index=False)\n",
    "retail_df"
   ]
  },
  {
   "cell_type": "code",
   "execution_count": 20,
   "metadata": {},
   "outputs": [
    {
     "name": "stdout",
     "output_type": "stream",
     "text": [
      "+------------+------------+------------+-----------+-----------+------------+-----------+------------+--------------+------------+------------+------------+-----------+-----------+------------+-----------+------------+--------------+-----+----+\n",
      "|NSW_original|VIC_original|QLD_original|SA_original|WA_original|TAS_original|NT_original|ACT_original|Total_original|NSW_seasonal|VIC_seasonal|QLD_seasonal|SA_seasonal|WA_seasonal|TAS_seasonal|NT_seasonal|ACT_seasonal|Total_seasonal|month|year|\n",
      "+------------+------------+------------+-----------+-----------+------------+-----------+------------+--------------+------------+------------+------------+-----------+-----------+------------+-----------+------------+--------------+-----+----+\n",
      "|1234.2      |887.0       |494.1       |277.2      |301.5      |77.5        |NULL       |55.3        |3357.8        |1309.8      |952.9       |518.6       |288.9      |321.2      |81.0        |NULL       |58.3        |3561.5        |6    |1982|\n",
      "|1265.0      |921.3       |515.6       |296.1      |316.4      |82.7        |NULL       |56.3        |3486.8        |1291.9      |955.9       |518.1       |296.2      |320.4      |83.7        |NULL       |56.8        |3553.9        |7    |1982|\n",
      "|1217.6      |883.2       |501.4       |288.4      |300.5      |78.1        |NULL       |55.4        |3355.9        |1314.4      |950.7       |521.4       |303.6      |318.5      |83.3        |NULL       |58.9        |3581.8        |8    |1982|\n",
      "|1244.9      |917.9       |517.7       |293.0      |312.3      |79.1        |NULL       |57.5        |3454.3        |1292.4      |971.9       |521.0       |303.7      |319.6      |82.5        |NULL       |59.0        |3581.2        |9    |1982|\n",
      "|1264.2      |983.3       |504.2       |307.9      |318.7      |78.7        |NULL       |61.9        |3551.5        |1289.4      |987.7       |510.9       |310.8      |322.2      |81.1        |NULL       |61.6        |3595.6        |10   |1982|\n",
      "|1372.6      |1065.2      |536.0       |332.1      |337.9      |86.5        |NULL       |68.3        |3830.5        |1300.6      |1007.5      |520.6       |318.0      |326.9      |82.9        |NULL       |63.2        |3651.7        |11   |1982|\n",
      "|1888.3      |1427.3      |715.9       |440.9      |457.4      |118.6       |NULL       |92.2        |5179.7        |1293.2      |1008.1      |519.9       |322.3      |326.4      |83.3        |NULL       |65.3        |3650.4        |12   |1982|\n",
      "|1214.5      |920.3       |502.4       |295.9      |295.4      |75.2        |NULL       |53.0        |3384.5        |1332.7      |1010.8      |527.3       |326.7      |321.0      |84.1        |NULL       |61.0        |3695.6        |1    |1983|\n",
      "|1240.6      |921.7       |470.0       |284.1      |292.6      |76.5        |NULL       |55.1        |3369.8        |1419.3      |1024.8      |539.7       |325.2      |328.1      |85.2        |NULL       |65.2        |3821.0        |2    |1983|\n",
      "|1375.7      |1049.2      |535.7       |340.5      |319.6      |89.1        |NULL       |63.1        |3805.3        |1394.4      |1037.3      |540.0       |337.5      |326.5      |88.6        |NULL       |65.0        |3822.8        |3    |1983|\n",
      "|1344.2      |994.9       |509.0       |326.0      |313.0      |83.5        |NULL       |63.3        |3665.1        |1431.9      |1042.0      |548.5       |343.3      |333.0      |87.8        |NULL       |65.5        |3885.2        |4    |1983|\n",
      "|1379.9      |990.4       |527.5       |341.1      |336.8      |85.1        |NULL       |65.6        |3760.0        |1396.1      |993.6       |542.9       |340.4      |335.5      |86.0        |NULL       |65.9        |3793.2        |5    |1983|\n",
      "|1325.8      |950.0       |524.2       |335.0      |316.9      |83.0        |NULL       |62.3        |3630.8        |1406.0      |1016.2      |547.3       |348.0      |335.9      |87.3        |NULL       |65.2        |3839.4        |6    |1983|\n",
      "|1328.1      |971.0       |534.8       |342.3      |326.5      |83.9        |NULL       |64.5        |3686.5        |1398.1      |1038.4      |551.9       |354.5      |339.6      |88.3        |NULL       |66.4        |3871.1        |7    |1983|\n",
      "|1366.3      |1015.5      |551.0       |356.4      |340.9      |88.1        |NULL       |62.5        |3816.3        |1414.6      |1067.5      |558.4       |366.4      |349.0      |90.9        |NULL       |64.4        |3945.5        |8    |1983|\n",
      "|1370.8      |1019.2      |553.9       |349.7      |342.3      |88.0        |NULL       |64.1        |3823.4        |1433.7      |1065.1      |555.1       |357.7      |349.2      |91.1        |NULL       |65.1        |3951.4        |9    |1983|\n",
      "|1412.3      |1053.0      |545.1       |332.8      |340.5      |88.7        |NULL       |71.4        |3878.7        |1447.4      |1075.7      |560.6       |341.9      |348.1      |92.7        |NULL       |71.5        |3972.3        |10   |1983|\n",
      "|1541.6      |1136.8      |593.3       |363.9      |365.3      |97.7        |NULL       |78.0        |4211.5        |1442.0      |1073.0      |570.3       |346.7      |350.6      |93.1        |NULL       |72.8        |3983.3        |11   |1983|\n",
      "|2119.6      |1543.3      |772.2       |480.0      |485.3      |133.5       |NULL       |107.7       |5684.3        |1453.6      |1090.6      |566.3       |351.4      |349.7      |93.5        |NULL       |77.7        |4017.6        |12   |1983|\n",
      "|1299.1      |1020.7      |548.9       |320.5      |333.7      |85.8        |NULL       |59.4        |3698.5        |1434.0      |1118.9      |572.8       |351.7      |363.9      |95.1        |NULL       |67.9        |4039.3        |1    |1984|\n",
      "+------------+------------+------------+-----------+-----------+------------+-----------+------------+--------------+------------+------------+------------+-----------+-----------+------------+-----------+------------+--------------+-----+----+\n",
      "only showing top 20 rows\n",
      "\n"
     ]
    },
    {
     "name": "stderr",
     "output_type": "stream",
     "text": [
      "                                                                                \r"
     ]
    },
    {
     "name": "stdout",
     "output_type": "stream",
     "text": [
      "+-----+----+--------+--------------+------------+-------+-----------+------------------+------------------------------------+------------------+-----+------+-----------------+---------------------------------+-----------------------------------------------------+----+---------+--------------------------+----------+--------------+----------------+------------------+-------------------+------------------+-------------------------+-------------------------+----------------------+-------+-------+-------+------------+------------+------------+-----------+-----------+------------+-----------+------------+--------------+------------+------------+------------+-----------+-----------+------------+-----------+------------+--------------+\n",
      "|month|year|postcode|order_datetime|merchant_abn|user_id|consumer_id|dollar_value      |order_id                            |consumer_name     |state|gender|fraud_probability|merchant_name                    |tags                                                 |type|take_rate|merchant_fraud_probability|AREASQKM21|SHAPE_Leng    |SHAPE_Area      |lon               |lat                |Median_age_persons|Median_tot_fam_inc_weekly|Median_tot_hhd_inc_weekly|Average_household_size|Tot_M  |Tot_P  |Tot_F  |NSW_original|VIC_original|QLD_original|SA_original|WA_original|TAS_original|NT_original|ACT_original|Total_original|NSW_seasonal|VIC_seasonal|QLD_seasonal|SA_seasonal|WA_seasonal|TAS_seasonal|NT_seasonal|ACT_seasonal|Total_seasonal|\n",
      "+-----+----+--------+--------------+------------+-------+-----------+------------------+------------------------------------+------------------+-----+------+-----------------+---------------------------------+-----------------------------------------------------+----+---------+--------------------------+----------+--------------+----------------+------------------+-------------------+------------------+-------------------------+-------------------------+----------------------+-------+-------+-------+------------+------------+------------+-----------+-----------+------------+-----------+------------+--------------+------------+------------+------------+-----------+-----------+------------+-----------+------------+--------------+\n",
      "|8    |2022|6519    |2022-08-25    |63290521567 |11138  |401483     |41.239626303220014|09f6132a-a6a8-47a2-a03e-383ddbf5feaa|Veronica Nelson   |WA   |Female|NULL             |Vehicula Pellentesque Corporation|artist supply, craft                                 |a   |6.48     |NULL                      |2656.6928 |2.5708772467  |0.247235249687  |115.57732627080664|-29.525753922346176|42.0              |1696.0                   |1366.0                   |2.3                   |296.0  |575.0  |274.0  |10635.3     |8580.0      |7135.8      |2155.7     |3745.1     |671.3       |335.8      |618.6       |33877.5       |10993.0     |8930.7      |7195.3      |2215.5     |3823.7     |701.8       |313.4      |639.2       |34812.7       |\n",
      "|8    |2022|6170    |2022-08-25    |63465140133 |22285  |416278     |8.815286645396842 |f4fc1a3b-a5b1-4d75-b459-cf9bc12e1347|Luke Greene       |WA   |Male  |NULL             |Vitae Odio Limited               |digital goods, books, movies, music                  |b   |3.68     |NULL                      |25.1197   |0.273815991311|0.00240427992111|115.82983013986298|-32.26676947616427 |31.0              |2153.0                   |2012.0                   |3.0                   |8615.0 |17329.0|8709.0 |10635.3     |8580.0      |7135.8      |2155.7     |3745.1     |671.3       |335.8      |618.6       |33877.5       |10993.0     |8930.7      |7195.3      |2215.5     |3823.7     |701.8       |313.4      |639.2       |34812.7       |\n",
      "|8    |2022|2281    |2022-08-25    |21359184622 |11139  |505718     |66.46301590693417 |b1a52524-b6e6-42a5-9726-687033350acc|Monica Garrett    |NSW  |Female|NULL             |Sit Amet PC                      |motor vehicle supplies, new parts                    |b   |3.6      |NULL                      |30.9078   |0.574920487909|0.00298619538495|151.63053860482896|-33.11936492147126 |49.0              |1825.0                   |1400.0                   |2.4                   |7511.0 |15323.0|7813.0 |10635.3     |8580.0      |7135.8      |2155.7     |3745.1     |671.3       |335.8      |618.6       |33877.5       |10993.0     |8930.7      |7195.3      |2215.5     |3823.7     |701.8       |313.4      |639.2       |34812.7       |\n",
      "|8    |2022|6170    |2022-08-25    |75034515922 |22285  |416278     |19.654995598411727|ba240514-5dea-4059-ac35-5917d4853188|Luke Greene       |WA   |Male  |NULL             |Ac Eleifend Corp.                |digital goods, books, movies, music                  |a   |6.22     |NULL                      |25.1197   |0.273815991311|0.00240427992111|115.82983013986298|-32.26676947616427 |31.0              |2153.0                   |2012.0                   |3.0                   |8615.0 |17329.0|8709.0 |10635.3     |8580.0      |7135.8      |2155.7     |3745.1     |671.3       |335.8      |618.6       |33877.5       |10993.0     |8930.7      |7195.3      |2215.5     |3823.7     |701.8       |313.4      |639.2       |34812.7       |\n",
      "|8    |2022|3677    |2022-08-25    |96334476428 |11140  |813297     |6.383881161736656 |3f1c61aa-6b5b-4c8d-b981-f23029087927|Benjamin Schneider|VIC  |Male  |NULL             |Sed Est Ltd                      |bicycle,                                             |b   |3.66     |NULL                      |48.7989   |0.485028986409|0.00490032322583|146.316005335411  |-36.36938362617703 |44.0              |1694.0                   |1218.0                   |2.2                   |9043.0 |19214.0|10169.0|10635.3     |8580.0      |7135.8      |2155.7     |3745.1     |671.3       |335.8      |618.6       |33877.5       |10993.0     |8930.7      |7195.3      |2215.5     |3823.7     |701.8       |313.4      |639.2       |34812.7       |\n",
      "|8    |2022|6170    |2022-08-25    |96442520325 |22285  |416278     |91.14307120608396 |89e25ac5-7775-4be8-9c5a-1879387db58b|Luke Greene       |WA   |Male  |NULL             |Nullam Lobortis Quam Company     |computers, computer peripheral equipment, software   |b   |3.65     |NULL                      |25.1197   |0.273815991311|0.00240427992111|115.82983013986298|-32.26676947616427 |31.0              |2153.0                   |2012.0                   |3.0                   |8615.0 |17329.0|8709.0 |10635.3     |8580.0      |7135.8      |2155.7     |3745.1     |671.3       |335.8      |618.6       |33877.5       |10993.0     |8930.7      |7195.3      |2215.5     |3823.7     |701.8       |313.4      |639.2       |34812.7       |\n",
      "|8    |2022|3677    |2022-08-25    |74753274268 |11140  |813297     |1532.603740282265 |9764b14c-82ba-498e-9b95-63b66cff29fe|Benjamin Schneider|VIC  |Male  |NULL             |Duis A Mi LLP                    |music, musical instruments, pianos, sheet music      |b   |3.16     |NULL                      |48.7989   |0.485028986409|0.00490032322583|146.316005335411  |-36.36938362617703 |44.0              |1694.0                   |1218.0                   |2.2                   |9043.0 |19214.0|10169.0|10635.3     |8580.0      |7135.8      |2155.7     |3745.1     |671.3       |335.8      |618.6       |33877.5       |10993.0     |8930.7      |7195.3      |2215.5     |3823.7     |701.8       |313.4      |639.2       |34812.7       |\n",
      "|8    |2022|3677    |2022-08-25    |28896046710 |11140  |813297     |371.95178106226   |dd5d2e91-c03b-4f0e-b283-764d0ff48d0b|Benjamin Schneider|VIC  |Male  |NULL             |Nec Orci Ltd                     |computers, computer peripheral equipment, software   |a   |6.75     |NULL                      |48.7989   |0.485028986409|0.00490032322583|146.316005335411  |-36.36938362617703 |44.0              |1694.0                   |1218.0                   |2.2                   |9043.0 |19214.0|10169.0|10635.3     |8580.0      |7135.8      |2155.7     |3745.1     |671.3       |335.8      |618.6       |33877.5       |10993.0     |8930.7      |7195.3      |2215.5     |3823.7     |701.8       |313.4      |639.2       |34812.7       |\n",
      "|8    |2022|5049    |2022-08-25    |86578477987 |22289  |708403     |29.86919166344463 |91317698-0a33-468b-a626-8afb2f14eb23|Gary Contreras    |SA   |Male  |NULL             |Leo In Consulting                |watch, clock, jewelry repair                         |a   |6.43     |NULL                      |9.1543    |0.136127952039|9.04383971909E-4|138.5253254820878 |-35.04458571910915 |44.0              |2247.0                   |1853.0                   |2.5                   |5079.0 |10380.0|5297.0 |10635.3     |8580.0      |7135.8      |2155.7     |3745.1     |671.3       |335.8      |618.6       |33877.5       |10993.0     |8930.7      |7195.3      |2215.5     |3823.7     |701.8       |313.4      |639.2       |34812.7       |\n",
      "|8    |2022|5049    |2022-08-25    |23338656015 |22289  |708403     |208.56112392056014|d2f80078-57bf-4778-b9dd-4ceb0212db16|Gary Contreras    |SA   |Male  |NULL             |Iaculis LLC                      |watch, clock, jewelry repair                         |b   |3.25     |NULL                      |9.1543    |0.136127952039|9.04383971909E-4|138.5253254820878 |-35.04458571910915 |44.0              |2247.0                   |1853.0                   |2.5                   |5079.0 |10380.0|5297.0 |10635.3     |8580.0      |7135.8      |2155.7     |3745.1     |671.3       |335.8      |618.6       |33877.5       |10993.0     |8930.7      |7195.3      |2215.5     |3823.7     |701.8       |313.4      |639.2       |34812.7       |\n",
      "|8    |2022|3202    |2022-08-25    |71674475255 |11141  |1027466    |28.632569840078762|aabf0b5b-4cb2-414c-b2f7-aef45b44233c|Amy Jones         |VIC  |Female|NULL             |Lacinia Mattis LLC               |opticians, optical goods, eyeglasses                 |b   |3.81     |NULL                      |7.1165    |0.124299313525|7.2958124547E-4 |145.09320011027017|-37.9560532414967  |41.0              |2531.0                   |2088.0                   |2.8                   |1386.0 |2826.0 |1441.0 |10635.3     |8580.0      |7135.8      |2155.7     |3745.1     |671.3       |335.8      |618.6       |33877.5       |10993.0     |8930.7      |7195.3      |2215.5     |3823.7     |701.8       |313.4      |639.2       |34812.7       |\n",
      "|8    |2022|5139    |2022-08-25    |19933438190 |22290  |948149     |14.323239293792307|e21d5163-4224-403b-8ec6-a3943303000d|Stephen Nguyen    |SA   |Male  |NULL             |Dui Nec Corporation              |tent, awning                                         |c   |2.22     |NULL                      |9.345     |0.188775599849|9.21956074956E-4|138.8008792369133 |-34.92985858149402 |38.0              |2333.0                   |2089.0                   |2.8                   |139.0  |290.0  |145.0  |10635.3     |8580.0      |7135.8      |2155.7     |3745.1     |671.3       |335.8      |618.6       |33877.5       |10993.0     |8930.7      |7195.3      |2215.5     |3823.7     |701.8       |313.4      |639.2       |34812.7       |\n",
      "|8    |2022|3202    |2022-08-25    |33495932835 |11141  |1027466    |41.29031713659889 |99e70960-fbf4-4c32-a7ae-f6aefb57c1bb|Amy Jones         |VIC  |Female|NULL             |Vel Arcu Foundation              |furniture, home furnishings, equipment, manufacturers|b   |4.69     |NULL                      |7.1165    |0.124299313525|7.2958124547E-4 |145.09320011027017|-37.9560532414967  |41.0              |2531.0                   |2088.0                   |2.8                   |1386.0 |2826.0 |1441.0 |10635.3     |8580.0      |7135.8      |2155.7     |3745.1     |671.3       |335.8      |618.6       |33877.5       |10993.0     |8930.7      |7195.3      |2215.5     |3823.7     |701.8       |313.4      |639.2       |34812.7       |\n",
      "|8    |2022|5139    |2022-08-25    |24598653065 |22290  |948149     |153.15593430224752|549cba08-9ae5-47b8-a787-077b787b0bf5|Stephen Nguyen    |SA   |Male  |NULL             |Et Rutrum Foundation             |cable, satellite, other pay television, radio        |c   |2.17     |NULL                      |9.345     |0.188775599849|9.21956074956E-4|138.8008792369133 |-34.92985858149402 |38.0              |2333.0                   |2089.0                   |2.8                   |139.0  |290.0  |145.0  |10635.3     |8580.0      |7135.8      |2155.7     |3745.1     |671.3       |335.8      |618.6       |33877.5       |10993.0     |8930.7      |7195.3      |2215.5     |3823.7     |701.8       |313.4      |639.2       |34812.7       |\n",
      "|8    |2022|3501    |2022-08-25    |43186523025 |11142  |926065     |48.875777274640306|006278ce-6897-4848-abb0-2c47dcc9b718|Joseph Bailey     |VIC  |Male  |NULL             |Lorem Ipsum Sodales Industries   |florists supplies, nursery stock, flowers            |b   |4.47     |NULL                      |1022.8815 |2.8494040059  |0.100586926796  |142.29171160591616|-34.65567436632965 |40.0              |2357.0                   |2055.0                   |2.9                   |1074.0 |2146.0 |1074.0 |10635.3     |8580.0      |7135.8      |2155.7     |3745.1     |671.3       |335.8      |618.6       |33877.5       |10993.0     |8930.7      |7195.3      |2215.5     |3823.7     |701.8       |313.4      |639.2       |34812.7       |\n",
      "|8    |2022|4861    |2022-08-25    |75089928159 |22293  |969847     |84.36075929447935 |aaceca97-402c-4dae-8fe8-254a901e71c7|Eric Odonnell     |QLD  |Male  |NULL             |Porttitor Vulputate Limited      |gift, card, novelty, souvenir                        |c   |1.67     |NULL                      |118.9753  |1.0676489509  |0.0101131663581 |145.94365920715651|-17.32760008705828 |47.0              |1529.0                   |1131.0                   |2.3                   |797.0  |1541.0 |745.0  |10635.3     |8580.0      |7135.8      |2155.7     |3745.1     |671.3       |335.8      |618.6       |33877.5       |10993.0     |8930.7      |7195.3      |2215.5     |3823.7     |701.8       |313.4      |639.2       |34812.7       |\n",
      "|8    |2022|3501    |2022-08-25    |79283124876 |11142  |926065     |243.81248238450115|8e402226-1bde-453a-b15d-3b8d15ade6ac|Joseph Bailey     |VIC  |Male  |NULL             |Pellentesque Massa Associates    |florists supplies, nursery stock, flowers            |b   |5.03     |NULL                      |1022.8815 |2.8494040059  |0.100586926796  |142.29171160591616|-34.65567436632965 |40.0              |2357.0                   |2055.0                   |2.9                   |1074.0 |2146.0 |1074.0 |10635.3     |8580.0      |7135.8      |2155.7     |3745.1     |671.3       |335.8      |618.6       |33877.5       |10993.0     |8930.7      |7195.3      |2215.5     |3823.7     |701.8       |313.4      |639.2       |34812.7       |\n",
      "|8    |2022|3147    |2022-08-25    |63290521567 |22294  |349919     |7.762579944884716 |f415da44-ea65-4cb2-82e9-15deb1689080|Christina Phelps  |VIC  |Female|NULL             |Vehicula Pellentesque Corporation|artist supply, craft                                 |a   |6.48     |NULL                      |5.4627    |0.151077508447|5.59351251664E-4|145.09045632274646|-37.86701904495482 |40.0              |2969.0                   |2273.0                   |2.6                   |7439.0 |15102.0|7664.0 |10635.3     |8580.0      |7135.8      |2155.7     |3745.1     |671.3       |335.8      |618.6       |33877.5       |10993.0     |8930.7      |7195.3      |2215.5     |3823.7     |701.8       |313.4      |639.2       |34812.7       |\n",
      "|8    |2022|3501    |2022-08-25    |49505931725 |11142  |926065     |93.94146089501055 |1144ebc2-2998-4909-897d-16496e6c243b|Joseph Bailey     |VIC  |Male  |NULL             |Suspendisse Ac Associates        |digital goods, books, movies, music                  |b   |4.7      |NULL                      |1022.8815 |2.8494040059  |0.100586926796  |142.29171160591616|-34.65567436632965 |40.0              |2357.0                   |2055.0                   |2.9                   |1074.0 |2146.0 |1074.0 |10635.3     |8580.0      |7135.8      |2155.7     |3745.1     |671.3       |335.8      |618.6       |33877.5       |10993.0     |8930.7      |7195.3      |2215.5     |3823.7     |701.8       |313.4      |639.2       |34812.7       |\n",
      "|8    |2022|2760    |2022-08-25    |37442271968 |22295  |1310415    |5.647240735643751 |d34d17c2-c8bf-48da-a4de-a6d0317afc4c|Sandra Clark      |NSW  |Female|NULL             |Magna Tellus Faucibus LLP        |watch, clock, jewelry repair                         |a   |6.81     |NULL                      |19.9308   |0.316273505526|0.00193959403316|150.78121557118465|-33.76079362827471 |34.0              |1853.0                   |1575.0                   |2.8                   |18597.0|37632.0|19033.0|10635.3     |8580.0      |7135.8      |2155.7     |3745.1     |671.3       |335.8      |618.6       |33877.5       |10993.0     |8930.7      |7195.3      |2215.5     |3823.7     |701.8       |313.4      |639.2       |34812.7       |\n",
      "+-----+----+--------+--------------+------------+-------+-----------+------------------+------------------------------------+------------------+-----+------+-----------------+---------------------------------+-----------------------------------------------------+----+---------+--------------------------+----------+--------------+----------------+------------------+-------------------+------------------+-------------------------+-------------------------+----------------------+-------+-------+-------+------------+------------+------------+-----------+-----------+------------+-----------+------------+--------------+------------+------------+------------+-----------+-----------+------------+-----------+------------+--------------+\n",
      "only showing top 20 rows\n",
      "\n"
     ]
    }
   ],
   "source": [
    "retail_df = spark.read.parquet(\".././data/raw/retail_sales.parquet\")\n",
    "retail_df = retail_df.withColumn(\"month\", F.month(\"date\"))\n",
    "retail_df = retail_df.withColumn(\"year\", F.year(\"date\"))\n",
    "retail_df = retail_df.drop('date')\n",
    "retail_df = retail_df.select([col for col in retail_df.columns if not col.endswith('trend')])\n",
    "retail_df.show(truncate=False)\n",
    "\n",
    "full_transactions = full_transactions.withColumn(\"month\", F.month(\"order_datetime\"))\n",
    "full_transactions = full_transactions.withColumn(\"year\", F.year(\"order_datetime\"))\n",
    "full_transactions = full_transactions.join(retail_df, on=['month', 'year'], how='left')\n",
    "full_transactions.show(truncate=False)"
   ]
  },
  {
   "cell_type": "code",
   "execution_count": 21,
   "metadata": {},
   "outputs": [
    {
     "name": "stdout",
     "output_type": "stream",
     "text": [
      "+-----+----+--------+--------------+------------+-------+-----------+------------------+------------------------------------+------------------+-----+------+-----------------+---------------------------------+-----------------------------------------------------+----+---------+--------------------------+----------+--------------+----------------+------------------+-------------------+------------------+-------------------------+-------------------------+----------------------+-------+-------+-------+------------+------------+------------+-----------+-----------+------------+-----------+------------+--------------+------------+------------+------------+-----------+-----------+------------+-----------+------------+--------------+\n",
      "|month|year|postcode|order_datetime|merchant_abn|user_id|consumer_id|dollar_value      |order_id                            |consumer_name     |state|gender|fraud_probability|merchant_name                    |tags                                                 |type|take_rate|merchant_fraud_probability|AREASQKM21|SHAPE_Leng    |SHAPE_Area      |lon               |lat                |Median_age_persons|Median_tot_fam_inc_weekly|Median_tot_hhd_inc_weekly|Average_household_size|Tot_M  |Tot_P  |Tot_F  |NSW_original|VIC_original|QLD_original|SA_original|WA_original|TAS_original|NT_original|ACT_original|Total_original|NSW_seasonal|VIC_seasonal|QLD_seasonal|SA_seasonal|WA_seasonal|TAS_seasonal|NT_seasonal|ACT_seasonal|Total_seasonal|\n",
      "+-----+----+--------+--------------+------------+-------+-----------+------------------+------------------------------------+------------------+-----+------+-----------------+---------------------------------+-----------------------------------------------------+----+---------+--------------------------+----------+--------------+----------------+------------------+-------------------+------------------+-------------------------+-------------------------+----------------------+-------+-------+-------+------------+------------+------------+-----------+-----------+------------+-----------+------------+--------------+------------+------------+------------+-----------+-----------+------------+-----------+------------+--------------+\n",
      "|8    |2022|6519    |2022-08-25    |63290521567 |11138  |401483     |41.239626303220014|09f6132a-a6a8-47a2-a03e-383ddbf5feaa|Veronica Nelson   |WA   |Female|NULL             |Vehicula Pellentesque Corporation|artist supply, craft                                 |a   |6.48     |NULL                      |2656.6928 |2.5708772467  |0.247235249687  |115.57732627080664|-29.525753922346176|42.0              |1696.0                   |1366.0                   |2.3                   |296.0  |575.0  |274.0  |10635.3     |8580.0      |7135.8      |2155.7     |3745.1     |671.3       |335.8      |618.6       |33877.5       |10993.0     |8930.7      |7195.3      |2215.5     |3823.7     |701.8       |313.4      |639.2       |34812.7       |\n",
      "|8    |2022|6170    |2022-08-25    |63465140133 |22285  |416278     |8.815286645396842 |f4fc1a3b-a5b1-4d75-b459-cf9bc12e1347|Luke Greene       |WA   |Male  |NULL             |Vitae Odio Limited               |digital goods, books, movies, music                  |b   |3.68     |NULL                      |25.1197   |0.273815991311|0.00240427992111|115.82983013986298|-32.26676947616427 |31.0              |2153.0                   |2012.0                   |3.0                   |8615.0 |17329.0|8709.0 |10635.3     |8580.0      |7135.8      |2155.7     |3745.1     |671.3       |335.8      |618.6       |33877.5       |10993.0     |8930.7      |7195.3      |2215.5     |3823.7     |701.8       |313.4      |639.2       |34812.7       |\n",
      "|8    |2022|2281    |2022-08-25    |21359184622 |11139  |505718     |66.46301590693417 |b1a52524-b6e6-42a5-9726-687033350acc|Monica Garrett    |NSW  |Female|NULL             |Sit Amet PC                      |motor vehicle supplies, new parts                    |b   |3.6      |NULL                      |30.9078   |0.574920487909|0.00298619538495|151.63053860482896|-33.11936492147126 |49.0              |1825.0                   |1400.0                   |2.4                   |7511.0 |15323.0|7813.0 |10635.3     |8580.0      |7135.8      |2155.7     |3745.1     |671.3       |335.8      |618.6       |33877.5       |10993.0     |8930.7      |7195.3      |2215.5     |3823.7     |701.8       |313.4      |639.2       |34812.7       |\n",
      "|8    |2022|6170    |2022-08-25    |75034515922 |22285  |416278     |19.654995598411727|ba240514-5dea-4059-ac35-5917d4853188|Luke Greene       |WA   |Male  |NULL             |Ac Eleifend Corp.                |digital goods, books, movies, music                  |a   |6.22     |NULL                      |25.1197   |0.273815991311|0.00240427992111|115.82983013986298|-32.26676947616427 |31.0              |2153.0                   |2012.0                   |3.0                   |8615.0 |17329.0|8709.0 |10635.3     |8580.0      |7135.8      |2155.7     |3745.1     |671.3       |335.8      |618.6       |33877.5       |10993.0     |8930.7      |7195.3      |2215.5     |3823.7     |701.8       |313.4      |639.2       |34812.7       |\n",
      "|8    |2022|3677    |2022-08-25    |96334476428 |11140  |813297     |6.383881161736656 |3f1c61aa-6b5b-4c8d-b981-f23029087927|Benjamin Schneider|VIC  |Male  |NULL             |Sed Est Ltd                      |bicycle,                                             |b   |3.66     |NULL                      |48.7989   |0.485028986409|0.00490032322583|146.316005335411  |-36.36938362617703 |44.0              |1694.0                   |1218.0                   |2.2                   |9043.0 |19214.0|10169.0|10635.3     |8580.0      |7135.8      |2155.7     |3745.1     |671.3       |335.8      |618.6       |33877.5       |10993.0     |8930.7      |7195.3      |2215.5     |3823.7     |701.8       |313.4      |639.2       |34812.7       |\n",
      "|8    |2022|6170    |2022-08-25    |96442520325 |22285  |416278     |91.14307120608396 |89e25ac5-7775-4be8-9c5a-1879387db58b|Luke Greene       |WA   |Male  |NULL             |Nullam Lobortis Quam Company     |computers, computer peripheral equipment, software   |b   |3.65     |NULL                      |25.1197   |0.273815991311|0.00240427992111|115.82983013986298|-32.26676947616427 |31.0              |2153.0                   |2012.0                   |3.0                   |8615.0 |17329.0|8709.0 |10635.3     |8580.0      |7135.8      |2155.7     |3745.1     |671.3       |335.8      |618.6       |33877.5       |10993.0     |8930.7      |7195.3      |2215.5     |3823.7     |701.8       |313.4      |639.2       |34812.7       |\n",
      "|8    |2022|3677    |2022-08-25    |74753274268 |11140  |813297     |1532.603740282265 |9764b14c-82ba-498e-9b95-63b66cff29fe|Benjamin Schneider|VIC  |Male  |NULL             |Duis A Mi LLP                    |music, musical instruments, pianos, sheet music      |b   |3.16     |NULL                      |48.7989   |0.485028986409|0.00490032322583|146.316005335411  |-36.36938362617703 |44.0              |1694.0                   |1218.0                   |2.2                   |9043.0 |19214.0|10169.0|10635.3     |8580.0      |7135.8      |2155.7     |3745.1     |671.3       |335.8      |618.6       |33877.5       |10993.0     |8930.7      |7195.3      |2215.5     |3823.7     |701.8       |313.4      |639.2       |34812.7       |\n",
      "|8    |2022|3677    |2022-08-25    |28896046710 |11140  |813297     |371.95178106226   |dd5d2e91-c03b-4f0e-b283-764d0ff48d0b|Benjamin Schneider|VIC  |Male  |NULL             |Nec Orci Ltd                     |computers, computer peripheral equipment, software   |a   |6.75     |NULL                      |48.7989   |0.485028986409|0.00490032322583|146.316005335411  |-36.36938362617703 |44.0              |1694.0                   |1218.0                   |2.2                   |9043.0 |19214.0|10169.0|10635.3     |8580.0      |7135.8      |2155.7     |3745.1     |671.3       |335.8      |618.6       |33877.5       |10993.0     |8930.7      |7195.3      |2215.5     |3823.7     |701.8       |313.4      |639.2       |34812.7       |\n",
      "|8    |2022|5049    |2022-08-25    |86578477987 |22289  |708403     |29.86919166344463 |91317698-0a33-468b-a626-8afb2f14eb23|Gary Contreras    |SA   |Male  |NULL             |Leo In Consulting                |watch, clock, jewelry repair                         |a   |6.43     |NULL                      |9.1543    |0.136127952039|9.04383971909E-4|138.5253254820878 |-35.04458571910915 |44.0              |2247.0                   |1853.0                   |2.5                   |5079.0 |10380.0|5297.0 |10635.3     |8580.0      |7135.8      |2155.7     |3745.1     |671.3       |335.8      |618.6       |33877.5       |10993.0     |8930.7      |7195.3      |2215.5     |3823.7     |701.8       |313.4      |639.2       |34812.7       |\n",
      "|8    |2022|5049    |2022-08-25    |23338656015 |22289  |708403     |208.56112392056014|d2f80078-57bf-4778-b9dd-4ceb0212db16|Gary Contreras    |SA   |Male  |NULL             |Iaculis LLC                      |watch, clock, jewelry repair                         |b   |3.25     |NULL                      |9.1543    |0.136127952039|9.04383971909E-4|138.5253254820878 |-35.04458571910915 |44.0              |2247.0                   |1853.0                   |2.5                   |5079.0 |10380.0|5297.0 |10635.3     |8580.0      |7135.8      |2155.7     |3745.1     |671.3       |335.8      |618.6       |33877.5       |10993.0     |8930.7      |7195.3      |2215.5     |3823.7     |701.8       |313.4      |639.2       |34812.7       |\n",
      "|8    |2022|3202    |2022-08-25    |71674475255 |11141  |1027466    |28.632569840078762|aabf0b5b-4cb2-414c-b2f7-aef45b44233c|Amy Jones         |VIC  |Female|NULL             |Lacinia Mattis LLC               |opticians, optical goods, eyeglasses                 |b   |3.81     |NULL                      |7.1165    |0.124299313525|7.2958124547E-4 |145.09320011027017|-37.9560532414967  |41.0              |2531.0                   |2088.0                   |2.8                   |1386.0 |2826.0 |1441.0 |10635.3     |8580.0      |7135.8      |2155.7     |3745.1     |671.3       |335.8      |618.6       |33877.5       |10993.0     |8930.7      |7195.3      |2215.5     |3823.7     |701.8       |313.4      |639.2       |34812.7       |\n",
      "|8    |2022|5139    |2022-08-25    |19933438190 |22290  |948149     |14.323239293792307|e21d5163-4224-403b-8ec6-a3943303000d|Stephen Nguyen    |SA   |Male  |NULL             |Dui Nec Corporation              |tent, awning                                         |c   |2.22     |NULL                      |9.345     |0.188775599849|9.21956074956E-4|138.8008792369133 |-34.92985858149402 |38.0              |2333.0                   |2089.0                   |2.8                   |139.0  |290.0  |145.0  |10635.3     |8580.0      |7135.8      |2155.7     |3745.1     |671.3       |335.8      |618.6       |33877.5       |10993.0     |8930.7      |7195.3      |2215.5     |3823.7     |701.8       |313.4      |639.2       |34812.7       |\n",
      "|8    |2022|3202    |2022-08-25    |33495932835 |11141  |1027466    |41.29031713659889 |99e70960-fbf4-4c32-a7ae-f6aefb57c1bb|Amy Jones         |VIC  |Female|NULL             |Vel Arcu Foundation              |furniture, home furnishings, equipment, manufacturers|b   |4.69     |NULL                      |7.1165    |0.124299313525|7.2958124547E-4 |145.09320011027017|-37.9560532414967  |41.0              |2531.0                   |2088.0                   |2.8                   |1386.0 |2826.0 |1441.0 |10635.3     |8580.0      |7135.8      |2155.7     |3745.1     |671.3       |335.8      |618.6       |33877.5       |10993.0     |8930.7      |7195.3      |2215.5     |3823.7     |701.8       |313.4      |639.2       |34812.7       |\n",
      "|8    |2022|5139    |2022-08-25    |24598653065 |22290  |948149     |153.15593430224752|549cba08-9ae5-47b8-a787-077b787b0bf5|Stephen Nguyen    |SA   |Male  |NULL             |Et Rutrum Foundation             |cable, satellite, other pay television, radio        |c   |2.17     |NULL                      |9.345     |0.188775599849|9.21956074956E-4|138.8008792369133 |-34.92985858149402 |38.0              |2333.0                   |2089.0                   |2.8                   |139.0  |290.0  |145.0  |10635.3     |8580.0      |7135.8      |2155.7     |3745.1     |671.3       |335.8      |618.6       |33877.5       |10993.0     |8930.7      |7195.3      |2215.5     |3823.7     |701.8       |313.4      |639.2       |34812.7       |\n",
      "|8    |2022|3501    |2022-08-25    |43186523025 |11142  |926065     |48.875777274640306|006278ce-6897-4848-abb0-2c47dcc9b718|Joseph Bailey     |VIC  |Male  |NULL             |Lorem Ipsum Sodales Industries   |florists supplies, nursery stock, flowers            |b   |4.47     |NULL                      |1022.8815 |2.8494040059  |0.100586926796  |142.29171160591616|-34.65567436632965 |40.0              |2357.0                   |2055.0                   |2.9                   |1074.0 |2146.0 |1074.0 |10635.3     |8580.0      |7135.8      |2155.7     |3745.1     |671.3       |335.8      |618.6       |33877.5       |10993.0     |8930.7      |7195.3      |2215.5     |3823.7     |701.8       |313.4      |639.2       |34812.7       |\n",
      "|8    |2022|4861    |2022-08-25    |75089928159 |22293  |969847     |84.36075929447935 |aaceca97-402c-4dae-8fe8-254a901e71c7|Eric Odonnell     |QLD  |Male  |NULL             |Porttitor Vulputate Limited      |gift, card, novelty, souvenir                        |c   |1.67     |NULL                      |118.9753  |1.0676489509  |0.0101131663581 |145.94365920715651|-17.32760008705828 |47.0              |1529.0                   |1131.0                   |2.3                   |797.0  |1541.0 |745.0  |10635.3     |8580.0      |7135.8      |2155.7     |3745.1     |671.3       |335.8      |618.6       |33877.5       |10993.0     |8930.7      |7195.3      |2215.5     |3823.7     |701.8       |313.4      |639.2       |34812.7       |\n",
      "|8    |2022|3501    |2022-08-25    |79283124876 |11142  |926065     |243.81248238450115|8e402226-1bde-453a-b15d-3b8d15ade6ac|Joseph Bailey     |VIC  |Male  |NULL             |Pellentesque Massa Associates    |florists supplies, nursery stock, flowers            |b   |5.03     |NULL                      |1022.8815 |2.8494040059  |0.100586926796  |142.29171160591616|-34.65567436632965 |40.0              |2357.0                   |2055.0                   |2.9                   |1074.0 |2146.0 |1074.0 |10635.3     |8580.0      |7135.8      |2155.7     |3745.1     |671.3       |335.8      |618.6       |33877.5       |10993.0     |8930.7      |7195.3      |2215.5     |3823.7     |701.8       |313.4      |639.2       |34812.7       |\n",
      "|8    |2022|3147    |2022-08-25    |63290521567 |22294  |349919     |7.762579944884716 |f415da44-ea65-4cb2-82e9-15deb1689080|Christina Phelps  |VIC  |Female|NULL             |Vehicula Pellentesque Corporation|artist supply, craft                                 |a   |6.48     |NULL                      |5.4627    |0.151077508447|5.59351251664E-4|145.09045632274646|-37.86701904495482 |40.0              |2969.0                   |2273.0                   |2.6                   |7439.0 |15102.0|7664.0 |10635.3     |8580.0      |7135.8      |2155.7     |3745.1     |671.3       |335.8      |618.6       |33877.5       |10993.0     |8930.7      |7195.3      |2215.5     |3823.7     |701.8       |313.4      |639.2       |34812.7       |\n",
      "|8    |2022|3501    |2022-08-25    |49505931725 |11142  |926065     |93.94146089501055 |1144ebc2-2998-4909-897d-16496e6c243b|Joseph Bailey     |VIC  |Male  |NULL             |Suspendisse Ac Associates        |digital goods, books, movies, music                  |b   |4.7      |NULL                      |1022.8815 |2.8494040059  |0.100586926796  |142.29171160591616|-34.65567436632965 |40.0              |2357.0                   |2055.0                   |2.9                   |1074.0 |2146.0 |1074.0 |10635.3     |8580.0      |7135.8      |2155.7     |3745.1     |671.3       |335.8      |618.6       |33877.5       |10993.0     |8930.7      |7195.3      |2215.5     |3823.7     |701.8       |313.4      |639.2       |34812.7       |\n",
      "|8    |2022|2760    |2022-08-25    |37442271968 |22295  |1310415    |5.647240735643751 |d34d17c2-c8bf-48da-a4de-a6d0317afc4c|Sandra Clark      |NSW  |Female|NULL             |Magna Tellus Faucibus LLP        |watch, clock, jewelry repair                         |a   |6.81     |NULL                      |19.9308   |0.316273505526|0.00193959403316|150.78121557118465|-33.76079362827471 |34.0              |1853.0                   |1575.0                   |2.8                   |18597.0|37632.0|19033.0|10635.3     |8580.0      |7135.8      |2155.7     |3745.1     |671.3       |335.8      |618.6       |33877.5       |10993.0     |8930.7      |7195.3      |2215.5     |3823.7     |701.8       |313.4      |639.2       |34812.7       |\n",
      "+-----+----+--------+--------------+------------+-------+-----------+------------------+------------------------------------+------------------+-----+------+-----------------+---------------------------------+-----------------------------------------------------+----+---------+--------------------------+----------+--------------+----------------+------------------+-------------------+------------------+-------------------------+-------------------------+----------------------+-------+-------+-------+------------+------------+------------+-----------+-----------+------------+-----------+------------+--------------+------------+------------+------------+-----------+-----------+------------+-----------+------------+--------------+\n",
      "only showing top 20 rows\n",
      "\n"
     ]
    }
   ],
   "source": [
    "full_transactions.show(truncate=False)"
   ]
  },
  {
   "cell_type": "code",
   "execution_count": 22,
   "metadata": {},
   "outputs": [
    {
     "name": "stderr",
     "output_type": "stream",
     "text": [
      "                                                                                \r"
     ]
    }
   ],
   "source": [
    "full_transactions.write.mode('overwrite').parquet('.././data/curated/transaction_external')"
   ]
  }
 ],
 "metadata": {
  "kernelspec": {
   "display_name": "Python 3",
   "language": "python",
   "name": "python3"
  },
  "language_info": {
   "codemirror_mode": {
    "name": "ipython",
    "version": 3
   },
   "file_extension": ".py",
   "mimetype": "text/x-python",
   "name": "python",
   "nbconvert_exporter": "python",
   "pygments_lexer": "ipython3",
   "version": "3.11.4"
  }
 },
 "nbformat": 4,
 "nbformat_minor": 2
}
