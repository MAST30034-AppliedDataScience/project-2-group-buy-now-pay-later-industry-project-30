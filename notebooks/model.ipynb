{
 "cells": [
  {
   "cell_type": "code",
   "execution_count": 1,
   "metadata": {},
   "outputs": [],
   "source": [
    "import pandas as pd\n",
    "import numpy as np\n",
    "import geopandas as gpd\n",
    "import os\n",
    "import re\n",
    "import glob\n",
    "import math\n",
    "import seaborn as sns\n",
    "import matplotlib.pyplot as plt\n",
    "import statsmodels.api as sm\n",
    "from pyspark.sql import SparkSession\n",
    "import pyspark.sql.functions as F\n",
    "from pyspark.sql.types import *\n",
    "from datetime import datetime, timedelta\n",
    "from collections import defaultdict\n",
    "from multiprocessing import Manager\n",
    "import sklearn"
   ]
  },
  {
   "cell_type": "code",
   "execution_count": 2,
   "metadata": {},
   "outputs": [
    {
     "name": "stderr",
     "output_type": "stream",
     "text": [
      "your 131072x1 screen size is bogus. expect trouble\n",
      "24/10/03 03:26:47 WARN Utils: Your hostname, DESKTOP-F216TKE resolves to a loopback address: 127.0.1.1; using 10.255.255.254 instead (on interface lo)\n",
      "24/10/03 03:26:47 WARN Utils: Set SPARK_LOCAL_IP if you need to bind to another address\n",
      "Setting default log level to \"WARN\".\n",
      "To adjust logging level use sc.setLogLevel(newLevel). For SparkR, use setLogLevel(newLevel).\n",
      "24/10/03 03:26:48 WARN NativeCodeLoader: Unable to load native-hadoop library for your platform... using builtin-java classes where applicable\n"
     ]
    }
   ],
   "source": [
    "spark = (\n",
    "    SparkSession.builder.appName('Fraud Imputation')\n",
    "    .config(\"spark.sql.repl.eagerEval.enabled\", True)\n",
    "    .config(\"spark.sql.parquet.cacheMetadata\", \"true\")\n",
    "    .config(\"spark.sql.session.timeZone\", \"Etc/UTC\")\n",
    "    .config('spark.driver.memory', '4g')\n",
    "    .config('spark.executor.memory', '2g')\n",
    "    .getOrCreate()\n",
    ")"
   ]
  },
  {
   "cell_type": "code",
   "execution_count": 3,
   "metadata": {},
   "outputs": [
    {
     "name": "stderr",
     "output_type": "stream",
     "text": [
      "                                                                                \r"
     ]
    }
   ],
   "source": [
    "full_transactions = spark.read.parquet(\".././data/curated/full_transaction3\")"
   ]
  },
  {
   "cell_type": "code",
   "execution_count": 4,
   "metadata": {},
   "outputs": [
    {
     "name": "stdout",
     "output_type": "stream",
     "text": [
      "+--------------+------------+-------+-----------+------------------+--------------------+------------------+-----+--------+------+-----------------+--------------------+--------------------+----+---------+--------------+\n",
      "|order_datetime|merchant_abn|user_id|consumer_id|      dollar_value|            order_id|     consumer_name|state|postcode|gender|fraud_probability|       merchant_name|                tags|type|take_rate|merchant_fraud|\n",
      "+--------------+------------+-------+-----------+------------------+--------------------+------------------+-----+--------+------+-----------------+--------------------+--------------------+----+---------+--------------+\n",
      "|    2022-08-25| 63290521567|  11138|     401483|41.239626303220014|09f6132a-a6a8-47a...|   Veronica Nelson|   WA|    6519|Female|             NULL|Vehicula Pellente...|artist supply, craft|   a|     6.48|          NULL|\n",
      "|    2022-08-25| 63465140133|  22285|     416278| 8.815286645396842|f4fc1a3b-a5b1-4d7...|       Luke Greene|   WA|    6170|  Male|             NULL|  Vitae Odio Limited|digital goods, bo...|   b|     3.68|          NULL|\n",
      "|    2022-08-25| 21359184622|  11139|     505718| 66.46301590693417|b1a52524-b6e6-42a...|    Monica Garrett|  NSW|    2281|Female|             NULL|         Sit Amet PC|motor vehicle sup...|   b|      3.6|          NULL|\n",
      "|    2022-08-25| 75034515922|  22285|     416278|19.654995598411727|ba240514-5dea-405...|       Luke Greene|   WA|    6170|  Male|             NULL|   Ac Eleifend Corp.|digital goods, bo...|   a|     6.22|          NULL|\n",
      "|    2022-08-25| 96334476428|  11140|     813297| 6.383881161736656|3f1c61aa-6b5b-4c8...|Benjamin Schneider|  VIC|    3677|  Male|             NULL|         Sed Est Ltd|            bicycle,|   b|     3.66|          NULL|\n",
      "|    2022-08-25| 96442520325|  22285|     416278| 91.14307120608396|89e25ac5-7775-4be...|       Luke Greene|   WA|    6170|  Male|             NULL|Nullam Lobortis Q...|computers, comput...|   b|     3.65|          NULL|\n",
      "|    2022-08-25| 74753274268|  11140|     813297| 1532.603740282265|9764b14c-82ba-498...|Benjamin Schneider|  VIC|    3677|  Male|             NULL|       Duis A Mi LLP|music, musical in...|   b|     3.16|          NULL|\n",
      "|    2022-08-25| 89107518982|  22288|     530970| 89.41184219239359|b95d447c-a089-4a5...|     Robert Harmon|  NSW|    1044|  Male|             NULL|Adipiscing Lobort...|gift, card, novel...|   b|     3.66|          NULL|\n",
      "|    2022-08-25| 28896046710|  11140|     813297|   371.95178106226|dd5d2e91-c03b-4f0...|Benjamin Schneider|  VIC|    3677|  Male|             NULL|        Nec Orci Ltd|computers, comput...|   a|     6.75|          NULL|\n",
      "|    2022-08-25| 86578477987|  22289|     708403| 29.86919166344463|91317698-0a33-468...|    Gary Contreras|   SA|    5049|  Male|             NULL|   Leo In Consulting|watch, clock, jew...|   a|     6.43|          NULL|\n",
      "|    2022-08-25| 23338656015|  22289|     708403|208.56112392056014|d2f80078-57bf-477...|    Gary Contreras|   SA|    5049|  Male|             NULL|         Iaculis LLC|watch, clock, jew...|   b|     3.25|          NULL|\n",
      "|    2022-08-25| 71674475255|  11141|    1027466|28.632569840078762|aabf0b5b-4cb2-414...|         Amy Jones|  VIC|    3202|Female|             NULL|  Lacinia Mattis LLC|opticians, optica...|   b|     3.81|          NULL|\n",
      "|    2022-08-25| 19933438190|  22290|     948149|14.323239293792307|e21d5163-4224-403...|    Stephen Nguyen|   SA|    5139|  Male|             NULL| Dui Nec Corporation|        tent, awning|   c|     2.22|          NULL|\n",
      "|    2022-08-25| 33495932835|  11141|    1027466| 41.29031713659889|99e70960-fbf4-4c3...|         Amy Jones|  VIC|    3202|Female|             NULL| Vel Arcu Foundation|furniture, home f...|   b|     4.69|          NULL|\n",
      "|    2022-08-25| 24598653065|  22290|     948149|153.15593430224752|549cba08-9ae5-47b...|    Stephen Nguyen|   SA|    5139|  Male|             NULL|Et Rutrum Foundation|cable, satellite,...|   c|     2.17|          NULL|\n",
      "|    2022-08-25| 43186523025|  11142|     926065|48.875777274640306|006278ce-6897-484...|     Joseph Bailey|  VIC|    3501|  Male|             NULL|Lorem Ipsum Sodal...|florists supplies...|   b|     4.47|          NULL|\n",
      "|    2022-08-25| 75089928159|  22293|     969847| 84.36075929447935|aaceca97-402c-4da...|     Eric Odonnell|  QLD|    4861|  Male|             NULL|Porttitor Vulputa...|gift, card, novel...|   c|     1.67|          NULL|\n",
      "|    2022-08-25| 79283124876|  11142|     926065|243.81248238450115|8e402226-1bde-453...|     Joseph Bailey|  VIC|    3501|  Male|             NULL|Pellentesque Mass...|florists supplies...|   b|     5.03|          NULL|\n",
      "|    2022-08-25| 63290521567|  22294|     349919| 7.762579944884716|f415da44-ea65-4cb...|  Christina Phelps|  VIC|    3147|Female|             NULL|Vehicula Pellente...|artist supply, craft|   a|     6.48|          NULL|\n",
      "|    2022-08-25| 49505931725|  11142|     926065| 93.94146089501055|1144ebc2-2998-490...|     Joseph Bailey|  VIC|    3501|  Male|             NULL|Suspendisse Ac As...|digital goods, bo...|   b|      4.7|          NULL|\n",
      "+--------------+------------+-------+-----------+------------------+--------------------+------------------+-----+--------+------+-----------------+--------------------+--------------------+----+---------+--------------+\n",
      "only showing top 20 rows\n",
      "\n"
     ]
    }
   ],
   "source": [
    "full_transactions.show()"
   ]
  },
  {
   "cell_type": "code",
   "execution_count": 5,
   "metadata": {},
   "outputs": [
    {
     "name": "stdout",
     "output_type": "stream",
     "text": [
      "root\n",
      " |-- order_datetime: date (nullable = true)\n",
      " |-- merchant_abn: string (nullable = true)\n",
      " |-- user_id: string (nullable = true)\n",
      " |-- consumer_id: string (nullable = true)\n",
      " |-- dollar_value: double (nullable = true)\n",
      " |-- order_id: string (nullable = true)\n",
      " |-- consumer_name: string (nullable = true)\n",
      " |-- state: string (nullable = true)\n",
      " |-- postcode: integer (nullable = true)\n",
      " |-- gender: string (nullable = true)\n",
      " |-- fraud_probability: double (nullable = true)\n",
      " |-- merchant_name: string (nullable = true)\n",
      " |-- tags: string (nullable = true)\n",
      " |-- type: string (nullable = true)\n",
      " |-- take_rate: double (nullable = true)\n",
      " |-- merchant_fraud: string (nullable = true)\n",
      "\n"
     ]
    }
   ],
   "source": [
    "full_transactions.printSchema()"
   ]
  },
  {
   "cell_type": "code",
   "execution_count": 5,
   "metadata": {},
   "outputs": [],
   "source": [
    "full_transactions = full_transactions.withColumn('merchant_fraud', F.col('merchant_fraud').cast(DoubleType()))"
   ]
  },
  {
   "cell_type": "code",
   "execution_count": 6,
   "metadata": {},
   "outputs": [
    {
     "name": "stderr",
     "output_type": "stream",
     "text": [
      "[Stage 3:====================================================>      (8 + 1) / 9]\r"
     ]
    },
    {
     "name": "stdout",
     "output_type": "stream",
     "text": [
      "RMSE: 2.6936593239469953\n"
     ]
    },
    {
     "name": "stderr",
     "output_type": "stream",
     "text": [
      "                                                                                \r"
     ]
    }
   ],
   "source": [
    "from sklearn.preprocessing import OneHotEncoder, StandardScaler\n",
    "from sklearn.compose import ColumnTransformer\n",
    "from sklearn.pipeline import Pipeline\n",
    "from sklearn.neighbors import KNeighborsRegressor\n",
    "from sklearn.impute import SimpleImputer\n",
    "from sklearn.model_selection import train_test_split\n",
    "from sklearn.metrics import root_mean_squared_error\n",
    "\n",
    "#transactions = spark.read.parquet(\"../data/curated/transactions.parquet\")\n",
    "\n",
    "transactions = full_transactions.where(F.col(\"merchant_fraud\").isNotNull()).toPandas()\n",
    "\n",
    "categories = full_transactions.select('tags').distinct().toPandas().dropna().astype(\"string\")['tags'].to_list()\n",
    "\n",
    "X = transactions.drop('merchant_fraud', axis=1)\n",
    "y = transactions['merchant_fraud']\n",
    "X_train, X_test, y_train, y_test = train_test_split(X, y, test_size=0.1)\n",
    "\n",
    "columns = list(X.columns.values)\n",
    "\n",
    "preprocessor = ColumnTransformer(\n",
    "    transformers=[\n",
    "        ('tags', Pipeline([\n",
    "            ('onehot', OneHotEncoder(categories=[categories], sparse_output=False, handle_unknown='ignore')),\n",
    "        ]), [columns.index('tags')]), # tags\n",
    "        ('state', Pipeline([\n",
    "            ('onehot', OneHotEncoder(categories=[['NSW', 'VIC', 'TAS', 'QLD', 'WA', 'SA', 'NT', 'ACT']], sparse_output=False, handle_unknown='ignore')),\n",
    "        ]), [columns.index('state')]), # state\n",
    "        ('dollar_value', Pipeline([\n",
    "            ('imputer', SimpleImputer(strategy='mean')),\n",
    "            ('scaler', StandardScaler()),\n",
    "        ]), [columns.index('dollar_value')]), # dollar value\n",
    "        ('take_rate', Pipeline([\n",
    "            ('imputer', SimpleImputer(strategy='mean')),\n",
    "            ('scaler', StandardScaler()),\n",
    "        ]), [columns.index('take_rate')]) # take rate\n",
    "    ]\n",
    ")\n",
    "\n",
    "knn = KNeighborsRegressor(n_neighbors=3, weights='distance', p=1)\n",
    "\n",
    "pipeline = Pipeline(steps=[\n",
    "    ('preprocessor', preprocessor),\n",
    "    ('knn', knn)\n",
    "])\n",
    "\n",
    "pipeline.fit(X_train, y_train)\n",
    "\n",
    "# Display graph of predicted vs actual\n",
    "pipeline.predict(X_test)\n",
    "print(f\"RMSE: {root_mean_squared_error(y_test, pipeline.predict(X_test))}\")"
   ]
  },
  {
   "cell_type": "code",
   "execution_count": 7,
   "metadata": {},
   "outputs": [],
   "source": [
    "pipeline.fit(X, y)\n",
    "\n",
    "sdf = pd.read_parquet('.././data/curated/full_transaction3', engine='fastparquet')\n",
    "\n"
   ]
  },
  {
   "cell_type": "code",
   "execution_count": 8,
   "metadata": {},
   "outputs": [
    {
     "data": {
      "text/html": [
       "<div>\n",
       "<style scoped>\n",
       "    .dataframe tbody tr th:only-of-type {\n",
       "        vertical-align: middle;\n",
       "    }\n",
       "\n",
       "    .dataframe tbody tr th {\n",
       "        vertical-align: top;\n",
       "    }\n",
       "\n",
       "    .dataframe thead th {\n",
       "        text-align: right;\n",
       "    }\n",
       "</style>\n",
       "<table border=\"1\" class=\"dataframe\">\n",
       "  <thead>\n",
       "    <tr style=\"text-align: right;\">\n",
       "      <th></th>\n",
       "      <th>order_datetime</th>\n",
       "      <th>merchant_abn</th>\n",
       "      <th>user_id</th>\n",
       "      <th>consumer_id</th>\n",
       "      <th>dollar_value</th>\n",
       "      <th>order_id</th>\n",
       "      <th>consumer_name</th>\n",
       "      <th>state</th>\n",
       "      <th>postcode</th>\n",
       "      <th>gender</th>\n",
       "      <th>fraud_probability</th>\n",
       "      <th>merchant_name</th>\n",
       "      <th>tags</th>\n",
       "      <th>type</th>\n",
       "      <th>take_rate</th>\n",
       "      <th>merchant_fraud</th>\n",
       "    </tr>\n",
       "  </thead>\n",
       "  <tbody>\n",
       "    <tr>\n",
       "      <th>0</th>\n",
       "      <td>2022-08-25</td>\n",
       "      <td>63290521567</td>\n",
       "      <td>11138</td>\n",
       "      <td>401483</td>\n",
       "      <td>41.239626</td>\n",
       "      <td>09f6132a-a6a8-47a2-a03e-383ddbf5feaa</td>\n",
       "      <td>Veronica Nelson</td>\n",
       "      <td>WA</td>\n",
       "      <td>6519</td>\n",
       "      <td>Female</td>\n",
       "      <td>NaN</td>\n",
       "      <td>Vehicula Pellentesque Corporation</td>\n",
       "      <td>artist supply, craft</td>\n",
       "      <td>a</td>\n",
       "      <td>6.48</td>\n",
       "      <td>None</td>\n",
       "    </tr>\n",
       "    <tr>\n",
       "      <th>1</th>\n",
       "      <td>2022-08-25</td>\n",
       "      <td>63465140133</td>\n",
       "      <td>22285</td>\n",
       "      <td>416278</td>\n",
       "      <td>8.815287</td>\n",
       "      <td>f4fc1a3b-a5b1-4d75-b459-cf9bc12e1347</td>\n",
       "      <td>Luke Greene</td>\n",
       "      <td>WA</td>\n",
       "      <td>6170</td>\n",
       "      <td>Male</td>\n",
       "      <td>NaN</td>\n",
       "      <td>Vitae Odio Limited</td>\n",
       "      <td>digital goods, books, movies, music</td>\n",
       "      <td>b</td>\n",
       "      <td>3.68</td>\n",
       "      <td>None</td>\n",
       "    </tr>\n",
       "    <tr>\n",
       "      <th>2</th>\n",
       "      <td>2022-08-25</td>\n",
       "      <td>21359184622</td>\n",
       "      <td>11139</td>\n",
       "      <td>505718</td>\n",
       "      <td>66.463016</td>\n",
       "      <td>b1a52524-b6e6-42a5-9726-687033350acc</td>\n",
       "      <td>Monica Garrett</td>\n",
       "      <td>NSW</td>\n",
       "      <td>2281</td>\n",
       "      <td>Female</td>\n",
       "      <td>NaN</td>\n",
       "      <td>Sit Amet PC</td>\n",
       "      <td>motor vehicle supplies, new parts</td>\n",
       "      <td>b</td>\n",
       "      <td>3.60</td>\n",
       "      <td>None</td>\n",
       "    </tr>\n",
       "    <tr>\n",
       "      <th>3</th>\n",
       "      <td>2022-08-25</td>\n",
       "      <td>75034515922</td>\n",
       "      <td>22285</td>\n",
       "      <td>416278</td>\n",
       "      <td>19.654996</td>\n",
       "      <td>ba240514-5dea-4059-ac35-5917d4853188</td>\n",
       "      <td>Luke Greene</td>\n",
       "      <td>WA</td>\n",
       "      <td>6170</td>\n",
       "      <td>Male</td>\n",
       "      <td>NaN</td>\n",
       "      <td>Ac Eleifend Corp.</td>\n",
       "      <td>digital goods, books, movies, music</td>\n",
       "      <td>a</td>\n",
       "      <td>6.22</td>\n",
       "      <td>None</td>\n",
       "    </tr>\n",
       "    <tr>\n",
       "      <th>4</th>\n",
       "      <td>2022-08-25</td>\n",
       "      <td>96334476428</td>\n",
       "      <td>11140</td>\n",
       "      <td>813297</td>\n",
       "      <td>6.383881</td>\n",
       "      <td>3f1c61aa-6b5b-4c8d-b981-f23029087927</td>\n",
       "      <td>Benjamin Schneider</td>\n",
       "      <td>VIC</td>\n",
       "      <td>3677</td>\n",
       "      <td>Male</td>\n",
       "      <td>NaN</td>\n",
       "      <td>Sed Est Ltd</td>\n",
       "      <td>bicycle,</td>\n",
       "      <td>b</td>\n",
       "      <td>3.66</td>\n",
       "      <td>None</td>\n",
       "    </tr>\n",
       "  </tbody>\n",
       "</table>\n",
       "</div>"
      ],
      "text/plain": [
       "  order_datetime merchant_abn user_id consumer_id  dollar_value  \\\n",
       "0     2022-08-25  63290521567   11138      401483     41.239626   \n",
       "1     2022-08-25  63465140133   22285      416278      8.815287   \n",
       "2     2022-08-25  21359184622   11139      505718     66.463016   \n",
       "3     2022-08-25  75034515922   22285      416278     19.654996   \n",
       "4     2022-08-25  96334476428   11140      813297      6.383881   \n",
       "\n",
       "                               order_id       consumer_name state  postcode  \\\n",
       "0  09f6132a-a6a8-47a2-a03e-383ddbf5feaa     Veronica Nelson    WA      6519   \n",
       "1  f4fc1a3b-a5b1-4d75-b459-cf9bc12e1347         Luke Greene    WA      6170   \n",
       "2  b1a52524-b6e6-42a5-9726-687033350acc      Monica Garrett   NSW      2281   \n",
       "3  ba240514-5dea-4059-ac35-5917d4853188         Luke Greene    WA      6170   \n",
       "4  3f1c61aa-6b5b-4c8d-b981-f23029087927  Benjamin Schneider   VIC      3677   \n",
       "\n",
       "   gender  fraud_probability                      merchant_name  \\\n",
       "0  Female                NaN  Vehicula Pellentesque Corporation   \n",
       "1    Male                NaN                 Vitae Odio Limited   \n",
       "2  Female                NaN                        Sit Amet PC   \n",
       "3    Male                NaN                  Ac Eleifend Corp.   \n",
       "4    Male                NaN                        Sed Est Ltd   \n",
       "\n",
       "                                  tags type  take_rate merchant_fraud  \n",
       "0                 artist supply, craft    a       6.48           None  \n",
       "1  digital goods, books, movies, music    b       3.68           None  \n",
       "2    motor vehicle supplies, new parts    b       3.60           None  \n",
       "3  digital goods, books, movies, music    a       6.22           None  \n",
       "4                             bicycle,    b       3.66           None  "
      ]
     },
     "execution_count": 8,
     "metadata": {},
     "output_type": "execute_result"
    }
   ],
   "source": [
    "sdf.head()"
   ]
  },
  {
   "cell_type": "code",
   "execution_count": 9,
   "metadata": {},
   "outputs": [
    {
     "ename": "",
     "evalue": "",
     "output_type": "error",
     "traceback": [
      "\u001b[1;31mThe Kernel crashed while executing code in the current cell or a previous cell. \n",
      "\u001b[1;31mPlease review the code in the cell(s) to identify a possible cause of the failure. \n",
      "\u001b[1;31mClick <a href='https://aka.ms/vscodeJupyterKernelCrash'>here</a> for more info. \n",
      "\u001b[1;31mView Jupyter <a href='command:jupyter.viewOutput'>log</a> for further details."
     ]
    }
   ],
   "source": [
    "sdf_to_predict = sdf[sdf['merchant_fraud'].isnull()]"
   ]
  },
  {
   "cell_type": "code",
   "execution_count": null,
   "metadata": {},
   "outputs": [],
   "source": [
    "rows_with_na = df[df['A'].isnull()]"
   ]
  },
  {
   "cell_type": "code",
   "execution_count": 8,
   "metadata": {},
   "outputs": [],
   "source": [
    "mask = sdf['merchant_fraud'].isna()"
   ]
  },
  {
   "cell_type": "code",
   "execution_count": 9,
   "metadata": {},
   "outputs": [
    {
     "name": "stdout",
     "output_type": "stream",
     "text": [
      "0           True\n",
      "1           True\n",
      "2           True\n",
      "3           True\n",
      "4           True\n",
      "            ... \n",
      "13614849    True\n",
      "13614850    True\n",
      "13614851    True\n",
      "13614852    True\n",
      "13614853    True\n",
      "Name: merchant_fraud, Length: 13614854, dtype: bool\n"
     ]
    }
   ],
   "source": [
    "print(mask)"
   ]
  },
  {
   "cell_type": "code",
   "execution_count": 10,
   "metadata": {},
   "outputs": [
    {
     "ename": "",
     "evalue": "",
     "output_type": "error",
     "traceback": [
      "\u001b[1;31mThe Kernel crashed while executing code in the current cell or a previous cell. \n",
      "\u001b[1;31mPlease review the code in the cell(s) to identify a possible cause of the failure. \n",
      "\u001b[1;31mClick <a href='https://aka.ms/vscodeJupyterKernelCrash'>here</a> for more info. \n",
      "\u001b[1;31mView Jupyter <a href='command:jupyter.viewOutput'>log</a> for further details."
     ]
    }
   ],
   "source": [
    "sdf_to_predict = sdf.loc[mask, :]"
   ]
  },
  {
   "cell_type": "code",
   "execution_count": 9,
   "metadata": {},
   "outputs": [
    {
     "ename": "",
     "evalue": "",
     "output_type": "error",
     "traceback": [
      "\u001b[1;31mThe Kernel crashed while executing code in the current cell or a previous cell. \n",
      "\u001b[1;31mPlease review the code in the cell(s) to identify a possible cause of the failure. \n",
      "\u001b[1;31mClick <a href='https://aka.ms/vscodeJupyterKernelCrash'>here</a> for more info. \n",
      "\u001b[1;31mView Jupyter <a href='command:jupyter.viewOutput'>log</a> for further details."
     ]
    }
   ],
   "source": []
  },
  {
   "cell_type": "code",
   "execution_count": 9,
   "metadata": {},
   "outputs": [
    {
     "ename": "",
     "evalue": "",
     "output_type": "error",
     "traceback": [
      "\u001b[1;31mThe Kernel crashed while executing code in the current cell or a previous cell. \n",
      "\u001b[1;31mPlease review the code in the cell(s) to identify a possible cause of the failure. \n",
      "\u001b[1;31mClick <a href='https://aka.ms/vscodeJupyterKernelCrash'>here</a> for more info. \n",
      "\u001b[1;31mView Jupyter <a href='command:jupyter.viewOutput'>log</a> for further details."
     ]
    }
   ],
   "source": [
    "\n",
    "\n",
    "\n",
    "X_to_predict = sdf_to_predict.drop('merchant_fraud', axis=1)\n",
    "\n",
    "sdf.loc[mask, 'merchant_fraud'] = pipeline.predict(X_to_predict)\n"
   ]
  },
  {
   "cell_type": "code",
   "execution_count": null,
   "metadata": {},
   "outputs": [],
   "source": [
    "sdf.to_parquet(\".././data/curated/transactions_merchantfraud\", engine='pyarrow')"
   ]
  }
 ],
 "metadata": {
  "kernelspec": {
   "display_name": "Python 3",
   "language": "python",
   "name": "python3"
  },
  "language_info": {
   "codemirror_mode": {
    "name": "ipython",
    "version": 3
   },
   "file_extension": ".py",
   "mimetype": "text/x-python",
   "name": "python",
   "nbconvert_exporter": "python",
   "pygments_lexer": "ipython3",
   "version": "3.10.12"
  }
 },
 "nbformat": 4,
 "nbformat_minor": 2
}
