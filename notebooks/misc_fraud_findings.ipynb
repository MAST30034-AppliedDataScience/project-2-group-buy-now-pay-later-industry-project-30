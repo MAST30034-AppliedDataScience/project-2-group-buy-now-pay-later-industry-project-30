{
 "cells": [
  {
   "cell_type": "markdown",
   "metadata": {},
   "source": [
    "# Findings Notebook - Feature Engineering and Fraud Analysis"
   ]
  },
  {
   "cell_type": "markdown",
   "metadata": {},
   "source": [
    "This notebook contains data analysis on the features (merchant and consumer fraud) and also performs feature engineering on the data."
   ]
  },
  {
   "cell_type": "code",
   "execution_count": 3,
   "metadata": {},
   "outputs": [],
   "source": [
    "import pandas as pd\n",
    "import numpy as np\n",
    "import plotly.express as px\n",
    "import geopandas as gpd\n",
    "import os\n",
    "import re\n",
    "import glob\n",
    "import math\n",
    "import seaborn as sns\n",
    "import matplotlib.pyplot as plt\n",
    "import statsmodels.api as sm\n",
    "from pyspark.sql import SparkSession\n",
    "import pyspark.sql.functions as F\n",
    "from pyspark.sql.types import *\n",
    "from datetime import datetime, timedelta\n",
    "from collections import defaultdict\n",
    "from multiprocessing import Manager\n",
    "import sklearn"
   ]
  },
  {
   "cell_type": "code",
   "execution_count": 4,
   "metadata": {},
   "outputs": [
    {
     "name": "stderr",
     "output_type": "stream",
     "text": [
      "24/10/18 21:35:54 WARN Utils: Your hostname, Alans-MacBook-Air-4.local resolves to a loopback address: 127.0.0.1; using 192.168.0.52 instead (on interface en0)\n",
      "24/10/18 21:35:54 WARN Utils: Set SPARK_LOCAL_IP if you need to bind to another address\n",
      "Setting default log level to \"WARN\".\n",
      "To adjust logging level use sc.setLogLevel(newLevel). For SparkR, use setLogLevel(newLevel).\n",
      "24/10/18 21:35:55 WARN NativeCodeLoader: Unable to load native-hadoop library for your platform... using builtin-java classes where applicable\n",
      "24/10/18 21:35:56 WARN Utils: Service 'SparkUI' could not bind on port 4040. Attempting port 4041.\n",
      "24/10/18 21:35:56 WARN Utils: Service 'SparkUI' could not bind on port 4041. Attempting port 4042.\n"
     ]
    }
   ],
   "source": [
    "spark = (\n",
    "    SparkSession.builder.appName('Insights and Findings 1')\n",
    "    .config(\"spark.sql.repl.eagerEval.enabled\", True)\n",
    "    .config(\"spark.sql.parquet.cacheMetadata\", \"true\")\n",
    "    .config(\"spark.sql.session.timeZone\", \"Etc/UTC\")\n",
    "    .config('spark.driver.memory', '7g')\n",
    "    .config('spark.executor.memory', '3g')\n",
    "    .getOrCreate()\n",
    ")"
   ]
  },
  {
   "cell_type": "code",
   "execution_count": 8,
   "metadata": {},
   "outputs": [
    {
     "name": "stderr",
     "output_type": "stream",
     "text": [
      "                                                                                \r"
     ]
    }
   ],
   "source": [
    "#This file contains all the data with the imputed fraud values and preprocessed retail sales data.\n",
    "sdf = spark.read.parquet(\".././data/curated/transactions_preprocessed.parquet\")"
   ]
  },
  {
   "cell_type": "code",
   "execution_count": 4,
   "metadata": {},
   "outputs": [
    {
     "name": "stderr",
     "output_type": "stream",
     "text": [
      "24/10/18 17:03:46 WARN SparkStringUtils: Truncated the string representation of a plan since it was too large. This behavior can be adjusted by setting 'spark.sql.debug.maxToStringFields'.\n",
      "                                                                                \r"
     ]
    },
    {
     "name": "stdout",
     "output_type": "stream",
     "text": [
      "+-----+----+--------+--------------+------------+-------+-----------+------------------+--------------------+-------------+-----------------+-----+------+------------------+--------------------+--------------------+----+---------+--------------------------+----------+--------------+----------------+----------------+------------------+------------------+-------------------------+-------------------------+----------------------+-------+-------+-------+--------------------+--------------------+-------------------+-----------+------------+-----------+----------+--------------+--------------+\n",
      "|month|year|postcode|order_datetime|merchant_abn|user_id|consumer_id|      dollar_value|            order_id|consumer_name|          address|state|gender| fraud_probability|       merchant_name|                tags|type|take_rate|merchant_fraud_probability|AREASQKM21|    SHAPE_Leng|      SHAPE_Area|             lon|               lat|Median_age_persons|Median_tot_fam_inc_weekly|Median_tot_hhd_inc_weekly|Average_household_size|  Tot_M|  Tot_P|  Tot_F|total_original_sales|total_seasonal_sales|   expected_revenue|day_of_week|day_of_month|day_of_year|is_holiday|seasonal_sales|original_sales|\n",
      "+-----+----+--------+--------------+------------+-------+-----------+------------------+--------------------+-------------+-----------------+-----+------+------------------+--------------------+--------------------+----+---------+--------------------------+----------+--------------+----------------+----------------+------------------+------------------+-------------------------+-------------------------+----------------------+-------+-------+-------+--------------------+--------------------+-------------------+-----------+------------+-----------+----------+--------------+--------------+\n",
      "|    5|2021|    4869|    2021-05-29| 49212265466|  10836|     367979| 85.40243397482658|301eec46-93b5-4e5...|  Jason Lopez|2067 Gomez Common|  QLD|  Male| 10.49860265739092|      Auctor Company|florists supplies...|   b|      4.5|         56.32625948855948|   67.7783|0.513257572636|0.00575222830959|145.749399534118|-17.03006315587274|              32.0|                   1925.0|                   1745.0|                   2.9|10168.0|20619.0|10448.0|             30216.8|             30965.7| 1.5022180198842003|          7|          29|        149|         0|        6418.6|        6206.0|\n",
      "|    6|2021|    4869|    2021-06-16| 43186523025|  10836|     367979|30.236678278753256|6f1244cb-428c-4cc...|  Jason Lopez|2067 Gomez Common|  QLD|  Male|16.297444208893918|Lorem Ipsum Sodal...|florists supplies...|   b|     4.47|        56.242888531834325|   67.7783|0.513257572636|0.00575222830959|145.749399534118|-17.03006315587274|              32.0|                   1925.0|                   1745.0|                   2.9|10168.0|20619.0|10448.0|             29433.8|             30529.4|0.49502709044741794|          4|          16|        167|         0|        6399.1|        6164.1|\n",
      "|    6|2021|    4869|    2021-06-16| 63952221889|  10836|     367979| 78.61873639201814|b8157a56-c7e6-433...|  Jason Lopez|2067 Gomez Common|  QLD|  Male|14.687390705017009|         Non Limited|gift, card, novel...|   c|     1.94|         61.56952717478614|   67.7783|0.513257572636|0.00575222830959|145.749399534118|-17.03006315587274|              32.0|                   1925.0|                   1745.0|                   2.9|10168.0|20619.0|10448.0|             29433.8|             30529.4| 0.5000538117580133|          4|          16|        167|         0|        6399.1|        6164.1|\n",
      "|    8|2021|    4869|    2021-08-17| 62694031334|  10836|     367979| 6.680567499975745|2dca3595-bffa-480...|  Jason Lopez|2067 Gomez Common|  QLD|  Male| 19.68729775303534|  Vel Est Tempor LLP|computers, comput...|   a|     5.76|         57.03473483168352|   67.7783|0.513257572636|0.00575222830959|145.749399534118|-17.03006315587274|              32.0|                   1925.0|                   1745.0|                   2.9|10168.0|20619.0|10448.0|             28368.7|             29208.8|0.13278150138807798|          3|          17|        229|         0|        6302.3|        6221.6|\n",
      "|    5|2021|    4869|    2021-05-15| 49322182190|  10836|     367979|180.62841980187676|8fca30da-4105-4ea...|  Jason Lopez|2067 Gomez Common|  QLD|  Male| 14.94560349222716|Gravida Mauris In...|watch, clock, jew...|   a|     6.35|        28.504479048104585|   67.7783|0.513257572636|0.00575222830959|145.749399534118|-17.03006315587274|              32.0|                   1925.0|                   1745.0|                   2.9|10168.0|20619.0|10448.0|             30216.8|             30965.7|  6.974858642642051|          7|          15|        135|         0|        6418.6|        6206.0|\n",
      "|    8|2021|    4869|    2021-08-04| 10959028715|  10836|     367979| 170.3601416532676|e1b32974-fdce-4b5...|  Jason Lopez|2067 Gomez Common|  QLD|  Male|15.413335979710315|   Ante Maecenas Ltd|furniture, home f...|   b|     4.28|        29.539733207182703|   67.7783|0.513257572636|0.00575222830959|145.749399534118|-17.03006315587274|              32.0|                   1925.0|                   1745.0|                   2.9|10168.0|20619.0|10448.0|             28368.7|             29208.8|  4.345681989545646|          4|           4|        216|         0|        6302.3|        6221.6|\n",
      "|    5|2021|    4869|    2021-05-30| 64203420245|  10836|     367979|31.178008438649844|e4cb4ad0-5831-454...|  Jason Lopez|2067 Gomez Common|  QLD|  Male|13.314712959262414|  Pede Nonummy Corp.|        tent, awning|   c|     2.86|        29.191011601385448|   67.7783|0.513257572636|0.00575222830959|145.749399534118|-17.03006315587274|              32.0|                   1925.0|                   1745.0|                   2.9|10168.0|20619.0|10448.0|             30216.8|             30965.7| 0.5473286537742487|          1|          30|        150|         0|        6418.6|        6206.0|\n",
      "|    5|2021|    4869|    2021-05-30| 45783766755|  10836|     367979| 93.33299594263057|08e36afc-aaeb-47e...|  Jason Lopez|2067 Gomez Common|  QLD|  Male|15.046866489759523|    Purus Duis Corp.|opticians, optica...|   b|     3.74|        28.783075683376662|   67.7783|0.513257572636|0.00575222830959|145.749399534118|-17.03006315587274|              32.0|                   1925.0|                   1745.0|                   2.9|10168.0|20619.0|10448.0|             30216.8|             30965.7| 2.1118809127928375|          1|          30|        150|         0|        6418.6|        6206.0|\n",
      "|    5|2021|    4869|    2021-05-30| 62773208456|  10836|     367979|14.487788281072106|6788f1e8-af8c-4e1...|  Jason Lopez|2067 Gomez Common|  QLD|  Male|18.102749785705566|        Ac Institute|watch, clock, jew...|   c|     2.62|         58.09325531440657|   67.7783|0.513257572636|0.00575222830959|145.749399534118|-17.03006315587274|              32.0|                   1925.0|                   1745.0|                   2.9|10168.0|20619.0|10448.0|             30216.8|             30965.7|0.13027366409394625|          1|          30|        150|         0|        6418.6|        6206.0|\n",
      "|    7|2021|    4869|    2021-07-28| 39135845322|  10836|     367979| 90.97314588210197|1f124431-3b59-4ba...|  Jason Lopez|2067 Gomez Common|  QLD|  Male|15.211854345803701|Quis Pede Praesen...|                shoe|   a|     6.58|        31.343502316867795|   67.7783|0.513257572636|0.00575222830959|145.749399534118|-17.03006315587274|              32.0|                   1925.0|                   1745.0|                   2.9|10168.0|20619.0|10448.0|             29172.7|             29789.1|  3.484623725013731|          4|          28|        209|         0|        6373.0|        6384.1|\n",
      "|    6|2021|    4869|    2021-06-04| 32897338221|  10836|     367979| 134.7024543344475|1f124190-0f41-494...|  Jason Lopez|2067 Gomez Common|  QLD|  Male|14.941592090737762|Vel Nisl Incorpor...|gift, card, novel...|   a|      6.2|        30.579032159006328|   67.7783|0.513257572636|0.00575222830959|145.749399534118|-17.03006315587274|              32.0|                   1925.0|                   1745.0|                   2.9|10168.0|20619.0|10448.0|             29433.8|             30529.4|  4.931455425400757|          6|           4|        155|         0|        6399.1|        6164.1|\n",
      "|    5|2021|    4869|    2021-05-23| 32656335530|  10836|     367979| 63.27561743275987|33ba714f-debc-4b6...|  Jason Lopez|2067 Gomez Common|  QLD|  Male| 13.79341183568169|Enim Etiam Gravid...|gift, card, novel...|   b|     3.92|          70.6135023450301|   67.7783|0.513257572636|0.00575222830959|145.749399534118|-17.03006315587274|              32.0|                   1925.0|                   1745.0|                   2.9|10168.0|20619.0|10448.0|             30216.8|             30965.7|  0.628363203061921|          1|          23|        143|         0|        6418.6|        6206.0|\n",
      "|    5|2021|    4869|    2021-05-23| 41383736952|  10836|     367979|106.38074442033171|a59010ee-c0a5-42c...|  Jason Lopez|2067 Gomez Common|  QLD|  Male|15.957881984600364|Lacus Vestibulum ...|cable, satellite,...|   c|     2.25|         29.05405590788917|   67.7783|0.513257572636|0.00575222830959|145.749399534118|-17.03006315587274|              32.0|                   1925.0|                   1745.0|                   2.9|10168.0|20619.0|10448.0|             30216.8|             30965.7| 1.4271515856637336|          1|          23|        143|         0|        6418.6|        6206.0|\n",
      "|    7|2021|    4869|    2021-07-20| 68216911708|  10836|     367979|  27.2408819026754|c22e32c2-1bb8-460...|  Jason Lopez|2067 Gomez Common|  QLD|  Male|13.484717741790641|Placerat Eget Ven...|computers, comput...|   c|     3.05|        30.024291830924508|   67.7783|0.513257572636|0.00575222830959|145.749399534118|-17.03006315587274|              32.0|                   1925.0|                   1745.0|                   2.9|10168.0|20619.0|10448.0|             29172.7|             29789.1|  0.502992065278056|          3|          20|        201|         0|        6373.0|        6384.1|\n",
      "|    6|2021|    4869|    2021-06-21| 89726005175|  10836|     367979|  80.4003643316178|1ff0bcb5-1305-47d...|  Jason Lopez|2067 Gomez Common|  QLD|  Male| 17.58906678079575| Est Nunc Consulting|        tent, awning|   a|     6.01|         29.19176046232119|   67.7783|0.513257572636|0.00575222830959|145.749399534118|-17.03006315587274|              32.0|                   1925.0|                   1745.0|                   2.9|10168.0|20619.0|10448.0|             29433.8|             30529.4|  2.819688400694101|          2|          21|        172|         0|        6399.1|        6164.1|\n",
      "|    6|2021|    4869|    2021-06-23| 52065114842|  10836|     367979|23.819031312928786|48aa96c2-6ac4-4b3...|  Jason Lopez|2067 Gomez Common|  QLD|  Male|15.644984929719135|      Gravida Non PC|digital goods, bo...|   b|     3.98|         43.48916936757714|   67.7783|0.513257572636|0.00575222830959|145.749399534118|-17.03006315587274|              32.0|                   1925.0|                   1745.0|                   2.9|10168.0|20619.0|10448.0|             29433.8|             30529.4|0.45190772535783474|          4|          23|        174|         0|        6399.1|        6164.1|\n",
      "|    6|2021|    4869|    2021-06-28| 62224020443|  10836|     367979|147.18172210349127|9c616e51-28cd-426...|  Jason Lopez|2067 Gomez Common|  QLD|  Male|14.496517003094164|Hendrerit A Corpo...|watch, clock, jew...|   a|     6.64|         28.56025376618299|   67.7783|0.513257572636|0.00575222830959|145.749399534118|-17.03006315587274|              32.0|                   1925.0|                   1745.0|                   2.9|10168.0|20619.0|10448.0|             29433.8|             30529.4|  5.969606008132823|          2|          28|        179|         0|        6399.1|        6164.1|\n",
      "|    3|2021|    4869|    2021-03-21| 64203420245|  10836|     367979| 42.84391910440106|f0213d4e-0919-462...|  Jason Lopez|2067 Gomez Common|  QLD|  Male|14.393384712378257|  Pede Nonummy Corp.|        tent, awning|   c|     2.86|         29.19100555952585|   67.7783|0.513257572636|0.00575222830959|145.749399534118|-17.03006315587274|              32.0|                   1925.0|                   1745.0|                   2.9|10168.0|20619.0|10448.0|             30336.0|             30610.5| 0.7427642234823106|          1|          21|         80|         0|        6336.9|        6202.0|\n",
      "|    3|2021|    4869|    2021-03-21| 84703983173|  10836|     367979| 137.3468071837659|1553dc21-4e31-401...|  Jason Lopez|2067 Gomez Common|  QLD|  Male|14.706297814632922|     Amet Consulting|computer programm...|   c|     2.31|        29.133053110073075|   67.7783|0.513257572636|0.00575222830959|145.749399534118|-17.03006315587274|              32.0|                   1925.0|                   1745.0|                   2.9|10168.0|20619.0|10448.0|             30336.0|             30610.5| 1.9177466650797663|          1|          21|         80|         0|        6336.9|        6202.0|\n",
      "|    6|2021|    4869|    2021-06-13| 46298404088|  10836|     367979| 135.6373755681784|31bd2cd5-51cc-4a7...|  Jason Lopez|2067 Gomez Common|  QLD|  Male|18.349911895885423|Feugiat Sed Nec I...|books, periodical...|   a|     6.16|        46.537097456400964|   67.7783|0.513257572636|0.00575222830959|145.749399534118|-17.03006315587274|              32.0|                   1925.0|                   1745.0|                   2.9|10168.0|20619.0|10448.0|             29433.8|             30529.4|   3.64728147814949|          1|          13|        164|         0|        6399.1|        6164.1|\n",
      "+-----+----+--------+--------------+------------+-------+-----------+------------------+--------------------+-------------+-----------------+-----+------+------------------+--------------------+--------------------+----+---------+--------------------------+----------+--------------+----------------+----------------+------------------+------------------+-------------------------+-------------------------+----------------------+-------+-------+-------+--------------------+--------------------+-------------------+-----------+------------+-----------+----------+--------------+--------------+\n",
      "only showing top 20 rows\n",
      "\n"
     ]
    }
   ],
   "source": [
    "sdf.show()"
   ]
  },
  {
   "cell_type": "markdown",
   "metadata": {},
   "source": [
    "Calculate the Range of Fraud Probabilites along with outliers\n",
    "merchant_stats.pandas_api().plot.scatter"
   ]
  },
  {
   "cell_type": "code",
   "execution_count": 5,
   "metadata": {},
   "outputs": [
    {
     "name": "stdout",
     "output_type": "stream",
     "text": [
      "root\n",
      " |-- month: integer (nullable = true)\n",
      " |-- year: integer (nullable = true)\n",
      " |-- postcode: integer (nullable = true)\n",
      " |-- order_datetime: date (nullable = true)\n",
      " |-- merchant_abn: string (nullable = true)\n",
      " |-- user_id: string (nullable = true)\n",
      " |-- consumer_id: string (nullable = true)\n",
      " |-- dollar_value: double (nullable = true)\n",
      " |-- order_id: string (nullable = true)\n",
      " |-- consumer_name: string (nullable = true)\n",
      " |-- address: string (nullable = true)\n",
      " |-- state: string (nullable = true)\n",
      " |-- gender: string (nullable = true)\n",
      " |-- fraud_probability: double (nullable = true)\n",
      " |-- merchant_name: string (nullable = true)\n",
      " |-- tags: string (nullable = true)\n",
      " |-- type: string (nullable = true)\n",
      " |-- take_rate: double (nullable = true)\n",
      " |-- merchant_fraud_probability: double (nullable = true)\n",
      " |-- AREASQKM21: double (nullable = true)\n",
      " |-- SHAPE_Leng: double (nullable = true)\n",
      " |-- SHAPE_Area: double (nullable = true)\n",
      " |-- lon: double (nullable = true)\n",
      " |-- lat: double (nullable = true)\n",
      " |-- Median_age_persons: double (nullable = true)\n",
      " |-- Median_tot_fam_inc_weekly: double (nullable = true)\n",
      " |-- Median_tot_hhd_inc_weekly: double (nullable = true)\n",
      " |-- Average_household_size: double (nullable = true)\n",
      " |-- Tot_M: double (nullable = true)\n",
      " |-- Tot_P: double (nullable = true)\n",
      " |-- Tot_F: double (nullable = true)\n",
      " |-- total_original_sales: double (nullable = true)\n",
      " |-- total_seasonal_sales: double (nullable = true)\n",
      " |-- expected_revenue: double (nullable = true)\n",
      " |-- day_of_week: integer (nullable = true)\n",
      " |-- day_of_month: integer (nullable = true)\n",
      " |-- day_of_year: integer (nullable = true)\n",
      " |-- is_holiday: integer (nullable = true)\n",
      " |-- seasonal_sales: double (nullable = true)\n",
      " |-- original_sales: double (nullable = true)\n",
      "\n"
     ]
    }
   ],
   "source": [
    "sdf.printSchema()"
   ]
  },
  {
   "cell_type": "markdown",
   "metadata": {},
   "source": [
    "#### Analysis of Average Merchant Fraud"
   ]
  },
  {
   "cell_type": "code",
   "execution_count": 6,
   "metadata": {},
   "outputs": [],
   "source": [
    "average_fraud = sdf.groupBy('merchant_abn').agg(F.avg('merchant_fraud_probability').alias('average_fraud'))\n",
    "average_fraud"
   ]
  },
  {
   "cell_type": "code",
   "execution_count": null,
   "metadata": {},
   "outputs": [],
   "source": [
    "df2 = average_fraud.pandas_api()\n",
    "pdf = average_fraud.toPandas()"
   ]
  },
  {
   "cell_type": "code",
   "execution_count": 11,
   "metadata": {},
   "outputs": [
    {
     "data": {
      "text/plain": [
       "<Figure size 800x600 with 0 Axes>"
      ]
     },
     "metadata": {},
     "output_type": "display_data"
    },
    {
     "data": {
      "image/png": "[encoded data removed]",
      "text/plain": [
       "<Figure size 500x500 with 1 Axes>"
      ]
     },
     "metadata": {},
     "output_type": "display_data"
    }
   ],
   "source": [
    "plt.figure(figsize=(8, 6), frameon=False)\n",
    "sns.displot(data = pdf, x='average_fraud', bw_adjust=1, kind=\"kde\", common_norm=False, legend=False, fill=True)\n",
    "ax = plt.gca()\n",
    "ax.spines[\"top\"].set_visible(True)\n",
    "ax.spines[\"right\"].set_visible(True)\n",
    "ax.spines[\"left\"].set_visible(True)\n",
    "\n",
    "plt.title(\"Distribution of Merchant Fraud Rate\")\n",
    "plt.xlabel(\"Fraud Rate (%)\")\n",
    "plt.ylabel(\"Density\")\n",
    "plt.xlim((0, 100))\n",
    "plt.xlim(0)\n",
    "\n",
    "plt.show()"
   ]
  },
  {
   "cell_type": "markdown",
   "metadata": {},
   "source": [
    "Filter Merchants with a High Fraud Probability"
   ]
  },
  {
   "cell_type": "code",
   "execution_count": 13,
   "metadata": {},
   "outputs": [],
   "source": [
    "high_merchant_fraud = average_fraud.filter(F.col('average_fraud') > 50)\n",
    "high_merchant_fraud.select('merchant_abn').distinct().count()"
   ]
  },
  {
   "cell_type": "markdown",
   "metadata": {},
   "source": [
    "There are 266 merchants with a fraud probabiltity that is considered as an outlier"
   ]
  },
  {
   "cell_type": "markdown",
   "metadata": {},
   "source": [
    "Feature Engineering based on Merchant's to get sales, revenue, fraud, number of customers, days with sales etc.,"
   ]
  },
  {
   "cell_type": "code",
   "execution_count": 9,
   "metadata": {},
   "outputs": [],
   "source": [
    "sdf2 = sdf.groupBy('merchant_abn', 'tags', 'take_rate', 'type').agg(F.sum('dollar_value').alias('Total Revenue'), F.count('*').alias('Total Sales'), F.avg('merchant_fraud_probability').alias('Merchant Fraud'), F.avg('fraud_probability').alias('Consumer Fraud'), F.avg('Median_tot_fam_inc_weekly').alias('Median Family Income'), F.avg('seasonal_sales'), F.avg('original_sales'), F.avg('Average_household_size').alias('Average Household Size'), F.countDistinct('consumer_id').alias('Unique Customers'), F.avg('expected_revenue').alias('Average Expected Revenue'), F.countDistinct('order_datetime').alias('Days with Sales'))"
   ]
  },
  {
   "cell_type": "code",
   "execution_count": 16,
   "metadata": {},
   "outputs": [],
   "source": [
    "sdf2.show()"
   ]
  },
  {
   "cell_type": "markdown",
   "metadata": {},
   "source": [
    "This file contains the engineered features. "
   ]
  },
  {
   "cell_type": "code",
   "execution_count": 10,
   "metadata": {},
   "outputs": [
    {
     "name": "stderr",
     "output_type": "stream",
     "text": [
      "                                                                                \r"
     ]
    }
   ],
   "source": [
    "sdf2.write.mode('overwrite').parquet('.././data/curated/filtered')"
   ]
  },
  {
   "cell_type": "markdown",
   "metadata": {},
   "source": [
    "Find average consumer fraud for each merchant "
   ]
  },
  {
   "cell_type": "code",
   "execution_count": 18,
   "metadata": {},
   "outputs": [],
   "source": [
    "df = spark.read.parquet('.././data/curated/filtered')"
   ]
  },
  {
   "cell_type": "code",
   "execution_count": 19,
   "metadata": {},
   "outputs": [
    {
     "name": "stdout",
     "output_type": "stream",
     "text": [
      "+------------+--------------------+---------+----+------------------+-----------+------------------+------------------+--------------------+-------------------+-------------------+----------------------+----------------+------------------------+---------------+\n",
      "|merchant_abn|                tags|take_rate|type|     Total Revenue|Total Sales|    Merchant Fraud|    Consumer Fraud|Median Family Income|avg(seasonal_sales)|avg(original_sales)|Average Household Size|Unique Customers|Average Expected Revenue|Days with Sales|\n",
      "+------------+--------------------+---------+----+------------------+-----------+------------------+------------------+--------------------+-------------------+-------------------+----------------------+----------------+------------------------+---------------+\n",
      "| 28687004922|computer programm...|     3.88|   b|1199539.6177607474|      11884|29.145120033052184|14.219447100047875|  1976.8873274991586|  6432.504930999647|  6422.561098956571|    2.4543840457758335|            8912|       2.394451585540605|            606|\n",
      "| 79633007926|            bicycle,|     4.19|   b|1894725.1311416167|      15451|  40.3440026270394|14.150224632278261|   1986.736457187237|   6508.32491748105| 6491.1816646171765|     2.460500938450587|           10833|       2.640577633480011|            606|\n",
      "| 53062283717|                shoe|     3.93|   b| 1408291.924180988|       3480| 31.32412891934928|14.304300176972237|            1971.975|  6496.371063218397|  6481.728706896553|    2.4511781609195404|            3180|       9.368793180265165|            604|\n",
      "| 83935353706| health, beauty spas|     4.22|   b| 482997.6304497928|       2561|  42.7456339583728|14.336952436540164|  1982.6848887153456| 6439.4534947286265|   6411.30113237017|    2.4640765326044516|            2398|      3.8924388746637573|            594|\n",
      "| 74319969182|computer programm...|     6.79|   a|471151.86151196813|       1557|29.125978037338278| 13.28659868180375|  1990.4701348747592|  6444.857803468208|  6440.450610147721|     2.467501605651894|            1500|      12.637811040504412|            547|\n",
      "| 17055065679|computers, comput...|     3.71|   b|1013051.4191169029|       2027| 30.02429183092446|14.295927616892167|  1987.7784903798718|  6565.974691662556|  6552.091415885548|    2.4569807597434616|            1935|      11.145649664607527|            582|\n",
      "| 16587082018|cable, satellite,...|     6.29|   a| 203245.3951053513|       2538|28.504479048104425|14.614697628889088|  2000.4101654846336|  6479.464854215922|   6476.68364854216|    2.4505516154452316|            2369|      3.0749245514722445|            595|\n",
      "| 12434006854|stationery, offic...|     5.66|   a| 603840.3064626005|       1218|28.910549453875785|12.132480939017675|   1987.611658456486|  6547.133825944172|  6551.753284072251|    2.4495894909688007|            1194|       17.56811561998551|            523|\n",
      "| 18146314043| health, beauty spas|     4.41|   b| 76006.35609335377|        273| 45.59989528639596|14.404352354243299|  1984.3296703296703|  6613.262637362638|  6634.388278388277|    2.4512820512820515|             272|       5.685108577969417|            214|\n",
      "| 70217388552|gift, card, novel...|     5.52|   a| 78993.54387353452|        885| 30.57903215900631| 13.91727542253949|  1971.5435028248587|  6545.891073446325|  6530.004406779662|     2.458870056497175|             871|      2.9436396754539387|            454|\n",
      "| 86253699836|watch, clock, jew...|     2.87|   c|40996.235181651326|        728| 41.11459756175699|13.950940695175515|   1921.506868131868|  6483.535027472526| 6500.2127747252725|      2.46304945054945|             715|      0.8176177011344977|            421|\n",
      "| 55622580330|books, periodical...|      0.1|   e| 8263.656555885824|         24|62.922695907410166|13.374191189567213|              2027.0|  6418.208333333333|  6347.170833333334|    2.4499999999999997|              24|     0.10348222679954779|             24|\n",
      "| 56796074347|lawn, garden supp...|      5.8|   a| 33491.05102352648|         49| 34.40299839295766| 13.47816423188927|  1842.5714285714287|  6246.691836734694| 6120.5428571428565|     2.369387755102041|              49|       22.75987218911983|             48|\n",
      "| 31759308958|            bicycle,|     6.84|   a| 80915.11951353823|         79| 39.39645855762563| 11.98965056230272|  2039.2278481012659| 6007.9177215189875|  6025.787341772152|    2.4632911392405066|              79|      37.667116764088995|             76|\n",
      "| 16903677169|                shoe|     4.62|   b|19919.184650976367|         52| 31.51027082310459|14.815127139568359|  1982.6923076923076|   6541.75576923077|  6630.771153846154|    2.4961538461538457|              52|      10.295570266435373|             49|\n",
      "| 87070619541|artist supply, craft|     3.74|   b|13589.250089772802|         35|35.908857799762615|13.618181807377123|              1988.0|  7064.005714285714|  7027.368571428572|     2.434285714285714|              35|       8.034659389884762|             33|\n",
      "| 37322527524|artist supply, craft|     1.88|   c|31883.845783043147|         82|28.690204286050623| 13.84449225748836|  2015.6829268292684|  6744.121951219512|  6875.241463414634|     2.465853658536585|              82|        4.53291579272818|             76|\n",
      "| 50951615219|florists supplies...|     5.89|   a| 27678.78405155198|         84|51.504514006061136| 14.39664497629543|  1993.5119047619048|  5885.732142857143|  5810.947619047619|    2.5166666666666666|              84|       7.850451397725369|             81|\n",
      "| 21616154893|            bicycle,|     4.56|   b|21956.158721798332|         25|40.704144982132895|12.300005638579218|             1882.36|           6202.272|           6354.524|                 2.432|              25|      20.902438185612105|             24|\n",
      "| 30203637111|            bicycle,|     1.88|   c| 45607.29664555025|         42|40.130290974658614|11.993840575495005|  2136.1666666666665|  7209.888095238096|  7313.042857142858|    2.4809523809523806|              42|      10.848057717129544|             40|\n",
      "+------------+--------------------+---------+----+------------------+-----------+------------------+------------------+--------------------+-------------------+-------------------+----------------------+----------------+------------------------+---------------+\n",
      "only showing top 20 rows\n",
      "\n"
     ]
    }
   ],
   "source": [
    "df.show()"
   ]
  },
  {
   "cell_type": "code",
   "execution_count": 20,
   "metadata": {},
   "outputs": [
    {
     "data": {
      "text/plain": [
       "4026"
      ]
     },
     "execution_count": 20,
     "metadata": {},
     "output_type": "execute_result"
    }
   ],
   "source": [
    "df.count()"
   ]
  },
  {
   "cell_type": "code",
   "execution_count": 21,
   "metadata": {},
   "outputs": [
    {
     "data": {
      "application/vnd.plotly.v1+json": {
       "config": {
        "plotlyServerURL": "https://plot.ly"
       },
       "data": [
        {
         "hovertemplate": "index=%{x}<br>Density=%{y}<extra></extra>",
         "legendgroup": "",
         "line": {
          "color": "#636efa",
          "dash": "solid"
         },
         "marker": {
          "symbol": "circle"
         },
         "mode": "lines",
         "name": "",
         "orientation": "v",
         "showlegend": false,
         "type": "scatter",
         "x": [
          -31.084362315031466,
          -30.916477380643595,
          -30.748592446255724,
          -30.580707511867857,
          -30.412822577479986,
          -30.244937643092115,
          -30.077052708704244,
          -29.909167774316373,
          -29.741282839928505,
          -29.573397905540634,
          -29.405512971152763,
          -29.237628036764892,
          -29.069743102377025,
          -28.901858167989154,
          -28.733973233601283,
          -28.566088299213412,
          -28.39820336482554,
          -28.23031843043767,
          -28.062433496049803,
          -27.89454856166193,
          -27.72666362727406,
          -27.55877869288619,
          -27.390893758498322,
          -27.22300882411045,
          -27.05512388972258,
          -26.88723895533471,
          -26.719354020946838,
          -26.551469086558967,
          -26.3835841521711,
          -26.21569921778323,
          -26.047814283395358,
          -25.879929349007487,
          -25.71204441461962,
          -25.544159480231748,
          -25.376274545843877,
          -25.208389611456006,
          -25.040504677068135,
          -24.872619742680264,
          -24.704734808292397,
          -24.536849873904526,
          -24.368964939516655,
          -24.201080005128784,
          -24.033195070740916,
          -23.865310136353045,
          -23.697425201965174,
          -23.529540267577303,
          -23.361655333189432,
          -23.19377039880156,
          -23.025885464413694,
          -22.858000530025823,
          -22.690115595637952,
          -22.522230661250084,
          -22.354345726862213,
          -22.186460792474342,
          -22.01857585808647,
          -21.8506909236986,
          -21.68280598931073,
          -21.51492105492286,
          -21.34703612053499,
          -21.17915118614712,
          -21.01126625175925,
          -20.84338131737138,
          -20.67549638298351,
          -20.50761144859564,
          -20.33972651420777,
          -20.171841579819898,
          -20.003956645432027,
          -19.836071711044156,
          -19.668186776656288,
          -19.500301842268417,
          -19.332416907880546,
          -19.16453197349268,
          -18.996647039104808,
          -18.828762104716937,
          -18.660877170329066,
          -18.492992235941195,
          -18.325107301553324,
          -18.157222367165453,
          -17.989337432777585,
          -17.821452498389714,
          -17.653567564001843,
          -17.485682629613976,
          -17.317797695226105,
          -17.149912760838234,
          -16.982027826450363,
          -16.814142892062492,
          -16.64625795767462,
          -16.47837302328675,
          -16.310488088898882,
          -16.14260315451101,
          -15.974718220123142,
          -15.806833285735271,
          -15.6389483513474,
          -15.471063416959531,
          -15.30317848257166,
          -15.13529354818379,
          -14.967408613795921,
          -14.79952367940805,
          -14.63163874502018,
          -14.463753810632308,
          -14.295868876244437,
          -14.12798394185657,
          -13.960099007468699,
          -13.792214073080828,
          -13.624329138692957,
          -13.456444204305086,
          -13.288559269917219,
          -13.120674335529348,
          -12.952789401141477,
          -12.784904466753606,
          -12.617019532365735,
          -12.449134597977867,
          -12.281249663589996,
          -12.113364729202125,
          -11.945479794814254,
          -11.777594860426383,
          -11.609709926038516,
          -11.441824991650645,
          -11.273940057262774,
          -11.106055122874903,
          -10.938170188487032,
          -10.770285254099164,
          -10.602400319711293,
          -10.434515385323422,
          -10.266630450935551,
          -10.09874551654768,
          -9.930860582159813,
          -9.762975647771942,
          -9.59509071338407,
          -9.4272057789962,
          -9.259320844608329,
          -9.091435910220461,
          -8.92355097583259,
          -8.75566604144472,
          -8.587781107056848,
          -8.419896172668977,
          -8.25201123828111,
          -8.084126303893239,
          -7.916241369505368,
          -7.748356435117497,
          -7.580471500729626,
          -7.4125865663417585,
          -7.2447016319538875,
          -7.0768166975660165,
          -6.9089317631781455,
          -6.7410468287902745,
          -6.573161894402407,
          -6.405276960014536,
          -6.237392025626665,
          -6.069507091238794,
          -5.901622156850923,
          -5.733737222463056,
          -5.565852288075185,
          -5.397967353687314,
          -5.230082419299443,
          -5.062197484911572,
          -4.894312550523704,
          -4.726427616135833,
          -4.558542681747962,
          -4.390657747360091,
          -4.22277281297222,
          -4.054887878584353,
          -3.8870029441964817,
          -3.7191180098086107,
          -3.5512330754207397,
          -3.3833481410328723,
          -3.2154632066450013,
          -3.0475782722571303,
          -2.8796933378692593,
          -2.7118084034813883,
          -2.543923469093521,
          -2.37603853470565,
          -2.208153600317779,
          -2.040268665929908,
          -1.8723837315420369,
          -1.7044987971541694,
          -1.5366138627662984,
          -1.3687289283784274,
          -1.2008439939905564,
          -1.0329590596026854,
          -0.865074125214818,
          -0.697189190826947,
          -0.529304256439076,
          -0.36141932205120497,
          -0.19353438766333397,
          -0.025649453275466527,
          0.14223548111240447,
          0.31012041550027547,
          0.47800534988814647,
          0.6458902842760175,
          0.8137752186638849,
          0.9816601530517595,
          1.1495450874396234,
          1.3174300218274944,
          1.4853149562153654,
          1.6531998906032364,
          1.8210848249911074,
          1.9889697593789784,
          2.1568546937668494,
          2.3247396281547204,
          2.4926245625425913,
          2.6605094969304623,
          2.8283944313183262,
          2.9962793657061972,
          3.1641643000940682,
          3.3320492344819392,
          3.4999341688698102,
          3.6678191032576812,
          3.8357040376455522,
          4.003588972033423,
          4.171473906421294,
          4.339358840809165,
          4.507243775197029,
          4.6751287095849,
          4.843013643972771,
          5.010898578360642,
          5.178783512748513,
          5.346668447136384,
          5.514553381524255,
          5.682438315912126,
          5.850323250299997,
          6.018208184687868,
          6.186093119075732,
          6.353978053463603,
          6.521862987851474,
          6.689747922239345,
          6.857632856627216,
          7.025517791015087,
          7.193402725402958,
          7.361287659790829,
          7.5291725941787,
          7.697057528566571,
          7.864942462954435,
          8.032827397342306,
          8.200712331730177,
          8.368597266118048,
          8.536482200505919,
          8.70436713489379,
          8.87225206928166,
          9.040137003669532,
          9.208021938057403,
          9.375906872445274,
          9.543791806833138,
          9.711676741221009,
          9.87956167560888,
          10.04744660999675,
          10.215331544384622,
          10.383216478772493,
          10.551101413160364,
          10.718986347548235,
          10.886871281936106,
          11.054756216323977,
          11.22264115071184,
          11.390526085099712,
          11.558411019487583,
          11.726295953875454,
          11.894180888263325,
          12.062065822651196,
          12.229950757039067,
          12.397835691426938,
          12.565720625814809,
          12.733605560202673,
          12.901490494590544,
          13.069375428978415,
          13.237260363366286,
          13.405145297754157,
          13.573030232142028,
          13.740915166529899,
          13.90880010091777,
          14.07668503530564,
          14.244569969693512,
          14.412454904081375,
          14.580339838469246,
          14.748224772857117,
          14.916109707244988,
          15.08399464163286,
          15.25187957602073,
          15.419764510408601,
          15.587649444796472,
          15.755534379184343,
          15.923419313572214,
          16.09130424796008,
          16.25918918234795,
          16.42707411673582,
          16.59495905112369,
          16.762843985511562,
          16.930728919899433,
          17.098613854287304,
          17.266498788675175,
          17.434383723063046,
          17.602268657450917,
          17.77015359183878,
          17.938038526226652,
          18.105923460614523,
          18.273808395002394,
          18.441693329390265,
          18.609578263778136,
          18.777463198166007,
          18.945348132553878,
          19.11323306694175,
          19.28111800132962,
          19.449002935717484,
          19.616887870105355,
          19.784772804493226,
          19.952657738881097,
          20.120542673268968,
          20.28842760765684,
          20.45631254204471,
          20.62419747643258,
          20.792082410820452,
          20.959967345208323,
          21.127852279596187,
          21.295737213984058,
          21.46362214837193,
          21.6315070827598,
          21.79939201714767,
          21.967276951535542,
          22.135161885923413,
          22.303046820311284,
          22.470931754699155,
          22.638816689087026,
          22.80670162347489,
          22.97458655786276,
          23.142471492250632,
          23.310356426638503,
          23.478241361026374,
          23.646126295414245,
          23.814011229802116,
          23.981896164189987,
          24.149781098577858,
          24.31766603296572,
          24.485550967353593,
          24.653435901741464,
          24.821320836129335,
          24.989205770517206,
          25.157090704905077,
          25.324975639292948,
          25.49286057368082,
          25.66074550806869,
          25.82863044245656,
          25.996515376844425,
          26.164400311232296,
          26.332285245620167,
          26.500170180008038,
          26.66805511439591,
          26.83594004878378,
          27.00382498317165,
          27.17170991755952,
          27.339594851947393,
          27.507479786335264,
          27.675364720723127,
          27.843249655111,
          28.01113458949887,
          28.17901952388674,
          28.34690445827461,
          28.514789392662482,
          28.682674327050353,
          28.850559261438224,
          29.018444195826095,
          29.186329130213966,
          29.35421406460183,
          29.5220989989897,
          29.689983933377572,
          29.857868867765443,
          30.025753802153314,
          30.193638736541185,
          30.361523670929056,
          30.529408605316927,
          30.6972935397048,
          30.86517847409267,
          31.033063408480533,
          31.200948342868404,
          31.368833277256275,
          31.536718211644146,
          31.704603146032017,
          31.87248808041989,
          32.040373014807756,
          32.20825794919563,
          32.3761428835835,
          32.54402781797137,
          32.71191275235924,
          32.87979768674711,
          33.04768262113498,
          33.21556755552285,
          33.38345248991071,
          33.55133742429858,
          33.71922235868645,
          33.88710729307432,
          34.05499222746219,
          34.222877161850064,
          34.390762096237935,
          34.55864703062581,
          34.72653196501368,
          34.89441689940155,
          35.06230183378942,
          35.23018676817729,
          35.39807170256516,
          35.56595663695303,
          35.7338415713409,
          35.901726505728774,
          36.069611440116645,
          36.237496374504516,
          36.40538130889239,
          36.57326624328026,
          36.741151177668115,
          36.909036112055986,
          37.07692104644386,
          37.24480598083173,
          37.4126909152196,
          37.58057584960747,
          37.74846078399534,
          37.91634571838321,
          38.08423065277108,
          38.252115587158954,
          38.420000521546825,
          38.587885455934696,
          38.75577039032257,
          38.92365532471044,
          39.09154025909831,
          39.25942519348618,
          39.42731012787405,
          39.59519506226192,
          39.76307999664979,
          39.930964931037664,
          40.09884986542552,
          40.26673479981339,
          40.43461973420126,
          40.602504668589134,
          40.770389602977005,
          40.938274537364876,
          41.10615947175275,
          41.27404440614062,
          41.44192934052849,
          41.60981427491636,
          41.77769920930423,
          41.9455841436921,
          42.11346907807997,
          42.281354012467844,
          42.449238946855715,
          42.617123881243586,
          42.78500881563146,
          42.95289375001933,
          43.1207786844072,
          43.28866361879507,
          43.45654855318293,
          43.6244334875708,
          43.79231842195867,
          43.96020335634654,
          44.12808829073441,
          44.29597322512228,
          44.46385815951015,
          44.631743093898024,
          44.799628028285895,
          44.967512962673766,
          45.13539789706164,
          45.30328283144951,
          45.47116776583738,
          45.63905270022525,
          45.80693763461312,
          45.97482256900099,
          46.14270750338886,
          46.310592437776734,
          46.478477372164605,
          46.64636230655246,
          46.81424724094033,
          46.9821321753282,
          47.150017109716075,
          47.317902044103946,
          47.48578697849182,
          47.65367191287969,
          47.82155684726756,
          47.98944178165543,
          48.1573267160433,
          48.32521165043117,
          48.49309658481904,
          48.66098151920691,
          48.828866453594785,
          48.996751387982656,
          49.16463632237053,
          49.3325212567584,
          49.50040619114627,
          49.66829112553414,
          49.83617605992201,
          50.00406099430987,
          50.17194592869774,
          50.33983086308561,
          50.50771579747348,
          50.67560073186135,
          50.84348566624922,
          51.01137060063709,
          51.179255535024964,
          51.347140469412835,
          51.515025403800706,
          51.68291033818858,
          51.85079527257645,
          52.01868020696432,
          52.18656514135219,
          52.35445007574006,
          52.52233501012793,
          52.6902199445158,
          52.858104878903674,
          53.025989813291545,
          53.193874747679416,
          53.36175968206727,
          53.529644616455144,
          53.697529550843015,
          53.865414485230886,
          54.03329941961876,
          54.20118435400663,
          54.3690692883945,
          54.53695422278237,
          54.70483915717024,
          54.87272409155811,
          55.04060902594598,
          55.208493960333854,
          55.376378894721725,
          55.544263829109596,
          55.71214876349747,
          55.88003369788534,
          56.04791863227321,
          56.21580356666108,
          56.38368850104895,
          56.55157343543681,
          56.71945836982468,
          56.88734330421255,
          57.05522823860042,
          57.22311317298829,
          57.39099810737616,
          57.558883041764034,
          57.726767976151905,
          57.894652910539776,
          58.06253784492765,
          58.23042277931552,
          58.39830771370339,
          58.56619264809126,
          58.73407758247913,
          58.901962516867,
          59.06984745125487,
          59.237732385642744,
          59.405617320030615,
          59.573502254418486,
          59.74138718880636,
          59.909272123194214,
          60.077157057582085,
          60.245041991969956,
          60.41292692635783,
          60.5808118607457,
          60.74869679513357,
          60.91658172952144,
          61.08446666390931,
          61.25235159829718,
          61.42023653268505,
          61.588121467072924,
          61.756006401460795,
          61.923891335848666,
          62.09177627023654,
          62.25966120462441,
          62.42754613901228,
          62.59543107340015,
          62.76331600778802,
          62.93120094217589,
          63.09908587656376,
          63.26697081095162,
          63.43485574533949,
          63.60274067972736,
          63.77062561411523,
          63.9385105485031,
          64.10639548289097,
          64.27428041727885,
          64.44216535166672,
          64.61005028605459,
          64.77793522044246,
          64.94582015483033,
          65.1137050892182,
          65.28159002360607,
          65.44947495799394,
          65.61735989238181,
          65.78524482676968,
          65.95312976115756,
          66.12101469554543,
          66.2888996299333,
          66.45678456432115,
          66.62466949870903,
          66.7925544330969,
          66.96043936748477,
          67.12832430187264,
          67.29620923626051,
          67.46409417064838,
          67.63197910503625,
          67.79986403942412,
          67.967748973812,
          68.13563390819986,
          68.30351884258774,
          68.4714037769756,
          68.63928871136348,
          68.80717364575135,
          68.97505858013922,
          69.14294351452709,
          69.31082844891496,
          69.47871338330283,
          69.6465983176907,
          69.81448325207856,
          69.98236818646643,
          70.1502531208543,
          70.31813805524217,
          70.48602298963004,
          70.65390792401791,
          70.82179285840579,
          70.98967779279366,
          71.15756272718153,
          71.3254476615694,
          71.49333259595727,
          71.66121753034514,
          71.82910246473301,
          71.99698739912088,
          72.16487233350875,
          72.33275726789662,
          72.5006422022845,
          72.66852713667237,
          72.83641207106024,
          73.00429700544811,
          73.17218193983597,
          73.34006687422384,
          73.50795180861171,
          73.67583674299958,
          73.84372167738745,
          74.01160661177532,
          74.17949154616319,
          74.34737648055106,
          74.51526141493893,
          74.6831463493268,
          74.85103128371468,
          75.01891621810255,
          75.18680115249042,
          75.35468608687829,
          75.52257102126616,
          75.69045595565403,
          75.8583408900419,
          76.02622582442977,
          76.19411075881764,
          76.36199569320551,
          76.52988062759337,
          76.69776556198124,
          76.86565049636911,
          77.03353543075698,
          77.20142036514486,
          77.36930529953273,
          77.5371902339206,
          77.70507516830847,
          77.87296010269634,
          78.04084503708421,
          78.20872997147208,
          78.37661490585995,
          78.54449984024782,
          78.7123847746357,
          78.88026970902357,
          79.04815464341144,
          79.21603957779931,
          79.38392451218718,
          79.55180944657505,
          79.7196943809629,
          79.88757931535078,
          80.05546424973865,
          80.22334918412652,
          80.39123411851439,
          80.55911905290226,
          80.72700398729013,
          80.894888921678,
          81.06277385606587,
          81.23065879045375,
          81.39854372484162,
          81.56642865922949,
          81.73431359361736,
          81.90219852800523,
          82.0700834623931,
          82.23796839678097,
          82.40585333116884,
          82.57373826555671,
          82.74162319994458,
          82.90950813433246,
          83.07739306872031,
          83.24527800310818,
          83.41316293749605,
          83.58104787188392,
          83.7489328062718,
          83.91681774065967,
          84.08470267504754,
          84.25258760943541,
          84.42047254382328,
          84.58835747821115,
          84.75624241259902,
          84.9241273469869,
          85.09201228137476,
          85.25989721576263,
          85.4277821501505,
          85.59566708453838,
          85.76355201892625,
          85.93143695331412,
          86.09932188770199,
          86.26720682208986,
          86.43509175647772,
          86.60297669086559,
          86.77086162525346,
          86.93874655964133,
          87.1066314940292,
          87.27451642841707,
          87.44240136280494,
          87.61028629719281,
          87.77817123158069,
          87.94605616596856,
          88.11394110035643,
          88.2818260347443,
          88.44971096913217,
          88.61759590352004,
          88.78548083790791,
          88.95336577229578,
          89.12125070668365,
          89.28913564107152,
          89.4570205754594,
          89.62490550984725,
          89.79279044423512,
          89.960675378623,
          90.12856031301087,
          90.29644524739874,
          90.46433018178661,
          90.63221511617448,
          90.80010005056235,
          90.96798498495022,
          91.13586991933809,
          91.30375485372596,
          91.47163978811383,
          91.6395247225017,
          91.80740965688958,
          91.97529459127745,
          92.14317952566532,
          92.31106446005319,
          92.47894939444106,
          92.64683432882893,
          92.8147192632168,
          92.98260419760466,
          93.15048913199253,
          93.3183740663804,
          93.48625900076827,
          93.65414393515614,
          93.82202886954401,
          93.98991380393188,
          94.15779873831976,
          94.32568367270763,
          94.4935686070955,
          94.66145354148337,
          94.82933847587124,
          94.99722341025911,
          95.16510834464698,
          95.33299327903485,
          95.50087821342272,
          95.6687631478106,
          95.83664808219847,
          96.00453301658634,
          96.17241795097421,
          96.34030288536206,
          96.50818781974993,
          96.6760727541378,
          96.84395768852568,
          97.01184262291356,
          97.17972755730143,
          97.3476124916893,
          97.51549742607718,
          97.68338236046505,
          97.85126729485289,
          98.01915222924076,
          98.18703716362863,
          98.3549220980165,
          98.52280703240437,
          98.69069196679224,
          98.85857690118011,
          99.02646183556799,
          99.19434676995586,
          99.36223170434373,
          99.5301166387316,
          99.69800157311947,
          99.86588650750734,
          100.03377144189521,
          100.20165637628308,
          100.36954131067095,
          100.53742624505882,
          100.7053111794467,
          100.87319611383457,
          101.04108104822244,
          101.20896598261031,
          101.37685091699818,
          101.54473585138605,
          101.71262078577392,
          101.88050572016179,
          102.04839065454966,
          102.21627558893753,
          102.3841605233254,
          102.55204545771328,
          102.71993039210115,
          102.88781532648902,
          103.05570026087689,
          103.22358519526476,
          103.39147012965263,
          103.5593550640405,
          103.72723999842837,
          103.89512493281624,
          104.06300986720412,
          104.23089480159199,
          104.39877973597986,
          104.5666646703677,
          104.73454960475557,
          104.90243453914344,
          105.07031947353131,
          105.23820440791918,
          105.40608934230706,
          105.57397427669493,
          105.7418592110828,
          105.90974414547067,
          106.07762907985854,
          106.24551401424641,
          106.41339894863428,
          106.58128388302215,
          106.74916881741002,
          106.9170537517979,
          107.08493868618577,
          107.25282362057364,
          107.42070855496151,
          107.58859348934938,
          107.75647842373725,
          107.92436335812512,
          108.09224829251299,
          108.26013322690086,
          108.42801816128873,
          108.5959030956766,
          108.76378803006448,
          108.93167296445235,
          109.09955789884022,
          109.26744283322809,
          109.43532776761596,
          109.60321270200383,
          109.7710976363917,
          109.93898257077957,
          110.10686750516744,
          110.27475243955531,
          110.44263737394319,
          110.61052230833106,
          110.77840724271893,
          110.9462921771068,
          111.11417711149464,
          111.28206204588251,
          111.44994698027038,
          111.61783191465825,
          111.78571684904612,
          111.953601783434,
          112.12148671782187,
          112.28937165220974,
          112.45725658659761,
          112.62514152098548,
          112.79302645537335,
          112.96091138976122,
          113.12879632414909,
          113.29668125853696,
          113.46456619292483,
          113.6324511273127,
          113.80033606170058,
          113.96822099608845,
          114.13610593047632,
          114.30399086486419,
          114.47187579925206,
          114.63976073363993,
          114.8076456680278,
          114.97553060241567,
          115.14341553680354,
          115.31130047119142,
          115.47918540557929,
          115.64707033996716,
          115.81495527435503,
          115.9828402087429,
          116.15072514313077,
          116.31861007751864,
          116.48649501190651,
          116.65437994629438,
          116.82226488068225,
          116.99014981507013,
          117.158034749458,
          117.32591968384587,
          117.49380461823374,
          117.66168955262161,
          117.82957448700945,
          117.99745942139732,
          118.1653443557852,
          118.33322929017307,
          118.50111422456094,
          118.66899915894881,
          118.83688409333668,
          119.00476902772455,
          119.17265396211242,
          119.34053889650029,
          119.50842383088816,
          119.67630876527603,
          119.8441936996639,
          120.01207863405178,
          120.17996356843965,
          120.34784850282752,
          120.51573343721539,
          120.68361837160326,
          120.85150330599113,
          121.019388240379,
          121.18727317476687,
          121.35515810915474,
          121.52304304354261,
          121.69092797793049,
          121.85881291231836,
          122.02669784670623,
          122.1945827810941,
          122.36246771548197,
          122.53035264986984,
          122.69823758425771,
          122.86612251864558,
          123.03400745303345,
          123.20189238742132,
          123.3697773218092,
          123.53766225619707,
          123.70554719058494,
          123.87343212497281,
          124.04131705936068,
          124.20920199374855,
          124.37708692813639,
          124.54497186252426,
          124.71285679691213,
          124.8807417313,
          125.04862666568788,
          125.21651160007575,
          125.38439653446362,
          125.55228146885149,
          125.72016640323936,
          125.88805133762723,
          126.0559362720151,
          126.22382120640297,
          126.39170614079084,
          126.55959107517872,
          126.72747600956659,
          126.89536094395446,
          127.06324587834233,
          127.2311308127302,
          127.39901574711807,
          127.56690068150594,
          127.73478561589381,
          127.90267055028168,
          128.07055548466957,
          128.23844041905744,
          128.4063253534453,
          128.57421028783318,
          128.74209522222105,
          128.90998015660892,
          129.0778650909968,
          129.24575002538467,
          129.41363495977254,
          129.5815198941604,
          129.74940482854828,
          129.91728976293615,
          130.08517469732402,
          130.2530596317119,
          130.42094456609976,
          130.58882950048763,
          130.7567144348755,
          130.92459936926335,
          131.09248430365122,
          131.2603692380391,
          131.42825417242696,
          131.59613910681483,
          131.7640240412027,
          131.93190897559057,
          132.09979390997844,
          132.26767884436632,
          132.4355637787542,
          132.60344871314206,
          132.77133364752993,
          132.9392185819178,
          133.10710351630567,
          133.27498845069354,
          133.4428733850814,
          133.61075831946928,
          133.77864325385715,
          133.94652818824503,
          134.1144131226329,
          134.28229805702077,
          134.45018299140864,
          134.6180679257965,
          134.78595286018438,
          134.95383779457225,
          135.12172272896012,
          135.289607663348,
          135.45749259773586,
          135.62537753212374,
          135.7932624665116,
          135.96114740089948,
          136.12903233528735,
          136.29691726967522,
          136.4648022040631,
          136.63268713845096
         ],
         "xaxis": "x",
         "y": [
          0,
          0,
          0,
          0,
          0,
          0,
          0,
          0,
          0,
          0,
          0,
          0,
          0,
          0,
          0,
          0,
          0,
          0,
          0,
          0,
          0,
          0,
          0,
          0,
          0,
          0,
          0,
          0,
          0,
          0,
          0,
          0,
          0,
          0,
          0,
          0,
          0,
          0,
          0,
          0,
          0,
          0,
          0,
          0,
          0,
          0,
          0,
          0,
          0,
          0,
          0,
          0,
          0,
          0,
          0,
          0,
          0,
          0,
          0,
          0,
          0,
          0,
          0,
          0,
          0,
          0,
          0,
          0,
          0,
          0,
          0,
          0,
          0,
          0,
          0,
          0,
          0,
          0,
          0,
          0,
          0,
          0,
          0,
          0,
          0,
          0,
          0,
          0,
          0,
          0,
          0,
          0,
          0,
          0,
          0,
          0,
          0,
          0,
          0,
          0,
          0,
          0,
          0,
          0,
          0,
          0,
          0,
          0,
          0,
          0,
          0,
          0,
          0,
          0,
          0,
          0,
          0,
          0,
          0,
          0,
          0,
          0,
          0,
          0,
          0,
          0,
          0,
          0,
          0,
          0,
          0,
          0,
          0,
          0,
          0,
          0,
          0,
          0,
          0,
          0,
          0,
          0,
          0,
          0,
          0,
          0,
          0,
          0,
          0,
          0,
          0,
          0,
          0,
          0,
          0,
          0,
          0,
          0,
          0,
          0,
          0,
          0,
          0,
          0,
          0,
          0,
          0,
          0,
          0,
          0,
          0,
          0,
          0,
          0,
          0,
          0,
          0,
          0,
          0,
          0,
          0,
          0,
          0,
          0,
          0,
          0,
          0,
          0,
          0,
          0,
          0,
          0,
          0,
          0,
          0,
          0,
          0,
          0,
          0,
          0,
          0,
          0,
          0,
          0,
          5e-324,
          1.945841236069e-310,
          6.775823759054534e-297,
          1.1664318010679158e-283,
          9.926733284146955e-271,
          4.176487484215194e-258,
          8.68726183729252e-246,
          8.933707229041046e-234,
          4.5422290882256154e-222,
          1.141846482939576e-210,
          1.4192608297558973e-199,
          8.722656604103078e-189,
          2.650853137174748e-178,
          3.983762600779282e-168,
          2.9607057761003888e-158,
          1.0882209688935167e-148,
          1.9782821743515615e-139,
          1.778859351836482e-130,
          7.912508922951909e-122,
          1.7411957894550534e-113,
          1.8957822329715727e-105,
          1.021383952151873e-97,
          2.7233777561047802e-90,
          3.5942676013485485e-83,
          2.3483859714915735e-76,
          7.597419174041152e-70,
          1.217278482810683e-63,
          9.661398434639316e-58,
          3.799486018378929e-52,
          7.405648781453055e-47,
          7.156216476409694e-42,
          3.4294516139950677e-37,
          8.15333712424226e-33,
          9.619978647144745e-29,
          5.63520287996595e-25,
          1.639542843591817e-21,
          2.3703514168391696e-18,
          1.7037676492339138e-15,
          6.092715151312206e-13,
          1.0850468395135557e-10,
          9.639935245097675e-9,
          4.2874733409737865e-7,
          0.000009622695400783614,
          0.00011118944878773851,
          0.0006965575458430108,
          0.0026628462482952003,
          0.007421174072625399,
          0.016773619487760266,
          0.03114435465924381,
          0.050233997202655846,
          0.07434735447950072,
          0.09919560376670036,
          0.11777831523375373,
          0.1297467587648771,
          0.13810349191627513,
          0.14141803975577374,
          0.14079837674670675,
          0.14701210203216752,
          0.1666459924411712,
          0.1920934801105331,
          0.2174799085046733,
          0.2440419131121371,
          0.26633456455497057,
          0.2788233786374404,
          0.28645710926195117,
          0.2970642572382119,
          0.31106745337457614,
          0.32236504063002475,
          0.3246659027158151,
          0.31007361618026547,
          0.2740046207238622,
          0.2247505736842471,
          0.17831283994471173,
          0.143758664892019,
          0.11830961652664987,
          0.09606443571531864,
          0.074338307129278,
          0.054588830152045145,
          0.04049101479421554,
          0.03249083320883158,
          0.027341801292587307,
          0.022680428896027085,
          0.018373446596102117,
          0.014464639158590099,
          0.011235600559369464,
          0.009041663529849768,
          0.007202553685204074,
          0.0054352747370412366,
          0.004674841606314866,
          0.005058256930074265,
          0.005622452296932957,
          0.005250137292099787,
          0.003666655467144668,
          0.0024502133027567777,
          0.0023671332913677012,
          0.0028775895691704597,
          0.003470893514421856,
          0.0034047279001414572,
          0.002856770955570317,
          0.002566159566823605,
          0.002239175249287399,
          0.0018719615347046416,
          0.0021251324967098604,
          0.003110929557201569,
          0.004070615896313831,
          0.004140685617283747,
          0.0035948138585929733,
          0.0031301559409808877,
          0.002692729912166675,
          0.001977105039180353,
          0.0012873706085536586,
          0.0012583883724245114,
          0.0017119123378940707,
          0.0019597365796993134,
          0.00195099056447302,
          0.0020657644277589614,
          0.002289842830602665,
          0.002142596183467923,
          0.001793224982909204,
          0.001732840085935109,
          0.0017821569459948922,
          0.0016152197364915602,
          0.001444335978368531,
          0.0017358178064631707,
          0.0023892772488443882,
          0.002657182682656322,
          0.002444305803169874,
          0.002243091194039252,
          0.001949015316832215,
          0.0016916568278128755,
          0.001948872236521137,
          0.00237232806917277,
          0.0021962466940880034,
          0.0018109939101740088,
          0.0019073957018982128,
          0.002133705765692956,
          0.0023569997809162846,
          0.0026318623228891386,
          0.002448008737217014,
          0.001955255833220292,
          0.0015723769924217658,
          0.0014629426965707174,
          0.0016948469722059471,
          0.001993067636211931,
          0.0021061265326316097,
          0.001997196011462,
          0.001756541806309704,
          0.0014309904033961431,
          0.001243702771167846,
          0.0014147302053991147,
          0.001783577545987789,
          0.001784147238156464,
          0.0016382745737912293,
          0.002442445208781101,
          0.003728167483870108,
          0.003949030655017993,
          0.003026779709401559,
          0.002356084328879495,
          0.0026464274216507692,
          0.0030657021381039957,
          0.002760055650548862,
          0.001971216236904195,
          0.0017245154396170511,
          0.0020831617406595233,
          0.002224235530248486,
          0.001934623658501531,
          0.0013932208190366947,
          0.000773847666656688,
          0.0004072036448822534,
          0.00043850579800322974,
          0.0005053381684565735,
          0.00040380652428703587,
          0.0005881462297905719,
          0.0012960281798139101,
          0.0017704481352171213,
          0.0014323219766032614,
          0.0009902783540992064,
          0.001374967862432997,
          0.0024818993821830214,
          0.0030802934163141043,
          0.0025057471753745226,
          0.0017170355967189325,
          0.0014499463463176058,
          0.0012609708307724761,
          0.0010268746499897579,
          0.0011387176546837085,
          0.0014304854764187636,
          0.0017515399272746697,
          0.002109671460472115,
          0.002237907810211402,
          0.002231518326258204,
          0.0022935686813990996,
          0.002277494070420767,
          0.001978738392702344,
          0.001540087386895241,
          0.0009795531754009405,
          0.0003917355976798047,
          0.00008429197459533637,
          0.000018513346332792398,
          0.00007116383080053715,
          0.0002604665375600548,
          0.0004744555508913232,
          0.0004286004779388676,
          0.00021413583185530126,
          0.0002392581475152615,
          0.0008214504998381761,
          0.0017130849784645586,
          0.0018317556467260913,
          0.001009810655163376,
          0.0003289499382995,
          0.00023980495470521198,
          0.0004375350352129076,
          0.00047457761996181876,
          0.00029365983749773803,
          0.0002649542312449021,
          0.0005142659263727761,
          0.0008404136097282608,
          0.0011095702725961954,
          0.0011010079894607546,
          0.0008682775803605393,
          0.0009222112381029403,
          0.0011574927092117637,
          0.0011889229935337022,
          0.0010334566398278798,
          0.0007833406505329932,
          0.00045976636272142583,
          0.00028547233676570977,
          0.0004053200598910479,
          0.0005360520165697912,
          0.0005508393710064027,
          0.0007899990313851329,
          0.001142853813080361,
          0.0011487165717034423,
          0.0008951768481082668,
          0.0007068665695784996,
          0.0005886218878834496,
          0.0003540917976443518,
          0.00013578532194625454,
          0.00013721232751801567,
          0.0003454318738329544,
          0.0004954641806222538,
          0.00035280516913463477,
          0.0001241927629456748,
          0.000021660563674921124,
          0.0000031877991180493987,
          0.000017158217442093364,
          0.00011109188405271954,
          0.00037929021060862967,
          0.0007361062219169461,
          0.0009357956294216455,
          0.0009229296717929562,
          0.0007519952763046908,
          0.0004930691323092666,
          0.000452668421951775,
          0.0007599159653569163,
          0.0009301632382590142,
          0.000630111294182182,
          0.00022954454961065902,
          0.000060816078431700427,
          0.00011340352990793181,
          0.0003487011215286878,
          0.0006152882594798445,
          0.0007167732274050868,
          0.0006312348435106834,
          0.0003730930514101809,
          0.0001232966980475952,
          0.000020897229179696244,
          0.0000017681911285012073,
          7.414515576268275e-8,
          1.5378421733646507e-9,
          1.5768791058878675e-11,
          7.99256568801559e-14,
          2.002444938138783e-16,
          2.4798060461765765e-19,
          1.5179472511760974e-22,
          1.6064277993116725e-25,
          3.511716538939613e-22,
          5.313745657271752e-19,
          3.9743262869696173e-16,
          1.4692906437990052e-13,
          2.684932331215679e-11,
          2.4251600962631247e-9,
          1.082751815216889e-7,
          0.0000023894550491657547,
          0.000026064550940438314,
          0.00014053453683557536,
          0.00037453923946948457,
          0.0004933930769672827,
          0.00032127315648904493,
          0.0001035372410113728,
          0.000019301992426059416,
          0.00003100826515070156,
          0.00015308568459314431,
          0.0003895785882302758,
          0.0004902047713921667,
          0.00030488951337845105,
          0.00009373221624633723,
          0.000014243500073869711,
          0.000001069857649346114,
          3.972068304720651e-8,
          7.289487051005589e-10,
          9.94944139728372e-12,
          4.043733080902798e-10,
          2.421520148096673e-8,
          7.168148103133955e-7,
          0.000010488352899865207,
          0.0000758558450663561,
          0.0002711766229130448,
          0.0004791780133499782,
          0.00041852649359303413,
          0.00018068848016184825,
          0.000038558436237373216,
          0.000004067146327793633,
          2.1205163267194098e-7,
          5.464807660913844e-9,
          6.961287642698023e-11,
          4.383143760997463e-13,
          1.3641536475756283e-15,
          2.0985643926628125e-18,
          1.5957590413302203e-21,
          6.086999812001241e-23,
          1.0703781997696312e-19,
          9.396218580795733e-17,
          4.0770909996607746e-14,
          8.7443822980911e-12,
          9.270204303293123e-10,
          4.857702483947003e-8,
          0.0000012582123916781348,
          0.000016108624891459587,
          0.00010194009170932769,
          0.00031887936605738394,
          0.000493386453877185,
          0.00038308895353689215,
          0.000195436880779507,
          0.00024997068301059694,
          0.0004896410319506508,
          0.0006320901538698921,
          0.0006426288385359884,
          0.000546174226388554,
          0.00034561244425887147,
          0.00031862770155088215,
          0.00047422766737382685,
          0.0004440521380805011,
          0.00020976419588687414,
          0.00004905266617196261,
          0.000005670518619326705,
          3.240170270868336e-7,
          9.151548248408426e-9,
          1.2776231439028148e-10,
          8.816422738311423e-13,
          3.007208078095117e-15,
          5.070093755593234e-18,
          4.225225955387727e-21,
          1.7404651243829774e-24,
          3.5437424356341215e-28,
          3.5664850738281055e-32,
          1.7741899303011955e-36,
          4.362558330951205e-41,
          5.302294203814478e-46,
          3.185428295892518e-51,
          9.459175503376222e-57,
          1.388417793427963e-62,
          1.0073224100534468e-68,
          3.61242018081221e-75,
          6.750860209636451e-77,
          2.2615468607111667e-70,
          3.7448775699226044e-64,
          3.065145497795468e-58,
          1.2400694341138151e-52,
          2.479832507863055e-47,
          2.4512078138530487e-42,
          1.1976208646767587e-37,
          2.892277855318183e-33,
          3.452566950124867e-29,
          2.0371623590026339e-25,
          5.941424938812912e-22,
          8.565190452817386e-19,
          6.103302158980714e-16,
          2.1496816833707534e-13,
          3.7425264499866336e-11,
          3.2206018521939688e-9,
          1.3699055841797198e-7,
          0.0000028802200631355985,
          0.00002993244162557556,
          0.0001537588261526049,
          0.00039040862442956905,
          0.0004899820715006104,
          0.0003039642808218012,
          0.0000932137718891668,
          0.000014396137322060482,
          0.000005962184622322364,
          0.000044210467795299444,
          0.00019666582109774882,
          0.0004328088367563299,
          0.00047081073615358015,
          0.0002531500632901576,
          0.00006728080213026899,
          0.00000883864555755265,
          5.739336837663726e-7,
          1.842125214509733e-8,
          2.922523539712959e-10,
          2.2918085467365266e-12,
          8.925505934810822e-15,
          1.994910734337964e-14,
          4.6657774291708705e-12,
          5.398544578910794e-10,
          3.087527291703831e-8,
          8.728233498513344e-7,
          0.00001219616649657741,
          0.00008423678258749586,
          0.0002875819568021313,
          0.0004852917808057927,
          0.00040478617846877304,
          0.00016688982209793447,
          0.00003401069181704652,
          0.000003425961814859572,
          1.7058113813691441e-7,
          4.1981788372118205e-9,
          5.10707575557868e-11,
          3.0708959565171314e-13,
          9.127237318213586e-16,
          1.3408957698066866e-18,
          9.737156185372867e-22,
          3.495028241246933e-25,
          6.200842209791132e-29,
          5.437911165741533e-33,
          2.357192088146037e-37,
          5.050557018592332e-42,
          5.348906665626675e-47,
          2.800091342974205e-52,
          7.245374121046037e-58,
          9.26682304188696e-64,
          5.858445064388783e-70,
          1.830692032560305e-76,
          2.8276760840784645e-83,
          2.158864890940684e-90,
          8.14709360487471e-98,
          1.5197123272218017e-105,
          1.401204437772945e-113,
          6.385913912317602e-122,
          1.4385536149029796e-130,
          1.6018080925309135e-139,
          8.816096836338164e-149,
          2.3984112791098533e-158,
          3.2251684416861876e-168,
          2.1436929658954802e-178,
          7.042943459040306e-189,
          1.1437398644998173e-199,
          9.180825921241836e-211,
          3.642652014052601e-222,
          7.143894860034078e-234,
          6.925224573505528e-246,
          3.318288227320346e-258,
          7.859153816922986e-271,
          9.200658447620108e-284,
          5.3240664418894026e-297,
          1.52282312088754e-310,
          0,
          0,
          0,
          0,
          0,
          0,
          0,
          0,
          0,
          0,
          0,
          0,
          0,
          0,
          0,
          0,
          0,
          0,
          0,
          0,
          0,
          0,
          0,
          0,
          0,
          0,
          0,
          0,
          0,
          0,
          0,
          0,
          0,
          0,
          0,
          0,
          0,
          0,
          0,
          0,
          0,
          0,
          0,
          2.505763e-317,
          1.2395689040977172e-303,
          3.030977943743221e-290,
          3.663332313183675e-277,
          2.1885239070326007e-264,
          6.462606471058835e-252,
          9.432907262456752e-240,
          6.80557549595792e-228,
          2.426976577532009e-216,
          4.278068671802881e-205,
          3.727445960093817e-194,
          1.6053007097653606e-183,
          3.417298195328437e-173,
          3.595760806977457e-163,
          1.8701659656520065e-153,
          4.8078503540155265e-144,
          6.109464867449213e-135,
          3.837397952286943e-126,
          1.1913844979515207e-117,
          1.828304330274456e-109,
          1.386840348765451e-101,
          5.199790986440208e-94,
          9.636664577750377e-87,
          8.827729894399061e-80,
          3.997171366010141e-73,
          8.946186271957063e-67,
          9.897022169055585e-61,
          5.411935191692395e-55,
          1.4627902908080235e-49,
          1.9543079041979478e-44,
          1.2905812333602976e-39,
          4.2126864943761897e-35,
          6.796954658055089e-31,
          5.4206459575572366e-27,
          2.136825956470377e-23,
          4.1635970852905494e-20,
          4.010048994289597e-17,
          1.9090271257937645e-14,
          4.4921676675816444e-12,
          5.22493934969436e-10,
          3.003917404285299e-8,
          8.536427541586561e-7,
          0.000011990733955135956,
          0.00008325240986109056,
          0.000285712537145668,
          0.0004846667422494479,
          0.0004063858510824157,
          0.00016842842053358808,
          0.00003450433094846613,
          0.0000034939226249627152,
          1.7487768399152473e-7,
          4.326502317243741e-9,
          5.290794896221483e-11,
          3.198058095733184e-13,
          9.555055399651036e-16,
          1.4111120732087692e-18,
          1.0300806841932404e-21,
          3.716742014111077e-25,
          6.628801711767025e-29,
          5.843715670067327e-33,
          2.546387908130454e-37,
          5.4845561538311884e-42,
          5.839018471089929e-47,
          3.072696377783982e-52,
          7.992467619518163e-58,
          1.0275987329572348e-63,
          6.530518624942275e-70,
          2.051413561978388e-76,
          3.185225690700536e-83,
          2.4446046590628347e-90,
          9.273816493324188e-98,
          1.7389608254015692e-105,
          1.611768028234991e-113,
          7.384085427444611e-122,
          1.67213880622041e-130,
          1.8716704208518338e-139,
          1.0355423524344295e-148,
          2.8319644160122147e-158,
          3.8281518468870045e-168,
          2.5578316549837873e-178,
          8.4476555444936e-189,
          1.379055910708001e-199,
          1.1127791727404717e-210,
          4.438309059685809e-222,
          8.74998947714683e-234,
          8.526660243349775e-246,
          4.107067337818536e-258,
          9.778362342492812e-271,
          1.1507523400412326e-283,
          6.693897297201219e-297,
          1.9246761315833e-310,
          5e-324,
          0,
          0,
          0,
          0,
          0,
          0,
          0,
          0,
          0,
          0,
          0,
          0,
          0,
          0,
          0,
          0,
          0,
          0,
          0,
          0,
          0,
          0,
          0,
          0,
          0,
          0,
          0,
          0,
          0,
          0,
          0,
          0,
          0,
          0,
          0,
          0,
          0,
          0,
          0,
          0,
          0,
          0,
          0,
          0,
          0,
          0,
          0,
          0,
          0,
          0,
          0,
          0,
          0,
          0,
          0,
          0,
          0,
          0,
          0,
          0,
          0,
          0,
          0,
          0,
          0,
          0,
          0,
          0,
          0,
          0,
          0,
          0,
          0,
          0,
          0,
          0,
          0,
          0,
          0,
          0,
          0,
          0,
          0,
          0,
          0,
          0,
          0,
          0,
          0,
          0,
          0,
          0,
          0,
          0,
          0,
          0,
          0,
          0,
          0,
          0,
          0,
          0,
          0,
          0,
          0,
          0,
          0,
          0,
          0,
          0,
          0,
          0,
          0,
          0,
          0,
          0,
          0,
          0,
          0,
          0,
          0,
          0,
          0,
          0,
          0,
          0,
          0,
          0,
          0,
          0,
          0,
          0,
          0,
          0,
          0,
          0,
          0,
          0,
          0,
          0,
          0,
          0,
          0,
          0,
          0,
          0,
          0,
          0,
          0,
          0,
          0,
          0,
          0,
          0,
          0,
          0,
          0,
          0,
          0,
          0,
          0,
          0,
          0,
          0,
          0,
          0,
          0,
          0,
          0,
          0,
          0,
          0,
          0,
          0,
          0,
          0,
          0,
          0,
          0,
          0,
          0,
          0,
          0,
          0,
          0,
          0,
          0,
          0,
          0,
          0,
          0,
          0,
          0,
          0,
          0,
          0,
          0,
          0,
          0,
          0,
          0,
          0,
          0,
          0
         ],
         "yaxis": "y"
        }
       ],
       "layout": {
        "legend": {
         "tracegroupgap": 0
        },
        "template": {
         "data": {
          "bar": [
           {
            "error_x": {
             "color": "#2a3f5f"
            },
            "error_y": {
             "color": "#2a3f5f"
            },
            "marker": {
             "line": {
              "color": "#E5ECF6",
              "width": 0.5
             },
             "pattern": {
              "fillmode": "overlay",
              "size": 10,
              "solidity": 0.2
             }
            },
            "type": "bar"
           }
          ],
          "barpolar": [
           {
            "marker": {
             "line": {
              "color": "#E5ECF6",
              "width": 0.5
             },
             "pattern": {
              "fillmode": "overlay",
              "size": 10,
              "solidity": 0.2
             }
            },
            "type": "barpolar"
           }
          ],
          "carpet": [
           {
            "aaxis": {
             "endlinecolor": "#2a3f5f",
             "gridcolor": "white",
             "linecolor": "white",
             "minorgridcolor": "white",
             "startlinecolor": "#2a3f5f"
            },
            "baxis": {
             "endlinecolor": "#2a3f5f",
             "gridcolor": "white",
             "linecolor": "white",
             "minorgridcolor": "white",
             "startlinecolor": "#2a3f5f"
            },
            "type": "carpet"
           }
          ],
          "choropleth": [
           {
            "colorbar": {
             "outlinewidth": 0,
             "ticks": ""
            },
            "type": "choropleth"
           }
          ],
          "contour": [
           {
            "colorbar": {
             "outlinewidth": 0,
             "ticks": ""
            },
            "colorscale": [
             [
              0,
              "#0d0887"
             ],
             [
              0.1111111111111111,
              "#46039f"
             ],
             [
              0.2222222222222222,
              "#7201a8"
             ],
             [
              0.3333333333333333,
              "#9c179e"
             ],
             [
              0.4444444444444444,
              "#bd3786"
             ],
             [
              0.5555555555555556,
              "#d8576b"
             ],
             [
              0.6666666666666666,
              "#ed7953"
             ],
             [
              0.7777777777777778,
              "#fb9f3a"
             ],
             [
              0.8888888888888888,
              "#fdca26"
             ],
             [
              1,
              "#f0f921"
             ]
            ],
            "type": "contour"
           }
          ],
          "contourcarpet": [
           {
            "colorbar": {
             "outlinewidth": 0,
             "ticks": ""
            },
            "type": "contourcarpet"
           }
          ],
          "heatmap": [
           {
            "colorbar": {
             "outlinewidth": 0,
             "ticks": ""
            },
            "colorscale": [
             [
              0,
              "#0d0887"
             ],
             [
              0.1111111111111111,
              "#46039f"
             ],
             [
              0.2222222222222222,
              "#7201a8"
             ],
             [
              0.3333333333333333,
              "#9c179e"
             ],
             [
              0.4444444444444444,
              "#bd3786"
             ],
             [
              0.5555555555555556,
              "#d8576b"
             ],
             [
              0.6666666666666666,
              "#ed7953"
             ],
             [
              0.7777777777777778,
              "#fb9f3a"
             ],
             [
              0.8888888888888888,
              "#fdca26"
             ],
             [
              1,
              "#f0f921"
             ]
            ],
            "type": "heatmap"
           }
          ],
          "heatmapgl": [
           {
            "colorbar": {
             "outlinewidth": 0,
             "ticks": ""
            },
            "colorscale": [
             [
              0,
              "#0d0887"
             ],
             [
              0.1111111111111111,
              "#46039f"
             ],
             [
              0.2222222222222222,
              "#7201a8"
             ],
             [
              0.3333333333333333,
              "#9c179e"
             ],
             [
              0.4444444444444444,
              "#bd3786"
             ],
             [
              0.5555555555555556,
              "#d8576b"
             ],
             [
              0.6666666666666666,
              "#ed7953"
             ],
             [
              0.7777777777777778,
              "#fb9f3a"
             ],
             [
              0.8888888888888888,
              "#fdca26"
             ],
             [
              1,
              "#f0f921"
             ]
            ],
            "type": "heatmapgl"
           }
          ],
          "histogram": [
           {
            "marker": {
             "pattern": {
              "fillmode": "overlay",
              "size": 10,
              "solidity": 0.2
             }
            },
            "type": "histogram"
           }
          ],
          "histogram2d": [
           {
            "colorbar": {
             "outlinewidth": 0,
             "ticks": ""
            },
            "colorscale": [
             [
              0,
              "#0d0887"
             ],
             [
              0.1111111111111111,
              "#46039f"
             ],
             [
              0.2222222222222222,
              "#7201a8"
             ],
             [
              0.3333333333333333,
              "#9c179e"
             ],
             [
              0.4444444444444444,
              "#bd3786"
             ],
             [
              0.5555555555555556,
              "#d8576b"
             ],
             [
              0.6666666666666666,
              "#ed7953"
             ],
             [
              0.7777777777777778,
              "#fb9f3a"
             ],
             [
              0.8888888888888888,
              "#fdca26"
             ],
             [
              1,
              "#f0f921"
             ]
            ],
            "type": "histogram2d"
           }
          ],
          "histogram2dcontour": [
           {
            "colorbar": {
             "outlinewidth": 0,
             "ticks": ""
            },
            "colorscale": [
             [
              0,
              "#0d0887"
             ],
             [
              0.1111111111111111,
              "#46039f"
             ],
             [
              0.2222222222222222,
              "#7201a8"
             ],
             [
              0.3333333333333333,
              "#9c179e"
             ],
             [
              0.4444444444444444,
              "#bd3786"
             ],
             [
              0.5555555555555556,
              "#d8576b"
             ],
             [
              0.6666666666666666,
              "#ed7953"
             ],
             [
              0.7777777777777778,
              "#fb9f3a"
             ],
             [
              0.8888888888888888,
              "#fdca26"
             ],
             [
              1,
              "#f0f921"
             ]
            ],
            "type": "histogram2dcontour"
           }
          ],
          "mesh3d": [
           {
            "colorbar": {
             "outlinewidth": 0,
             "ticks": ""
            },
            "type": "mesh3d"
           }
          ],
          "parcoords": [
           {
            "line": {
             "colorbar": {
              "outlinewidth": 0,
              "ticks": ""
             }
            },
            "type": "parcoords"
           }
          ],
          "pie": [
           {
            "automargin": true,
            "type": "pie"
           }
          ],
          "scatter": [
           {
            "fillpattern": {
             "fillmode": "overlay",
             "size": 10,
             "solidity": 0.2
            },
            "type": "scatter"
           }
          ],
          "scatter3d": [
           {
            "line": {
             "colorbar": {
              "outlinewidth": 0,
              "ticks": ""
             }
            },
            "marker": {
             "colorbar": {
              "outlinewidth": 0,
              "ticks": ""
             }
            },
            "type": "scatter3d"
           }
          ],
          "scattercarpet": [
           {
            "marker": {
             "colorbar": {
              "outlinewidth": 0,
              "ticks": ""
             }
            },
            "type": "scattercarpet"
           }
          ],
          "scattergeo": [
           {
            "marker": {
             "colorbar": {
              "outlinewidth": 0,
              "ticks": ""
             }
            },
            "type": "scattergeo"
           }
          ],
          "scattergl": [
           {
            "marker": {
             "colorbar": {
              "outlinewidth": 0,
              "ticks": ""
             }
            },
            "type": "scattergl"
           }
          ],
          "scattermapbox": [
           {
            "marker": {
             "colorbar": {
              "outlinewidth": 0,
              "ticks": ""
             }
            },
            "type": "scattermapbox"
           }
          ],
          "scatterpolar": [
           {
            "marker": {
             "colorbar": {
              "outlinewidth": 0,
              "ticks": ""
             }
            },
            "type": "scatterpolar"
           }
          ],
          "scatterpolargl": [
           {
            "marker": {
             "colorbar": {
              "outlinewidth": 0,
              "ticks": ""
             }
            },
            "type": "scatterpolargl"
           }
          ],
          "scatterternary": [
           {
            "marker": {
             "colorbar": {
              "outlinewidth": 0,
              "ticks": ""
             }
            },
            "type": "scatterternary"
           }
          ],
          "surface": [
           {
            "colorbar": {
             "outlinewidth": 0,
             "ticks": ""
            },
            "colorscale": [
             [
              0,
              "#0d0887"
             ],
             [
              0.1111111111111111,
              "#46039f"
             ],
             [
              0.2222222222222222,
              "#7201a8"
             ],
             [
              0.3333333333333333,
              "#9c179e"
             ],
             [
              0.4444444444444444,
              "#bd3786"
             ],
             [
              0.5555555555555556,
              "#d8576b"
             ],
             [
              0.6666666666666666,
              "#ed7953"
             ],
             [
              0.7777777777777778,
              "#fb9f3a"
             ],
             [
              0.8888888888888888,
              "#fdca26"
             ],
             [
              1,
              "#f0f921"
             ]
            ],
            "type": "surface"
           }
          ],
          "table": [
           {
            "cells": {
             "fill": {
              "color": "#EBF0F8"
             },
             "line": {
              "color": "white"
             }
            },
            "header": {
             "fill": {
              "color": "#C8D4E3"
             },
             "line": {
              "color": "white"
             }
            },
            "type": "table"
           }
          ]
         },
         "layout": {
          "annotationdefaults": {
           "arrowcolor": "#2a3f5f",
           "arrowhead": 0,
           "arrowwidth": 1
          },
          "autotypenumbers": "strict",
          "coloraxis": {
           "colorbar": {
            "outlinewidth": 0,
            "ticks": ""
           }
          },
          "colorscale": {
           "diverging": [
            [
             0,
             "#8e0152"
            ],
            [
             0.1,
             "#c51b7d"
            ],
            [
             0.2,
             "#de77ae"
            ],
            [
             0.3,
             "#f1b6da"
            ],
            [
             0.4,
             "#fde0ef"
            ],
            [
             0.5,
             "#f7f7f7"
            ],
            [
             0.6,
             "#e6f5d0"
            ],
            [
             0.7,
             "#b8e186"
            ],
            [
             0.8,
             "#7fbc41"
            ],
            [
             0.9,
             "#4d9221"
            ],
            [
             1,
             "#276419"
            ]
           ],
           "sequential": [
            [
             0,
             "#0d0887"
            ],
            [
             0.1111111111111111,
             "#46039f"
            ],
            [
             0.2222222222222222,
             "#7201a8"
            ],
            [
             0.3333333333333333,
             "#9c179e"
            ],
            [
             0.4444444444444444,
             "#bd3786"
            ],
            [
             0.5555555555555556,
             "#d8576b"
            ],
            [
             0.6666666666666666,
             "#ed7953"
            ],
            [
             0.7777777777777778,
             "#fb9f3a"
            ],
            [
             0.8888888888888888,
             "#fdca26"
            ],
            [
             1,
             "#f0f921"
            ]
           ],
           "sequentialminus": [
            [
             0,
             "#0d0887"
            ],
            [
             0.1111111111111111,
             "#46039f"
            ],
            [
             0.2222222222222222,
             "#7201a8"
            ],
            [
             0.3333333333333333,
             "#9c179e"
            ],
            [
             0.4444444444444444,
             "#bd3786"
            ],
            [
             0.5555555555555556,
             "#d8576b"
            ],
            [
             0.6666666666666666,
             "#ed7953"
            ],
            [
             0.7777777777777778,
             "#fb9f3a"
            ],
            [
             0.8888888888888888,
             "#fdca26"
            ],
            [
             1,
             "#f0f921"
            ]
           ]
          },
          "colorway": [
           "#636efa",
           "#EF553B",
           "#00cc96",
           "#ab63fa",
           "#FFA15A",
           "#19d3f3",
           "#FF6692",
           "#B6E880",
           "#FF97FF",
           "#FECB52"
          ],
          "font": {
           "color": "#2a3f5f"
          },
          "geo": {
           "bgcolor": "white",
           "lakecolor": "white",
           "landcolor": "#E5ECF6",
           "showlakes": true,
           "showland": true,
           "subunitcolor": "white"
          },
          "hoverlabel": {
           "align": "left"
          },
          "hovermode": "closest",
          "mapbox": {
           "style": "light"
          },
          "paper_bgcolor": "white",
          "plot_bgcolor": "#E5ECF6",
          "polar": {
           "angularaxis": {
            "gridcolor": "white",
            "linecolor": "white",
            "ticks": ""
           },
           "bgcolor": "#E5ECF6",
           "radialaxis": {
            "gridcolor": "white",
            "linecolor": "white",
            "ticks": ""
           }
          },
          "scene": {
           "xaxis": {
            "backgroundcolor": "#E5ECF6",
            "gridcolor": "white",
            "gridwidth": 2,
            "linecolor": "white",
            "showbackground": true,
            "ticks": "",
            "zerolinecolor": "white"
           },
           "yaxis": {
            "backgroundcolor": "#E5ECF6",
            "gridcolor": "white",
            "gridwidth": 2,
            "linecolor": "white",
            "showbackground": true,
            "ticks": "",
            "zerolinecolor": "white"
           },
           "zaxis": {
            "backgroundcolor": "#E5ECF6",
            "gridcolor": "white",
            "gridwidth": 2,
            "linecolor": "white",
            "showbackground": true,
            "ticks": "",
            "zerolinecolor": "white"
           }
          },
          "shapedefaults": {
           "line": {
            "color": "#2a3f5f"
           }
          },
          "ternary": {
           "aaxis": {
            "gridcolor": "white",
            "linecolor": "white",
            "ticks": ""
           },
           "baxis": {
            "gridcolor": "white",
            "linecolor": "white",
            "ticks": ""
           },
           "bgcolor": "#E5ECF6",
           "caxis": {
            "gridcolor": "white",
            "linecolor": "white",
            "ticks": ""
           }
          },
          "title": {
           "x": 0.05
          },
          "xaxis": {
           "automargin": true,
           "gridcolor": "white",
           "linecolor": "white",
           "ticks": "",
           "title": {
            "standoff": 15
           },
           "zerolinecolor": "white",
           "zerolinewidth": 2
          },
          "yaxis": {
           "automargin": true,
           "gridcolor": "white",
           "linecolor": "white",
           "ticks": "",
           "title": {
            "standoff": 15
           },
           "zerolinecolor": "white",
           "zerolinewidth": 2
          }
         }
        },
        "title": {
         "text": "Density graph of Consumer Fraud"
        },
        "xaxis": {
         "anchor": "y",
         "domain": [
          0,
          1
         ]
        },
        "yaxis": {
         "anchor": "x",
         "domain": [
          0,
          1
         ],
         "title": {
          "text": "Density"
         }
        }
       }
      },
      "text/html": [
       "<div>                            <div id=\"46a796a6-5c30-4d2c-9c3e-59360e210b3a\" class=\"plotly-graph-div\" style=\"height:525px; width:100%;\"></div>            <script type=\"text/javascript\">                require([\"plotly\"], function(Plotly) {                    window.PLOTLYENV=window.PLOTLYENV || {};                                    if (document.getElementById(\"46a796a6-5c30-4d2c-9c3e-59360e210b3a\")) {                    Plotly.newPlot(                        \"46a796a6-5c30-4d2c-9c3e-59360e210b3a\",                        [{\"hovertemplate\":\"index=%{x}\\u003cbr\\u003eDensity=%{y}\\u003cextra\\u003e\\u003c\\u002fextra\\u003e\",\"legendgroup\":\"\",\"line\":{\"color\":\"#636efa\",\"dash\":\"solid\"},\"marker\":{\"symbol\":\"circle\"},\"mode\":\"lines\",\"name\":\"\",\"orientation\":\"v\",\"showlegend\":false,\"x\":[-31.084362315031466,-30.916477380643595,-30.748592446255724,-30.580707511867857,-30.412822577479986,-30.244937643092115,-30.077052708704244,-29.909167774316373,-29.741282839928505,-29.573397905540634,-29.405512971152763,-29.237628036764892,-29.069743102377025,-28.901858167989154,-28.733973233601283,-28.566088299213412,-28.39820336482554,-28.23031843043767,-28.062433496049803,-27.89454856166193,-27.72666362727406,-27.55877869288619,-27.390893758498322,-27.22300882411045,-27.05512388972258,-26.88723895533471,-26.719354020946838,-26.551469086558967,-26.3835841521711,-26.21569921778323,-26.047814283395358,-25.879929349007487,-25.71204441461962,-25.544159480231748,-25.376274545843877,-25.208389611456006,-25.040504677068135,-24.872619742680264,-24.704734808292397,-24.536849873904526,-24.368964939516655,-24.201080005128784,-24.033195070740916,-23.865310136353045,-23.697425201965174,-23.529540267577303,-23.361655333189432,-23.19377039880156,-23.025885464413694,-22.858000530025823,-22.690115595637952,-22.522230661250084,-22.354345726862213,-22.186460792474342,-22.01857585808647,-21.8506909236986,-21.68280598931073,-21.51492105492286,-21.34703612053499,-21.17915118614712,-21.01126625175925,-20.84338131737138,-20.67549638298351,-20.50761144859564,-20.33972651420777,-20.171841579819898,-20.003956645432027,-19.836071711044156,-19.668186776656288,-19.500301842268417,-19.332416907880546,-19.16453197349268,-18.996647039104808,-18.828762104716937,-18.660877170329066,-18.492992235941195,-18.325107301553324,-18.157222367165453,-17.989337432777585,-17.821452498389714,-17.653567564001843,-17.485682629613976,-17.317797695226105,-17.149912760838234,-16.982027826450363,-16.814142892062492,-16.64625795767462,-16.47837302328675,-16.310488088898882,-16.14260315451101,-15.974718220123142,-15.806833285735271,-15.6389483513474,-15.471063416959531,-15.30317848257166,-15.13529354818379,-14.967408613795921,-14.79952367940805,-14.63163874502018,-14.463753810632308,-14.295868876244437,-14.12798394185657,-13.960099007468699,-13.792214073080828,-13.624329138692957,-13.456444204305086,-13.288559269917219,-13.120674335529348,-12.952789401141477,-12.784904466753606,-12.617019532365735,-12.449134597977867,-12.281249663589996,-12.113364729202125,-11.945479794814254,-11.777594860426383,-11.609709926038516,-11.441824991650645,-11.273940057262774,-11.106055122874903,-10.938170188487032,-10.770285254099164,-10.602400319711293,-10.434515385323422,-10.266630450935551,-10.09874551654768,-9.930860582159813,-9.762975647771942,-9.59509071338407,-9.4272057789962,-9.259320844608329,-9.091435910220461,-8.92355097583259,-8.75566604144472,-8.587781107056848,-8.419896172668977,-8.25201123828111,-8.084126303893239,-7.916241369505368,-7.748356435117497,-7.580471500729626,-7.4125865663417585,-7.2447016319538875,-7.0768166975660165,-6.9089317631781455,-6.7410468287902745,-6.573161894402407,-6.405276960014536,-6.237392025626665,-6.069507091238794,-5.901622156850923,-5.733737222463056,-5.565852288075185,-5.397967353687314,-5.230082419299443,-5.062197484911572,-4.894312550523704,-4.726427616135833,-4.558542681747962,-4.390657747360091,-4.22277281297222,-4.054887878584353,-3.8870029441964817,-3.7191180098086107,-3.5512330754207397,-3.3833481410328723,-3.2154632066450013,-3.0475782722571303,-2.8796933378692593,-2.7118084034813883,-2.543923469093521,-2.37603853470565,-2.208153600317779,-2.040268665929908,-1.8723837315420369,-1.7044987971541694,-1.5366138627662984,-1.3687289283784274,-1.2008439939905564,-1.0329590596026854,-0.865074125214818,-0.697189190826947,-0.529304256439076,-0.36141932205120497,-0.19353438766333397,-0.025649453275466527,0.14223548111240447,0.31012041550027547,0.47800534988814647,0.6458902842760175,0.8137752186638849,0.9816601530517595,1.1495450874396234,1.3174300218274944,1.4853149562153654,1.6531998906032364,1.8210848249911074,1.9889697593789784,2.1568546937668494,2.3247396281547204,2.4926245625425913,2.6605094969304623,2.8283944313183262,2.9962793657061972,3.1641643000940682,3.3320492344819392,3.4999341688698102,3.6678191032576812,3.8357040376455522,4.003588972033423,4.171473906421294,4.339358840809165,4.507243775197029,4.6751287095849,4.843013643972771,5.010898578360642,5.178783512748513,5.346668447136384,5.514553381524255,5.682438315912126,5.850323250299997,6.018208184687868,6.186093119075732,6.353978053463603,6.521862987851474,6.689747922239345,6.857632856627216,7.025517791015087,7.193402725402958,7.361287659790829,7.5291725941787,7.697057528566571,7.864942462954435,8.032827397342306,8.200712331730177,8.368597266118048,8.536482200505919,8.70436713489379,8.87225206928166,9.040137003669532,9.208021938057403,9.375906872445274,9.543791806833138,9.711676741221009,9.87956167560888,10.04744660999675,10.215331544384622,10.383216478772493,10.551101413160364,10.718986347548235,10.886871281936106,11.054756216323977,11.22264115071184,11.390526085099712,11.558411019487583,11.726295953875454,11.894180888263325,12.062065822651196,12.229950757039067,12.397835691426938,12.565720625814809,12.733605560202673,12.901490494590544,13.069375428978415,13.237260363366286,13.405145297754157,13.573030232142028,13.740915166529899,13.90880010091777,14.07668503530564,14.244569969693512,14.412454904081375,14.580339838469246,14.748224772857117,14.916109707244988,15.08399464163286,15.25187957602073,15.419764510408601,15.587649444796472,15.755534379184343,15.923419313572214,16.09130424796008,16.25918918234795,16.42707411673582,16.59495905112369,16.762843985511562,16.930728919899433,17.098613854287304,17.266498788675175,17.434383723063046,17.602268657450917,17.77015359183878,17.938038526226652,18.105923460614523,18.273808395002394,18.441693329390265,18.609578263778136,18.777463198166007,18.945348132553878,19.11323306694175,19.28111800132962,19.449002935717484,19.616887870105355,19.784772804493226,19.952657738881097,20.120542673268968,20.28842760765684,20.45631254204471,20.62419747643258,20.792082410820452,20.959967345208323,21.127852279596187,21.295737213984058,21.46362214837193,21.6315070827598,21.79939201714767,21.967276951535542,22.135161885923413,22.303046820311284,22.470931754699155,22.638816689087026,22.80670162347489,22.97458655786276,23.142471492250632,23.310356426638503,23.478241361026374,23.646126295414245,23.814011229802116,23.981896164189987,24.149781098577858,24.31766603296572,24.485550967353593,24.653435901741464,24.821320836129335,24.989205770517206,25.157090704905077,25.324975639292948,25.49286057368082,25.66074550806869,25.82863044245656,25.996515376844425,26.164400311232296,26.332285245620167,26.500170180008038,26.66805511439591,26.83594004878378,27.00382498317165,27.17170991755952,27.339594851947393,27.507479786335264,27.675364720723127,27.843249655111,28.01113458949887,28.17901952388674,28.34690445827461,28.514789392662482,28.682674327050353,28.850559261438224,29.018444195826095,29.186329130213966,29.35421406460183,29.5220989989897,29.689983933377572,29.857868867765443,30.025753802153314,30.193638736541185,30.361523670929056,30.529408605316927,30.6972935397048,30.86517847409267,31.033063408480533,31.200948342868404,31.368833277256275,31.536718211644146,31.704603146032017,31.87248808041989,32.040373014807756,32.20825794919563,32.3761428835835,32.54402781797137,32.71191275235924,32.87979768674711,33.04768262113498,33.21556755552285,33.38345248991071,33.55133742429858,33.71922235868645,33.88710729307432,34.05499222746219,34.222877161850064,34.390762096237935,34.55864703062581,34.72653196501368,34.89441689940155,35.06230183378942,35.23018676817729,35.39807170256516,35.56595663695303,35.7338415713409,35.901726505728774,36.069611440116645,36.237496374504516,36.40538130889239,36.57326624328026,36.741151177668115,36.909036112055986,37.07692104644386,37.24480598083173,37.4126909152196,37.58057584960747,37.74846078399534,37.91634571838321,38.08423065277108,38.252115587158954,38.420000521546825,38.587885455934696,38.75577039032257,38.92365532471044,39.09154025909831,39.25942519348618,39.42731012787405,39.59519506226192,39.76307999664979,39.930964931037664,40.09884986542552,40.26673479981339,40.43461973420126,40.602504668589134,40.770389602977005,40.938274537364876,41.10615947175275,41.27404440614062,41.44192934052849,41.60981427491636,41.77769920930423,41.9455841436921,42.11346907807997,42.281354012467844,42.449238946855715,42.617123881243586,42.78500881563146,42.95289375001933,43.1207786844072,43.28866361879507,43.45654855318293,43.6244334875708,43.79231842195867,43.96020335634654,44.12808829073441,44.29597322512228,44.46385815951015,44.631743093898024,44.799628028285895,44.967512962673766,45.13539789706164,45.30328283144951,45.47116776583738,45.63905270022525,45.80693763461312,45.97482256900099,46.14270750338886,46.310592437776734,46.478477372164605,46.64636230655246,46.81424724094033,46.9821321753282,47.150017109716075,47.317902044103946,47.48578697849182,47.65367191287969,47.82155684726756,47.98944178165543,48.1573267160433,48.32521165043117,48.49309658481904,48.66098151920691,48.828866453594785,48.996751387982656,49.16463632237053,49.3325212567584,49.50040619114627,49.66829112553414,49.83617605992201,50.00406099430987,50.17194592869774,50.33983086308561,50.50771579747348,50.67560073186135,50.84348566624922,51.01137060063709,51.179255535024964,51.347140469412835,51.515025403800706,51.68291033818858,51.85079527257645,52.01868020696432,52.18656514135219,52.35445007574006,52.52233501012793,52.6902199445158,52.858104878903674,53.025989813291545,53.193874747679416,53.36175968206727,53.529644616455144,53.697529550843015,53.865414485230886,54.03329941961876,54.20118435400663,54.3690692883945,54.53695422278237,54.70483915717024,54.87272409155811,55.04060902594598,55.208493960333854,55.376378894721725,55.544263829109596,55.71214876349747,55.88003369788534,56.04791863227321,56.21580356666108,56.38368850104895,56.55157343543681,56.71945836982468,56.88734330421255,57.05522823860042,57.22311317298829,57.39099810737616,57.558883041764034,57.726767976151905,57.894652910539776,58.06253784492765,58.23042277931552,58.39830771370339,58.56619264809126,58.73407758247913,58.901962516867,59.06984745125487,59.237732385642744,59.405617320030615,59.573502254418486,59.74138718880636,59.909272123194214,60.077157057582085,60.245041991969956,60.41292692635783,60.5808118607457,60.74869679513357,60.91658172952144,61.08446666390931,61.25235159829718,61.42023653268505,61.588121467072924,61.756006401460795,61.923891335848666,62.09177627023654,62.25966120462441,62.42754613901228,62.59543107340015,62.76331600778802,62.93120094217589,63.09908587656376,63.26697081095162,63.43485574533949,63.60274067972736,63.77062561411523,63.9385105485031,64.10639548289097,64.27428041727885,64.44216535166672,64.61005028605459,64.77793522044246,64.94582015483033,65.1137050892182,65.28159002360607,65.44947495799394,65.61735989238181,65.78524482676968,65.95312976115756,66.12101469554543,66.2888996299333,66.45678456432115,66.62466949870903,66.7925544330969,66.96043936748477,67.12832430187264,67.29620923626051,67.46409417064838,67.63197910503625,67.79986403942412,67.967748973812,68.13563390819986,68.30351884258774,68.4714037769756,68.63928871136348,68.80717364575135,68.97505858013922,69.14294351452709,69.31082844891496,69.47871338330283,69.6465983176907,69.81448325207856,69.98236818646643,70.1502531208543,70.31813805524217,70.48602298963004,70.65390792401791,70.82179285840579,70.98967779279366,71.15756272718153,71.3254476615694,71.49333259595727,71.66121753034514,71.82910246473301,71.99698739912088,72.16487233350875,72.33275726789662,72.5006422022845,72.66852713667237,72.83641207106024,73.00429700544811,73.17218193983597,73.34006687422384,73.50795180861171,73.67583674299958,73.84372167738745,74.01160661177532,74.17949154616319,74.34737648055106,74.51526141493893,74.6831463493268,74.85103128371468,75.01891621810255,75.18680115249042,75.35468608687829,75.52257102126616,75.69045595565403,75.8583408900419,76.02622582442977,76.19411075881764,76.36199569320551,76.52988062759337,76.69776556198124,76.86565049636911,77.03353543075698,77.20142036514486,77.36930529953273,77.5371902339206,77.70507516830847,77.87296010269634,78.04084503708421,78.20872997147208,78.37661490585995,78.54449984024782,78.7123847746357,78.88026970902357,79.04815464341144,79.21603957779931,79.38392451218718,79.55180944657505,79.7196943809629,79.88757931535078,80.05546424973865,80.22334918412652,80.39123411851439,80.55911905290226,80.72700398729013,80.894888921678,81.06277385606587,81.23065879045375,81.39854372484162,81.56642865922949,81.73431359361736,81.90219852800523,82.0700834623931,82.23796839678097,82.40585333116884,82.57373826555671,82.74162319994458,82.90950813433246,83.07739306872031,83.24527800310818,83.41316293749605,83.58104787188392,83.7489328062718,83.91681774065967,84.08470267504754,84.25258760943541,84.42047254382328,84.58835747821115,84.75624241259902,84.9241273469869,85.09201228137476,85.25989721576263,85.4277821501505,85.59566708453838,85.76355201892625,85.93143695331412,86.09932188770199,86.26720682208986,86.43509175647772,86.60297669086559,86.77086162525346,86.93874655964133,87.1066314940292,87.27451642841707,87.44240136280494,87.61028629719281,87.77817123158069,87.94605616596856,88.11394110035643,88.2818260347443,88.44971096913217,88.61759590352004,88.78548083790791,88.95336577229578,89.12125070668365,89.28913564107152,89.4570205754594,89.62490550984725,89.79279044423512,89.960675378623,90.12856031301087,90.29644524739874,90.46433018178661,90.63221511617448,90.80010005056235,90.96798498495022,91.13586991933809,91.30375485372596,91.47163978811383,91.6395247225017,91.80740965688958,91.97529459127745,92.14317952566532,92.31106446005319,92.47894939444106,92.64683432882893,92.8147192632168,92.98260419760466,93.15048913199253,93.3183740663804,93.48625900076827,93.65414393515614,93.82202886954401,93.98991380393188,94.15779873831976,94.32568367270763,94.4935686070955,94.66145354148337,94.82933847587124,94.99722341025911,95.16510834464698,95.33299327903485,95.50087821342272,95.6687631478106,95.83664808219847,96.00453301658634,96.17241795097421,96.34030288536206,96.50818781974993,96.6760727541378,96.84395768852568,97.01184262291356,97.17972755730143,97.3476124916893,97.51549742607718,97.68338236046505,97.85126729485289,98.01915222924076,98.18703716362863,98.3549220980165,98.52280703240437,98.69069196679224,98.85857690118011,99.02646183556799,99.19434676995586,99.36223170434373,99.5301166387316,99.69800157311947,99.86588650750734,100.03377144189521,100.20165637628308,100.36954131067095,100.53742624505882,100.7053111794467,100.87319611383457,101.04108104822244,101.20896598261031,101.37685091699818,101.54473585138605,101.71262078577392,101.88050572016179,102.04839065454966,102.21627558893753,102.3841605233254,102.55204545771328,102.71993039210115,102.88781532648902,103.05570026087689,103.22358519526476,103.39147012965263,103.5593550640405,103.72723999842837,103.89512493281624,104.06300986720412,104.23089480159199,104.39877973597986,104.5666646703677,104.73454960475557,104.90243453914344,105.07031947353131,105.23820440791918,105.40608934230706,105.57397427669493,105.7418592110828,105.90974414547067,106.07762907985854,106.24551401424641,106.41339894863428,106.58128388302215,106.74916881741002,106.9170537517979,107.08493868618577,107.25282362057364,107.42070855496151,107.58859348934938,107.75647842373725,107.92436335812512,108.09224829251299,108.26013322690086,108.42801816128873,108.5959030956766,108.76378803006448,108.93167296445235,109.09955789884022,109.26744283322809,109.43532776761596,109.60321270200383,109.7710976363917,109.93898257077957,110.10686750516744,110.27475243955531,110.44263737394319,110.61052230833106,110.77840724271893,110.9462921771068,111.11417711149464,111.28206204588251,111.44994698027038,111.61783191465825,111.78571684904612,111.953601783434,112.12148671782187,112.28937165220974,112.45725658659761,112.62514152098548,112.79302645537335,112.96091138976122,113.12879632414909,113.29668125853696,113.46456619292483,113.6324511273127,113.80033606170058,113.96822099608845,114.13610593047632,114.30399086486419,114.47187579925206,114.63976073363993,114.8076456680278,114.97553060241567,115.14341553680354,115.31130047119142,115.47918540557929,115.64707033996716,115.81495527435503,115.9828402087429,116.15072514313077,116.31861007751864,116.48649501190651,116.65437994629438,116.82226488068225,116.99014981507013,117.158034749458,117.32591968384587,117.49380461823374,117.66168955262161,117.82957448700945,117.99745942139732,118.1653443557852,118.33322929017307,118.50111422456094,118.66899915894881,118.83688409333668,119.00476902772455,119.17265396211242,119.34053889650029,119.50842383088816,119.67630876527603,119.8441936996639,120.01207863405178,120.17996356843965,120.34784850282752,120.51573343721539,120.68361837160326,120.85150330599113,121.019388240379,121.18727317476687,121.35515810915474,121.52304304354261,121.69092797793049,121.85881291231836,122.02669784670623,122.1945827810941,122.36246771548197,122.53035264986984,122.69823758425771,122.86612251864558,123.03400745303345,123.20189238742132,123.3697773218092,123.53766225619707,123.70554719058494,123.87343212497281,124.04131705936068,124.20920199374855,124.37708692813639,124.54497186252426,124.71285679691213,124.8807417313,125.04862666568788,125.21651160007575,125.38439653446362,125.55228146885149,125.72016640323936,125.88805133762723,126.0559362720151,126.22382120640297,126.39170614079084,126.55959107517872,126.72747600956659,126.89536094395446,127.06324587834233,127.2311308127302,127.39901574711807,127.56690068150594,127.73478561589381,127.90267055028168,128.07055548466957,128.23844041905744,128.4063253534453,128.57421028783318,128.74209522222105,128.90998015660892,129.0778650909968,129.24575002538467,129.41363495977254,129.5815198941604,129.74940482854828,129.91728976293615,130.08517469732402,130.2530596317119,130.42094456609976,130.58882950048763,130.7567144348755,130.92459936926335,131.09248430365122,131.2603692380391,131.42825417242696,131.59613910681483,131.7640240412027,131.93190897559057,132.09979390997844,132.26767884436632,132.4355637787542,132.60344871314206,132.77133364752993,132.9392185819178,133.10710351630567,133.27498845069354,133.4428733850814,133.61075831946928,133.77864325385715,133.94652818824503,134.1144131226329,134.28229805702077,134.45018299140864,134.6180679257965,134.78595286018438,134.95383779457225,135.12172272896012,135.289607663348,135.45749259773586,135.62537753212374,135.7932624665116,135.96114740089948,136.12903233528735,136.29691726967522,136.4648022040631,136.63268713845096],\"xaxis\":\"x\",\"y\":[0.0,0.0,0.0,0.0,0.0,0.0,0.0,0.0,0.0,0.0,0.0,0.0,0.0,0.0,0.0,0.0,0.0,0.0,0.0,0.0,0.0,0.0,0.0,0.0,0.0,0.0,0.0,0.0,0.0,0.0,0.0,0.0,0.0,0.0,0.0,0.0,0.0,0.0,0.0,0.0,0.0,0.0,0.0,0.0,0.0,0.0,0.0,0.0,0.0,0.0,0.0,0.0,0.0,0.0,0.0,0.0,0.0,0.0,0.0,0.0,0.0,0.0,0.0,0.0,0.0,0.0,0.0,0.0,0.0,0.0,0.0,0.0,0.0,0.0,0.0,0.0,0.0,0.0,0.0,0.0,0.0,0.0,0.0,0.0,0.0,0.0,0.0,0.0,0.0,0.0,0.0,0.0,0.0,0.0,0.0,0.0,0.0,0.0,0.0,0.0,0.0,0.0,0.0,0.0,0.0,0.0,0.0,0.0,0.0,0.0,0.0,0.0,0.0,0.0,0.0,0.0,0.0,0.0,0.0,0.0,0.0,0.0,0.0,0.0,0.0,0.0,0.0,0.0,0.0,0.0,0.0,0.0,0.0,0.0,0.0,0.0,0.0,0.0,0.0,0.0,0.0,0.0,0.0,0.0,0.0,0.0,0.0,0.0,0.0,0.0,0.0,0.0,0.0,0.0,0.0,0.0,0.0,0.0,0.0,0.0,0.0,0.0,0.0,0.0,0.0,0.0,0.0,0.0,0.0,0.0,0.0,0.0,0.0,0.0,0.0,0.0,0.0,0.0,0.0,0.0,0.0,0.0,0.0,0.0,0.0,0.0,0.0,0.0,0.0,0.0,0.0,0.0,0.0,0.0,0.0,0.0,0.0,0.0,0.0,0.0,0.0,0.0,0.0,0.0,5e-324,1.945841236069e-310,6.775823759054534e-297,1.1664318010679158e-283,9.926733284146955e-271,4.176487484215194e-258,8.68726183729252e-246,8.933707229041046e-234,4.5422290882256154e-222,1.141846482939576e-210,1.4192608297558973e-199,8.722656604103078e-189,2.650853137174748e-178,3.983762600779282e-168,2.9607057761003888e-158,1.0882209688935167e-148,1.9782821743515615e-139,1.778859351836482e-130,7.912508922951909e-122,1.7411957894550534e-113,1.8957822329715727e-105,1.021383952151873e-97,2.7233777561047802e-90,3.5942676013485485e-83,2.3483859714915735e-76,7.597419174041152e-70,1.217278482810683e-63,9.661398434639316e-58,3.799486018378929e-52,7.405648781453055e-47,7.156216476409694e-42,3.4294516139950677e-37,8.15333712424226e-33,9.619978647144745e-29,5.63520287996595e-25,1.639542843591817e-21,2.3703514168391696e-18,1.7037676492339138e-15,6.092715151312206e-13,1.0850468395135557e-10,9.639935245097675e-09,4.2874733409737865e-07,9.622695400783614e-06,0.00011118944878773851,0.0006965575458430108,0.0026628462482952003,0.007421174072625399,0.016773619487760266,0.03114435465924381,0.050233997202655846,0.07434735447950072,0.09919560376670036,0.11777831523375373,0.1297467587648771,0.13810349191627513,0.14141803975577374,0.14079837674670675,0.14701210203216752,0.1666459924411712,0.1920934801105331,0.2174799085046733,0.2440419131121371,0.26633456455497057,0.2788233786374404,0.28645710926195117,0.2970642572382119,0.31106745337457614,0.32236504063002475,0.3246659027158151,0.31007361618026547,0.2740046207238622,0.2247505736842471,0.17831283994471173,0.143758664892019,0.11830961652664987,0.09606443571531864,0.074338307129278,0.054588830152045145,0.04049101479421554,0.03249083320883158,0.027341801292587307,0.022680428896027085,0.018373446596102117,0.014464639158590099,0.011235600559369464,0.009041663529849768,0.007202553685204074,0.0054352747370412366,0.004674841606314866,0.005058256930074265,0.005622452296932957,0.005250137292099787,0.003666655467144668,0.0024502133027567777,0.0023671332913677012,0.0028775895691704597,0.003470893514421856,0.0034047279001414572,0.002856770955570317,0.002566159566823605,0.002239175249287399,0.0018719615347046416,0.0021251324967098604,0.003110929557201569,0.004070615896313831,0.004140685617283747,0.0035948138585929733,0.0031301559409808877,0.002692729912166675,0.001977105039180353,0.0012873706085536586,0.0012583883724245114,0.0017119123378940707,0.0019597365796993134,0.00195099056447302,0.0020657644277589614,0.002289842830602665,0.002142596183467923,0.001793224982909204,0.001732840085935109,0.0017821569459948922,0.0016152197364915602,0.001444335978368531,0.0017358178064631707,0.0023892772488443882,0.002657182682656322,0.002444305803169874,0.002243091194039252,0.001949015316832215,0.0016916568278128755,0.001948872236521137,0.00237232806917277,0.0021962466940880034,0.0018109939101740088,0.0019073957018982128,0.002133705765692956,0.0023569997809162846,0.0026318623228891386,0.002448008737217014,0.001955255833220292,0.0015723769924217658,0.0014629426965707174,0.0016948469722059471,0.001993067636211931,0.0021061265326316097,0.001997196011462,0.001756541806309704,0.0014309904033961431,0.001243702771167846,0.0014147302053991147,0.001783577545987789,0.001784147238156464,0.0016382745737912293,0.002442445208781101,0.003728167483870108,0.003949030655017993,0.003026779709401559,0.002356084328879495,0.0026464274216507692,0.0030657021381039957,0.002760055650548862,0.001971216236904195,0.0017245154396170511,0.0020831617406595233,0.002224235530248486,0.001934623658501531,0.0013932208190366947,0.000773847666656688,0.0004072036448822534,0.00043850579800322974,0.0005053381684565735,0.00040380652428703587,0.0005881462297905719,0.0012960281798139101,0.0017704481352171213,0.0014323219766032614,0.0009902783540992064,0.001374967862432997,0.0024818993821830214,0.0030802934163141043,0.0025057471753745226,0.0017170355967189325,0.0014499463463176058,0.0012609708307724761,0.0010268746499897579,0.0011387176546837085,0.0014304854764187636,0.0017515399272746697,0.002109671460472115,0.002237907810211402,0.002231518326258204,0.0022935686813990996,0.002277494070420767,0.001978738392702344,0.001540087386895241,0.0009795531754009405,0.0003917355976798047,8.429197459533637e-05,1.8513346332792398e-05,7.116383080053715e-05,0.0002604665375600548,0.0004744555508913232,0.0004286004779388676,0.00021413583185530126,0.0002392581475152615,0.0008214504998381761,0.0017130849784645586,0.0018317556467260913,0.001009810655163376,0.0003289499382995,0.00023980495470521198,0.0004375350352129076,0.00047457761996181876,0.00029365983749773803,0.0002649542312449021,0.0005142659263727761,0.0008404136097282608,0.0011095702725961954,0.0011010079894607546,0.0008682775803605393,0.0009222112381029403,0.0011574927092117637,0.0011889229935337022,0.0010334566398278798,0.0007833406505329932,0.00045976636272142583,0.00028547233676570977,0.0004053200598910479,0.0005360520165697912,0.0005508393710064027,0.0007899990313851329,0.001142853813080361,0.0011487165717034423,0.0008951768481082668,0.0007068665695784996,0.0005886218878834496,0.0003540917976443518,0.00013578532194625454,0.00013721232751801567,0.0003454318738329544,0.0004954641806222538,0.00035280516913463477,0.0001241927629456748,2.1660563674921124e-05,3.1877991180493987e-06,1.7158217442093364e-05,0.00011109188405271954,0.00037929021060862967,0.0007361062219169461,0.0009357956294216455,0.0009229296717929562,0.0007519952763046908,0.0004930691323092666,0.000452668421951775,0.0007599159653569163,0.0009301632382590142,0.000630111294182182,0.00022954454961065902,6.0816078431700427e-05,0.00011340352990793181,0.0003487011215286878,0.0006152882594798445,0.0007167732274050868,0.0006312348435106834,0.0003730930514101809,0.0001232966980475952,2.0897229179696244e-05,1.7681911285012073e-06,7.414515576268275e-08,1.5378421733646507e-09,1.5768791058878675e-11,7.99256568801559e-14,2.002444938138783e-16,2.4798060461765765e-19,1.5179472511760974e-22,1.6064277993116725e-25,3.511716538939613e-22,5.313745657271752e-19,3.9743262869696173e-16,1.4692906437990052e-13,2.684932331215679e-11,2.4251600962631247e-09,1.082751815216889e-07,2.3894550491657547e-06,2.6064550940438314e-05,0.00014053453683557536,0.00037453923946948457,0.0004933930769672827,0.00032127315648904493,0.0001035372410113728,1.9301992426059416e-05,3.100826515070156e-05,0.00015308568459314431,0.0003895785882302758,0.0004902047713921667,0.00030488951337845105,9.373221624633723e-05,1.4243500073869711e-05,1.069857649346114e-06,3.972068304720651e-08,7.289487051005589e-10,9.94944139728372e-12,4.043733080902798e-10,2.421520148096673e-08,7.168148103133955e-07,1.0488352899865207e-05,7.58558450663561e-05,0.0002711766229130448,0.0004791780133499782,0.00041852649359303413,0.00018068848016184825,3.8558436237373216e-05,4.067146327793633e-06,2.1205163267194098e-07,5.464807660913844e-09,6.961287642698023e-11,4.383143760997463e-13,1.3641536475756283e-15,2.0985643926628125e-18,1.5957590413302203e-21,6.086999812001241e-23,1.0703781997696312e-19,9.396218580795733e-17,4.0770909996607746e-14,8.7443822980911e-12,9.270204303293123e-10,4.857702483947003e-08,1.2582123916781348e-06,1.6108624891459587e-05,0.00010194009170932769,0.00031887936605738394,0.000493386453877185,0.00038308895353689215,0.000195436880779507,0.00024997068301059694,0.0004896410319506508,0.0006320901538698921,0.0006426288385359884,0.000546174226388554,0.00034561244425887147,0.00031862770155088215,0.00047422766737382685,0.0004440521380805011,0.00020976419588687414,4.905266617196261e-05,5.670518619326705e-06,3.240170270868336e-07,9.151548248408426e-09,1.2776231439028148e-10,8.816422738311423e-13,3.007208078095117e-15,5.070093755593234e-18,4.225225955387727e-21,1.7404651243829774e-24,3.5437424356341215e-28,3.5664850738281055e-32,1.7741899303011955e-36,4.362558330951205e-41,5.302294203814478e-46,3.185428295892518e-51,9.459175503376222e-57,1.388417793427963e-62,1.0073224100534468e-68,3.61242018081221e-75,6.750860209636451e-77,2.2615468607111667e-70,3.7448775699226044e-64,3.065145497795468e-58,1.2400694341138151e-52,2.479832507863055e-47,2.4512078138530487e-42,1.1976208646767587e-37,2.892277855318183e-33,3.452566950124867e-29,2.0371623590026339e-25,5.941424938812912e-22,8.565190452817386e-19,6.103302158980714e-16,2.1496816833707534e-13,3.7425264499866336e-11,3.2206018521939688e-09,1.3699055841797198e-07,2.8802200631355985e-06,2.993244162557556e-05,0.0001537588261526049,0.00039040862442956905,0.0004899820715006104,0.0003039642808218012,9.32137718891668e-05,1.4396137322060482e-05,5.962184622322364e-06,4.4210467795299444e-05,0.00019666582109774882,0.0004328088367563299,0.00047081073615358015,0.0002531500632901576,6.728080213026899e-05,8.83864555755265e-06,5.739336837663726e-07,1.842125214509733e-08,2.922523539712959e-10,2.2918085467365266e-12,8.925505934810822e-15,1.994910734337964e-14,4.6657774291708705e-12,5.398544578910794e-10,3.087527291703831e-08,8.728233498513344e-07,1.219616649657741e-05,8.423678258749586e-05,0.0002875819568021313,0.0004852917808057927,0.00040478617846877304,0.00016688982209793447,3.401069181704652e-05,3.425961814859572e-06,1.7058113813691441e-07,4.1981788372118205e-09,5.10707575557868e-11,3.0708959565171314e-13,9.127237318213586e-16,1.3408957698066866e-18,9.737156185372867e-22,3.495028241246933e-25,6.200842209791132e-29,5.437911165741533e-33,2.357192088146037e-37,5.050557018592332e-42,5.348906665626675e-47,2.800091342974205e-52,7.245374121046037e-58,9.26682304188696e-64,5.858445064388783e-70,1.830692032560305e-76,2.8276760840784645e-83,2.158864890940684e-90,8.14709360487471e-98,1.5197123272218017e-105,1.401204437772945e-113,6.385913912317602e-122,1.4385536149029796e-130,1.6018080925309135e-139,8.816096836338164e-149,2.3984112791098533e-158,3.2251684416861876e-168,2.1436929658954802e-178,7.042943459040306e-189,1.1437398644998173e-199,9.180825921241836e-211,3.642652014052601e-222,7.143894860034078e-234,6.925224573505528e-246,3.318288227320346e-258,7.859153816922986e-271,9.200658447620108e-284,5.3240664418894026e-297,1.52282312088754e-310,0.0,0.0,0.0,0.0,0.0,0.0,0.0,0.0,0.0,0.0,0.0,0.0,0.0,0.0,0.0,0.0,0.0,0.0,0.0,0.0,0.0,0.0,0.0,0.0,0.0,0.0,0.0,0.0,0.0,0.0,0.0,0.0,0.0,0.0,0.0,0.0,0.0,0.0,0.0,0.0,0.0,0.0,0.0,2.505763e-317,1.2395689040977172e-303,3.030977943743221e-290,3.663332313183675e-277,2.1885239070326007e-264,6.462606471058835e-252,9.432907262456752e-240,6.80557549595792e-228,2.426976577532009e-216,4.278068671802881e-205,3.727445960093817e-194,1.6053007097653606e-183,3.417298195328437e-173,3.595760806977457e-163,1.8701659656520065e-153,4.8078503540155265e-144,6.109464867449213e-135,3.837397952286943e-126,1.1913844979515207e-117,1.828304330274456e-109,1.386840348765451e-101,5.199790986440208e-94,9.636664577750377e-87,8.827729894399061e-80,3.997171366010141e-73,8.946186271957063e-67,9.897022169055585e-61,5.411935191692395e-55,1.4627902908080235e-49,1.9543079041979478e-44,1.2905812333602976e-39,4.2126864943761897e-35,6.796954658055089e-31,5.4206459575572366e-27,2.136825956470377e-23,4.1635970852905494e-20,4.010048994289597e-17,1.9090271257937645e-14,4.4921676675816444e-12,5.22493934969436e-10,3.003917404285299e-08,8.536427541586561e-07,1.1990733955135956e-05,8.325240986109056e-05,0.000285712537145668,0.0004846667422494479,0.0004063858510824157,0.00016842842053358808,3.450433094846613e-05,3.4939226249627152e-06,1.7487768399152473e-07,4.326502317243741e-09,5.290794896221483e-11,3.198058095733184e-13,9.555055399651036e-16,1.4111120732087692e-18,1.0300806841932404e-21,3.716742014111077e-25,6.628801711767025e-29,5.843715670067327e-33,2.546387908130454e-37,5.4845561538311884e-42,5.839018471089929e-47,3.072696377783982e-52,7.992467619518163e-58,1.0275987329572348e-63,6.530518624942275e-70,2.051413561978388e-76,3.185225690700536e-83,2.4446046590628347e-90,9.273816493324188e-98,1.7389608254015692e-105,1.611768028234991e-113,7.384085427444611e-122,1.67213880622041e-130,1.8716704208518338e-139,1.0355423524344295e-148,2.8319644160122147e-158,3.8281518468870045e-168,2.5578316549837873e-178,8.4476555444936e-189,1.379055910708001e-199,1.1127791727404717e-210,4.438309059685809e-222,8.74998947714683e-234,8.526660243349775e-246,4.107067337818536e-258,9.778362342492812e-271,1.1507523400412326e-283,6.693897297201219e-297,1.9246761315833e-310,5e-324,0.0,0.0,0.0,0.0,0.0,0.0,0.0,0.0,0.0,0.0,0.0,0.0,0.0,0.0,0.0,0.0,0.0,0.0,0.0,0.0,0.0,0.0,0.0,0.0,0.0,0.0,0.0,0.0,0.0,0.0,0.0,0.0,0.0,0.0,0.0,0.0,0.0,0.0,0.0,0.0,0.0,0.0,0.0,0.0,0.0,0.0,0.0,0.0,0.0,0.0,0.0,0.0,0.0,0.0,0.0,0.0,0.0,0.0,0.0,0.0,0.0,0.0,0.0,0.0,0.0,0.0,0.0,0.0,0.0,0.0,0.0,0.0,0.0,0.0,0.0,0.0,0.0,0.0,0.0,0.0,0.0,0.0,0.0,0.0,0.0,0.0,0.0,0.0,0.0,0.0,0.0,0.0,0.0,0.0,0.0,0.0,0.0,0.0,0.0,0.0,0.0,0.0,0.0,0.0,0.0,0.0,0.0,0.0,0.0,0.0,0.0,0.0,0.0,0.0,0.0,0.0,0.0,0.0,0.0,0.0,0.0,0.0,0.0,0.0,0.0,0.0,0.0,0.0,0.0,0.0,0.0,0.0,0.0,0.0,0.0,0.0,0.0,0.0,0.0,0.0,0.0,0.0,0.0,0.0,0.0,0.0,0.0,0.0,0.0,0.0,0.0,0.0,0.0,0.0,0.0,0.0,0.0,0.0,0.0,0.0,0.0,0.0,0.0,0.0,0.0,0.0,0.0,0.0,0.0,0.0,0.0,0.0,0.0,0.0,0.0,0.0,0.0,0.0,0.0,0.0,0.0,0.0,0.0,0.0,0.0,0.0,0.0,0.0,0.0,0.0,0.0,0.0,0.0,0.0,0.0,0.0,0.0,0.0,0.0,0.0,0.0,0.0,0.0,0.0],\"yaxis\":\"y\",\"type\":\"scatter\"}],                        {\"template\":{\"data\":{\"histogram2dcontour\":[{\"type\":\"histogram2dcontour\",\"colorbar\":{\"outlinewidth\":0,\"ticks\":\"\"},\"colorscale\":[[0.0,\"#0d0887\"],[0.1111111111111111,\"#46039f\"],[0.2222222222222222,\"#7201a8\"],[0.3333333333333333,\"#9c179e\"],[0.4444444444444444,\"#bd3786\"],[0.5555555555555556,\"#d8576b\"],[0.6666666666666666,\"#ed7953\"],[0.7777777777777778,\"#fb9f3a\"],[0.8888888888888888,\"#fdca26\"],[1.0,\"#f0f921\"]]}],\"choropleth\":[{\"type\":\"choropleth\",\"colorbar\":{\"outlinewidth\":0,\"ticks\":\"\"}}],\"histogram2d\":[{\"type\":\"histogram2d\",\"colorbar\":{\"outlinewidth\":0,\"ticks\":\"\"},\"colorscale\":[[0.0,\"#0d0887\"],[0.1111111111111111,\"#46039f\"],[0.2222222222222222,\"#7201a8\"],[0.3333333333333333,\"#9c179e\"],[0.4444444444444444,\"#bd3786\"],[0.5555555555555556,\"#d8576b\"],[0.6666666666666666,\"#ed7953\"],[0.7777777777777778,\"#fb9f3a\"],[0.8888888888888888,\"#fdca26\"],[1.0,\"#f0f921\"]]}],\"heatmap\":[{\"type\":\"heatmap\",\"colorbar\":{\"outlinewidth\":0,\"ticks\":\"\"},\"colorscale\":[[0.0,\"#0d0887\"],[0.1111111111111111,\"#46039f\"],[0.2222222222222222,\"#7201a8\"],[0.3333333333333333,\"#9c179e\"],[0.4444444444444444,\"#bd3786\"],[0.5555555555555556,\"#d8576b\"],[0.6666666666666666,\"#ed7953\"],[0.7777777777777778,\"#fb9f3a\"],[0.8888888888888888,\"#fdca26\"],[1.0,\"#f0f921\"]]}],\"heatmapgl\":[{\"type\":\"heatmapgl\",\"colorbar\":{\"outlinewidth\":0,\"ticks\":\"\"},\"colorscale\":[[0.0,\"#0d0887\"],[0.1111111111111111,\"#46039f\"],[0.2222222222222222,\"#7201a8\"],[0.3333333333333333,\"#9c179e\"],[0.4444444444444444,\"#bd3786\"],[0.5555555555555556,\"#d8576b\"],[0.6666666666666666,\"#ed7953\"],[0.7777777777777778,\"#fb9f3a\"],[0.8888888888888888,\"#fdca26\"],[1.0,\"#f0f921\"]]}],\"contourcarpet\":[{\"type\":\"contourcarpet\",\"colorbar\":{\"outlinewidth\":0,\"ticks\":\"\"}}],\"contour\":[{\"type\":\"contour\",\"colorbar\":{\"outlinewidth\":0,\"ticks\":\"\"},\"colorscale\":[[0.0,\"#0d0887\"],[0.1111111111111111,\"#46039f\"],[0.2222222222222222,\"#7201a8\"],[0.3333333333333333,\"#9c179e\"],[0.4444444444444444,\"#bd3786\"],[0.5555555555555556,\"#d8576b\"],[0.6666666666666666,\"#ed7953\"],[0.7777777777777778,\"#fb9f3a\"],[0.8888888888888888,\"#fdca26\"],[1.0,\"#f0f921\"]]}],\"surface\":[{\"type\":\"surface\",\"colorbar\":{\"outlinewidth\":0,\"ticks\":\"\"},\"colorscale\":[[0.0,\"#0d0887\"],[0.1111111111111111,\"#46039f\"],[0.2222222222222222,\"#7201a8\"],[0.3333333333333333,\"#9c179e\"],[0.4444444444444444,\"#bd3786\"],[0.5555555555555556,\"#d8576b\"],[0.6666666666666666,\"#ed7953\"],[0.7777777777777778,\"#fb9f3a\"],[0.8888888888888888,\"#fdca26\"],[1.0,\"#f0f921\"]]}],\"mesh3d\":[{\"type\":\"mesh3d\",\"colorbar\":{\"outlinewidth\":0,\"ticks\":\"\"}}],\"scatter\":[{\"fillpattern\":{\"fillmode\":\"overlay\",\"size\":10,\"solidity\":0.2},\"type\":\"scatter\"}],\"parcoords\":[{\"type\":\"parcoords\",\"line\":{\"colorbar\":{\"outlinewidth\":0,\"ticks\":\"\"}}}],\"scatterpolargl\":[{\"type\":\"scatterpolargl\",\"marker\":{\"colorbar\":{\"outlinewidth\":0,\"ticks\":\"\"}}}],\"bar\":[{\"error_x\":{\"color\":\"#2a3f5f\"},\"error_y\":{\"color\":\"#2a3f5f\"},\"marker\":{\"line\":{\"color\":\"#E5ECF6\",\"width\":0.5},\"pattern\":{\"fillmode\":\"overlay\",\"size\":10,\"solidity\":0.2}},\"type\":\"bar\"}],\"scattergeo\":[{\"type\":\"scattergeo\",\"marker\":{\"colorbar\":{\"outlinewidth\":0,\"ticks\":\"\"}}}],\"scatterpolar\":[{\"type\":\"scatterpolar\",\"marker\":{\"colorbar\":{\"outlinewidth\":0,\"ticks\":\"\"}}}],\"histogram\":[{\"marker\":{\"pattern\":{\"fillmode\":\"overlay\",\"size\":10,\"solidity\":0.2}},\"type\":\"histogram\"}],\"scattergl\":[{\"type\":\"scattergl\",\"marker\":{\"colorbar\":{\"outlinewidth\":0,\"ticks\":\"\"}}}],\"scatter3d\":[{\"type\":\"scatter3d\",\"line\":{\"colorbar\":{\"outlinewidth\":0,\"ticks\":\"\"}},\"marker\":{\"colorbar\":{\"outlinewidth\":0,\"ticks\":\"\"}}}],\"scattermapbox\":[{\"type\":\"scattermapbox\",\"marker\":{\"colorbar\":{\"outlinewidth\":0,\"ticks\":\"\"}}}],\"scatterternary\":[{\"type\":\"scatterternary\",\"marker\":{\"colorbar\":{\"outlinewidth\":0,\"ticks\":\"\"}}}],\"scattercarpet\":[{\"type\":\"scattercarpet\",\"marker\":{\"colorbar\":{\"outlinewidth\":0,\"ticks\":\"\"}}}],\"carpet\":[{\"aaxis\":{\"endlinecolor\":\"#2a3f5f\",\"gridcolor\":\"white\",\"linecolor\":\"white\",\"minorgridcolor\":\"white\",\"startlinecolor\":\"#2a3f5f\"},\"baxis\":{\"endlinecolor\":\"#2a3f5f\",\"gridcolor\":\"white\",\"linecolor\":\"white\",\"minorgridcolor\":\"white\",\"startlinecolor\":\"#2a3f5f\"},\"type\":\"carpet\"}],\"table\":[{\"cells\":{\"fill\":{\"color\":\"#EBF0F8\"},\"line\":{\"color\":\"white\"}},\"header\":{\"fill\":{\"color\":\"#C8D4E3\"},\"line\":{\"color\":\"white\"}},\"type\":\"table\"}],\"barpolar\":[{\"marker\":{\"line\":{\"color\":\"#E5ECF6\",\"width\":0.5},\"pattern\":{\"fillmode\":\"overlay\",\"size\":10,\"solidity\":0.2}},\"type\":\"barpolar\"}],\"pie\":[{\"automargin\":true,\"type\":\"pie\"}]},\"layout\":{\"autotypenumbers\":\"strict\",\"colorway\":[\"#636efa\",\"#EF553B\",\"#00cc96\",\"#ab63fa\",\"#FFA15A\",\"#19d3f3\",\"#FF6692\",\"#B6E880\",\"#FF97FF\",\"#FECB52\"],\"font\":{\"color\":\"#2a3f5f\"},\"hovermode\":\"closest\",\"hoverlabel\":{\"align\":\"left\"},\"paper_bgcolor\":\"white\",\"plot_bgcolor\":\"#E5ECF6\",\"polar\":{\"bgcolor\":\"#E5ECF6\",\"angularaxis\":{\"gridcolor\":\"white\",\"linecolor\":\"white\",\"ticks\":\"\"},\"radialaxis\":{\"gridcolor\":\"white\",\"linecolor\":\"white\",\"ticks\":\"\"}},\"ternary\":{\"bgcolor\":\"#E5ECF6\",\"aaxis\":{\"gridcolor\":\"white\",\"linecolor\":\"white\",\"ticks\":\"\"},\"baxis\":{\"gridcolor\":\"white\",\"linecolor\":\"white\",\"ticks\":\"\"},\"caxis\":{\"gridcolor\":\"white\",\"linecolor\":\"white\",\"ticks\":\"\"}},\"coloraxis\":{\"colorbar\":{\"outlinewidth\":0,\"ticks\":\"\"}},\"colorscale\":{\"sequential\":[[0.0,\"#0d0887\"],[0.1111111111111111,\"#46039f\"],[0.2222222222222222,\"#7201a8\"],[0.3333333333333333,\"#9c179e\"],[0.4444444444444444,\"#bd3786\"],[0.5555555555555556,\"#d8576b\"],[0.6666666666666666,\"#ed7953\"],[0.7777777777777778,\"#fb9f3a\"],[0.8888888888888888,\"#fdca26\"],[1.0,\"#f0f921\"]],\"sequentialminus\":[[0.0,\"#0d0887\"],[0.1111111111111111,\"#46039f\"],[0.2222222222222222,\"#7201a8\"],[0.3333333333333333,\"#9c179e\"],[0.4444444444444444,\"#bd3786\"],[0.5555555555555556,\"#d8576b\"],[0.6666666666666666,\"#ed7953\"],[0.7777777777777778,\"#fb9f3a\"],[0.8888888888888888,\"#fdca26\"],[1.0,\"#f0f921\"]],\"diverging\":[[0,\"#8e0152\"],[0.1,\"#c51b7d\"],[0.2,\"#de77ae\"],[0.3,\"#f1b6da\"],[0.4,\"#fde0ef\"],[0.5,\"#f7f7f7\"],[0.6,\"#e6f5d0\"],[0.7,\"#b8e186\"],[0.8,\"#7fbc41\"],[0.9,\"#4d9221\"],[1,\"#276419\"]]},\"xaxis\":{\"gridcolor\":\"white\",\"linecolor\":\"white\",\"ticks\":\"\",\"title\":{\"standoff\":15},\"zerolinecolor\":\"white\",\"automargin\":true,\"zerolinewidth\":2},\"yaxis\":{\"gridcolor\":\"white\",\"linecolor\":\"white\",\"ticks\":\"\",\"title\":{\"standoff\":15},\"zerolinecolor\":\"white\",\"automargin\":true,\"zerolinewidth\":2},\"scene\":{\"xaxis\":{\"backgroundcolor\":\"#E5ECF6\",\"gridcolor\":\"white\",\"linecolor\":\"white\",\"showbackground\":true,\"ticks\":\"\",\"zerolinecolor\":\"white\",\"gridwidth\":2},\"yaxis\":{\"backgroundcolor\":\"#E5ECF6\",\"gridcolor\":\"white\",\"linecolor\":\"white\",\"showbackground\":true,\"ticks\":\"\",\"zerolinecolor\":\"white\",\"gridwidth\":2},\"zaxis\":{\"backgroundcolor\":\"#E5ECF6\",\"gridcolor\":\"white\",\"linecolor\":\"white\",\"showbackground\":true,\"ticks\":\"\",\"zerolinecolor\":\"white\",\"gridwidth\":2}},\"shapedefaults\":{\"line\":{\"color\":\"#2a3f5f\"}},\"annotationdefaults\":{\"arrowcolor\":\"#2a3f5f\",\"arrowhead\":0,\"arrowwidth\":1},\"geo\":{\"bgcolor\":\"white\",\"landcolor\":\"#E5ECF6\",\"subunitcolor\":\"white\",\"showland\":true,\"showlakes\":true,\"lakecolor\":\"white\"},\"title\":{\"x\":0.05},\"mapbox\":{\"style\":\"light\"}}},\"xaxis\":{\"anchor\":\"y\",\"domain\":[0.0,1.0]},\"yaxis\":{\"anchor\":\"x\",\"domain\":[0.0,1.0],\"title\":{\"text\":\"Density\"}},\"legend\":{\"tracegroupgap\":0},\"title\":{\"text\":\"Density graph of Consumer Fraud\"}},                        {\"responsive\": true}                    ).then(function(){\n",
       "                            \n",
       "var gd = document.getElementById('46a796a6-5c30-4d2c-9c3e-59360e210b3a');\n",
       "var x = new MutationObserver(function (mutations, observer) {{\n",
       "        var display = window.getComputedStyle(gd).display;\n",
       "        if (!display || display === 'none') {{\n",
       "            console.log([gd, 'removed!']);\n",
       "            Plotly.purge(gd);\n",
       "            observer.disconnect();\n",
       "        }}\n",
       "}});\n",
       "\n",
       "// Listen for the removal of the full notebook cells\n",
       "var notebookContainer = gd.closest('#notebook-container');\n",
       "if (notebookContainer) {{\n",
       "    x.observe(notebookContainer, {childList: true});\n",
       "}}\n",
       "\n",
       "// Listen for the clearing of the current output cell\n",
       "var outputEl = gd.closest('.output');\n",
       "if (outputEl) {{\n",
       "    x.observe(outputEl, {childList: true});\n",
       "}}\n",
       "\n",
       "                        })                };                });            </script>        </div>"
      ]
     },
     "metadata": {},
     "output_type": "display_data"
    }
   ],
   "source": [
    "pdf = df.pandas_api()\n",
    "pdf['Consumer Fraud'].plot.density(bw_method = 0.3, title = 'Density graph of Consumer Fraud')"
   ]
  },
  {
   "cell_type": "markdown",
   "metadata": {},
   "source": [
    "Only 3% of merchants have consumer fraud that is considered as an outlier"
   ]
  },
  {
   "cell_type": "code",
   "execution_count": 24,
   "metadata": {},
   "outputs": [],
   "source": [
    "high_consumer = df.filter(F.col('Consumer Fraud') > 17.46632)"
   ]
  },
  {
   "cell_type": "markdown",
   "metadata": {},
   "source": [
    "#### Merchant Tags"
   ]
  },
  {
   "cell_type": "code",
   "execution_count": 25,
   "metadata": {},
   "outputs": [],
   "source": [
    "tags = sdf.groupBy('tags').agg(F.sum('dollar_value').alias('Total Revenue'), F.count('*').alias('Total Sales')).sort('Total Sales')\n",
    "tags.count()"
   ]
  },
  {
   "cell_type": "code",
   "execution_count": 27,
   "metadata": {},
   "outputs": [
    {
     "name": "stderr",
     "output_type": "stream",
     "text": [
      "                                                                                \r"
     ]
    },
    {
     "data": {
      "application/vnd.plotly.v1+json": {
       "config": {
        "plotlyServerURL": "https://plot.ly"
       },
       "data": [
        {
         "alignmentgroup": "True",
         "hovertemplate": "tags=%{x}<br>Total Sales=%{y}<extra></extra>",
         "legendgroup": "",
         "marker": {
          "color": "#636efa",
          "pattern": {
           "shape": ""
          }
         },
         "name": "",
         "offsetgroup": "",
         "orientation": "v",
         "showlegend": false,
         "textposition": "auto",
         "type": "bar",
         "x": [
          "jewelry, watch, clock, silverware",
          "art dealers, galleries",
          "telecom",
          "equipment, tool, furniture, appliance rental, leasing",
          "stationery, office supplies, printing, writing paper",
          "antique, repairs, restoration",
          "bicycle,",
          "hobby, toy, game",
          "health, beauty spas",
          "motor vehicle supplies, new parts",
          "music, musical instruments, pianos, sheet music",
          "lawn, garden supply outlets, including nurseries",
          "books, periodicals, newspapers",
          "shoe",
          "artist supply, craft",
          "furniture, home furnishings, equipment, manufacturers",
          "computer programming, data processing, integrated systems design",
          "computers, computer peripheral equipment, software",
          "opticians, optical goods, eyeglasses",
          "florists supplies, nursery stock, flowers",
          "cable, satellite, other pay television, radio",
          "watch, clock, jewelry repair",
          "digital goods, books, movies, music",
          "gift, card, novelty, souvenir",
          "tent, awning"
         ],
         "xaxis": "x",
         "y": [
          4115,
          17713,
          28514,
          30604,
          142832,
          149239,
          187458,
          196582,
          205277,
          256627,
          265763,
          290099,
          329351,
          361370,
          394455,
          415926,
          433294,
          600048,
          704909,
          736148,
          799536,
          861700,
          1072727,
          1369641,
          1516682
         ],
         "yaxis": "y"
        }
       ],
       "layout": {
        "barmode": "relative",
        "legend": {
         "tracegroupgap": 0
        },
        "margin": {
         "t": 60
        },
        "template": {
         "data": {
          "bar": [
           {
            "error_x": {
             "color": "#2a3f5f"
            },
            "error_y": {
             "color": "#2a3f5f"
            },
            "marker": {
             "line": {
              "color": "#E5ECF6",
              "width": 0.5
             },
             "pattern": {
              "fillmode": "overlay",
              "size": 10,
              "solidity": 0.2
             }
            },
            "type": "bar"
           }
          ],
          "barpolar": [
           {
            "marker": {
             "line": {
              "color": "#E5ECF6",
              "width": 0.5
             },
             "pattern": {
              "fillmode": "overlay",
              "size": 10,
              "solidity": 0.2
             }
            },
            "type": "barpolar"
           }
          ],
          "carpet": [
           {
            "aaxis": {
             "endlinecolor": "#2a3f5f",
             "gridcolor": "white",
             "linecolor": "white",
             "minorgridcolor": "white",
             "startlinecolor": "#2a3f5f"
            },
            "baxis": {
             "endlinecolor": "#2a3f5f",
             "gridcolor": "white",
             "linecolor": "white",
             "minorgridcolor": "white",
             "startlinecolor": "#2a3f5f"
            },
            "type": "carpet"
           }
          ],
          "choropleth": [
           {
            "colorbar": {
             "outlinewidth": 0,
             "ticks": ""
            },
            "type": "choropleth"
           }
          ],
          "contour": [
           {
            "colorbar": {
             "outlinewidth": 0,
             "ticks": ""
            },
            "colorscale": [
             [
              0,
              "#0d0887"
             ],
             [
              0.1111111111111111,
              "#46039f"
             ],
             [
              0.2222222222222222,
              "#7201a8"
             ],
             [
              0.3333333333333333,
              "#9c179e"
             ],
             [
              0.4444444444444444,
              "#bd3786"
             ],
             [
              0.5555555555555556,
              "#d8576b"
             ],
             [
              0.6666666666666666,
              "#ed7953"
             ],
             [
              0.7777777777777778,
              "#fb9f3a"
             ],
             [
              0.8888888888888888,
              "#fdca26"
             ],
             [
              1,
              "#f0f921"
             ]
            ],
            "type": "contour"
           }
          ],
          "contourcarpet": [
           {
            "colorbar": {
             "outlinewidth": 0,
             "ticks": ""
            },
            "type": "contourcarpet"
           }
          ],
          "heatmap": [
           {
            "colorbar": {
             "outlinewidth": 0,
             "ticks": ""
            },
            "colorscale": [
             [
              0,
              "#0d0887"
             ],
             [
              0.1111111111111111,
              "#46039f"
             ],
             [
              0.2222222222222222,
              "#7201a8"
             ],
             [
              0.3333333333333333,
              "#9c179e"
             ],
             [
              0.4444444444444444,
              "#bd3786"
             ],
             [
              0.5555555555555556,
              "#d8576b"
             ],
             [
              0.6666666666666666,
              "#ed7953"
             ],
             [
              0.7777777777777778,
              "#fb9f3a"
             ],
             [
              0.8888888888888888,
              "#fdca26"
             ],
             [
              1,
              "#f0f921"
             ]
            ],
            "type": "heatmap"
           }
          ],
          "heatmapgl": [
           {
            "colorbar": {
             "outlinewidth": 0,
             "ticks": ""
            },
            "colorscale": [
             [
              0,
              "#0d0887"
             ],
             [
              0.1111111111111111,
              "#46039f"
             ],
             [
              0.2222222222222222,
              "#7201a8"
             ],
             [
              0.3333333333333333,
              "#9c179e"
             ],
             [
              0.4444444444444444,
              "#bd3786"
             ],
             [
              0.5555555555555556,
              "#d8576b"
             ],
             [
              0.6666666666666666,
              "#ed7953"
             ],
             [
              0.7777777777777778,
              "#fb9f3a"
             ],
             [
              0.8888888888888888,
              "#fdca26"
             ],
             [
              1,
              "#f0f921"
             ]
            ],
            "type": "heatmapgl"
           }
          ],
          "histogram": [
           {
            "marker": {
             "pattern": {
              "fillmode": "overlay",
              "size": 10,
              "solidity": 0.2
             }
            },
            "type": "histogram"
           }
          ],
          "histogram2d": [
           {
            "colorbar": {
             "outlinewidth": 0,
             "ticks": ""
            },
            "colorscale": [
             [
              0,
              "#0d0887"
             ],
             [
              0.1111111111111111,
              "#46039f"
             ],
             [
              0.2222222222222222,
              "#7201a8"
             ],
             [
              0.3333333333333333,
              "#9c179e"
             ],
             [
              0.4444444444444444,
              "#bd3786"
             ],
             [
              0.5555555555555556,
              "#d8576b"
             ],
             [
              0.6666666666666666,
              "#ed7953"
             ],
             [
              0.7777777777777778,
              "#fb9f3a"
             ],
             [
              0.8888888888888888,
              "#fdca26"
             ],
             [
              1,
              "#f0f921"
             ]
            ],
            "type": "histogram2d"
           }
          ],
          "histogram2dcontour": [
           {
            "colorbar": {
             "outlinewidth": 0,
             "ticks": ""
            },
            "colorscale": [
             [
              0,
              "#0d0887"
             ],
             [
              0.1111111111111111,
              "#46039f"
             ],
             [
              0.2222222222222222,
              "#7201a8"
             ],
             [
              0.3333333333333333,
              "#9c179e"
             ],
             [
              0.4444444444444444,
              "#bd3786"
             ],
             [
              0.5555555555555556,
              "#d8576b"
             ],
             [
              0.6666666666666666,
              "#ed7953"
             ],
             [
              0.7777777777777778,
              "#fb9f3a"
             ],
             [
              0.8888888888888888,
              "#fdca26"
             ],
             [
              1,
              "#f0f921"
             ]
            ],
            "type": "histogram2dcontour"
           }
          ],
          "mesh3d": [
           {
            "colorbar": {
             "outlinewidth": 0,
             "ticks": ""
            },
            "type": "mesh3d"
           }
          ],
          "parcoords": [
           {
            "line": {
             "colorbar": {
              "outlinewidth": 0,
              "ticks": ""
             }
            },
            "type": "parcoords"
           }
          ],
          "pie": [
           {
            "automargin": true,
            "type": "pie"
           }
          ],
          "scatter": [
           {
            "fillpattern": {
             "fillmode": "overlay",
             "size": 10,
             "solidity": 0.2
            },
            "type": "scatter"
           }
          ],
          "scatter3d": [
           {
            "line": {
             "colorbar": {
              "outlinewidth": 0,
              "ticks": ""
             }
            },
            "marker": {
             "colorbar": {
              "outlinewidth": 0,
              "ticks": ""
             }
            },
            "type": "scatter3d"
           }
          ],
          "scattercarpet": [
           {
            "marker": {
             "colorbar": {
              "outlinewidth": 0,
              "ticks": ""
             }
            },
            "type": "scattercarpet"
           }
          ],
          "scattergeo": [
           {
            "marker": {
             "colorbar": {
              "outlinewidth": 0,
              "ticks": ""
             }
            },
            "type": "scattergeo"
           }
          ],
          "scattergl": [
           {
            "marker": {
             "colorbar": {
              "outlinewidth": 0,
              "ticks": ""
             }
            },
            "type": "scattergl"
           }
          ],
          "scattermapbox": [
           {
            "marker": {
             "colorbar": {
              "outlinewidth": 0,
              "ticks": ""
             }
            },
            "type": "scattermapbox"
           }
          ],
          "scatterpolar": [
           {
            "marker": {
             "colorbar": {
              "outlinewidth": 0,
              "ticks": ""
             }
            },
            "type": "scatterpolar"
           }
          ],
          "scatterpolargl": [
           {
            "marker": {
             "colorbar": {
              "outlinewidth": 0,
              "ticks": ""
             }
            },
            "type": "scatterpolargl"
           }
          ],
          "scatterternary": [
           {
            "marker": {
             "colorbar": {
              "outlinewidth": 0,
              "ticks": ""
             }
            },
            "type": "scatterternary"
           }
          ],
          "surface": [
           {
            "colorbar": {
             "outlinewidth": 0,
             "ticks": ""
            },
            "colorscale": [
             [
              0,
              "#0d0887"
             ],
             [
              0.1111111111111111,
              "#46039f"
             ],
             [
              0.2222222222222222,
              "#7201a8"
             ],
             [
              0.3333333333333333,
              "#9c179e"
             ],
             [
              0.4444444444444444,
              "#bd3786"
             ],
             [
              0.5555555555555556,
              "#d8576b"
             ],
             [
              0.6666666666666666,
              "#ed7953"
             ],
             [
              0.7777777777777778,
              "#fb9f3a"
             ],
             [
              0.8888888888888888,
              "#fdca26"
             ],
             [
              1,
              "#f0f921"
             ]
            ],
            "type": "surface"
           }
          ],
          "table": [
           {
            "cells": {
             "fill": {
              "color": "#EBF0F8"
             },
             "line": {
              "color": "white"
             }
            },
            "header": {
             "fill": {
              "color": "#C8D4E3"
             },
             "line": {
              "color": "white"
             }
            },
            "type": "table"
           }
          ]
         },
         "layout": {
          "annotationdefaults": {
           "arrowcolor": "#2a3f5f",
           "arrowhead": 0,
           "arrowwidth": 1
          },
          "autotypenumbers": "strict",
          "coloraxis": {
           "colorbar": {
            "outlinewidth": 0,
            "ticks": ""
           }
          },
          "colorscale": {
           "diverging": [
            [
             0,
             "#8e0152"
            ],
            [
             0.1,
             "#c51b7d"
            ],
            [
             0.2,
             "#de77ae"
            ],
            [
             0.3,
             "#f1b6da"
            ],
            [
             0.4,
             "#fde0ef"
            ],
            [
             0.5,
             "#f7f7f7"
            ],
            [
             0.6,
             "#e6f5d0"
            ],
            [
             0.7,
             "#b8e186"
            ],
            [
             0.8,
             "#7fbc41"
            ],
            [
             0.9,
             "#4d9221"
            ],
            [
             1,
             "#276419"
            ]
           ],
           "sequential": [
            [
             0,
             "#0d0887"
            ],
            [
             0.1111111111111111,
             "#46039f"
            ],
            [
             0.2222222222222222,
             "#7201a8"
            ],
            [
             0.3333333333333333,
             "#9c179e"
            ],
            [
             0.4444444444444444,
             "#bd3786"
            ],
            [
             0.5555555555555556,
             "#d8576b"
            ],
            [
             0.6666666666666666,
             "#ed7953"
            ],
            [
             0.7777777777777778,
             "#fb9f3a"
            ],
            [
             0.8888888888888888,
             "#fdca26"
            ],
            [
             1,
             "#f0f921"
            ]
           ],
           "sequentialminus": [
            [
             0,
             "#0d0887"
            ],
            [
             0.1111111111111111,
             "#46039f"
            ],
            [
             0.2222222222222222,
             "#7201a8"
            ],
            [
             0.3333333333333333,
             "#9c179e"
            ],
            [
             0.4444444444444444,
             "#bd3786"
            ],
            [
             0.5555555555555556,
             "#d8576b"
            ],
            [
             0.6666666666666666,
             "#ed7953"
            ],
            [
             0.7777777777777778,
             "#fb9f3a"
            ],
            [
             0.8888888888888888,
             "#fdca26"
            ],
            [
             1,
             "#f0f921"
            ]
           ]
          },
          "colorway": [
           "#636efa",
           "#EF553B",
           "#00cc96",
           "#ab63fa",
           "#FFA15A",
           "#19d3f3",
           "#FF6692",
           "#B6E880",
           "#FF97FF",
           "#FECB52"
          ],
          "font": {
           "color": "#2a3f5f"
          },
          "geo": {
           "bgcolor": "white",
           "lakecolor": "white",
           "landcolor": "#E5ECF6",
           "showlakes": true,
           "showland": true,
           "subunitcolor": "white"
          },
          "hoverlabel": {
           "align": "left"
          },
          "hovermode": "closest",
          "mapbox": {
           "style": "light"
          },
          "paper_bgcolor": "white",
          "plot_bgcolor": "#E5ECF6",
          "polar": {
           "angularaxis": {
            "gridcolor": "white",
            "linecolor": "white",
            "ticks": ""
           },
           "bgcolor": "#E5ECF6",
           "radialaxis": {
            "gridcolor": "white",
            "linecolor": "white",
            "ticks": ""
           }
          },
          "scene": {
           "xaxis": {
            "backgroundcolor": "#E5ECF6",
            "gridcolor": "white",
            "gridwidth": 2,
            "linecolor": "white",
            "showbackground": true,
            "ticks": "",
            "zerolinecolor": "white"
           },
           "yaxis": {
            "backgroundcolor": "#E5ECF6",
            "gridcolor": "white",
            "gridwidth": 2,
            "linecolor": "white",
            "showbackground": true,
            "ticks": "",
            "zerolinecolor": "white"
           },
           "zaxis": {
            "backgroundcolor": "#E5ECF6",
            "gridcolor": "white",
            "gridwidth": 2,
            "linecolor": "white",
            "showbackground": true,
            "ticks": "",
            "zerolinecolor": "white"
           }
          },
          "shapedefaults": {
           "line": {
            "color": "#2a3f5f"
           }
          },
          "ternary": {
           "aaxis": {
            "gridcolor": "white",
            "linecolor": "white",
            "ticks": ""
           },
           "baxis": {
            "gridcolor": "white",
            "linecolor": "white",
            "ticks": ""
           },
           "bgcolor": "#E5ECF6",
           "caxis": {
            "gridcolor": "white",
            "linecolor": "white",
            "ticks": ""
           }
          },
          "title": {
           "x": 0.05
          },
          "xaxis": {
           "automargin": true,
           "gridcolor": "white",
           "linecolor": "white",
           "ticks": "",
           "title": {
            "standoff": 15
           },
           "zerolinecolor": "white",
           "zerolinewidth": 2
          },
          "yaxis": {
           "automargin": true,
           "gridcolor": "white",
           "linecolor": "white",
           "ticks": "",
           "title": {
            "standoff": 15
           },
           "zerolinecolor": "white",
           "zerolinewidth": 2
          }
         }
        },
        "xaxis": {
         "anchor": "y",
         "domain": [
          0,
          1
         ],
         "title": {
          "text": "tags"
         }
        },
        "yaxis": {
         "anchor": "x",
         "domain": [
          0,
          1
         ],
         "title": {
          "text": "Total Sales"
         }
        }
       }
      },
      "text/html": [
       "<div>                            <div id=\"1d5a49c8-1c1e-4af0-9128-39b9c1eb2856\" class=\"plotly-graph-div\" style=\"height:525px; width:100%;\"></div>            <script type=\"text/javascript\">                require([\"plotly\"], function(Plotly) {                    window.PLOTLYENV=window.PLOTLYENV || {};                                    if (document.getElementById(\"1d5a49c8-1c1e-4af0-9128-39b9c1eb2856\")) {                    Plotly.newPlot(                        \"1d5a49c8-1c1e-4af0-9128-39b9c1eb2856\",                        [{\"alignmentgroup\":\"True\",\"hovertemplate\":\"tags=%{x}\\u003cbr\\u003eTotal Sales=%{y}\\u003cextra\\u003e\\u003c\\u002fextra\\u003e\",\"legendgroup\":\"\",\"marker\":{\"color\":\"#636efa\",\"pattern\":{\"shape\":\"\"}},\"name\":\"\",\"offsetgroup\":\"\",\"orientation\":\"v\",\"showlegend\":false,\"textposition\":\"auto\",\"x\":[\"jewelry, watch, clock, silverware\",\"art dealers, galleries\",\"telecom\",\"equipment, tool, furniture, appliance rental, leasing\",\"stationery, office supplies, printing, writing paper\",\"antique, repairs, restoration\",\"bicycle,\",\"hobby, toy, game\",\"health, beauty spas\",\"motor vehicle supplies, new parts\",\"music, musical instruments, pianos, sheet music\",\"lawn, garden supply outlets, including nurseries\",\"books, periodicals, newspapers\",\"shoe\",\"artist supply, craft\",\"furniture, home furnishings, equipment, manufacturers\",\"computer programming, data processing, integrated systems design\",\"computers, computer peripheral equipment, software\",\"opticians, optical goods, eyeglasses\",\"florists supplies, nursery stock, flowers\",\"cable, satellite, other pay television, radio\",\"watch, clock, jewelry repair\",\"digital goods, books, movies, music\",\"gift, card, novelty, souvenir\",\"tent, awning\"],\"xaxis\":\"x\",\"y\":[4115,17713,28514,30604,142832,149239,187458,196582,205277,256627,265763,290099,329351,361370,394455,415926,433294,600048,704909,736148,799536,861700,1072727,1369641,1516682],\"yaxis\":\"y\",\"type\":\"bar\"}],                        {\"template\":{\"data\":{\"histogram2dcontour\":[{\"type\":\"histogram2dcontour\",\"colorbar\":{\"outlinewidth\":0,\"ticks\":\"\"},\"colorscale\":[[0.0,\"#0d0887\"],[0.1111111111111111,\"#46039f\"],[0.2222222222222222,\"#7201a8\"],[0.3333333333333333,\"#9c179e\"],[0.4444444444444444,\"#bd3786\"],[0.5555555555555556,\"#d8576b\"],[0.6666666666666666,\"#ed7953\"],[0.7777777777777778,\"#fb9f3a\"],[0.8888888888888888,\"#fdca26\"],[1.0,\"#f0f921\"]]}],\"choropleth\":[{\"type\":\"choropleth\",\"colorbar\":{\"outlinewidth\":0,\"ticks\":\"\"}}],\"histogram2d\":[{\"type\":\"histogram2d\",\"colorbar\":{\"outlinewidth\":0,\"ticks\":\"\"},\"colorscale\":[[0.0,\"#0d0887\"],[0.1111111111111111,\"#46039f\"],[0.2222222222222222,\"#7201a8\"],[0.3333333333333333,\"#9c179e\"],[0.4444444444444444,\"#bd3786\"],[0.5555555555555556,\"#d8576b\"],[0.6666666666666666,\"#ed7953\"],[0.7777777777777778,\"#fb9f3a\"],[0.8888888888888888,\"#fdca26\"],[1.0,\"#f0f921\"]]}],\"heatmap\":[{\"type\":\"heatmap\",\"colorbar\":{\"outlinewidth\":0,\"ticks\":\"\"},\"colorscale\":[[0.0,\"#0d0887\"],[0.1111111111111111,\"#46039f\"],[0.2222222222222222,\"#7201a8\"],[0.3333333333333333,\"#9c179e\"],[0.4444444444444444,\"#bd3786\"],[0.5555555555555556,\"#d8576b\"],[0.6666666666666666,\"#ed7953\"],[0.7777777777777778,\"#fb9f3a\"],[0.8888888888888888,\"#fdca26\"],[1.0,\"#f0f921\"]]}],\"heatmapgl\":[{\"type\":\"heatmapgl\",\"colorbar\":{\"outlinewidth\":0,\"ticks\":\"\"},\"colorscale\":[[0.0,\"#0d0887\"],[0.1111111111111111,\"#46039f\"],[0.2222222222222222,\"#7201a8\"],[0.3333333333333333,\"#9c179e\"],[0.4444444444444444,\"#bd3786\"],[0.5555555555555556,\"#d8576b\"],[0.6666666666666666,\"#ed7953\"],[0.7777777777777778,\"#fb9f3a\"],[0.8888888888888888,\"#fdca26\"],[1.0,\"#f0f921\"]]}],\"contourcarpet\":[{\"type\":\"contourcarpet\",\"colorbar\":{\"outlinewidth\":0,\"ticks\":\"\"}}],\"contour\":[{\"type\":\"contour\",\"colorbar\":{\"outlinewidth\":0,\"ticks\":\"\"},\"colorscale\":[[0.0,\"#0d0887\"],[0.1111111111111111,\"#46039f\"],[0.2222222222222222,\"#7201a8\"],[0.3333333333333333,\"#9c179e\"],[0.4444444444444444,\"#bd3786\"],[0.5555555555555556,\"#d8576b\"],[0.6666666666666666,\"#ed7953\"],[0.7777777777777778,\"#fb9f3a\"],[0.8888888888888888,\"#fdca26\"],[1.0,\"#f0f921\"]]}],\"surface\":[{\"type\":\"surface\",\"colorbar\":{\"outlinewidth\":0,\"ticks\":\"\"},\"colorscale\":[[0.0,\"#0d0887\"],[0.1111111111111111,\"#46039f\"],[0.2222222222222222,\"#7201a8\"],[0.3333333333333333,\"#9c179e\"],[0.4444444444444444,\"#bd3786\"],[0.5555555555555556,\"#d8576b\"],[0.6666666666666666,\"#ed7953\"],[0.7777777777777778,\"#fb9f3a\"],[0.8888888888888888,\"#fdca26\"],[1.0,\"#f0f921\"]]}],\"mesh3d\":[{\"type\":\"mesh3d\",\"colorbar\":{\"outlinewidth\":0,\"ticks\":\"\"}}],\"scatter\":[{\"fillpattern\":{\"fillmode\":\"overlay\",\"size\":10,\"solidity\":0.2},\"type\":\"scatter\"}],\"parcoords\":[{\"type\":\"parcoords\",\"line\":{\"colorbar\":{\"outlinewidth\":0,\"ticks\":\"\"}}}],\"scatterpolargl\":[{\"type\":\"scatterpolargl\",\"marker\":{\"colorbar\":{\"outlinewidth\":0,\"ticks\":\"\"}}}],\"bar\":[{\"error_x\":{\"color\":\"#2a3f5f\"},\"error_y\":{\"color\":\"#2a3f5f\"},\"marker\":{\"line\":{\"color\":\"#E5ECF6\",\"width\":0.5},\"pattern\":{\"fillmode\":\"overlay\",\"size\":10,\"solidity\":0.2}},\"type\":\"bar\"}],\"scattergeo\":[{\"type\":\"scattergeo\",\"marker\":{\"colorbar\":{\"outlinewidth\":0,\"ticks\":\"\"}}}],\"scatterpolar\":[{\"type\":\"scatterpolar\",\"marker\":{\"colorbar\":{\"outlinewidth\":0,\"ticks\":\"\"}}}],\"histogram\":[{\"marker\":{\"pattern\":{\"fillmode\":\"overlay\",\"size\":10,\"solidity\":0.2}},\"type\":\"histogram\"}],\"scattergl\":[{\"type\":\"scattergl\",\"marker\":{\"colorbar\":{\"outlinewidth\":0,\"ticks\":\"\"}}}],\"scatter3d\":[{\"type\":\"scatter3d\",\"line\":{\"colorbar\":{\"outlinewidth\":0,\"ticks\":\"\"}},\"marker\":{\"colorbar\":{\"outlinewidth\":0,\"ticks\":\"\"}}}],\"scattermapbox\":[{\"type\":\"scattermapbox\",\"marker\":{\"colorbar\":{\"outlinewidth\":0,\"ticks\":\"\"}}}],\"scatterternary\":[{\"type\":\"scatterternary\",\"marker\":{\"colorbar\":{\"outlinewidth\":0,\"ticks\":\"\"}}}],\"scattercarpet\":[{\"type\":\"scattercarpet\",\"marker\":{\"colorbar\":{\"outlinewidth\":0,\"ticks\":\"\"}}}],\"carpet\":[{\"aaxis\":{\"endlinecolor\":\"#2a3f5f\",\"gridcolor\":\"white\",\"linecolor\":\"white\",\"minorgridcolor\":\"white\",\"startlinecolor\":\"#2a3f5f\"},\"baxis\":{\"endlinecolor\":\"#2a3f5f\",\"gridcolor\":\"white\",\"linecolor\":\"white\",\"minorgridcolor\":\"white\",\"startlinecolor\":\"#2a3f5f\"},\"type\":\"carpet\"}],\"table\":[{\"cells\":{\"fill\":{\"color\":\"#EBF0F8\"},\"line\":{\"color\":\"white\"}},\"header\":{\"fill\":{\"color\":\"#C8D4E3\"},\"line\":{\"color\":\"white\"}},\"type\":\"table\"}],\"barpolar\":[{\"marker\":{\"line\":{\"color\":\"#E5ECF6\",\"width\":0.5},\"pattern\":{\"fillmode\":\"overlay\",\"size\":10,\"solidity\":0.2}},\"type\":\"barpolar\"}],\"pie\":[{\"automargin\":true,\"type\":\"pie\"}]},\"layout\":{\"autotypenumbers\":\"strict\",\"colorway\":[\"#636efa\",\"#EF553B\",\"#00cc96\",\"#ab63fa\",\"#FFA15A\",\"#19d3f3\",\"#FF6692\",\"#B6E880\",\"#FF97FF\",\"#FECB52\"],\"font\":{\"color\":\"#2a3f5f\"},\"hovermode\":\"closest\",\"hoverlabel\":{\"align\":\"left\"},\"paper_bgcolor\":\"white\",\"plot_bgcolor\":\"#E5ECF6\",\"polar\":{\"bgcolor\":\"#E5ECF6\",\"angularaxis\":{\"gridcolor\":\"white\",\"linecolor\":\"white\",\"ticks\":\"\"},\"radialaxis\":{\"gridcolor\":\"white\",\"linecolor\":\"white\",\"ticks\":\"\"}},\"ternary\":{\"bgcolor\":\"#E5ECF6\",\"aaxis\":{\"gridcolor\":\"white\",\"linecolor\":\"white\",\"ticks\":\"\"},\"baxis\":{\"gridcolor\":\"white\",\"linecolor\":\"white\",\"ticks\":\"\"},\"caxis\":{\"gridcolor\":\"white\",\"linecolor\":\"white\",\"ticks\":\"\"}},\"coloraxis\":{\"colorbar\":{\"outlinewidth\":0,\"ticks\":\"\"}},\"colorscale\":{\"sequential\":[[0.0,\"#0d0887\"],[0.1111111111111111,\"#46039f\"],[0.2222222222222222,\"#7201a8\"],[0.3333333333333333,\"#9c179e\"],[0.4444444444444444,\"#bd3786\"],[0.5555555555555556,\"#d8576b\"],[0.6666666666666666,\"#ed7953\"],[0.7777777777777778,\"#fb9f3a\"],[0.8888888888888888,\"#fdca26\"],[1.0,\"#f0f921\"]],\"sequentialminus\":[[0.0,\"#0d0887\"],[0.1111111111111111,\"#46039f\"],[0.2222222222222222,\"#7201a8\"],[0.3333333333333333,\"#9c179e\"],[0.4444444444444444,\"#bd3786\"],[0.5555555555555556,\"#d8576b\"],[0.6666666666666666,\"#ed7953\"],[0.7777777777777778,\"#fb9f3a\"],[0.8888888888888888,\"#fdca26\"],[1.0,\"#f0f921\"]],\"diverging\":[[0,\"#8e0152\"],[0.1,\"#c51b7d\"],[0.2,\"#de77ae\"],[0.3,\"#f1b6da\"],[0.4,\"#fde0ef\"],[0.5,\"#f7f7f7\"],[0.6,\"#e6f5d0\"],[0.7,\"#b8e186\"],[0.8,\"#7fbc41\"],[0.9,\"#4d9221\"],[1,\"#276419\"]]},\"xaxis\":{\"gridcolor\":\"white\",\"linecolor\":\"white\",\"ticks\":\"\",\"title\":{\"standoff\":15},\"zerolinecolor\":\"white\",\"automargin\":true,\"zerolinewidth\":2},\"yaxis\":{\"gridcolor\":\"white\",\"linecolor\":\"white\",\"ticks\":\"\",\"title\":{\"standoff\":15},\"zerolinecolor\":\"white\",\"automargin\":true,\"zerolinewidth\":2},\"scene\":{\"xaxis\":{\"backgroundcolor\":\"#E5ECF6\",\"gridcolor\":\"white\",\"linecolor\":\"white\",\"showbackground\":true,\"ticks\":\"\",\"zerolinecolor\":\"white\",\"gridwidth\":2},\"yaxis\":{\"backgroundcolor\":\"#E5ECF6\",\"gridcolor\":\"white\",\"linecolor\":\"white\",\"showbackground\":true,\"ticks\":\"\",\"zerolinecolor\":\"white\",\"gridwidth\":2},\"zaxis\":{\"backgroundcolor\":\"#E5ECF6\",\"gridcolor\":\"white\",\"linecolor\":\"white\",\"showbackground\":true,\"ticks\":\"\",\"zerolinecolor\":\"white\",\"gridwidth\":2}},\"shapedefaults\":{\"line\":{\"color\":\"#2a3f5f\"}},\"annotationdefaults\":{\"arrowcolor\":\"#2a3f5f\",\"arrowhead\":0,\"arrowwidth\":1},\"geo\":{\"bgcolor\":\"white\",\"landcolor\":\"#E5ECF6\",\"subunitcolor\":\"white\",\"showland\":true,\"showlakes\":true,\"lakecolor\":\"white\"},\"title\":{\"x\":0.05},\"mapbox\":{\"style\":\"light\"}}},\"xaxis\":{\"anchor\":\"y\",\"domain\":[0.0,1.0],\"title\":{\"text\":\"tags\"}},\"yaxis\":{\"anchor\":\"x\",\"domain\":[0.0,1.0],\"title\":{\"text\":\"Total Sales\"}},\"legend\":{\"tracegroupgap\":0},\"margin\":{\"t\":60},\"barmode\":\"relative\"},                        {\"responsive\": true}                    ).then(function(){\n",
       "                            \n",
       "var gd = document.getElementById('1d5a49c8-1c1e-4af0-9128-39b9c1eb2856');\n",
       "var x = new MutationObserver(function (mutations, observer) {{\n",
       "        var display = window.getComputedStyle(gd).display;\n",
       "        if (!display || display === 'none') {{\n",
       "            console.log([gd, 'removed!']);\n",
       "            Plotly.purge(gd);\n",
       "            observer.disconnect();\n",
       "        }}\n",
       "}});\n",
       "\n",
       "// Listen for the removal of the full notebook cells\n",
       "var notebookContainer = gd.closest('#notebook-container');\n",
       "if (notebookContainer) {{\n",
       "    x.observe(notebookContainer, {childList: true});\n",
       "}}\n",
       "\n",
       "// Listen for the clearing of the current output cell\n",
       "var outputEl = gd.closest('.output');\n",
       "if (outputEl) {{\n",
       "    x.observe(outputEl, {childList: true});\n",
       "}}\n",
       "\n",
       "                        })                };                });            </script>        </div>"
      ]
     },
     "metadata": {},
     "output_type": "display_data"
    }
   ],
   "source": [
    "tags.pandas_api().plot.bar('tags', 'Total Sales')"
   ]
  },
  {
   "cell_type": "code",
   "execution_count": 28,
   "metadata": {},
   "outputs": [
    {
     "data": {
      "application/vnd.plotly.v1+json": {
       "config": {
        "plotlyServerURL": "https://plot.ly"
       },
       "data": [
        {
         "alignmentgroup": "True",
         "hovertemplate": "tags=%{x}<br>Total Revenue=%{y}<extra></extra>",
         "legendgroup": "",
         "marker": {
          "color": "#636efa",
          "pattern": {
           "shape": ""
          }
         },
         "name": "",
         "offsetgroup": "",
         "orientation": "v",
         "showlegend": false,
         "textposition": "auto",
         "type": "bar",
         "x": [
          "jewelry, watch, clock, silverware",
          "art dealers, galleries",
          "telecom",
          "equipment, tool, furniture, appliance rental, leasing",
          "stationery, office supplies, printing, writing paper",
          "antique, repairs, restoration",
          "bicycle,",
          "hobby, toy, game",
          "health, beauty spas",
          "motor vehicle supplies, new parts",
          "music, musical instruments, pianos, sheet music",
          "lawn, garden supply outlets, including nurseries",
          "books, periodicals, newspapers",
          "shoe",
          "artist supply, craft",
          "furniture, home furnishings, equipment, manufacturers",
          "computer programming, data processing, integrated systems design",
          "computers, computer peripheral equipment, software",
          "opticians, optical goods, eyeglasses",
          "florists supplies, nursery stock, flowers",
          "cable, satellite, other pay television, radio",
          "watch, clock, jewelry repair",
          "digital goods, books, movies, music",
          "gift, card, novelty, souvenir",
          "tent, awning"
         ],
         "xaxis": "x",
         "y": [
          38913987.71107371,
          36418969.64920968,
          49903620.92160192,
          39549954.05107902,
          65607973.51718689,
          54586491.186532035,
          59132212.38904361,
          51005819.71259877,
          61238536.30365123,
          92809230.94920675,
          71667869.79695424,
          91039599.64137673,
          82916863.71188329,
          72291107.50756551,
          101078628.100829,
          93415330.03915475,
          83060605.95342326,
          100121541.2638895,
          62162989.5637505,
          85505119.54256171,
          63016119.425959975,
          63028832.56247791,
          68882654.53576083,
          93006926.06599848,
          123480956.37275667
         ],
         "yaxis": "y"
        }
       ],
       "layout": {
        "barmode": "relative",
        "legend": {
         "tracegroupgap": 0
        },
        "margin": {
         "t": 60
        },
        "template": {
         "data": {
          "bar": [
           {
            "error_x": {
             "color": "#2a3f5f"
            },
            "error_y": {
             "color": "#2a3f5f"
            },
            "marker": {
             "line": {
              "color": "#E5ECF6",
              "width": 0.5
             },
             "pattern": {
              "fillmode": "overlay",
              "size": 10,
              "solidity": 0.2
             }
            },
            "type": "bar"
           }
          ],
          "barpolar": [
           {
            "marker": {
             "line": {
              "color": "#E5ECF6",
              "width": 0.5
             },
             "pattern": {
              "fillmode": "overlay",
              "size": 10,
              "solidity": 0.2
             }
            },
            "type": "barpolar"
           }
          ],
          "carpet": [
           {
            "aaxis": {
             "endlinecolor": "#2a3f5f",
             "gridcolor": "white",
             "linecolor": "white",
             "minorgridcolor": "white",
             "startlinecolor": "#2a3f5f"
            },
            "baxis": {
             "endlinecolor": "#2a3f5f",
             "gridcolor": "white",
             "linecolor": "white",
             "minorgridcolor": "white",
             "startlinecolor": "#2a3f5f"
            },
            "type": "carpet"
           }
          ],
          "choropleth": [
           {
            "colorbar": {
             "outlinewidth": 0,
             "ticks": ""
            },
            "type": "choropleth"
           }
          ],
          "contour": [
           {
            "colorbar": {
             "outlinewidth": 0,
             "ticks": ""
            },
            "colorscale": [
             [
              0,
              "#0d0887"
             ],
             [
              0.1111111111111111,
              "#46039f"
             ],
             [
              0.2222222222222222,
              "#7201a8"
             ],
             [
              0.3333333333333333,
              "#9c179e"
             ],
             [
              0.4444444444444444,
              "#bd3786"
             ],
             [
              0.5555555555555556,
              "#d8576b"
             ],
             [
              0.6666666666666666,
              "#ed7953"
             ],
             [
              0.7777777777777778,
              "#fb9f3a"
             ],
             [
              0.8888888888888888,
              "#fdca26"
             ],
             [
              1,
              "#f0f921"
             ]
            ],
            "type": "contour"
           }
          ],
          "contourcarpet": [
           {
            "colorbar": {
             "outlinewidth": 0,
             "ticks": ""
            },
            "type": "contourcarpet"
           }
          ],
          "heatmap": [
           {
            "colorbar": {
             "outlinewidth": 0,
             "ticks": ""
            },
            "colorscale": [
             [
              0,
              "#0d0887"
             ],
             [
              0.1111111111111111,
              "#46039f"
             ],
             [
              0.2222222222222222,
              "#7201a8"
             ],
             [
              0.3333333333333333,
              "#9c179e"
             ],
             [
              0.4444444444444444,
              "#bd3786"
             ],
             [
              0.5555555555555556,
              "#d8576b"
             ],
             [
              0.6666666666666666,
              "#ed7953"
             ],
             [
              0.7777777777777778,
              "#fb9f3a"
             ],
             [
              0.8888888888888888,
              "#fdca26"
             ],
             [
              1,
              "#f0f921"
             ]
            ],
            "type": "heatmap"
           }
          ],
          "heatmapgl": [
           {
            "colorbar": {
             "outlinewidth": 0,
             "ticks": ""
            },
            "colorscale": [
             [
              0,
              "#0d0887"
             ],
             [
              0.1111111111111111,
              "#46039f"
             ],
             [
              0.2222222222222222,
              "#7201a8"
             ],
             [
              0.3333333333333333,
              "#9c179e"
             ],
             [
              0.4444444444444444,
              "#bd3786"
             ],
             [
              0.5555555555555556,
              "#d8576b"
             ],
             [
              0.6666666666666666,
              "#ed7953"
             ],
             [
              0.7777777777777778,
              "#fb9f3a"
             ],
             [
              0.8888888888888888,
              "#fdca26"
             ],
             [
              1,
              "#f0f921"
             ]
            ],
            "type": "heatmapgl"
           }
          ],
          "histogram": [
           {
            "marker": {
             "pattern": {
              "fillmode": "overlay",
              "size": 10,
              "solidity": 0.2
             }
            },
            "type": "histogram"
           }
          ],
          "histogram2d": [
           {
            "colorbar": {
             "outlinewidth": 0,
             "ticks": ""
            },
            "colorscale": [
             [
              0,
              "#0d0887"
             ],
             [
              0.1111111111111111,
              "#46039f"
             ],
             [
              0.2222222222222222,
              "#7201a8"
             ],
             [
              0.3333333333333333,
              "#9c179e"
             ],
             [
              0.4444444444444444,
              "#bd3786"
             ],
             [
              0.5555555555555556,
              "#d8576b"
             ],
             [
              0.6666666666666666,
              "#ed7953"
             ],
             [
              0.7777777777777778,
              "#fb9f3a"
             ],
             [
              0.8888888888888888,
              "#fdca26"
             ],
             [
              1,
              "#f0f921"
             ]
            ],
            "type": "histogram2d"
           }
          ],
          "histogram2dcontour": [
           {
            "colorbar": {
             "outlinewidth": 0,
             "ticks": ""
            },
            "colorscale": [
             [
              0,
              "#0d0887"
             ],
             [
              0.1111111111111111,
              "#46039f"
             ],
             [
              0.2222222222222222,
              "#7201a8"
             ],
             [
              0.3333333333333333,
              "#9c179e"
             ],
             [
              0.4444444444444444,
              "#bd3786"
             ],
             [
              0.5555555555555556,
              "#d8576b"
             ],
             [
              0.6666666666666666,
              "#ed7953"
             ],
             [
              0.7777777777777778,
              "#fb9f3a"
             ],
             [
              0.8888888888888888,
              "#fdca26"
             ],
             [
              1,
              "#f0f921"
             ]
            ],
            "type": "histogram2dcontour"
           }
          ],
          "mesh3d": [
           {
            "colorbar": {
             "outlinewidth": 0,
             "ticks": ""
            },
            "type": "mesh3d"
           }
          ],
          "parcoords": [
           {
            "line": {
             "colorbar": {
              "outlinewidth": 0,
              "ticks": ""
             }
            },
            "type": "parcoords"
           }
          ],
          "pie": [
           {
            "automargin": true,
            "type": "pie"
           }
          ],
          "scatter": [
           {
            "fillpattern": {
             "fillmode": "overlay",
             "size": 10,
             "solidity": 0.2
            },
            "type": "scatter"
           }
          ],
          "scatter3d": [
           {
            "line": {
             "colorbar": {
              "outlinewidth": 0,
              "ticks": ""
             }
            },
            "marker": {
             "colorbar": {
              "outlinewidth": 0,
              "ticks": ""
             }
            },
            "type": "scatter3d"
           }
          ],
          "scattercarpet": [
           {
            "marker": {
             "colorbar": {
              "outlinewidth": 0,
              "ticks": ""
             }
            },
            "type": "scattercarpet"
           }
          ],
          "scattergeo": [
           {
            "marker": {
             "colorbar": {
              "outlinewidth": 0,
              "ticks": ""
             }
            },
            "type": "scattergeo"
           }
          ],
          "scattergl": [
           {
            "marker": {
             "colorbar": {
              "outlinewidth": 0,
              "ticks": ""
             }
            },
            "type": "scattergl"
           }
          ],
          "scattermapbox": [
           {
            "marker": {
             "colorbar": {
              "outlinewidth": 0,
              "ticks": ""
             }
            },
            "type": "scattermapbox"
           }
          ],
          "scatterpolar": [
           {
            "marker": {
             "colorbar": {
              "outlinewidth": 0,
              "ticks": ""
             }
            },
            "type": "scatterpolar"
           }
          ],
          "scatterpolargl": [
           {
            "marker": {
             "colorbar": {
              "outlinewidth": 0,
              "ticks": ""
             }
            },
            "type": "scatterpolargl"
           }
          ],
          "scatterternary": [
           {
            "marker": {
             "colorbar": {
              "outlinewidth": 0,
              "ticks": ""
             }
            },
            "type": "scatterternary"
           }
          ],
          "surface": [
           {
            "colorbar": {
             "outlinewidth": 0,
             "ticks": ""
            },
            "colorscale": [
             [
              0,
              "#0d0887"
             ],
             [
              0.1111111111111111,
              "#46039f"
             ],
             [
              0.2222222222222222,
              "#7201a8"
             ],
             [
              0.3333333333333333,
              "#9c179e"
             ],
             [
              0.4444444444444444,
              "#bd3786"
             ],
             [
              0.5555555555555556,
              "#d8576b"
             ],
             [
              0.6666666666666666,
              "#ed7953"
             ],
             [
              0.7777777777777778,
              "#fb9f3a"
             ],
             [
              0.8888888888888888,
              "#fdca26"
             ],
             [
              1,
              "#f0f921"
             ]
            ],
            "type": "surface"
           }
          ],
          "table": [
           {
            "cells": {
             "fill": {
              "color": "#EBF0F8"
             },
             "line": {
              "color": "white"
             }
            },
            "header": {
             "fill": {
              "color": "#C8D4E3"
             },
             "line": {
              "color": "white"
             }
            },
            "type": "table"
           }
          ]
         },
         "layout": {
          "annotationdefaults": {
           "arrowcolor": "#2a3f5f",
           "arrowhead": 0,
           "arrowwidth": 1
          },
          "autotypenumbers": "strict",
          "coloraxis": {
           "colorbar": {
            "outlinewidth": 0,
            "ticks": ""
           }
          },
          "colorscale": {
           "diverging": [
            [
             0,
             "#8e0152"
            ],
            [
             0.1,
             "#c51b7d"
            ],
            [
             0.2,
             "#de77ae"
            ],
            [
             0.3,
             "#f1b6da"
            ],
            [
             0.4,
             "#fde0ef"
            ],
            [
             0.5,
             "#f7f7f7"
            ],
            [
             0.6,
             "#e6f5d0"
            ],
            [
             0.7,
             "#b8e186"
            ],
            [
             0.8,
             "#7fbc41"
            ],
            [
             0.9,
             "#4d9221"
            ],
            [
             1,
             "#276419"
            ]
           ],
           "sequential": [
            [
             0,
             "#0d0887"
            ],
            [
             0.1111111111111111,
             "#46039f"
            ],
            [
             0.2222222222222222,
             "#7201a8"
            ],
            [
             0.3333333333333333,
             "#9c179e"
            ],
            [
             0.4444444444444444,
             "#bd3786"
            ],
            [
             0.5555555555555556,
             "#d8576b"
            ],
            [
             0.6666666666666666,
             "#ed7953"
            ],
            [
             0.7777777777777778,
             "#fb9f3a"
            ],
            [
             0.8888888888888888,
             "#fdca26"
            ],
            [
             1,
             "#f0f921"
            ]
           ],
           "sequentialminus": [
            [
             0,
             "#0d0887"
            ],
            [
             0.1111111111111111,
             "#46039f"
            ],
            [
             0.2222222222222222,
             "#7201a8"
            ],
            [
             0.3333333333333333,
             "#9c179e"
            ],
            [
             0.4444444444444444,
             "#bd3786"
            ],
            [
             0.5555555555555556,
             "#d8576b"
            ],
            [
             0.6666666666666666,
             "#ed7953"
            ],
            [
             0.7777777777777778,
             "#fb9f3a"
            ],
            [
             0.8888888888888888,
             "#fdca26"
            ],
            [
             1,
             "#f0f921"
            ]
           ]
          },
          "colorway": [
           "#636efa",
           "#EF553B",
           "#00cc96",
           "#ab63fa",
           "#FFA15A",
           "#19d3f3",
           "#FF6692",
           "#B6E880",
           "#FF97FF",
           "#FECB52"
          ],
          "font": {
           "color": "#2a3f5f"
          },
          "geo": {
           "bgcolor": "white",
           "lakecolor": "white",
           "landcolor": "#E5ECF6",
           "showlakes": true,
           "showland": true,
           "subunitcolor": "white"
          },
          "hoverlabel": {
           "align": "left"
          },
          "hovermode": "closest",
          "mapbox": {
           "style": "light"
          },
          "paper_bgcolor": "white",
          "plot_bgcolor": "#E5ECF6",
          "polar": {
           "angularaxis": {
            "gridcolor": "white",
            "linecolor": "white",
            "ticks": ""
           },
           "bgcolor": "#E5ECF6",
           "radialaxis": {
            "gridcolor": "white",
            "linecolor": "white",
            "ticks": ""
           }
          },
          "scene": {
           "xaxis": {
            "backgroundcolor": "#E5ECF6",
            "gridcolor": "white",
            "gridwidth": 2,
            "linecolor": "white",
            "showbackground": true,
            "ticks": "",
            "zerolinecolor": "white"
           },
           "yaxis": {
            "backgroundcolor": "#E5ECF6",
            "gridcolor": "white",
            "gridwidth": 2,
            "linecolor": "white",
            "showbackground": true,
            "ticks": "",
            "zerolinecolor": "white"
           },
           "zaxis": {
            "backgroundcolor": "#E5ECF6",
            "gridcolor": "white",
            "gridwidth": 2,
            "linecolor": "white",
            "showbackground": true,
            "ticks": "",
            "zerolinecolor": "white"
           }
          },
          "shapedefaults": {
           "line": {
            "color": "#2a3f5f"
           }
          },
          "ternary": {
           "aaxis": {
            "gridcolor": "white",
            "linecolor": "white",
            "ticks": ""
           },
           "baxis": {
            "gridcolor": "white",
            "linecolor": "white",
            "ticks": ""
           },
           "bgcolor": "#E5ECF6",
           "caxis": {
            "gridcolor": "white",
            "linecolor": "white",
            "ticks": ""
           }
          },
          "title": {
           "x": 0.05
          },
          "xaxis": {
           "automargin": true,
           "gridcolor": "white",
           "linecolor": "white",
           "ticks": "",
           "title": {
            "standoff": 15
           },
           "zerolinecolor": "white",
           "zerolinewidth": 2
          },
          "yaxis": {
           "automargin": true,
           "gridcolor": "white",
           "linecolor": "white",
           "ticks": "",
           "title": {
            "standoff": 15
           },
           "zerolinecolor": "white",
           "zerolinewidth": 2
          }
         }
        },
        "xaxis": {
         "anchor": "y",
         "domain": [
          0,
          1
         ],
         "title": {
          "text": "tags"
         }
        },
        "yaxis": {
         "anchor": "x",
         "domain": [
          0,
          1
         ],
         "title": {
          "text": "Total Revenue"
         }
        }
       }
      },
      "text/html": [
       "<div>                            <div id=\"02663353-aa35-479a-9d67-bfaf09a8723d\" class=\"plotly-graph-div\" style=\"height:525px; width:100%;\"></div>            <script type=\"text/javascript\">                require([\"plotly\"], function(Plotly) {                    window.PLOTLYENV=window.PLOTLYENV || {};                                    if (document.getElementById(\"02663353-aa35-479a-9d67-bfaf09a8723d\")) {                    Plotly.newPlot(                        \"02663353-aa35-479a-9d67-bfaf09a8723d\",                        [{\"alignmentgroup\":\"True\",\"hovertemplate\":\"tags=%{x}\\u003cbr\\u003eTotal Revenue=%{y}\\u003cextra\\u003e\\u003c\\u002fextra\\u003e\",\"legendgroup\":\"\",\"marker\":{\"color\":\"#636efa\",\"pattern\":{\"shape\":\"\"}},\"name\":\"\",\"offsetgroup\":\"\",\"orientation\":\"v\",\"showlegend\":false,\"textposition\":\"auto\",\"x\":[\"jewelry, watch, clock, silverware\",\"art dealers, galleries\",\"telecom\",\"equipment, tool, furniture, appliance rental, leasing\",\"stationery, office supplies, printing, writing paper\",\"antique, repairs, restoration\",\"bicycle,\",\"hobby, toy, game\",\"health, beauty spas\",\"motor vehicle supplies, new parts\",\"music, musical instruments, pianos, sheet music\",\"lawn, garden supply outlets, including nurseries\",\"books, periodicals, newspapers\",\"shoe\",\"artist supply, craft\",\"furniture, home furnishings, equipment, manufacturers\",\"computer programming, data processing, integrated systems design\",\"computers, computer peripheral equipment, software\",\"opticians, optical goods, eyeglasses\",\"florists supplies, nursery stock, flowers\",\"cable, satellite, other pay television, radio\",\"watch, clock, jewelry repair\",\"digital goods, books, movies, music\",\"gift, card, novelty, souvenir\",\"tent, awning\"],\"xaxis\":\"x\",\"y\":[38913987.71107371,36418969.64920968,49903620.92160192,39549954.05107902,65607973.51718689,54586491.186532035,59132212.38904361,51005819.71259877,61238536.30365123,92809230.94920675,71667869.79695424,91039599.64137673,82916863.71188329,72291107.50756551,101078628.100829,93415330.03915475,83060605.95342326,100121541.2638895,62162989.5637505,85505119.54256171,63016119.425959975,63028832.56247791,68882654.53576083,93006926.06599848,123480956.37275667],\"yaxis\":\"y\",\"type\":\"bar\"}],                        {\"template\":{\"data\":{\"histogram2dcontour\":[{\"type\":\"histogram2dcontour\",\"colorbar\":{\"outlinewidth\":0,\"ticks\":\"\"},\"colorscale\":[[0.0,\"#0d0887\"],[0.1111111111111111,\"#46039f\"],[0.2222222222222222,\"#7201a8\"],[0.3333333333333333,\"#9c179e\"],[0.4444444444444444,\"#bd3786\"],[0.5555555555555556,\"#d8576b\"],[0.6666666666666666,\"#ed7953\"],[0.7777777777777778,\"#fb9f3a\"],[0.8888888888888888,\"#fdca26\"],[1.0,\"#f0f921\"]]}],\"choropleth\":[{\"type\":\"choropleth\",\"colorbar\":{\"outlinewidth\":0,\"ticks\":\"\"}}],\"histogram2d\":[{\"type\":\"histogram2d\",\"colorbar\":{\"outlinewidth\":0,\"ticks\":\"\"},\"colorscale\":[[0.0,\"#0d0887\"],[0.1111111111111111,\"#46039f\"],[0.2222222222222222,\"#7201a8\"],[0.3333333333333333,\"#9c179e\"],[0.4444444444444444,\"#bd3786\"],[0.5555555555555556,\"#d8576b\"],[0.6666666666666666,\"#ed7953\"],[0.7777777777777778,\"#fb9f3a\"],[0.8888888888888888,\"#fdca26\"],[1.0,\"#f0f921\"]]}],\"heatmap\":[{\"type\":\"heatmap\",\"colorbar\":{\"outlinewidth\":0,\"ticks\":\"\"},\"colorscale\":[[0.0,\"#0d0887\"],[0.1111111111111111,\"#46039f\"],[0.2222222222222222,\"#7201a8\"],[0.3333333333333333,\"#9c179e\"],[0.4444444444444444,\"#bd3786\"],[0.5555555555555556,\"#d8576b\"],[0.6666666666666666,\"#ed7953\"],[0.7777777777777778,\"#fb9f3a\"],[0.8888888888888888,\"#fdca26\"],[1.0,\"#f0f921\"]]}],\"heatmapgl\":[{\"type\":\"heatmapgl\",\"colorbar\":{\"outlinewidth\":0,\"ticks\":\"\"},\"colorscale\":[[0.0,\"#0d0887\"],[0.1111111111111111,\"#46039f\"],[0.2222222222222222,\"#7201a8\"],[0.3333333333333333,\"#9c179e\"],[0.4444444444444444,\"#bd3786\"],[0.5555555555555556,\"#d8576b\"],[0.6666666666666666,\"#ed7953\"],[0.7777777777777778,\"#fb9f3a\"],[0.8888888888888888,\"#fdca26\"],[1.0,\"#f0f921\"]]}],\"contourcarpet\":[{\"type\":\"contourcarpet\",\"colorbar\":{\"outlinewidth\":0,\"ticks\":\"\"}}],\"contour\":[{\"type\":\"contour\",\"colorbar\":{\"outlinewidth\":0,\"ticks\":\"\"},\"colorscale\":[[0.0,\"#0d0887\"],[0.1111111111111111,\"#46039f\"],[0.2222222222222222,\"#7201a8\"],[0.3333333333333333,\"#9c179e\"],[0.4444444444444444,\"#bd3786\"],[0.5555555555555556,\"#d8576b\"],[0.6666666666666666,\"#ed7953\"],[0.7777777777777778,\"#fb9f3a\"],[0.8888888888888888,\"#fdca26\"],[1.0,\"#f0f921\"]]}],\"surface\":[{\"type\":\"surface\",\"colorbar\":{\"outlinewidth\":0,\"ticks\":\"\"},\"colorscale\":[[0.0,\"#0d0887\"],[0.1111111111111111,\"#46039f\"],[0.2222222222222222,\"#7201a8\"],[0.3333333333333333,\"#9c179e\"],[0.4444444444444444,\"#bd3786\"],[0.5555555555555556,\"#d8576b\"],[0.6666666666666666,\"#ed7953\"],[0.7777777777777778,\"#fb9f3a\"],[0.8888888888888888,\"#fdca26\"],[1.0,\"#f0f921\"]]}],\"mesh3d\":[{\"type\":\"mesh3d\",\"colorbar\":{\"outlinewidth\":0,\"ticks\":\"\"}}],\"scatter\":[{\"fillpattern\":{\"fillmode\":\"overlay\",\"size\":10,\"solidity\":0.2},\"type\":\"scatter\"}],\"parcoords\":[{\"type\":\"parcoords\",\"line\":{\"colorbar\":{\"outlinewidth\":0,\"ticks\":\"\"}}}],\"scatterpolargl\":[{\"type\":\"scatterpolargl\",\"marker\":{\"colorbar\":{\"outlinewidth\":0,\"ticks\":\"\"}}}],\"bar\":[{\"error_x\":{\"color\":\"#2a3f5f\"},\"error_y\":{\"color\":\"#2a3f5f\"},\"marker\":{\"line\":{\"color\":\"#E5ECF6\",\"width\":0.5},\"pattern\":{\"fillmode\":\"overlay\",\"size\":10,\"solidity\":0.2}},\"type\":\"bar\"}],\"scattergeo\":[{\"type\":\"scattergeo\",\"marker\":{\"colorbar\":{\"outlinewidth\":0,\"ticks\":\"\"}}}],\"scatterpolar\":[{\"type\":\"scatterpolar\",\"marker\":{\"colorbar\":{\"outlinewidth\":0,\"ticks\":\"\"}}}],\"histogram\":[{\"marker\":{\"pattern\":{\"fillmode\":\"overlay\",\"size\":10,\"solidity\":0.2}},\"type\":\"histogram\"}],\"scattergl\":[{\"type\":\"scattergl\",\"marker\":{\"colorbar\":{\"outlinewidth\":0,\"ticks\":\"\"}}}],\"scatter3d\":[{\"type\":\"scatter3d\",\"line\":{\"colorbar\":{\"outlinewidth\":0,\"ticks\":\"\"}},\"marker\":{\"colorbar\":{\"outlinewidth\":0,\"ticks\":\"\"}}}],\"scattermapbox\":[{\"type\":\"scattermapbox\",\"marker\":{\"colorbar\":{\"outlinewidth\":0,\"ticks\":\"\"}}}],\"scatterternary\":[{\"type\":\"scatterternary\",\"marker\":{\"colorbar\":{\"outlinewidth\":0,\"ticks\":\"\"}}}],\"scattercarpet\":[{\"type\":\"scattercarpet\",\"marker\":{\"colorbar\":{\"outlinewidth\":0,\"ticks\":\"\"}}}],\"carpet\":[{\"aaxis\":{\"endlinecolor\":\"#2a3f5f\",\"gridcolor\":\"white\",\"linecolor\":\"white\",\"minorgridcolor\":\"white\",\"startlinecolor\":\"#2a3f5f\"},\"baxis\":{\"endlinecolor\":\"#2a3f5f\",\"gridcolor\":\"white\",\"linecolor\":\"white\",\"minorgridcolor\":\"white\",\"startlinecolor\":\"#2a3f5f\"},\"type\":\"carpet\"}],\"table\":[{\"cells\":{\"fill\":{\"color\":\"#EBF0F8\"},\"line\":{\"color\":\"white\"}},\"header\":{\"fill\":{\"color\":\"#C8D4E3\"},\"line\":{\"color\":\"white\"}},\"type\":\"table\"}],\"barpolar\":[{\"marker\":{\"line\":{\"color\":\"#E5ECF6\",\"width\":0.5},\"pattern\":{\"fillmode\":\"overlay\",\"size\":10,\"solidity\":0.2}},\"type\":\"barpolar\"}],\"pie\":[{\"automargin\":true,\"type\":\"pie\"}]},\"layout\":{\"autotypenumbers\":\"strict\",\"colorway\":[\"#636efa\",\"#EF553B\",\"#00cc96\",\"#ab63fa\",\"#FFA15A\",\"#19d3f3\",\"#FF6692\",\"#B6E880\",\"#FF97FF\",\"#FECB52\"],\"font\":{\"color\":\"#2a3f5f\"},\"hovermode\":\"closest\",\"hoverlabel\":{\"align\":\"left\"},\"paper_bgcolor\":\"white\",\"plot_bgcolor\":\"#E5ECF6\",\"polar\":{\"bgcolor\":\"#E5ECF6\",\"angularaxis\":{\"gridcolor\":\"white\",\"linecolor\":\"white\",\"ticks\":\"\"},\"radialaxis\":{\"gridcolor\":\"white\",\"linecolor\":\"white\",\"ticks\":\"\"}},\"ternary\":{\"bgcolor\":\"#E5ECF6\",\"aaxis\":{\"gridcolor\":\"white\",\"linecolor\":\"white\",\"ticks\":\"\"},\"baxis\":{\"gridcolor\":\"white\",\"linecolor\":\"white\",\"ticks\":\"\"},\"caxis\":{\"gridcolor\":\"white\",\"linecolor\":\"white\",\"ticks\":\"\"}},\"coloraxis\":{\"colorbar\":{\"outlinewidth\":0,\"ticks\":\"\"}},\"colorscale\":{\"sequential\":[[0.0,\"#0d0887\"],[0.1111111111111111,\"#46039f\"],[0.2222222222222222,\"#7201a8\"],[0.3333333333333333,\"#9c179e\"],[0.4444444444444444,\"#bd3786\"],[0.5555555555555556,\"#d8576b\"],[0.6666666666666666,\"#ed7953\"],[0.7777777777777778,\"#fb9f3a\"],[0.8888888888888888,\"#fdca26\"],[1.0,\"#f0f921\"]],\"sequentialminus\":[[0.0,\"#0d0887\"],[0.1111111111111111,\"#46039f\"],[0.2222222222222222,\"#7201a8\"],[0.3333333333333333,\"#9c179e\"],[0.4444444444444444,\"#bd3786\"],[0.5555555555555556,\"#d8576b\"],[0.6666666666666666,\"#ed7953\"],[0.7777777777777778,\"#fb9f3a\"],[0.8888888888888888,\"#fdca26\"],[1.0,\"#f0f921\"]],\"diverging\":[[0,\"#8e0152\"],[0.1,\"#c51b7d\"],[0.2,\"#de77ae\"],[0.3,\"#f1b6da\"],[0.4,\"#fde0ef\"],[0.5,\"#f7f7f7\"],[0.6,\"#e6f5d0\"],[0.7,\"#b8e186\"],[0.8,\"#7fbc41\"],[0.9,\"#4d9221\"],[1,\"#276419\"]]},\"xaxis\":{\"gridcolor\":\"white\",\"linecolor\":\"white\",\"ticks\":\"\",\"title\":{\"standoff\":15},\"zerolinecolor\":\"white\",\"automargin\":true,\"zerolinewidth\":2},\"yaxis\":{\"gridcolor\":\"white\",\"linecolor\":\"white\",\"ticks\":\"\",\"title\":{\"standoff\":15},\"zerolinecolor\":\"white\",\"automargin\":true,\"zerolinewidth\":2},\"scene\":{\"xaxis\":{\"backgroundcolor\":\"#E5ECF6\",\"gridcolor\":\"white\",\"linecolor\":\"white\",\"showbackground\":true,\"ticks\":\"\",\"zerolinecolor\":\"white\",\"gridwidth\":2},\"yaxis\":{\"backgroundcolor\":\"#E5ECF6\",\"gridcolor\":\"white\",\"linecolor\":\"white\",\"showbackground\":true,\"ticks\":\"\",\"zerolinecolor\":\"white\",\"gridwidth\":2},\"zaxis\":{\"backgroundcolor\":\"#E5ECF6\",\"gridcolor\":\"white\",\"linecolor\":\"white\",\"showbackground\":true,\"ticks\":\"\",\"zerolinecolor\":\"white\",\"gridwidth\":2}},\"shapedefaults\":{\"line\":{\"color\":\"#2a3f5f\"}},\"annotationdefaults\":{\"arrowcolor\":\"#2a3f5f\",\"arrowhead\":0,\"arrowwidth\":1},\"geo\":{\"bgcolor\":\"white\",\"landcolor\":\"#E5ECF6\",\"subunitcolor\":\"white\",\"showland\":true,\"showlakes\":true,\"lakecolor\":\"white\"},\"title\":{\"x\":0.05},\"mapbox\":{\"style\":\"light\"}}},\"xaxis\":{\"anchor\":\"y\",\"domain\":[0.0,1.0],\"title\":{\"text\":\"tags\"}},\"yaxis\":{\"anchor\":\"x\",\"domain\":[0.0,1.0],\"title\":{\"text\":\"Total Revenue\"}},\"legend\":{\"tracegroupgap\":0},\"margin\":{\"t\":60},\"barmode\":\"relative\"},                        {\"responsive\": true}                    ).then(function(){\n",
       "                            \n",
       "var gd = document.getElementById('02663353-aa35-479a-9d67-bfaf09a8723d');\n",
       "var x = new MutationObserver(function (mutations, observer) {{\n",
       "        var display = window.getComputedStyle(gd).display;\n",
       "        if (!display || display === 'none') {{\n",
       "            console.log([gd, 'removed!']);\n",
       "            Plotly.purge(gd);\n",
       "            observer.disconnect();\n",
       "        }}\n",
       "}});\n",
       "\n",
       "// Listen for the removal of the full notebook cells\n",
       "var notebookContainer = gd.closest('#notebook-container');\n",
       "if (notebookContainer) {{\n",
       "    x.observe(notebookContainer, {childList: true});\n",
       "}}\n",
       "\n",
       "// Listen for the clearing of the current output cell\n",
       "var outputEl = gd.closest('.output');\n",
       "if (outputEl) {{\n",
       "    x.observe(outputEl, {childList: true});\n",
       "}}\n",
       "\n",
       "                        })                };                });            </script>        </div>"
      ]
     },
     "metadata": {},
     "output_type": "display_data"
    }
   ],
   "source": [
    "tags.pandas_api().plot.bar('tags', 'Total Revenue')"
   ]
  },
  {
   "cell_type": "code",
   "execution_count": 29,
   "metadata": {},
   "outputs": [],
   "source": [
    "tags_types = tags.select(F.col('tags'))\n",
    "tags_types = tags_types.toPandas()['tags'].tolist()\n",
    "tags_types"
   ]
  }
 ],
 "metadata": {
  "kernelspec": {
   "display_name": "Python 3",
   "language": "python",
   "name": "python3"
  },
  "language_info": {
   "codemirror_mode": {
    "name": "ipython",
    "version": 3
   },
   "file_extension": ".py",
   "mimetype": "text/x-python",
   "name": "python",
   "nbconvert_exporter": "python",
   "pygments_lexer": "ipython3",
   "version": "3.11.4"
  }
 },
 "nbformat": 4,
 "nbformat_minor": 2
}
