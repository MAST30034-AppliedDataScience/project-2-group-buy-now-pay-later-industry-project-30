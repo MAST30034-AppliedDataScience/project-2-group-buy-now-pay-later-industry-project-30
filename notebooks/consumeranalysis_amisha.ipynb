{
 "cells": [
  {
   "cell_type": "code",
   "execution_count": 1,
   "metadata": {},
   "outputs": [],
   "source": [
    "import pandas as pd\n",
    "import numpy as np\n",
    "import geopandas as gpd\n",
    "import os\n",
    "import re\n",
    "import glob\n",
    "import math\n",
    "import matplotlib.pyplot as plt\n",
    "from pyspark.sql import functions as F\n",
    "from pyspark.sql import SparkSession\n",
    "from pyspark.sql.types import StructType, StructField, StringType, LongType, IntegerType\n",
    "from datetime import datetime, timedelta"
   ]
  },
  {
   "cell_type": "code",
   "execution_count": 2,
   "metadata": {},
   "outputs": [
    {
     "name": "stderr",
     "output_type": "stream",
     "text": [
      "your 131072x1 screen size is bogus. expect trouble\n",
      "24/10/01 15:07:42 WARN Utils: Your hostname, DESKTOP-F216TKE resolves to a loopback address: 127.0.1.1; using 10.255.255.254 instead (on interface lo)\n",
      "24/10/01 15:07:42 WARN Utils: Set SPARK_LOCAL_IP if you need to bind to another address\n",
      "Setting default log level to \"WARN\".\n",
      "To adjust logging level use sc.setLogLevel(newLevel). For SparkR, use setLogLevel(newLevel).\n",
      "24/10/01 15:07:42 WARN NativeCodeLoader: Unable to load native-hadoop library for your platform... using builtin-java classes where applicable\n",
      "24/10/01 15:07:43 WARN Utils: Service 'SparkUI' could not bind on port 4040. Attempting port 4041.\n"
     ]
    }
   ],
   "source": [
    "spark = (\n",
    "    SparkSession.builder.appName('Specific Analysis')\n",
    "    .config(\"spark.sql.repl.eagerEval.enabled\", True)\n",
    "    .config(\"spark.sql.parquet.cacheMetadata\", \"true\")\n",
    "    .config(\"spark.sql.session.timeZone\", \"Etc/UTC\")\n",
    "    .config('spark.driver.memory', '4g')\n",
    "    .config('spark.executor.memory', '2g')\n",
    "    .getOrCreate()\n",
    ")"
   ]
  },
  {
   "cell_type": "code",
   "execution_count": 3,
   "metadata": {},
   "outputs": [
    {
     "name": "stderr",
     "output_type": "stream",
     "text": [
      "                                                                                \r"
     ]
    }
   ],
   "source": [
    "transactions = spark.read.parquet(\".././data/curated/full_transactions2\")"
   ]
  },
  {
   "cell_type": "code",
   "execution_count": 4,
   "metadata": {},
   "outputs": [
    {
     "name": "stderr",
     "output_type": "stream",
     "text": [
      "                                                                                \r"
     ]
    },
    {
     "name": "stdout",
     "output_type": "stream",
     "text": [
      "+--------+--------------+------------+-------+-----------+------------------+--------------------+------------------+-----+------+-----------------+--------------------+--------------------+--------------------+-----+-----+--------------+------------------+-------------------------+-------------------------+----------------------+------+-------+-------+\n",
      "|postcode|order_datetime|merchant_abn|user_id|consumer_id|      dollar_value|            order_id|     consumer_name|state|gender|fraud_probability|       merchant_name|                tags|               tags1|tags2|tags3|merchant_fraud|Median_age_persons|Median_tot_fam_inc_weekly|Median_tot_hhd_inc_weekly|Average_household_size| Tot_M|  Tot_P|  Tot_F|\n",
      "+--------+--------------+------------+-------+-----------+------------------+--------------------+------------------+-----+------+-----------------+--------------------+--------------------+--------------------+-----+-----+--------------+------------------+-------------------------+-------------------------+----------------------+------+-------+-------+\n",
      "|    6519|    2022-08-25| 63290521567|  11138|     401483|41.239626303220014|09f6132a-a6a8-47a...|   Veronica Nelson|   WA|Female|             NULL|Vehicula Pellente...|[[artist supply a...|[artist supply an...|    a| 6.48|          NULL|              42.0|                   1696.0|                   1366.0|                   2.3| 296.0|  575.0|  274.0|\n",
      "|    6170|    2022-08-25| 63465140133|  22285|     416278| 8.815286645396842|f4fc1a3b-a5b1-4d7...|       Luke Greene|   WA|  Male|             NULL|  Vitae Odio Limited|[[digital goods: ...|[digital goods: b...|    b| 3.68|          NULL|              31.0|                   2153.0|                   2012.0|                   3.0|8615.0|17329.0| 8709.0|\n",
      "|    2281|    2022-08-25| 21359184622|  11139|     505718| 66.46301590693417|b1a52524-b6e6-42a...|    Monica Garrett|  NSW|Female|             NULL|         Sit Amet PC|[[motor vehicle s...|[motor vehicle su...|    b|  3.6|          NULL|              49.0|                   1825.0|                   1400.0|                   2.4|7511.0|15323.0| 7813.0|\n",
      "|    6170|    2022-08-25| 75034515922|  22285|     416278|19.654995598411727|ba240514-5dea-405...|       Luke Greene|   WA|  Male|             NULL|   Ac Eleifend Corp.|[[digital goods: ...|[digital goods: b...|    a| 6.22|          NULL|              31.0|                   2153.0|                   2012.0|                   3.0|8615.0|17329.0| 8709.0|\n",
      "|    3677|    2022-08-25| 96334476428|  11140|     813297| 6.383881161736656|3f1c61aa-6b5b-4c8...|Benjamin Schneider|  VIC|  Male|             NULL|         Sed Est Ltd|[[bicycle shops -...|[bicycle shops - ...|    b| 3.66|          NULL|              44.0|                   1694.0|                   1218.0|                   2.2|9043.0|19214.0|10169.0|\n",
      "|    6170|    2022-08-25| 96442520325|  22285|     416278| 91.14307120608396|89e25ac5-7775-4be...|       Luke Greene|   WA|  Male|             NULL|Nullam Lobortis Q...|[[computers, comp...|[computers, compu...|    b| 3.65|          NULL|              31.0|                   2153.0|                   2012.0|                   3.0|8615.0|17329.0| 8709.0|\n",
      "|    3677|    2022-08-25| 74753274268|  11140|     813297| 1532.603740282265|9764b14c-82ba-498...|Benjamin Schneider|  VIC|  Male|             NULL|       Duis A Mi LLP|[[music shops - m...|[music shops - mu...|    b| 3.16|          NULL|              44.0|                   1694.0|                   1218.0|                   2.2|9043.0|19214.0|10169.0|\n",
      "|    1044|    2022-08-25| 89107518982|  22288|     530970| 89.41184219239359|b95d447c-a089-4a5...|     Robert Harmon|  NSW|  Male|             NULL|Adipiscing Lobort...|[[gift, card, nov...|[gift, card, nove...|    b| 3.66|          NULL|              NULL|                     NULL|                     NULL|                  NULL|  NULL|   NULL|   NULL|\n",
      "|    3677|    2022-08-25| 28896046710|  11140|     813297|   371.95178106226|dd5d2e91-c03b-4f0...|Benjamin Schneider|  VIC|  Male|             NULL|        Nec Orci Ltd|[[computers, comp...|[computers, compu...|    a| 6.75|          NULL|              44.0|                   1694.0|                   1218.0|                   2.2|9043.0|19214.0|10169.0|\n",
      "|    5049|    2022-08-25| 86578477987|  22289|     708403| 29.86919166344463|91317698-0a33-468...|    Gary Contreras|   SA|  Male|             NULL|   Leo In Consulting|[[watch, clock, a...|[watch, clock, an...|    a| 6.43|          NULL|              44.0|                   2247.0|                   1853.0|                   2.5|5079.0|10380.0| 5297.0|\n",
      "|    5049|    2022-08-25| 23338656015|  22289|     708403|208.56112392056014|d2f80078-57bf-477...|    Gary Contreras|   SA|  Male|             NULL|         Iaculis LLC|[[watch, clock, a...|[watch, clock, an...|    b| 3.25|          NULL|              44.0|                   2247.0|                   1853.0|                   2.5|5079.0|10380.0| 5297.0|\n",
      "|    3202|    2022-08-25| 71674475255|  11141|    1027466|28.632569840078762|aabf0b5b-4cb2-414...|         Amy Jones|  VIC|Female|             NULL|  Lacinia Mattis LLC|[[opticians, opti...|[opticians, optic...|    b| 3.81|          NULL|              41.0|                   2531.0|                   2088.0|                   2.8|1386.0| 2826.0| 1441.0|\n",
      "|    5139|    2022-08-25| 19933438190|  22290|     948149|14.323239293792307|e21d5163-4224-403...|    Stephen Nguyen|   SA|  Male|             NULL| Dui Nec Corporation|[[tent and awning...|[tent and awning ...|    c| 2.22|          NULL|              38.0|                   2333.0|                   2089.0|                   2.8| 139.0|  290.0|  145.0|\n",
      "|    3202|    2022-08-25| 33495932835|  11141|    1027466| 41.29031713659889|99e70960-fbf4-4c3...|         Amy Jones|  VIC|Female|             NULL| Vel Arcu Foundation|[[furniture, home...|[furniture, home ...|    b| 4.69|          NULL|              41.0|                   2531.0|                   2088.0|                   2.8|1386.0| 2826.0| 1441.0|\n",
      "|    5139|    2022-08-25| 24598653065|  22290|     948149|153.15593430224752|549cba08-9ae5-47b...|    Stephen Nguyen|   SA|  Male|             NULL|Et Rutrum Foundation|[[cable, satellit...|[cable, satellite...|    c| 2.17|          NULL|              38.0|                   2333.0|                   2089.0|                   2.8| 139.0|  290.0|  145.0|\n",
      "|    3501|    2022-08-25| 43186523025|  11142|     926065|48.875777274640306|006278ce-6897-484...|     Joseph Bailey|  VIC|  Male|             NULL|Lorem Ipsum Sodal...|[[florists suppli...|[florists supplie...|    b| 4.47|          NULL|              40.0|                   2357.0|                   2055.0|                   2.9|1074.0| 2146.0| 1074.0|\n",
      "|    4861|    2022-08-25| 75089928159|  22293|     969847| 84.36075929447935|aaceca97-402c-4da...|     Eric Odonnell|  QLD|  Male|             NULL|Porttitor Vulputa...|[[gift, card, nov...|[gift, card, nove...|    c| 1.67|          NULL|              47.0|                   1529.0|                   1131.0|                   2.3| 797.0| 1541.0|  745.0|\n",
      "|    3501|    2022-08-25| 79283124876|  11142|     926065|243.81248238450115|8e402226-1bde-453...|     Joseph Bailey|  VIC|  Male|             NULL|Pellentesque Mass...|[[florists suppli...|[florists supplie...|    b| 5.03|          NULL|              40.0|                   2357.0|                   2055.0|                   2.9|1074.0| 2146.0| 1074.0|\n",
      "|    3147|    2022-08-25| 63290521567|  22294|     349919| 7.762579944884716|f415da44-ea65-4cb...|  Christina Phelps|  VIC|Female|             NULL|Vehicula Pellente...|[[artist supply a...|[artist supply an...|    a| 6.48|          NULL|              40.0|                   2969.0|                   2273.0|                   2.6|7439.0|15102.0| 7664.0|\n",
      "|    3501|    2022-08-25| 49505931725|  11142|     926065| 93.94146089501055|1144ebc2-2998-490...|     Joseph Bailey|  VIC|  Male|             NULL|Suspendisse Ac As...|[[digital goods: ...|[digital goods: b...|    b|  4.7|          NULL|              40.0|                   2357.0|                   2055.0|                   2.9|1074.0| 2146.0| 1074.0|\n",
      "+--------+--------------+------------+-------+-----------+------------------+--------------------+------------------+-----+------+-----------------+--------------------+--------------------+--------------------+-----+-----+--------------+------------------+-------------------------+-------------------------+----------------------+------+-------+-------+\n",
      "only showing top 20 rows\n",
      "\n"
     ]
    }
   ],
   "source": [
    "transactions.show()"
   ]
  },
  {
   "cell_type": "code",
   "execution_count": 10,
   "metadata": {},
   "outputs": [],
   "source": [
    "tagsdf = transactions.groupBy('tags1').agg(F.count('*')).sort('count(1)')"
   ]
  },
  {
   "cell_type": "code",
   "execution_count": 11,
   "metadata": {},
   "outputs": [],
   "source": [
    "tagsdfcsv = tagsdf.toPandas()\n",
    "tagsdfcsv.to_csv('tags.csv')"
   ]
  },
  {
   "cell_type": "code",
   "execution_count": 14,
   "metadata": {},
   "outputs": [],
   "source": [
    "top_tags = tagsdf.tail(20)"
   ]
  },
  {
   "cell_type": "markdown",
   "metadata": {},
   "source": [
    "The following tags are the most popular "
   ]
  },
  {
   "cell_type": "code",
   "execution_count": 16,
   "metadata": {},
   "outputs": [
    {
     "data": {
      "text/plain": [
       "[Row(tags1='[antique shops - sales, repairs, and restoration services]', count(1)=171323),\n",
       " Row(tags1='[bicycle shops - sales and service]', count(1)=220834),\n",
       " Row(tags1='[hobby, toy and game shops]', count(1)=231032),\n",
       " Row(tags1='[health and beauty spas]', count(1)=243370),\n",
       " Row(tags1='[motor vehicle supplies and new parts]', count(1)=289514),\n",
       " Row(tags1='[music shops - musical instruments, pianos, and sheet music]', count(1)=304750),\n",
       " Row(tags1='[lawn and garden supply outlets, including nurseries]', count(1)=336254),\n",
       " Row(tags1='[books, periodicals, and newspapers]', count(1)=381316),\n",
       " Row(tags1='[shoe shops]', count(1)=402127),\n",
       " Row(tags1='[furniture, home furnishings and equipment shops, and manufacturers, except appliances]', count(1)=447923),\n",
       " Row(tags1='[artist supply and craft shops]', count(1)=464672),\n",
       " Row(tags1='[computer programming , data processing, and integrated systems design services]', count(1)=499846),\n",
       " Row(tags1='[computers, computer peripheral equipment, and software]', count(1)=685979),\n",
       " Row(tags1='[opticians, optical goods, and eyeglasses]', count(1)=839260),\n",
       " Row(tags1='[florists supplies, nursery stock, and flowers]', count(1)=870187),\n",
       " Row(tags1='[cable, satellite, and other pay television and radio services]', count(1)=906089),\n",
       " Row(tags1='[watch, clock, and jewelry repair shops]', count(1)=953493),\n",
       " Row(tags1='[digital goods: books, movies, music]', count(1)=1247168),\n",
       " Row(tags1='[gift, card, novelty, and souvenir shops]', count(1)=1632388),\n",
       " Row(tags1='[tent and awning shops]', count(1)=1750252)]"
      ]
     },
     "execution_count": 16,
     "metadata": {},
     "output_type": "execute_result"
    }
   ],
   "source": [
    "top_tags"
   ]
  },
  {
   "cell_type": "code",
   "execution_count": null,
   "metadata": {},
   "outputs": [],
   "source": []
  }
 ],
 "metadata": {
  "kernelspec": {
   "display_name": "Python 3",
   "language": "python",
   "name": "python3"
  },
  "language_info": {
   "codemirror_mode": {
    "name": "ipython",
    "version": 3
   },
   "file_extension": ".py",
   "mimetype": "text/x-python",
   "name": "python",
   "nbconvert_exporter": "python",
   "pygments_lexer": "ipython3",
   "version": "3.10.12"
  }
 },
 "nbformat": 4,
 "nbformat_minor": 2
}
