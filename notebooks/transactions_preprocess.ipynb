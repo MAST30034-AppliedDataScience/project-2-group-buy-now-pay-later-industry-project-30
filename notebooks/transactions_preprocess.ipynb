{
 "cells": [
  {
   "cell_type": "markdown",
   "metadata": {},
   "source": [
    "# Preprocessing Transactions"
   ]
  },
  {
   "cell_type": "markdown",
   "metadata": {},
   "source": [
    "This file preprocesses the transaction data "
   ]
  },
  {
   "cell_type": "code",
   "execution_count": 1,
   "metadata": {},
   "outputs": [],
   "source": [
    "import pandas as pd\n",
    "import numpy as np\n",
    "import geopandas as gpd\n",
    "import os\n",
    "import re\n",
    "import glob\n",
    "import math\n",
    "import matplotlib.pyplot as plt\n",
    "from pyspark.sql import functions as F\n",
    "from pyspark.sql import SparkSession\n",
    "from pyspark.sql.types import StructType, StructField, StringType, LongType, IntegerType, DateType, DoubleType\n",
    "from datetime import datetime, timedelta"
   ]
  },
  {
   "cell_type": "code",
   "execution_count": 2,
   "metadata": {},
   "outputs": [
    {
     "name": "stderr",
     "output_type": "stream",
     "text": [
      "your 131072x1 screen size is bogus. expect trouble\n",
      "24/10/13 21:57:38 WARN Utils: Your hostname, DESKTOP-F216TKE resolves to a loopback address: 127.0.1.1; using 10.255.255.254 instead (on interface lo)\n",
      "24/10/13 21:57:38 WARN Utils: Set SPARK_LOCAL_IP if you need to bind to another address\n",
      "Setting default log level to \"WARN\".\n",
      "To adjust logging level use sc.setLogLevel(newLevel). For SparkR, use setLogLevel(newLevel).\n",
      "24/10/13 21:57:39 WARN NativeCodeLoader: Unable to load native-hadoop library for your platform... using builtin-java classes where applicable\n",
      "24/10/13 21:57:40 WARN Utils: Service 'SparkUI' could not bind on port 4040. Attempting port 4041.\n",
      "24/10/13 21:57:40 WARN Utils: Service 'SparkUI' could not bind on port 4041. Attempting port 4042.\n",
      "24/10/13 21:57:40 WARN Utils: Service 'SparkUI' could not bind on port 4042. Attempting port 4043.\n"
     ]
    }
   ],
   "source": [
    "spark = (\n",
    "    SparkSession.builder.appName('Transactions Preprocess')\n",
    "    .config(\"spark.sql.repl.eagerEval.enabled\", True)\n",
    "    .config(\"spark.sql.parquet.cacheMetadata\", \"true\")\n",
    "    .config(\"spark.sql.session.timeZone\", \"Etc/UTC\")\n",
    "    .config('spark.driver.memory', '4g')\n",
    "    .config('spark.executor.memory', '2g')\n",
    "    .getOrCreate()\n",
    ")\n"
   ]
  },
  {
   "cell_type": "code",
   "execution_count": null,
   "metadata": {},
   "outputs": [],
   "source": [
    "transactions1 = spark.read.parquet(\".././data/transactions/transactions_20210228_20210827_snapshot\")\n",
    "transactions2 = spark.read.parquet(\".././data/transactions/transactions_20210828_20220227_snapshot\")\n",
    "transactions3 = spark.read.parquet(\".././data/transactions/transactions_20220228_20220828_snapshot\")\n",
    "\n",
    "transactions = transactions1.union(transactions2).union(transactions3)\n",
    "\n",
    "transactions.show()"
   ]
  },
  {
   "cell_type": "code",
   "execution_count": null,
   "metadata": {},
   "outputs": [],
   "source": [
    "transactions.write.mode('overwrite').parquet('.././data/transactions/total_transactions')"
   ]
  },
  {
   "cell_type": "code",
   "execution_count": 3,
   "metadata": {},
   "outputs": [
    {
     "name": "stderr",
     "output_type": "stream",
     "text": [
      "                                                                                \r"
     ]
    },
    {
     "name": "stdout",
     "output_type": "stream",
     "text": [
      "+-------+------------+------------------+------------------------------------+--------------+\n",
      "|user_id|merchant_abn|dollar_value      |order_id                            |order_datetime|\n",
      "+-------+------------+------------------+------------------------------------+--------------+\n",
      "|14935  |79417999332 |136.06570809815838|23acbb7b-cf98-4580-9775-86b8e0a2bd88|2021-11-26    |\n",
      "|1      |46451548968 |72.61581642788431 |76bab304-fa2d-4004-8179-8638b56a873e|2021-11-26    |\n",
      "|14936  |89518629617 |3.0783487174439297|a2ae446a-2959-41c4-81fd-a30c1efbde0c|2021-11-26    |\n",
      "|1      |49167531725 |51.58228625503599 |7080c274-17f7-4ccf-be22-1d33a45f7f81|2021-11-26    |\n",
      "|14936  |31101120643 |25.228114942417797|8e301c0f-06ab-45cb-a573-47c8e9b95423|2021-11-26    |\n",
      "|2      |67978471888 |691.5028234458998 |0380e9ad-b0e8-4203-a74b-e4ad3504d643|2021-11-26    |\n",
      "|14936  |60956456424 |102.13952056640888|5ac3da9c-5147-4524-8efb-0d312cfe6748|2021-11-26    |\n",
      "|2      |47644196714 |644.5220654863093 |4e368e44-86f8-4dee-b576-af18679bd2dd|2021-11-26    |\n",
      "|14938  |39649557865 |209.12780951421405|4d78cd01-4bab-494f-97cf-f7443faa348b|2021-11-26    |\n",
      "|3      |88402174457 |141.0387993699113 |c50c957d-ecfc-430f-9082-61a86eac2e0d|2021-11-26    |\n",
      "|14938  |32234779638 |102.04090324888061|e94ff357-b036-4937-9df5-e1c2ed581a4d|2021-11-26    |\n",
      "|4      |24015173965 |157.0             |5b867ac9-d1e0-4308-8311-0c6a6d0b583c|2021-11-26    |\n",
      "|14939  |79830510987 |246.13590152514766|666909ed-79c2-45b9-806b-beef8a0f1fd8|2021-11-26    |\n",
      "|5      |76646764782 |35.463129852951695|0c855413-67fa-4678-a358-00599dd21873|2021-11-26    |\n",
      "|14939  |17324645993 |24.108258533478818|40fd2f7f-a274-4203-93d4-11309acb5383|2021-11-26    |\n",
      "|5      |71041015148 |89.76800577775657 |93255de9-c8fe-4265-b558-5a4c0a1e8062|2021-11-26    |\n",
      "|14939  |75089928159 |14.806519329659501|2c5ba1f3-1c5a-4e55-93ab-5d074ddb86d8|2021-11-26    |\n",
      "|5      |80324045558 |62.79195913018835 |564f81c8-c3c1-4f42-be74-bd708712a550|2021-11-26    |\n",
      "|14939  |50315283629 |575.3321071340728 |026c6d3d-4f7c-4f4a-aacd-39768c24975c|2021-11-26    |\n",
      "|6      |11566786699 |15.856637357709419|0230e104-aef0-48f3-873d-cbd8ffd0a6b8|2021-11-26    |\n",
      "+-------+------------+------------------+------------------------------------+--------------+\n",
      "only showing top 20 rows\n",
      "\n"
     ]
    }
   ],
   "source": [
    "transactions = spark.read.parquet(\".././data/transactions/total_transactions\")\n",
    "transactions.show(truncate = False)"
   ]
  },
  {
   "cell_type": "code",
   "execution_count": 4,
   "metadata": {},
   "outputs": [
    {
     "name": "stdout",
     "output_type": "stream",
     "text": [
      "root\n",
      " |-- user_id: long (nullable = true)\n",
      " |-- merchant_abn: long (nullable = true)\n",
      " |-- dollar_value: double (nullable = true)\n",
      " |-- order_id: string (nullable = true)\n",
      " |-- order_datetime: date (nullable = true)\n",
      "\n"
     ]
    }
   ],
   "source": [
    "transactions.printSchema()"
   ]
  },
  {
   "cell_type": "code",
   "execution_count": 5,
   "metadata": {},
   "outputs": [],
   "source": [
    "transactions = transactions.withColumn('user_id',  F.col('user_id').cast(StringType()))"
   ]
  },
  {
   "cell_type": "code",
   "execution_count": 6,
   "metadata": {},
   "outputs": [],
   "source": [
    "transactions = transactions.withColumn('merchant_abn',  F.col('merchant_abn').cast(StringType()))"
   ]
  },
  {
   "cell_type": "code",
   "execution_count": 7,
   "metadata": {},
   "outputs": [
    {
     "name": "stdout",
     "output_type": "stream",
     "text": [
      "root\n",
      " |-- user_id: string (nullable = true)\n",
      " |-- merchant_abn: string (nullable = true)\n",
      " |-- dollar_value: double (nullable = true)\n",
      " |-- order_id: string (nullable = true)\n",
      " |-- order_datetime: date (nullable = true)\n",
      "\n"
     ]
    }
   ],
   "source": [
    "transactions.printSchema()"
   ]
  },
  {
   "cell_type": "markdown",
   "metadata": {},
   "source": [
    "Check user_id"
   ]
  },
  {
   "cell_type": "code",
   "execution_count": 8,
   "metadata": {},
   "outputs": [
    {
     "name": "stdout",
     "output_type": "stream",
     "text": [
      "+-------+-----------+\n",
      "|user_id|consumer_id|\n",
      "+-------+-----------+\n",
      "|1      |1195503    |\n",
      "|2      |179208     |\n",
      "|3      |1194530    |\n",
      "|4      |154128     |\n",
      "|5      |712975     |\n",
      "|6      |407340     |\n",
      "|7      |511685     |\n",
      "|8      |448088     |\n",
      "|9      |650435     |\n",
      "|10     |1058499    |\n",
      "|11     |428325     |\n",
      "|12     |1494640    |\n",
      "|13     |1146717    |\n",
      "|14     |1343547    |\n",
      "|15     |1463076    |\n",
      "|16     |1356405    |\n",
      "|17     |1331093    |\n",
      "|18     |80965      |\n",
      "|19     |1226530    |\n",
      "|20     |1390367    |\n",
      "+-------+-----------+\n",
      "only showing top 20 rows\n",
      "\n"
     ]
    }
   ],
   "source": [
    "consumer_details = spark.read.parquet(\".././data/curated/consumer_details\")\n",
    "consumer_details.show(truncate = False)"
   ]
  },
  {
   "cell_type": "code",
   "execution_count": 9,
   "metadata": {},
   "outputs": [
    {
     "name": "stderr",
     "output_type": "stream",
     "text": [
      "                                                                                \r"
     ]
    }
   ],
   "source": [
    "userid = consumer_details.select(F.col('user_id')).distinct()\n",
    "userid = userid.toPandas()\n",
    "userid = userid['user_id'].tolist()"
   ]
  },
  {
   "cell_type": "code",
   "execution_count": 10,
   "metadata": {},
   "outputs": [
    {
     "name": "stderr",
     "output_type": "stream",
     "text": [
      "                                                                                \r"
     ]
    }
   ],
   "source": [
    "transacid = transactions.select(F.col('user_id')).distinct()\n",
    "transacid = transacid.toPandas()\n",
    "transacid = transacid['user_id'].tolist()"
   ]
  },
  {
   "cell_type": "code",
   "execution_count": 11,
   "metadata": {},
   "outputs": [
    {
     "data": {
      "text/plain": [
       "14195505"
      ]
     },
     "execution_count": 11,
     "metadata": {},
     "output_type": "execute_result"
    }
   ],
   "source": [
    "transactions.count()"
   ]
  },
  {
   "cell_type": "code",
   "execution_count": 12,
   "metadata": {},
   "outputs": [
    {
     "name": "stdout",
     "output_type": "stream",
     "text": [
      "0\n"
     ]
    }
   ],
   "source": [
    "print(len(set(transacid).difference(userid)))"
   ]
  },
  {
   "cell_type": "code",
   "execution_count": 13,
   "metadata": {},
   "outputs": [
    {
     "name": "stdout",
     "output_type": "stream",
     "text": [
      "set()\n"
     ]
    }
   ],
   "source": [
    "print(set(transacid).difference(userid))"
   ]
  },
  {
   "cell_type": "markdown",
   "metadata": {},
   "source": [
    "Check merchant_abn"
   ]
  },
  {
   "cell_type": "code",
   "execution_count": 14,
   "metadata": {},
   "outputs": [
    {
     "name": "stdout",
     "output_type": "stream",
     "text": [
      "+------------------------------------+------------+----------------------------------------------------------------+----+---------+\n",
      "|merchant_name                       |merchant_abn|tags                                                            |type|take_rate|\n",
      "+------------------------------------+------------+----------------------------------------------------------------+----+---------+\n",
      "|Felis Limited                       |10023283211 |furniture, home furnishings, equipment, manufacturers           |e   |0.18     |\n",
      "|Arcu Ac Orci Corporation            |10142254217 |cable, satellite, other pay television, radio                   |b   |4.22     |\n",
      "|Nunc Sed Company                    |10165489824 |jewelry, watch, clock, silverware                               |b   |4.4      |\n",
      "|Ultricies Dignissim Lacus Foundation|10187291046 |watch, clock, jewelry repair                                    |b   |3.29     |\n",
      "|Enim Condimentum PC                 |10192359162 |music, musical instruments, pianos, sheet music                 |a   |6.33     |\n",
      "|Fusce Company                       |10206519221 |gift, card, novelty, souvenir                                   |a   |6.34     |\n",
      "|Aliquam Enim Incorporated           |10255988167 |computers, computer peripheral equipment, software              |b   |4.32     |\n",
      "|Ipsum Primis Ltd                    |10264435225 |watch, clock, jewelry repair                                    |c   |2.39     |\n",
      "|Pede Ultrices Industries            |10279061213 |computer programming, data processing, integrated systems design|a   |5.71     |\n",
      "|Nunc Inc.                           |10323485998 |furniture, home furnishings, equipment, manufacturers           |a   |6.61     |\n",
      "|Facilisis Facilisis Corp.           |10342410215 |computers, computer peripheral equipment, software              |a   |6.34     |\n",
      "|Odio Institute                      |10346855916 |equipment, tool, furniture, appliance rental, leasing           |b   |3.57     |\n",
      "|Rutrum Justo Ltd                    |10364012396 |music, musical instruments, pianos, sheet music                 |b   |3.63     |\n",
      "|Tellus Foundation                   |10385011947 |artist supply, craft                                            |b   |3.17     |\n",
      "|Sed Et Company                      |10385163239 |florists supplies, nursery stock, flowers                       |a   |6.61     |\n",
      "|Id Ltd                              |10385250025 |computers, computer peripheral equipment, software              |a   |5.54     |\n",
      "|Consequat Foundation                |10404542215 |antique, repairs, restoration                                   |a   |6.93     |\n",
      "|Sit Amet Nulla Corp.                |10430380319 |motor vehicle supplies, new parts                               |b   |4.97     |\n",
      "|Massa Vestibulum Foundation         |10441711491 |motor vehicle supplies, new parts                               |a   |5.77     |\n",
      "|Ut Consulting                       |10462560289 |gift, card, novelty, souvenir                                   |c   |2.95     |\n",
      "+------------------------------------+------------+----------------------------------------------------------------+----+---------+\n",
      "only showing top 20 rows\n",
      "\n"
     ]
    }
   ],
   "source": [
    "tbl_merchants = spark.read.parquet(\".././data/curated/tbl_merchants\")\n",
    "tbl_merchants.show(truncate = False)\n"
   ]
  },
  {
   "cell_type": "code",
   "execution_count": 15,
   "metadata": {},
   "outputs": [],
   "source": [
    "tbl_merchants = tbl_merchants.withColumn('merchant_abn',F.col('merchant_abn').cast(StringType()) ) "
   ]
  },
  {
   "cell_type": "code",
   "execution_count": 16,
   "metadata": {},
   "outputs": [],
   "source": [
    "merchants_abn = tbl_merchants.select(F.col('merchant_abn')).distinct()\n",
    "merchants_abn = merchants_abn.toPandas()\n",
    "merchants_abn = merchants_abn['merchant_abn'].tolist()"
   ]
  },
  {
   "cell_type": "code",
   "execution_count": 17,
   "metadata": {},
   "outputs": [
    {
     "name": "stderr",
     "output_type": "stream",
     "text": [
      "                                                                                \r"
     ]
    }
   ],
   "source": [
    "transacabn = transactions.select(F.col('merchant_abn')).distinct()\n",
    "transacabn = transacabn.toPandas()\n",
    "transacabn = transacabn['merchant_abn'].tolist()"
   ]
  },
  {
   "cell_type": "code",
   "execution_count": 18,
   "metadata": {},
   "outputs": [
    {
     "name": "stdout",
     "output_type": "stream",
     "text": [
      "root\n",
      " |-- user_id: string (nullable = true)\n",
      " |-- merchant_abn: string (nullable = true)\n",
      " |-- dollar_value: double (nullable = true)\n",
      " |-- order_id: string (nullable = true)\n",
      " |-- order_datetime: date (nullable = true)\n",
      "\n"
     ]
    }
   ],
   "source": [
    "transactions.printSchema()"
   ]
  },
  {
   "cell_type": "code",
   "execution_count": 19,
   "metadata": {},
   "outputs": [
    {
     "name": "stdout",
     "output_type": "stream",
     "text": [
      "root\n",
      " |-- merchant_name: string (nullable = true)\n",
      " |-- merchant_abn: string (nullable = true)\n",
      " |-- tags: string (nullable = true)\n",
      " |-- type: string (nullable = true)\n",
      " |-- take_rate: double (nullable = true)\n",
      "\n"
     ]
    }
   ],
   "source": [
    "tbl_merchants.printSchema()"
   ]
  },
  {
   "cell_type": "code",
   "execution_count": null,
   "metadata": {},
   "outputs": [],
   "source": []
  },
  {
   "cell_type": "code",
   "execution_count": 20,
   "metadata": {},
   "outputs": [
    {
     "name": "stdout",
     "output_type": "stream",
     "text": [
      "root\n",
      " |-- merchant_name: string (nullable = true)\n",
      " |-- merchant_abn: string (nullable = true)\n",
      " |-- tags: string (nullable = true)\n",
      " |-- type: string (nullable = true)\n",
      " |-- take_rate: double (nullable = true)\n",
      "\n"
     ]
    }
   ],
   "source": [
    "tbl_merchants.printSchema()"
   ]
  },
  {
   "cell_type": "code",
   "execution_count": 21,
   "metadata": {},
   "outputs": [
    {
     "name": "stdout",
     "output_type": "stream",
     "text": [
      "396\n"
     ]
    }
   ],
   "source": [
    "print(len(set(transacabn).difference(merchants_abn)))"
   ]
  },
  {
   "cell_type": "code",
   "execution_count": 22,
   "metadata": {},
   "outputs": [
    {
     "name": "stdout",
     "output_type": "stream",
     "text": [
      "{'73439079670', '83316055023', '56395390867', '44881138767', '20890410130', '39872028975', '26189928515', '29227046551', '68441592159', '98770741241', '23686790459', '67564575132', '82045372678', '73645625064', '13129485817', '11240426404', '13177076095', '47832925600', '71727754465', '85364382870', '67202032418', '63966446164', '57241240228', '22390313614', '59852268487', '49465266764', '58830373879', '51914572250', '42754691415', '94527407677', '63684153348', '99553942031', '94311056026', '48540087213', '24403499052', '70649324294', '73683476429', '22215771201', '82961950769', '54082851220', '88555435517', '91848160033', '53145095472', '48597174605', '86398826270', '46530858477', '92867778949', '90635623930', '31761538646', '15073921424', '71836374493', '61333486380', '25569327276', '37070901816', '83893827922', '87816203170', '72900319608', '19417329512', '32642832483', '95390063681', '98421172521', '66600007969', '52447384759', '97452567554', '92396103355', '66591506230', '23495610951', '22237228673', '79526372673', '20290993541', '29566626791', '54785675857', '74777410897', '43231453666', '70770904219', '95463427236', '64121624765', '50794104497', '82774123839', '85194491864', '96129954993', '73533145785', '70186619026', '59258669983', '86083695354', '53714470577', '68925908607', '56096548005', '79246172899', '48926993113', '82729532791', '89143142781', '28767881738', '48732140317', '11358147682', '53225404497', '76224940587', '80788167198', '13494073581', '68724135684', '41425032366', '43632438086', '56703883889', '56503889644', '60452214220', '48539533779', '65130002423', '33604812025', '19142852082', '95677361909', '93559143257', '13868849576', '91418529927', '65901138420', '31277741768', '74648589246', '30818723636', '67254399155', '67330176930', '43978961327', '73148634619', '44417671872', '72519488277', '48766981369', '46693373183', '22130142351', '50663416598', '88116434496', '90217817387', '11029341140', '82414335931', '98134689800', '95492562735', '46765707573', '29323795999', '75892370170', '63248668429', '56638395137', '27950649624', '25810287809', '60945400664', '95135242310', '73052515151', '43820812476', '66000151638', '57685886118', '41438041864', '90827737722', '87921002735', '97996530744', '76470925707', '40561606111', '79123236887', '53313679463', '61806746966', '98345415950', '20203896291', '77126808895', '87700253779', '60892515210', '47286141527', '22119749782', '83220249221', '23996199758', '77252929420', '53335180575', '34768390517', '23142656360', '40324168149', '96567541302', '65535416609', '61640767352', '89211610270', '63072262874', '84682880992', '55376897006', '29836312398', '60218700582', '18250330194', '53819859057', '72847069951', '68666078115', '41164626453', '67214015867', '52985515941', '17366602511', '54963312919', '98914698548', '49837933840', '51213238913', '23633724513', '68666836212', '40965168375', '32297823633', '30717284167', '24745648258', '17109287252', '33286410763', '34451067367', '37720067731', '53997373109', '33621236826', '67877736141', '37145789569', '27508358370', '99877648878', '80664157260', '10672322914', '46572791797', '51776659549', '62789659343', '22211992302', '55282987193', '53852972654', '99989036621', '22614407882', '71762159356', '94100550074', '34967436738', '42211422632', '40284000376', '84453282583', '88472152633', '31507950402', '89738742187', '31584328627', '28717590335', '43023119927', '32649670245', '58623214116', '77698107389', '97396701267', '48299688317', '24089799666', '35601926858', '60427964172', '21328457653', '87901668493', '82999039227', '23329655134', '20206252973', '32635507667', '91764184823', '35625780258', '84544964236', '91162493125', '73121558118', '99223587142', '87606625308', '11137507330', '57542178219', '11400713351', '90628017098', '70765550736', '87802246756', '30195713177', '99271509353', '45382127804', '81337769582', '98671274602', '55233303555', '24406529929', '68395659657', '37816907112', '27848119046', '66782478748', '92220967360', '40576714979', '96836546482', '76609397647', '17670294801', '71874230481', '35389993777', '24786876262', '31782061377', '91282687779', '64593163168', '46244515644', '28548640086', '88020276364', '70893541900', '13226823813', '62321559724', '47856542678', '53714166188', '44649509702', '37333878076', '49010686671', '60944858280', '93360876880', '13289167958', '24421284006', '59299206461', '64701685993', '63344521351', '86868464441', '92442801816', '56373397631', '79953723663', '20562405782', '58480763378', '73057975450', '63939052570', '53581165509', '15699401518', '24301977828', '30984752802', '20139842060', '58692398254', '67676587249', '19010030815', '65655213781', '70686815873', '64485980706', '16496390781', '68102957262', '57630082383', '72898830301', '22039770981', '71091910300', '40515399744', '50154587122', '31641177052', '75342681786', '79251685752', '11839682616', '84812509466', '89295426212', '61275158695', '21563204684', '93676909958', '99256510843', '53965592614', '48452300785', '28045708925', '64691760345', '87654295342', '55461936812', '17135205181', '46093007286', '19109035261', '91893652010', '87725508705', '28593430437', '66302182333', '84540911878', '84500933183', '15862090061', '12959561070', '29215623643', '15058508937', '74519830790', '66145449222', '58925451218', '75256916133', '56180588880', '90215795341', '47118059796', '14827550074', '57959696529', '29156021067', '97879265453', '32831345323', '53764119144', '46018169855', '28898261035', '41525815543', '83324551496', '98035030376', '80824405924', '57564805948', '49369565194', '83740063335', '32461318592', '48032257165', '71523080801', '25115235920', '45925655949', '74448581190', '32234779638', '27130058170', '84825393532', '63136990017', '39896168660', '87300469819', '88984392677', '53938467553', '79800042168', '81146325646', '23618059522', '29674997261', '18978126444', '87767413481', '57684437046', '87982339334', '18899854203'}\n"
     ]
    }
   ],
   "source": [
    "print(set(transacabn).difference(merchants_abn))"
   ]
  },
  {
   "cell_type": "code",
   "execution_count": 23,
   "metadata": {},
   "outputs": [],
   "source": [
    "lst = list(set(transacabn).difference(merchants_abn))"
   ]
  },
  {
   "cell_type": "code",
   "execution_count": 24,
   "metadata": {},
   "outputs": [],
   "source": [
    "dct = {'merchants_abn' : lst}\n",
    "df = pd.DataFrame(dct)\n",
    "     \n",
    "# saving the dataframe\n",
    "df.to_csv('missingabn.csv')"
   ]
  },
  {
   "cell_type": "code",
   "execution_count": 25,
   "metadata": {},
   "outputs": [
    {
     "name": "stdout",
     "output_type": "stream",
     "text": [
      "+-------------+------------+----+----+---------+\n",
      "|merchant_name|merchant_abn|tags|type|take_rate|\n",
      "+-------------+------------+----+----+---------+\n",
      "+-------------+------------+----+----+---------+\n",
      "\n"
     ]
    }
   ],
   "source": [
    "tbl_merchants.filter(F.col('merchant_abn') == '29836312398').show()"
   ]
  },
  {
   "cell_type": "code",
   "execution_count": 26,
   "metadata": {},
   "outputs": [
    {
     "name": "stderr",
     "output_type": "stream",
     "text": [
      "                                                                                \r"
     ]
    },
    {
     "name": "stdout",
     "output_type": "stream",
     "text": [
      "+-------+------------+------------------+--------------------+--------------+\n",
      "|user_id|merchant_abn|      dollar_value|            order_id|order_datetime|\n",
      "+-------+------------+------------------+--------------------+--------------+\n",
      "|   8571| 29836312398| 2945.505025734725|b627ed8d-262b-4cd...|    2021-12-11|\n",
      "|  12517| 29836312398|1543.1517906741005|e32c9ad9-ff31-411...|    2022-10-23|\n",
      "|   1620| 29836312398|   6258.0924425422|fc4c3ccd-dd22-44a...|    2022-10-26|\n",
      "|  12615| 29836312398|3813.1665926469286|9e572064-6fde-416...|    2022-08-23|\n",
      "|  21939| 29836312398| 3899.466796707913|00d9d0d2-7b23-403...|    2022-05-29|\n",
      "|     69| 29836312398| 4411.945163042472|14f63cf5-d8a0-48f...|    2022-07-28|\n",
      "|  16922| 29836312398|3448.2403740176865|a38da7f6-4da4-4a3...|    2022-06-03|\n",
      "|   4687| 29836312398|3807.7129245420906|989ac26e-1e23-424...|    2022-06-07|\n",
      "|  12991| 29836312398| 2072.397078128837|0368c646-6390-4d8...|    2021-11-07|\n",
      "|  19145| 29836312398| 831.8509457977442|03816e55-0beb-4f6...|    2021-12-30|\n",
      "|   9805| 29836312398|  2131.41757196578|a8175995-f0ab-4b4...|    2022-06-01|\n",
      "|  10144| 29836312398| 1764.066948770218|ca9cc1f0-733a-457...|    2021-09-23|\n",
      "|  24012| 29836312398| 6629.742288925826|efb2ae38-3463-436...|    2021-10-19|\n",
      "|   7661| 29836312398| 3452.952527043651|0d9a0ad6-8f2b-467...|    2022-02-27|\n",
      "|   4346| 29836312398|1392.1747926794683|5a7bfdb8-35ff-494...|    2022-02-12|\n",
      "|  21557| 29836312398| 4245.267191256968|a33bbe61-482a-4a9...|    2021-05-27|\n",
      "|  15570| 29836312398| 2583.767422402494|9e182374-cc8f-41c...|    2021-07-10|\n",
      "|  16418| 29836312398| 4491.359134827531|e33817f6-c474-474...|    2022-02-08|\n",
      "|    247| 29836312398|2258.3094044557474|8d37c2be-cd41-4fc...|    2021-08-03|\n",
      "|  17124| 29836312398| 4007.488687577734|624b2b03-175b-42d...|    2021-04-23|\n",
      "+-------+------------+------------------+--------------------+--------------+\n",
      "only showing top 20 rows\n",
      "\n"
     ]
    },
    {
     "name": "stderr",
     "output_type": "stream",
     "text": [
      "                                                                                \r"
     ]
    }
   ],
   "source": [
    "transactions.filter(F.col('merchant_abn') == '29836312398').show()"
   ]
  },
  {
   "cell_type": "markdown",
   "metadata": {},
   "source": [
    "check dollar value"
   ]
  },
  {
   "cell_type": "code",
   "execution_count": 27,
   "metadata": {},
   "outputs": [
    {
     "name": "stdout",
     "output_type": "stream",
     "text": [
      "+-------+------------+------------+--------+--------------+\n",
      "|user_id|merchant_abn|dollar_value|order_id|order_datetime|\n",
      "+-------+------------+------------+--------+--------------+\n",
      "+-------+------------+------------+--------+--------------+\n",
      "\n"
     ]
    }
   ],
   "source": [
    "transactions.filter(F.col('dollar_value') < 0).show()"
   ]
  },
  {
   "cell_type": "markdown",
   "metadata": {},
   "source": [
    "check null values"
   ]
  },
  {
   "cell_type": "code",
   "execution_count": 28,
   "metadata": {},
   "outputs": [
    {
     "name": "stdout",
     "output_type": "stream",
     "text": [
      "+-------+------------+------------+--------+--------------+\n",
      "|user_id|merchant_abn|dollar_value|order_id|order_datetime|\n",
      "+-------+------------+------------+--------+--------------+\n",
      "+-------+------------+------------+--------+--------------+\n",
      "\n"
     ]
    }
   ],
   "source": [
    "transactions.filter(F.isnull('dollar_value')).show()"
   ]
  },
  {
   "cell_type": "code",
   "execution_count": 29,
   "metadata": {},
   "outputs": [
    {
     "name": "stdout",
     "output_type": "stream",
     "text": [
      "+-------+------------+------------+--------+--------------+\n",
      "|user_id|merchant_abn|dollar_value|order_id|order_datetime|\n",
      "+-------+------------+------------+--------+--------------+\n",
      "+-------+------------+------------+--------+--------------+\n",
      "\n"
     ]
    }
   ],
   "source": [
    "transactions.filter(F.isnull('order_id')).show()"
   ]
  },
  {
   "cell_type": "code",
   "execution_count": 30,
   "metadata": {},
   "outputs": [
    {
     "name": "stderr",
     "output_type": "stream",
     "text": [
      "                                                                                \r"
     ]
    },
    {
     "name": "stdout",
     "output_type": "stream",
     "text": [
      "+-------+------------+------------+--------+--------------+\n",
      "|user_id|merchant_abn|dollar_value|order_id|order_datetime|\n",
      "+-------+------------+------------+--------+--------------+\n",
      "+-------+------------+------------+--------+--------------+\n",
      "\n"
     ]
    }
   ],
   "source": [
    "transactions.filter(F.isnull('user_id')).show()"
   ]
  },
  {
   "cell_type": "code",
   "execution_count": 31,
   "metadata": {},
   "outputs": [
    {
     "name": "stdout",
     "output_type": "stream",
     "text": [
      "+-------+------------+------------+--------+--------------+\n",
      "|user_id|merchant_abn|dollar_value|order_id|order_datetime|\n",
      "+-------+------------+------------+--------+--------------+\n",
      "+-------+------------+------------+--------+--------------+\n",
      "\n"
     ]
    }
   ],
   "source": [
    "transactions.filter(F.isnull('order_datetime')).show()"
   ]
  },
  {
   "cell_type": "code",
   "execution_count": 32,
   "metadata": {},
   "outputs": [
    {
     "name": "stderr",
     "output_type": "stream",
     "text": [
      "[Stage 42:===========>                                              (1 + 4) / 5]\r"
     ]
    },
    {
     "name": "stdout",
     "output_type": "stream",
     "text": [
      "+-------+------------+------------+--------+--------------+\n",
      "|user_id|merchant_abn|dollar_value|order_id|order_datetime|\n",
      "+-------+------------+------------+--------+--------------+\n",
      "+-------+------------+------------+--------+--------------+\n",
      "\n"
     ]
    },
    {
     "name": "stderr",
     "output_type": "stream",
     "text": [
      "                                                                                \r"
     ]
    }
   ],
   "source": [
    "transactions.filter(F.isnull('merchant_abn')).show()"
   ]
  },
  {
   "cell_type": "code",
   "execution_count": 33,
   "metadata": {},
   "outputs": [
    {
     "name": "stderr",
     "output_type": "stream",
     "text": [
      "[Stage 45:==================================>                       (3 + 2) / 5]\r"
     ]
    },
    {
     "name": "stdout",
     "output_type": "stream",
     "text": [
      "+-------+------------+------------+--------+--------------+\n",
      "|user_id|merchant_abn|dollar_value|order_id|order_datetime|\n",
      "+-------+------------+------------+--------+--------------+\n",
      "+-------+------------+------------+--------+--------------+\n",
      "\n"
     ]
    },
    {
     "name": "stderr",
     "output_type": "stream",
     "text": [
      "                                                                                \r"
     ]
    }
   ],
   "source": [
    "transactions.filter(F.isnan('dollar_value')).show()"
   ]
  },
  {
   "cell_type": "markdown",
   "metadata": {},
   "source": [
    "Removing merchant_abn not in tbl_merchants"
   ]
  },
  {
   "cell_type": "code",
   "execution_count": 34,
   "metadata": {},
   "outputs": [
    {
     "data": {
      "text/plain": [
       "['73439079670',\n",
       " '83316055023',\n",
       " '56395390867',\n",
       " '44881138767',\n",
       " '20890410130',\n",
       " '39872028975',\n",
       " '26189928515',\n",
       " '29227046551',\n",
       " '68441592159',\n",
       " '98770741241',\n",
       " '23686790459',\n",
       " '67564575132',\n",
       " '82045372678',\n",
       " '73645625064',\n",
       " '13129485817',\n",
       " '11240426404',\n",
       " '13177076095',\n",
       " '47832925600',\n",
       " '71727754465',\n",
       " '85364382870',\n",
       " '67202032418',\n",
       " '63966446164',\n",
       " '57241240228',\n",
       " '22390313614',\n",
       " '59852268487',\n",
       " '49465266764',\n",
       " '58830373879',\n",
       " '51914572250',\n",
       " '42754691415',\n",
       " '94527407677',\n",
       " '63684153348',\n",
       " '99553942031',\n",
       " '94311056026',\n",
       " '48540087213',\n",
       " '24403499052',\n",
       " '70649324294',\n",
       " '73683476429',\n",
       " '22215771201',\n",
       " '82961950769',\n",
       " '54082851220',\n",
       " '88555435517',\n",
       " '91848160033',\n",
       " '53145095472',\n",
       " '48597174605',\n",
       " '86398826270',\n",
       " '46530858477',\n",
       " '92867778949',\n",
       " '90635623930',\n",
       " '31761538646',\n",
       " '15073921424',\n",
       " '71836374493',\n",
       " '61333486380',\n",
       " '25569327276',\n",
       " '37070901816',\n",
       " '83893827922',\n",
       " '87816203170',\n",
       " '72900319608',\n",
       " '19417329512',\n",
       " '32642832483',\n",
       " '95390063681',\n",
       " '98421172521',\n",
       " '66600007969',\n",
       " '52447384759',\n",
       " '97452567554',\n",
       " '92396103355',\n",
       " '66591506230',\n",
       " '23495610951',\n",
       " '22237228673',\n",
       " '79526372673',\n",
       " '20290993541',\n",
       " '29566626791',\n",
       " '54785675857',\n",
       " '74777410897',\n",
       " '43231453666',\n",
       " '70770904219',\n",
       " '95463427236',\n",
       " '64121624765',\n",
       " '50794104497',\n",
       " '82774123839',\n",
       " '85194491864',\n",
       " '96129954993',\n",
       " '73533145785',\n",
       " '70186619026',\n",
       " '59258669983',\n",
       " '86083695354',\n",
       " '53714470577',\n",
       " '68925908607',\n",
       " '56096548005',\n",
       " '79246172899',\n",
       " '48926993113',\n",
       " '82729532791',\n",
       " '89143142781',\n",
       " '28767881738',\n",
       " '48732140317',\n",
       " '11358147682',\n",
       " '53225404497',\n",
       " '76224940587',\n",
       " '80788167198',\n",
       " '13494073581',\n",
       " '68724135684',\n",
       " '41425032366',\n",
       " '43632438086',\n",
       " '56703883889',\n",
       " '56503889644',\n",
       " '60452214220',\n",
       " '48539533779',\n",
       " '65130002423',\n",
       " '33604812025',\n",
       " '19142852082',\n",
       " '95677361909',\n",
       " '93559143257',\n",
       " '13868849576',\n",
       " '91418529927',\n",
       " '65901138420',\n",
       " '31277741768',\n",
       " '74648589246',\n",
       " '30818723636',\n",
       " '67254399155',\n",
       " '67330176930',\n",
       " '43978961327',\n",
       " '73148634619',\n",
       " '44417671872',\n",
       " '72519488277',\n",
       " '48766981369',\n",
       " '46693373183',\n",
       " '22130142351',\n",
       " '50663416598',\n",
       " '88116434496',\n",
       " '90217817387',\n",
       " '11029341140',\n",
       " '82414335931',\n",
       " '98134689800',\n",
       " '95492562735',\n",
       " '46765707573',\n",
       " '29323795999',\n",
       " '75892370170',\n",
       " '63248668429',\n",
       " '56638395137',\n",
       " '27950649624',\n",
       " '25810287809',\n",
       " '60945400664',\n",
       " '95135242310',\n",
       " '73052515151',\n",
       " '43820812476',\n",
       " '66000151638',\n",
       " '57685886118',\n",
       " '41438041864',\n",
       " '90827737722',\n",
       " '87921002735',\n",
       " '97996530744',\n",
       " '76470925707',\n",
       " '40561606111',\n",
       " '79123236887',\n",
       " '53313679463',\n",
       " '61806746966',\n",
       " '98345415950',\n",
       " '20203896291',\n",
       " '77126808895',\n",
       " '87700253779',\n",
       " '60892515210',\n",
       " '47286141527',\n",
       " '22119749782',\n",
       " '83220249221',\n",
       " '23996199758',\n",
       " '77252929420',\n",
       " '53335180575',\n",
       " '34768390517',\n",
       " '23142656360',\n",
       " '40324168149',\n",
       " '96567541302',\n",
       " '65535416609',\n",
       " '61640767352',\n",
       " '89211610270',\n",
       " '63072262874',\n",
       " '84682880992',\n",
       " '55376897006',\n",
       " '29836312398',\n",
       " '60218700582',\n",
       " '18250330194',\n",
       " '53819859057',\n",
       " '72847069951',\n",
       " '68666078115',\n",
       " '41164626453',\n",
       " '67214015867',\n",
       " '52985515941',\n",
       " '17366602511',\n",
       " '54963312919',\n",
       " '98914698548',\n",
       " '49837933840',\n",
       " '51213238913',\n",
       " '23633724513',\n",
       " '68666836212',\n",
       " '40965168375',\n",
       " '32297823633',\n",
       " '30717284167',\n",
       " '24745648258',\n",
       " '17109287252',\n",
       " '33286410763',\n",
       " '34451067367',\n",
       " '37720067731',\n",
       " '53997373109',\n",
       " '33621236826',\n",
       " '67877736141',\n",
       " '37145789569',\n",
       " '27508358370',\n",
       " '99877648878',\n",
       " '80664157260',\n",
       " '10672322914',\n",
       " '46572791797',\n",
       " '51776659549',\n",
       " '62789659343',\n",
       " '22211992302',\n",
       " '55282987193',\n",
       " '53852972654',\n",
       " '99989036621',\n",
       " '22614407882',\n",
       " '71762159356',\n",
       " '94100550074',\n",
       " '34967436738',\n",
       " '42211422632',\n",
       " '40284000376',\n",
       " '84453282583',\n",
       " '88472152633',\n",
       " '31507950402',\n",
       " '89738742187',\n",
       " '31584328627',\n",
       " '28717590335',\n",
       " '43023119927',\n",
       " '32649670245',\n",
       " '58623214116',\n",
       " '77698107389',\n",
       " '97396701267',\n",
       " '48299688317',\n",
       " '24089799666',\n",
       " '35601926858',\n",
       " '60427964172',\n",
       " '21328457653',\n",
       " '87901668493',\n",
       " '82999039227',\n",
       " '23329655134',\n",
       " '20206252973',\n",
       " '32635507667',\n",
       " '91764184823',\n",
       " '35625780258',\n",
       " '84544964236',\n",
       " '91162493125',\n",
       " '73121558118',\n",
       " '99223587142',\n",
       " '87606625308',\n",
       " '11137507330',\n",
       " '57542178219',\n",
       " '11400713351',\n",
       " '90628017098',\n",
       " '70765550736',\n",
       " '87802246756',\n",
       " '30195713177',\n",
       " '99271509353',\n",
       " '45382127804',\n",
       " '81337769582',\n",
       " '98671274602',\n",
       " '55233303555',\n",
       " '24406529929',\n",
       " '68395659657',\n",
       " '37816907112',\n",
       " '27848119046',\n",
       " '66782478748',\n",
       " '92220967360',\n",
       " '40576714979',\n",
       " '96836546482',\n",
       " '76609397647',\n",
       " '17670294801',\n",
       " '71874230481',\n",
       " '35389993777',\n",
       " '24786876262',\n",
       " '31782061377',\n",
       " '91282687779',\n",
       " '64593163168',\n",
       " '46244515644',\n",
       " '28548640086',\n",
       " '88020276364',\n",
       " '70893541900',\n",
       " '13226823813',\n",
       " '62321559724',\n",
       " '47856542678',\n",
       " '53714166188',\n",
       " '44649509702',\n",
       " '37333878076',\n",
       " '49010686671',\n",
       " '60944858280',\n",
       " '93360876880',\n",
       " '13289167958',\n",
       " '24421284006',\n",
       " '59299206461',\n",
       " '64701685993',\n",
       " '63344521351',\n",
       " '86868464441',\n",
       " '92442801816',\n",
       " '56373397631',\n",
       " '79953723663',\n",
       " '20562405782',\n",
       " '58480763378',\n",
       " '73057975450',\n",
       " '63939052570',\n",
       " '53581165509',\n",
       " '15699401518',\n",
       " '24301977828',\n",
       " '30984752802',\n",
       " '20139842060',\n",
       " '58692398254',\n",
       " '67676587249',\n",
       " '19010030815',\n",
       " '65655213781',\n",
       " '70686815873',\n",
       " '64485980706',\n",
       " '16496390781',\n",
       " '68102957262',\n",
       " '57630082383',\n",
       " '72898830301',\n",
       " '22039770981',\n",
       " '71091910300',\n",
       " '40515399744',\n",
       " '50154587122',\n",
       " '31641177052',\n",
       " '75342681786',\n",
       " '79251685752',\n",
       " '11839682616',\n",
       " '84812509466',\n",
       " '89295426212',\n",
       " '61275158695',\n",
       " '21563204684',\n",
       " '93676909958',\n",
       " '99256510843',\n",
       " '53965592614',\n",
       " '48452300785',\n",
       " '28045708925',\n",
       " '64691760345',\n",
       " '87654295342',\n",
       " '55461936812',\n",
       " '17135205181',\n",
       " '46093007286',\n",
       " '19109035261',\n",
       " '91893652010',\n",
       " '87725508705',\n",
       " '28593430437',\n",
       " '66302182333',\n",
       " '84540911878',\n",
       " '84500933183',\n",
       " '15862090061',\n",
       " '12959561070',\n",
       " '29215623643',\n",
       " '15058508937',\n",
       " '74519830790',\n",
       " '66145449222',\n",
       " '58925451218',\n",
       " '75256916133',\n",
       " '56180588880',\n",
       " '90215795341',\n",
       " '47118059796',\n",
       " '14827550074',\n",
       " '57959696529',\n",
       " '29156021067',\n",
       " '97879265453',\n",
       " '32831345323',\n",
       " '53764119144',\n",
       " '46018169855',\n",
       " '28898261035',\n",
       " '41525815543',\n",
       " '83324551496',\n",
       " '98035030376',\n",
       " '80824405924',\n",
       " '57564805948',\n",
       " '49369565194',\n",
       " '83740063335',\n",
       " '32461318592',\n",
       " '48032257165',\n",
       " '71523080801',\n",
       " '25115235920',\n",
       " '45925655949',\n",
       " '74448581190',\n",
       " '32234779638',\n",
       " '27130058170',\n",
       " '84825393532',\n",
       " '63136990017',\n",
       " '39896168660',\n",
       " '87300469819',\n",
       " '88984392677',\n",
       " '53938467553',\n",
       " '79800042168',\n",
       " '81146325646',\n",
       " '23618059522',\n",
       " '29674997261',\n",
       " '18978126444',\n",
       " '87767413481',\n",
       " '57684437046',\n",
       " '87982339334',\n",
       " '18899854203']"
      ]
     },
     "execution_count": 34,
     "metadata": {},
     "output_type": "execute_result"
    }
   ],
   "source": [
    "lst"
   ]
  },
  {
   "cell_type": "code",
   "execution_count": 35,
   "metadata": {},
   "outputs": [
    {
     "name": "stderr",
     "output_type": "stream",
     "text": [
      "                                                                                \r"
     ]
    },
    {
     "data": {
      "text/plain": [
       "14195484"
      ]
     },
     "execution_count": 35,
     "metadata": {},
     "output_type": "execute_result"
    }
   ],
   "source": [
    "transactions.filter(F.col('merchant_abn') != '29836312398').count()"
   ]
  },
  {
   "cell_type": "code",
   "execution_count": 36,
   "metadata": {},
   "outputs": [],
   "source": [
    "transactions = transactions.filter(F.col('merchant_abn') != '29836312398')"
   ]
  },
  {
   "cell_type": "code",
   "execution_count": 37,
   "metadata": {},
   "outputs": [
    {
     "name": "stderr",
     "output_type": "stream",
     "text": [
      "                                                                                \r"
     ]
    },
    {
     "data": {
      "text/plain": [
       "14195484"
      ]
     },
     "execution_count": 37,
     "metadata": {},
     "output_type": "execute_result"
    }
   ],
   "source": [
    "transactions.count()"
   ]
  },
  {
   "cell_type": "code",
   "execution_count": null,
   "metadata": {},
   "outputs": [],
   "source": []
  },
  {
   "cell_type": "code",
   "execution_count": 38,
   "metadata": {},
   "outputs": [],
   "source": [
    "transactions = transactions.filter(~transactions['merchant_abn'].isin(lst))\n"
   ]
  },
  {
   "cell_type": "code",
   "execution_count": 39,
   "metadata": {},
   "outputs": [
    {
     "name": "stderr",
     "output_type": "stream",
     "text": [
      "                                                                                \r"
     ]
    },
    {
     "data": {
      "text/plain": [
       "13614675"
      ]
     },
     "execution_count": 39,
     "metadata": {},
     "output_type": "execute_result"
    }
   ],
   "source": [
    "transactions.count()"
   ]
  },
  {
   "cell_type": "code",
   "execution_count": 40,
   "metadata": {},
   "outputs": [
    {
     "name": "stderr",
     "output_type": "stream",
     "text": [
      "                                                                                \r"
     ]
    }
   ],
   "source": [
    "transacabn1 = transactions.select(F.col('merchant_abn')).distinct()\n",
    "transacabn1 = transacabn1.toPandas()\n",
    "transacabn1 = transacabn1['merchant_abn'].tolist()"
   ]
  },
  {
   "cell_type": "code",
   "execution_count": 41,
   "metadata": {},
   "outputs": [
    {
     "name": "stderr",
     "output_type": "stream",
     "text": [
      "                                                                                \r"
     ]
    },
    {
     "data": {
      "text/plain": [
       "13614675"
      ]
     },
     "execution_count": 41,
     "metadata": {},
     "output_type": "execute_result"
    }
   ],
   "source": [
    "transactions.count()"
   ]
  },
  {
   "cell_type": "code",
   "execution_count": 42,
   "metadata": {},
   "outputs": [
    {
     "name": "stdout",
     "output_type": "stream",
     "text": [
      "0\n"
     ]
    }
   ],
   "source": [
    "print(len(set(transacabn1).difference(merchants_abn)))"
   ]
  },
  {
   "cell_type": "code",
   "execution_count": 43,
   "metadata": {},
   "outputs": [
    {
     "name": "stderr",
     "output_type": "stream",
     "text": [
      "                                                                                \r"
     ]
    },
    {
     "data": {
      "text/plain": [
       "13614675"
      ]
     },
     "execution_count": 43,
     "metadata": {},
     "output_type": "execute_result"
    }
   ],
   "source": [
    "transactions.count()"
   ]
  },
  {
   "cell_type": "code",
   "execution_count": 44,
   "metadata": {},
   "outputs": [
    {
     "name": "stderr",
     "output_type": "stream",
     "text": [
      "                                                                                \r"
     ]
    }
   ],
   "source": [
    "transactions.write.mode('overwrite').parquet('.././data/curated/total_transactions')"
   ]
  },
  {
   "cell_type": "code",
   "execution_count": 45,
   "metadata": {},
   "outputs": [
    {
     "data": {
      "text/plain": [
       "4026"
      ]
     },
     "execution_count": 45,
     "metadata": {},
     "output_type": "execute_result"
    }
   ],
   "source": [
    "tbl_merchants.count()"
   ]
  }
 ],
 "metadata": {
  "kernelspec": {
   "display_name": "Python 3",
   "language": "python",
   "name": "python3"
  },
  "language_info": {
   "codemirror_mode": {
    "name": "ipython",
    "version": 3
   },
   "file_extension": ".py",
   "mimetype": "text/x-python",
   "name": "python",
   "nbconvert_exporter": "python",
   "pygments_lexer": "ipython3",
   "version": "3.10.12"
  }
 },
 "nbformat": 4,
 "nbformat_minor": 2
}
