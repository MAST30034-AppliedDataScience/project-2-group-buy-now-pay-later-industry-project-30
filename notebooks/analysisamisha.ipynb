{
 "cells": [
  {
   "cell_type": "markdown",
   "metadata": {},
   "source": [
    "Analysis of Consumer Data"
   ]
  },
  {
   "cell_type": "code",
   "execution_count": 1,
   "metadata": {},
   "outputs": [],
   "source": [
    "import pandas as pd\n",
    "import numpy as np\n",
    "import geopandas as gpd\n",
    "import os\n",
    "import re\n",
    "import glob\n",
    "import math\n",
    "import matplotlib.pyplot as plt\n",
    "from pyspark.sql import functions as F\n",
    "from pyspark.sql import SparkSession\n",
    "from pyspark.sql.types import StructType, StructField, StringType, LongType, IntegerType\n",
    "from datetime import datetime, timedelta"
   ]
  },
  {
   "cell_type": "code",
   "execution_count": 2,
   "metadata": {},
   "outputs": [
    {
     "name": "stderr",
     "output_type": "stream",
     "text": [
      "your 131072x1 screen size is bogus. expect trouble\n",
      "24/09/19 14:19:51 WARN Utils: Your hostname, DESKTOP-F216TKE resolves to a loopback address: 127.0.1.1; using 10.255.255.254 instead (on interface lo)\n",
      "24/09/19 14:19:51 WARN Utils: Set SPARK_LOCAL_IP if you need to bind to another address\n",
      "Setting default log level to \"WARN\".\n",
      "To adjust logging level use sc.setLogLevel(newLevel). For SparkR, use setLogLevel(newLevel).\n",
      "24/09/19 14:19:52 WARN NativeCodeLoader: Unable to load native-hadoop library for your platform... using builtin-java classes where applicable\n"
     ]
    }
   ],
   "source": [
    "spark = SparkSession.builder \\\n",
    "    .master('local[*]') \\\n",
    "    .config(\"spark.driver.memory\", \"15g\") \\\n",
    "    .config(\"spark.executor.memory\", \"15g\") \\\n",
    "    .config(\"spark.serializer\", \"org.apache.spark.serializer.KryoSerializer\") \\\n",
    "    .appName('analysis') \\\n",
    "    .getOrCreate()"
   ]
  },
  {
   "cell_type": "code",
   "execution_count": 3,
   "metadata": {},
   "outputs": [
    {
     "name": "stderr",
     "output_type": "stream",
     "text": [
      "                                                                                \r"
     ]
    },
    {
     "name": "stdout",
     "output_type": "stream",
     "text": [
      "+-------+--------------+-----------------+\n",
      "|user_id|order_datetime|fraud_probability|\n",
      "+-------+--------------+-----------------+\n",
      "|   6228|    2021-12-19| 97.6298077657765|\n",
      "|  21419|    2021-12-10|99.24738020302328|\n",
      "|   5606|    2021-10-17|84.05825045251777|\n",
      "|   3101|    2021-04-17|91.42192091901347|\n",
      "|  22239|    2021-10-19|94.70342477508035|\n",
      "|  16556|    2022-02-20|89.65663294494827|\n",
      "|  10278|    2021-09-28|83.59136689427714|\n",
      "|  15790|    2021-12-30|71.77065889280253|\n",
      "|   5233|    2021-08-29|85.87123303878818|\n",
      "|    230|    2021-08-28|86.28328808934151|\n",
      "|  13601|    2021-12-26|83.13696487489679|\n",
      "|   6383|    2021-09-15| 66.2676451623754|\n",
      "|   3513|    2022-02-27|75.16981192247916|\n",
      "|  18658|    2021-10-19|82.98609082999361|\n",
      "|   5965|    2021-11-14|69.37164467869053|\n",
      "|  18714|    2021-11-14|83.78813794627237|\n",
      "|  22957|    2022-02-12|82.79065699075498|\n",
      "|  20118|    2021-09-05|80.34030486265003|\n",
      "|   6436|    2021-12-24|84.81618344606828|\n",
      "|  17900|    2022-02-25|92.73262811161372|\n",
      "+-------+--------------+-----------------+\n",
      "only showing top 20 rows\n",
      "\n"
     ]
    }
   ],
   "source": [
    "consumer_fraud = spark.read.parquet(\".././data/curated/consumer_fraud\")\n",
    "consumer_fraud.show()"
   ]
  },
  {
   "cell_type": "code",
   "execution_count": 3,
   "metadata": {},
   "outputs": [
    {
     "name": "stderr",
     "output_type": "stream",
     "text": [
      "                                                                                \r"
     ]
    }
   ],
   "source": [
    "consumer_details = spark.read.parquet(\".././data/curated/consumer_details\")\n",
    "transactions = spark.read.parquet(\".././data/curated/total_transactions\")\n",
    "merchant_fraud = spark.read.parquet(\".././data/curated/merchant_fraud\")\n",
    "tbl_consumer = spark.read.parquet(\".././data/curated/tbl_consumer\")\n",
    "tbl_merchant = spark.read.parquet(\".././data/curated/tbl_merchants\")"
   ]
  },
  {
   "cell_type": "code",
   "execution_count": 5,
   "metadata": {},
   "outputs": [
    {
     "name": "stdout",
     "output_type": "stream",
     "text": [
      "+-------+-----------+\n",
      "|user_id|consumer_id|\n",
      "+-------+-----------+\n",
      "|      1|    1195503|\n",
      "|      2|     179208|\n",
      "|      3|    1194530|\n",
      "|      4|     154128|\n",
      "|      5|     712975|\n",
      "|      6|     407340|\n",
      "|      7|     511685|\n",
      "|      8|     448088|\n",
      "|      9|     650435|\n",
      "|     10|    1058499|\n",
      "|     11|     428325|\n",
      "|     12|    1494640|\n",
      "|     13|    1146717|\n",
      "|     14|    1343547|\n",
      "|     15|    1463076|\n",
      "|     16|    1356405|\n",
      "|     17|    1331093|\n",
      "|     18|      80965|\n",
      "|     19|    1226530|\n",
      "|     20|    1390367|\n",
      "+-------+-----------+\n",
      "only showing top 20 rows\n",
      "\n"
     ]
    }
   ],
   "source": [
    "consumer_details.show()"
   ]
  },
  {
   "cell_type": "code",
   "execution_count": 6,
   "metadata": {},
   "outputs": [
    {
     "name": "stdout",
     "output_type": "stream",
     "text": [
      "+-------+------------+------------------+--------------------+--------------+\n",
      "|user_id|merchant_abn|      dollar_value|            order_id|order_datetime|\n",
      "+-------+------------+------------------+--------------------+--------------+\n",
      "|  11138| 63290521567|41.239626303220014|09f6132a-a6a8-47a...|    2022-08-25|\n",
      "|  22285| 63465140133| 8.815286645396842|f4fc1a3b-a5b1-4d7...|    2022-08-25|\n",
      "|  11139| 21359184622| 66.46301590693417|b1a52524-b6e6-42a...|    2022-08-25|\n",
      "|  22285| 75034515922|19.654995598411727|ba240514-5dea-405...|    2022-08-25|\n",
      "|  11140| 96334476428| 6.383881161736656|3f1c61aa-6b5b-4c8...|    2022-08-25|\n",
      "|  22285| 96442520325| 91.14307120608396|89e25ac5-7775-4be...|    2022-08-25|\n",
      "|  11140| 74753274268| 1532.603740282265|9764b14c-82ba-498...|    2022-08-25|\n",
      "|  22288| 89107518982| 89.41184219239359|b95d447c-a089-4a5...|    2022-08-25|\n",
      "|  11140| 28896046710|   371.95178106226|dd5d2e91-c03b-4f0...|    2022-08-25|\n",
      "|  22289| 86578477987| 29.86919166344463|91317698-0a33-468...|    2022-08-25|\n",
      "|  22289| 23338656015|208.56112392056014|d2f80078-57bf-477...|    2022-08-25|\n",
      "|  11141| 71674475255|28.632569840078762|aabf0b5b-4cb2-414...|    2022-08-25|\n",
      "|  22290| 19933438190|14.323239293792307|e21d5163-4224-403...|    2022-08-25|\n",
      "|  11141| 33495932835| 41.29031713659889|99e70960-fbf4-4c3...|    2022-08-25|\n",
      "|  22290| 24598653065|153.15593430224752|549cba08-9ae5-47b...|    2022-08-25|\n",
      "|  11142| 43186523025|48.875777274640306|006278ce-6897-484...|    2022-08-25|\n",
      "|  22293| 75089928159| 84.36075929447935|aaceca97-402c-4da...|    2022-08-25|\n",
      "|  11142| 79283124876|243.81248238450115|8e402226-1bde-453...|    2022-08-25|\n",
      "|  22294| 63290521567| 7.762579944884716|f415da44-ea65-4cb...|    2022-08-25|\n",
      "|  11142| 49505931725| 93.94146089501055|1144ebc2-2998-490...|    2022-08-25|\n",
      "+-------+------------+------------------+--------------------+--------------+\n",
      "only showing top 20 rows\n",
      "\n"
     ]
    }
   ],
   "source": [
    "transactions.show()"
   ]
  },
  {
   "cell_type": "code",
   "execution_count": 7,
   "metadata": {},
   "outputs": [
    {
     "name": "stdout",
     "output_type": "stream",
     "text": [
      "+------------+--------------+------------------+\n",
      "|merchant_abn|order_datetime| fraud_probability|\n",
      "+------------+--------------+------------------+\n",
      "| 19492220327|    2021-11-28|44.403658647495355|\n",
      "| 31334588839|    2021-10-02| 42.75530083865367|\n",
      "| 19492220327|    2021-12-22|38.867790051131095|\n",
      "| 90918180829|    2021-09-02| 43.32551731714902|\n",
      "| 31334588839|    2021-12-26| 38.36165958070444|\n",
      "| 31334588839|    2021-11-26| 36.20971272078342|\n",
      "| 19492220327|    2021-12-18|33.819672154331755|\n",
      "| 31334588839|    2021-11-29|35.386213297375505|\n",
      "| 19492220327|    2021-11-18|32.193139919494016|\n",
      "| 93260930990|    2021-11-30| 37.87197154172081|\n",
      "| 90918180829|    2021-09-16| 36.62001350882694|\n",
      "| 83199298021|    2022-02-27|26.025158824861773|\n",
      "| 83199298021|    2022-02-17| 25.77998392496447|\n",
      "| 97217894162|    2022-01-21| 34.94582650821017|\n",
      "| 43083074133|    2021-12-18| 48.66890735193894|\n",
      "| 19492220327|    2021-10-18|30.935658544112286|\n",
      "| 31334588839|    2021-09-23|  32.3890854385705|\n",
      "| 90918180829|    2022-02-05|34.433736071364535|\n",
      "| 90918180829|    2021-10-29|34.341900552182295|\n",
      "| 90918180829|    2021-11-21| 34.33645787057429|\n",
      "+------------+--------------+------------------+\n",
      "only showing top 20 rows\n",
      "\n"
     ]
    }
   ],
   "source": [
    "merchant_fraud.show()"
   ]
  },
  {
   "cell_type": "code",
   "execution_count": 8,
   "metadata": {},
   "outputs": [
    {
     "name": "stdout",
     "output_type": "stream",
     "text": [
      "+--------------------+-----+--------+-----------+-----------+\n",
      "|       consumer_name|state|postcode|     gender|consumer_id|\n",
      "+--------------------+-----+--------+-----------+-----------+\n",
      "|     Courtney Mendez|  QLD|    9013|     Female|     680810|\n",
      "|          John Garza|   SA|    5301|       Male|     531402|\n",
      "|          Adam Bowen|   SA|    5201|       Male|    1440589|\n",
      "|     Jeffrey Harding|  VIC|    8205|       Male|     699376|\n",
      "|Mr. Antonio Peterson|  QLD|    4075|       Male|     829756|\n",
      "|       Joshua Butler|   SA|    5352|       Male|    1306078|\n",
      "|           Paul Bond|  VIC|    3612|Undisclosed|     240015|\n",
      "|         Jason Terry|   WA|    6919|       Male|     173131|\n",
      "|          John Clark|  VIC|    3747|       Male|      18096|\n",
      "|         Sandra Hill|  VIC|    3889|     Female|     967190|\n",
      "|     Julie Rodriguez|   SA|    5095|     Female|     772666|\n",
      "|       Allison Baker|   SA|    5131|     Female|    1065543|\n",
      "|     Taylor Saunders|  NSW|    2206|       Male|    1237914|\n",
      "|       Michael Frank|  VIC|    3919|       Male|    1089439|\n",
      "|         David Brown|   WA|    6256|       Male|    1143238|\n",
      "|          Evan Poole|  NSW|    1108|       Male|     257426|\n",
      "|          Scott Diaz|  QLD|    4006|       Male|     360950|\n",
      "|         Mark Nguyen|  NSW|    2023|       Male|     524221|\n",
      "|         Rodney Hull|  NSW|    2044|       Male|      20363|\n",
      "|       Crystal Smith|  ACT|    2905|     Female|      60298|\n",
      "+--------------------+-----+--------+-----------+-----------+\n",
      "only showing top 20 rows\n",
      "\n"
     ]
    }
   ],
   "source": [
    "tbl_consumer.show()"
   ]
  },
  {
   "cell_type": "code",
   "execution_count": 9,
   "metadata": {},
   "outputs": [
    {
     "name": "stdout",
     "output_type": "stream",
     "text": [
      "+--------------------+--------------------+------------+--------------------+-----+-----+\n",
      "|       merchant_name|                tags|merchant_abn|               tags1|tags2|tags3|\n",
      "+--------------------+--------------------+------------+--------------------+-----+-----+\n",
      "|       Felis Limited|[[furniture, home...| 10023283211|[furniture, home ...|    e| 0.18|\n",
      "|Arcu Ac Orci Corp...|[[cable, satellit...| 10142254217|[cable, satellite...|    b| 4.22|\n",
      "|    Nunc Sed Company|[[jewelry, watch,...| 10165489824|[jewelry, watch, ...|    b|  4.4|\n",
      "|Ultricies Digniss...|[[watch, clock, a...| 10187291046|[watch, clock, an...|    b| 3.29|\n",
      "| Enim Condimentum PC|[[music shops - m...| 10192359162|[music shops - mu...|    a| 6.33|\n",
      "|       Fusce Company|[[gift, card, nov...| 10206519221|[gift, card, nove...|    a| 6.34|\n",
      "|Aliquam Enim Inco...|[[computers, comp...| 10255988167|[computers, compu...|    b| 4.32|\n",
      "|    Ipsum Primis Ltd|[[watch, clock, a...| 10264435225|[watch, clock, an...|    c| 2.39|\n",
      "|Pede Ultrices Ind...|[[computer progra...| 10279061213|[computer program...|    a| 5.71|\n",
      "|           Nunc Inc.|[[furniture, home...| 10323485998|[furniture, home ...|    a| 6.61|\n",
      "|Facilisis Facilis...|[[computers, comp...| 10342410215|[computers, compu...|    a| 6.34|\n",
      "|      Odio Institute|[[equipment, tool...| 10346855916|[equipment, tool,...|    b| 3.57|\n",
      "|    Rutrum Justo Ltd|[[music shops - m...| 10364012396|[music shops - mu...|    b| 3.63|\n",
      "|   Tellus Foundation|[[artist supply a...| 10385011947|[artist supply an...|    b| 3.17|\n",
      "|      Sed Et Company|[[florists suppli...| 10385163239|[florists supplie...|    a| 6.61|\n",
      "|              Id Ltd|[[computers, comp...| 10385250025|[computers, compu...|    a| 5.54|\n",
      "|Consequat Foundation|[[antique shops -...| 10404542215|[antique shops - ...|    a| 6.93|\n",
      "|Sit Amet Nulla Corp.|[[motor vehicle s...| 10430380319|[motor vehicle su...|    b| 4.97|\n",
      "|Massa Vestibulum ...|[[motor vehicle s...| 10441711491|[motor vehicle su...|    a| 5.77|\n",
      "|       Ut Consulting|[[gift, card, nov...| 10462560289|[gift, card, nove...|    c| 2.95|\n",
      "+--------------------+--------------------+------------+--------------------+-----+-----+\n",
      "only showing top 20 rows\n",
      "\n"
     ]
    }
   ],
   "source": [
    "tbl_merchant.show()"
   ]
  },
  {
   "cell_type": "code",
   "execution_count": 17,
   "metadata": {},
   "outputs": [],
   "source": [
    "merchant_fraud = merchant_fraud.withColumnRenamed('fraud_probability', 'merchant_fraud')"
   ]
  },
  {
   "cell_type": "code",
   "execution_count": 18,
   "metadata": {},
   "outputs": [],
   "source": [
    "full_transactions = transactions.join(consumer_details, on=\"user_id\",how=\"left\") \\\n",
    "                   .join(tbl_consumer, on=\"consumer_id\",how=\"left\") \\\n",
    "                   .join(consumer_fraud, on=[\"user_id\", \"order_datetime\"],how=\"left\") \\\n",
    "                   .join(tbl_merchant, on=\"merchant_abn\",how=\"left\") \\\n",
    "                   .join(merchant_fraud, on=[\"order_datetime\", \"merchant_abn\"], how=\"left\")"
   ]
  },
  {
   "cell_type": "code",
   "execution_count": 19,
   "metadata": {},
   "outputs": [
    {
     "name": "stdout",
     "output_type": "stream",
     "text": [
      "+--------------+------------+-------+-----------+------------------+--------------------+------------------+-----+--------+------+-----------------+--------------------+--------------------+--------------------+-----+-----+--------------+\n",
      "|order_datetime|merchant_abn|user_id|consumer_id|      dollar_value|            order_id|     consumer_name|state|postcode|gender|fraud_probability|       merchant_name|                tags|               tags1|tags2|tags3|merchant_fraud|\n",
      "+--------------+------------+-------+-----------+------------------+--------------------+------------------+-----+--------+------+-----------------+--------------------+--------------------+--------------------+-----+-----+--------------+\n",
      "|    2022-08-25| 63290521567|  11138|     401483|41.239626303220014|09f6132a-a6a8-47a...|   Veronica Nelson|   WA|    6519|Female|             NULL|Vehicula Pellente...|[[artist supply a...|[artist supply an...|    a| 6.48|          NULL|\n",
      "|    2022-08-25| 63465140133|  22285|     416278| 8.815286645396842|f4fc1a3b-a5b1-4d7...|       Luke Greene|   WA|    6170|  Male|             NULL|  Vitae Odio Limited|[[digital goods: ...|[digital goods: b...|    b| 3.68|          NULL|\n",
      "|    2022-08-25| 21359184622|  11139|     505718| 66.46301590693417|b1a52524-b6e6-42a...|    Monica Garrett|  NSW|    2281|Female|             NULL|         Sit Amet PC|[[motor vehicle s...|[motor vehicle su...|    b|  3.6|          NULL|\n",
      "|    2022-08-25| 75034515922|  22285|     416278|19.654995598411727|ba240514-5dea-405...|       Luke Greene|   WA|    6170|  Male|             NULL|   Ac Eleifend Corp.|[[digital goods: ...|[digital goods: b...|    a| 6.22|          NULL|\n",
      "|    2022-08-25| 96334476428|  11140|     813297| 6.383881161736656|3f1c61aa-6b5b-4c8...|Benjamin Schneider|  VIC|    3677|  Male|             NULL|         Sed Est Ltd|[[bicycle shops -...|[bicycle shops - ...|    b| 3.66|          NULL|\n",
      "|    2022-08-25| 96442520325|  22285|     416278| 91.14307120608396|89e25ac5-7775-4be...|       Luke Greene|   WA|    6170|  Male|             NULL|Nullam Lobortis Q...|[[computers, comp...|[computers, compu...|    b| 3.65|          NULL|\n",
      "|    2022-08-25| 74753274268|  11140|     813297| 1532.603740282265|9764b14c-82ba-498...|Benjamin Schneider|  VIC|    3677|  Male|             NULL|       Duis A Mi LLP|[[music shops - m...|[music shops - mu...|    b| 3.16|          NULL|\n",
      "|    2022-08-25| 89107518982|  22288|     530970| 89.41184219239359|b95d447c-a089-4a5...|     Robert Harmon|  NSW|    1044|  Male|             NULL|Adipiscing Lobort...|[[gift, card, nov...|[gift, card, nove...|    b| 3.66|          NULL|\n",
      "|    2022-08-25| 28896046710|  11140|     813297|   371.95178106226|dd5d2e91-c03b-4f0...|Benjamin Schneider|  VIC|    3677|  Male|             NULL|        Nec Orci Ltd|[[computers, comp...|[computers, compu...|    a| 6.75|          NULL|\n",
      "|    2022-08-25| 86578477987|  22289|     708403| 29.86919166344463|91317698-0a33-468...|    Gary Contreras|   SA|    5049|  Male|             NULL|   Leo In Consulting|[[watch, clock, a...|[watch, clock, an...|    a| 6.43|          NULL|\n",
      "|    2022-08-25| 23338656015|  22289|     708403|208.56112392056014|d2f80078-57bf-477...|    Gary Contreras|   SA|    5049|  Male|             NULL|         Iaculis LLC|[[watch, clock, a...|[watch, clock, an...|    b| 3.25|          NULL|\n",
      "|    2022-08-25| 71674475255|  11141|    1027466|28.632569840078762|aabf0b5b-4cb2-414...|         Amy Jones|  VIC|    3202|Female|             NULL|  Lacinia Mattis LLC|[[opticians, opti...|[opticians, optic...|    b| 3.81|          NULL|\n",
      "|    2022-08-25| 19933438190|  22290|     948149|14.323239293792307|e21d5163-4224-403...|    Stephen Nguyen|   SA|    5139|  Male|             NULL| Dui Nec Corporation|[[tent and awning...|[tent and awning ...|    c| 2.22|          NULL|\n",
      "|    2022-08-25| 33495932835|  11141|    1027466| 41.29031713659889|99e70960-fbf4-4c3...|         Amy Jones|  VIC|    3202|Female|             NULL| Vel Arcu Foundation|[[furniture, home...|[furniture, home ...|    b| 4.69|          NULL|\n",
      "|    2022-08-25| 24598653065|  22290|     948149|153.15593430224752|549cba08-9ae5-47b...|    Stephen Nguyen|   SA|    5139|  Male|             NULL|Et Rutrum Foundation|[[cable, satellit...|[cable, satellite...|    c| 2.17|          NULL|\n",
      "|    2022-08-25| 43186523025|  11142|     926065|48.875777274640306|006278ce-6897-484...|     Joseph Bailey|  VIC|    3501|  Male|             NULL|Lorem Ipsum Sodal...|[[florists suppli...|[florists supplie...|    b| 4.47|          NULL|\n",
      "|    2022-08-25| 75089928159|  22293|     969847| 84.36075929447935|aaceca97-402c-4da...|     Eric Odonnell|  QLD|    4861|  Male|             NULL|Porttitor Vulputa...|[[gift, card, nov...|[gift, card, nove...|    c| 1.67|          NULL|\n",
      "|    2022-08-25| 79283124876|  11142|     926065|243.81248238450115|8e402226-1bde-453...|     Joseph Bailey|  VIC|    3501|  Male|             NULL|Pellentesque Mass...|[[florists suppli...|[florists supplie...|    b| 5.03|          NULL|\n",
      "|    2022-08-25| 63290521567|  22294|     349919| 7.762579944884716|f415da44-ea65-4cb...|  Christina Phelps|  VIC|    3147|Female|             NULL|Vehicula Pellente...|[[artist supply a...|[artist supply an...|    a| 6.48|          NULL|\n",
      "|    2022-08-25| 49505931725|  11142|     926065| 93.94146089501055|1144ebc2-2998-490...|     Joseph Bailey|  VIC|    3501|  Male|             NULL|Suspendisse Ac As...|[[digital goods: ...|[digital goods: b...|    b|  4.7|          NULL|\n",
      "+--------------+------------+-------+-----------+------------------+--------------------+------------------+-----+--------+------+-----------------+--------------------+--------------------+--------------------+-----+-----+--------------+\n",
      "only showing top 20 rows\n",
      "\n"
     ]
    }
   ],
   "source": [
    "full_transactions.show()"
   ]
  },
  {
   "cell_type": "code",
   "execution_count": 20,
   "metadata": {},
   "outputs": [
    {
     "name": "stderr",
     "output_type": "stream",
     "text": [
      "                                                                                \r"
     ]
    }
   ],
   "source": [
    "full_transactions.write.mode('overwrite').parquet('.././data/curated/full_transactions')"
   ]
  },
  {
   "cell_type": "code",
   "execution_count": null,
   "metadata": {},
   "outputs": [],
   "source": []
  },
  {
   "cell_type": "code",
   "execution_count": 10,
   "metadata": {},
   "outputs": [],
   "source": [
    "fraud = consumer_fraud.select(F.col('fraud_probability')).toPandas()['fraud_probability']\n",
    "fraud = list(fraud)"
   ]
  },
  {
   "cell_type": "code",
   "execution_count": 13,
   "metadata": {},
   "outputs": [
    {
     "data": {
      "image/png": "[encoded data removed]",
      "text/plain": [
       "<Figure size 1000x1000 with 1 Axes>"
      ]
     },
     "metadata": {},
     "output_type": "display_data"
    }
   ],
   "source": [
    "plt.figure(figsize=(10,10))\n",
    "plt.hist(fraud, density = True, color = \"green\")\n",
    "plt.title('Density Histogram of Consumer Fraud Probability ')\n",
    "plt.xlabel('Fraud Prob')\n",
    "plt.ylabel('Density')\n",
    "plt.savefig('.././plots/consumerdensityfraud')"
   ]
  },
  {
   "cell_type": "code",
   "execution_count": 11,
   "metadata": {},
   "outputs": [],
   "source": [
    "logfraud = [math.log(x) for x in fraud]"
   ]
  },
  {
   "cell_type": "code",
   "execution_count": 12,
   "metadata": {},
   "outputs": [
    {
     "data": {
      "image/png": "[encoded data removed]",
      "text/plain": [
       "<Figure size 1000x1000 with 1 Axes>"
      ]
     },
     "metadata": {},
     "output_type": "display_data"
    }
   ],
   "source": [
    "plt.figure(figsize=(10,10))\n",
    "plt.hist(logfraud, density = True, color = \"green\")\n",
    "plt.title('Density Histogram of Consumer Fraud Probability ')\n",
    "plt.xlabel('Fraud Prob')\n",
    "plt.ylabel('Density')\n",
    "plt.show()"
   ]
  },
  {
   "cell_type": "code",
   "execution_count": 14,
   "metadata": {},
   "outputs": [],
   "source": [
    "dates = consumer_fraud.select(F.col('order_datetime')).toPandas()['order_datetime']\n",
    "dates = list(dates)"
   ]
  },
  {
   "cell_type": "code",
   "execution_count": 4,
   "metadata": {},
   "outputs": [
    {
     "data": {
      "text/plain": [
       "4026"
      ]
     },
     "execution_count": 4,
     "metadata": {},
     "output_type": "execute_result"
    }
   ],
   "source": [
    "tbl_merchant.count()"
   ]
  }
 ],
 "metadata": {
  "kernelspec": {
   "display_name": "Python 3",
   "language": "python",
   "name": "python3"
  },
  "language_info": {
   "codemirror_mode": {
    "name": "ipython",
    "version": 3
   },
   "file_extension": ".py",
   "mimetype": "text/x-python",
   "name": "python",
   "nbconvert_exporter": "python",
   "pygments_lexer": "ipython3",
   "version": "3.10.12"
  }
 },
 "nbformat": 4,
 "nbformat_minor": 2
}
