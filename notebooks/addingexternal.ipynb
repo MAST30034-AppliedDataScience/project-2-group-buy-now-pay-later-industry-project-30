{
 "cells": [
  {
   "cell_type": "code",
   "execution_count": 10,
   "metadata": {},
   "outputs": [],
   "source": [
    "import pandas as pd\n",
    "import numpy as np\n",
    "import geopandas as gpd\n",
    "import os\n",
    "import re\n",
    "import glob\n",
    "import math\n",
    "import matplotlib.pyplot as plt\n",
    "from pyspark.sql import functions as F\n",
    "from pyspark.sql import SparkSession\n",
    "from pyspark.sql.types import StructType, StructField, StringType, LongType, IntegerType, DoubleType\n",
    "from datetime import datetime, timedelta"
   ]
  },
  {
   "cell_type": "code",
   "execution_count": 2,
   "metadata": {},
   "outputs": [
    {
     "name": "stderr",
     "output_type": "stream",
     "text": [
      "your 131072x1 screen size is bogus. expect trouble\n",
      "24/10/03 01:51:41 WARN Utils: Your hostname, DESKTOP-F216TKE resolves to a loopback address: 127.0.1.1; using 10.255.255.254 instead (on interface lo)\n",
      "24/10/03 01:51:41 WARN Utils: Set SPARK_LOCAL_IP if you need to bind to another address\n",
      "Setting default log level to \"WARN\".\n",
      "To adjust logging level use sc.setLogLevel(newLevel). For SparkR, use setLogLevel(newLevel).\n",
      "24/10/03 01:51:41 WARN NativeCodeLoader: Unable to load native-hadoop library for your platform... using builtin-java classes where applicable\n"
     ]
    }
   ],
   "source": [
    "spark = (\n",
    "    SparkSession.builder.appName('Specific Analysis')\n",
    "    .config(\"spark.sql.repl.eagerEval.enabled\", True)\n",
    "    .config(\"spark.sql.parquet.cacheMetadata\", \"true\")\n",
    "    .config(\"spark.sql.session.timeZone\", \"Etc/UTC\")\n",
    "    .config('spark.driver.memory', '4g')\n",
    "    .config('spark.executor.memory', '2g')\n",
    "    .getOrCreate()\n",
    ")"
   ]
  },
  {
   "cell_type": "code",
   "execution_count": 3,
   "metadata": {},
   "outputs": [
    {
     "name": "stderr",
     "output_type": "stream",
     "text": [
      "                                                                                \r"
     ]
    }
   ],
   "source": [
    "consumer_details = spark.read.parquet(\".././data/curated/consumer_details\")\n",
    "transactions = spark.read.parquet(\".././data/curated/total_transactions\")\n",
    "merchant_fraud = spark.read.parquet(\".././data/curated/merchant_fraud\")\n",
    "tbl_consumer = spark.read.parquet(\".././data/curated/tbl_consumer\")\n",
    "tbl_merchant = spark.read.parquet(\".././data/curated/tbl_merchants\")"
   ]
  },
  {
   "cell_type": "code",
   "execution_count": 4,
   "metadata": {},
   "outputs": [],
   "source": [
    "consumer_fraud = spark.read.parquet(\".././data/curated/consumer_fraud\")"
   ]
  },
  {
   "cell_type": "code",
   "execution_count": 5,
   "metadata": {},
   "outputs": [
    {
     "name": "stdout",
     "output_type": "stream",
     "text": [
      "+-------+--------------+-----------------+\n",
      "|user_id|order_datetime|fraud_probability|\n",
      "+-------+--------------+-----------------+\n",
      "|   6228|    2021-12-19| 97.6298077657765|\n",
      "|  21419|    2021-12-10|99.24738020302328|\n",
      "|   5606|    2021-10-17|84.05825045251777|\n",
      "|   3101|    2021-04-17|91.42192091901347|\n",
      "|  22239|    2021-10-19|94.70342477508035|\n",
      "|  16556|    2022-02-20|89.65663294494827|\n",
      "|  10278|    2021-09-28|83.59136689427714|\n",
      "|  15790|    2021-12-30|71.77065889280253|\n",
      "|   5233|    2021-08-29|85.87123303878818|\n",
      "|    230|    2021-08-28|86.28328808934151|\n",
      "|  13601|    2021-12-26|83.13696487489679|\n",
      "|   6383|    2021-09-15| 66.2676451623754|\n",
      "|   3513|    2022-02-27|75.16981192247916|\n",
      "|  18658|    2021-10-19|82.98609082999361|\n",
      "|   5965|    2021-11-14|69.37164467869053|\n",
      "|  18714|    2021-11-14|83.78813794627237|\n",
      "|  22957|    2022-02-12|82.79065699075498|\n",
      "|  20118|    2021-09-05|80.34030486265003|\n",
      "|   6436|    2021-12-24|84.81618344606828|\n",
      "|  17900|    2022-02-25|92.73262811161372|\n",
      "+-------+--------------+-----------------+\n",
      "only showing top 20 rows\n",
      "\n"
     ]
    }
   ],
   "source": [
    "consumer_fraud.show()"
   ]
  },
  {
   "cell_type": "code",
   "execution_count": 6,
   "metadata": {},
   "outputs": [],
   "source": [
    "merchant_fraud = merchant_fraud.withColumnRenamed('fraud_probability', 'merchant_fraud')"
   ]
  },
  {
   "cell_type": "code",
   "execution_count": 7,
   "metadata": {},
   "outputs": [],
   "source": [
    "full_transactions = transactions.join(consumer_details, on=\"user_id\",how=\"left\") \\\n",
    "                   .join(tbl_consumer, on=\"consumer_id\",how=\"left\") \\\n",
    "                   .join(consumer_fraud, on=[\"user_id\", \"order_datetime\"],how=\"left\") \\\n",
    "                   .join(tbl_merchant, on=\"merchant_abn\",how=\"left\") \\\n",
    "                   .join(merchant_fraud, on=[\"order_datetime\", \"merchant_abn\"], how=\"left\")"
   ]
  },
  {
   "cell_type": "code",
   "execution_count": 3,
   "metadata": {},
   "outputs": [
    {
     "name": "stderr",
     "output_type": "stream",
     "text": [
      "                                                                                \r"
     ]
    }
   ],
   "source": [
    "#transactions = spark.read.parquet(\".././data/curated/full_transactions2\")"
   ]
  },
  {
   "cell_type": "code",
   "execution_count": 8,
   "metadata": {},
   "outputs": [
    {
     "name": "stderr",
     "output_type": "stream",
     "text": [
      "                                                                                \r"
     ]
    },
    {
     "name": "stdout",
     "output_type": "stream",
     "text": [
      "+--------------+------------+-------+-----------+------------------+--------------------+------------------+-----+--------+------+-----------------+--------------------+--------------------+----+---------+--------------+\n",
      "|order_datetime|merchant_abn|user_id|consumer_id|      dollar_value|            order_id|     consumer_name|state|postcode|gender|fraud_probability|       merchant_name|                tags|type|take_rate|merchant_fraud|\n",
      "+--------------+------------+-------+-----------+------------------+--------------------+------------------+-----+--------+------+-----------------+--------------------+--------------------+----+---------+--------------+\n",
      "|    2022-08-25| 63290521567|  11138|     401483|41.239626303220014|09f6132a-a6a8-47a...|   Veronica Nelson|   WA|    6519|Female|             NULL|Vehicula Pellente...|artist supply, craft|   a|     6.48|          NULL|\n",
      "|    2022-08-25| 63465140133|  22285|     416278| 8.815286645396842|f4fc1a3b-a5b1-4d7...|       Luke Greene|   WA|    6170|  Male|             NULL|  Vitae Odio Limited|digital goods, bo...|   b|     3.68|          NULL|\n",
      "|    2022-08-25| 21359184622|  11139|     505718| 66.46301590693417|b1a52524-b6e6-42a...|    Monica Garrett|  NSW|    2281|Female|             NULL|         Sit Amet PC|motor vehicle sup...|   b|      3.6|          NULL|\n",
      "|    2022-08-25| 75034515922|  22285|     416278|19.654995598411727|ba240514-5dea-405...|       Luke Greene|   WA|    6170|  Male|             NULL|   Ac Eleifend Corp.|digital goods, bo...|   a|     6.22|          NULL|\n",
      "|    2022-08-25| 96334476428|  11140|     813297| 6.383881161736656|3f1c61aa-6b5b-4c8...|Benjamin Schneider|  VIC|    3677|  Male|             NULL|         Sed Est Ltd|            bicycle,|   b|     3.66|          NULL|\n",
      "|    2022-08-25| 96442520325|  22285|     416278| 91.14307120608396|89e25ac5-7775-4be...|       Luke Greene|   WA|    6170|  Male|             NULL|Nullam Lobortis Q...|computers, comput...|   b|     3.65|          NULL|\n",
      "|    2022-08-25| 74753274268|  11140|     813297| 1532.603740282265|9764b14c-82ba-498...|Benjamin Schneider|  VIC|    3677|  Male|             NULL|       Duis A Mi LLP|music, musical in...|   b|     3.16|          NULL|\n",
      "|    2022-08-25| 89107518982|  22288|     530970| 89.41184219239359|b95d447c-a089-4a5...|     Robert Harmon|  NSW|    1044|  Male|             NULL|Adipiscing Lobort...|gift, card, novel...|   b|     3.66|          NULL|\n",
      "|    2022-08-25| 28896046710|  11140|     813297|   371.95178106226|dd5d2e91-c03b-4f0...|Benjamin Schneider|  VIC|    3677|  Male|             NULL|        Nec Orci Ltd|computers, comput...|   a|     6.75|          NULL|\n",
      "|    2022-08-25| 86578477987|  22289|     708403| 29.86919166344463|91317698-0a33-468...|    Gary Contreras|   SA|    5049|  Male|             NULL|   Leo In Consulting|watch, clock, jew...|   a|     6.43|          NULL|\n",
      "|    2022-08-25| 23338656015|  22289|     708403|208.56112392056014|d2f80078-57bf-477...|    Gary Contreras|   SA|    5049|  Male|             NULL|         Iaculis LLC|watch, clock, jew...|   b|     3.25|          NULL|\n",
      "|    2022-08-25| 71674475255|  11141|    1027466|28.632569840078762|aabf0b5b-4cb2-414...|         Amy Jones|  VIC|    3202|Female|             NULL|  Lacinia Mattis LLC|opticians, optica...|   b|     3.81|          NULL|\n",
      "|    2022-08-25| 19933438190|  22290|     948149|14.323239293792307|e21d5163-4224-403...|    Stephen Nguyen|   SA|    5139|  Male|             NULL| Dui Nec Corporation|        tent, awning|   c|     2.22|          NULL|\n",
      "|    2022-08-25| 33495932835|  11141|    1027466| 41.29031713659889|99e70960-fbf4-4c3...|         Amy Jones|  VIC|    3202|Female|             NULL| Vel Arcu Foundation|furniture, home f...|   b|     4.69|          NULL|\n",
      "|    2022-08-25| 24598653065|  22290|     948149|153.15593430224752|549cba08-9ae5-47b...|    Stephen Nguyen|   SA|    5139|  Male|             NULL|Et Rutrum Foundation|cable, satellite,...|   c|     2.17|          NULL|\n",
      "|    2022-08-25| 43186523025|  11142|     926065|48.875777274640306|006278ce-6897-484...|     Joseph Bailey|  VIC|    3501|  Male|             NULL|Lorem Ipsum Sodal...|florists supplies...|   b|     4.47|          NULL|\n",
      "|    2022-08-25| 75089928159|  22293|     969847| 84.36075929447935|aaceca97-402c-4da...|     Eric Odonnell|  QLD|    4861|  Male|             NULL|Porttitor Vulputa...|gift, card, novel...|   c|     1.67|          NULL|\n",
      "|    2022-08-25| 79283124876|  11142|     926065|243.81248238450115|8e402226-1bde-453...|     Joseph Bailey|  VIC|    3501|  Male|             NULL|Pellentesque Mass...|florists supplies...|   b|     5.03|          NULL|\n",
      "|    2022-08-25| 63290521567|  22294|     349919| 7.762579944884716|f415da44-ea65-4cb...|  Christina Phelps|  VIC|    3147|Female|             NULL|Vehicula Pellente...|artist supply, craft|   a|     6.48|          NULL|\n",
      "|    2022-08-25| 49505931725|  11142|     926065| 93.94146089501055|1144ebc2-2998-490...|     Joseph Bailey|  VIC|    3501|  Male|             NULL|Suspendisse Ac As...|digital goods, bo...|   b|      4.7|          NULL|\n",
      "+--------------+------------+-------+-----------+------------------+--------------------+------------------+-----+--------+------+-----------------+--------------------+--------------------+----+---------+--------------+\n",
      "only showing top 20 rows\n",
      "\n"
     ]
    }
   ],
   "source": [
    "full_transactions.show()"
   ]
  },
  {
   "cell_type": "code",
   "execution_count": null,
   "metadata": {},
   "outputs": [],
   "source": []
  },
  {
   "cell_type": "code",
   "execution_count": 9,
   "metadata": {},
   "outputs": [
    {
     "name": "stderr",
     "output_type": "stream",
     "text": [
      "                                                                                \r"
     ]
    }
   ],
   "source": [
    "full_transactions.write.mode('overwrite').parquet('.././data/curated/full_transaction3')"
   ]
  },
  {
   "cell_type": "code",
   "execution_count": 4,
   "metadata": {},
   "outputs": [
    {
     "name": "stderr",
     "output_type": "stream",
     "text": [
      "                                                                                \r"
     ]
    },
    {
     "name": "stdout",
     "output_type": "stream",
     "text": [
      "+--------+--------------+------------+-------+-----------+------------------+--------------------+------------------+-----+------+-----------------+--------------------+--------------------+--------------------+-----+-----+--------------+------------------+-------------------------+-------------------------+----------------------+------+-------+-------+\n",
      "|postcode|order_datetime|merchant_abn|user_id|consumer_id|      dollar_value|            order_id|     consumer_name|state|gender|fraud_probability|       merchant_name|                tags|               tags1|tags2|tags3|merchant_fraud|Median_age_persons|Median_tot_fam_inc_weekly|Median_tot_hhd_inc_weekly|Average_household_size| Tot_M|  Tot_P|  Tot_F|\n",
      "+--------+--------------+------------+-------+-----------+------------------+--------------------+------------------+-----+------+-----------------+--------------------+--------------------+--------------------+-----+-----+--------------+------------------+-------------------------+-------------------------+----------------------+------+-------+-------+\n",
      "|    6519|    2022-08-25| 63290521567|  11138|     401483|41.239626303220014|09f6132a-a6a8-47a...|   Veronica Nelson|   WA|Female|             NULL|Vehicula Pellente...|[[artist supply a...|[artist supply an...|    a| 6.48|          NULL|              42.0|                   1696.0|                   1366.0|                   2.3| 296.0|  575.0|  274.0|\n",
      "|    6170|    2022-08-25| 63465140133|  22285|     416278| 8.815286645396842|f4fc1a3b-a5b1-4d7...|       Luke Greene|   WA|  Male|             NULL|  Vitae Odio Limited|[[digital goods: ...|[digital goods: b...|    b| 3.68|          NULL|              31.0|                   2153.0|                   2012.0|                   3.0|8615.0|17329.0| 8709.0|\n",
      "|    2281|    2022-08-25| 21359184622|  11139|     505718| 66.46301590693417|b1a52524-b6e6-42a...|    Monica Garrett|  NSW|Female|             NULL|         Sit Amet PC|[[motor vehicle s...|[motor vehicle su...|    b|  3.6|          NULL|              49.0|                   1825.0|                   1400.0|                   2.4|7511.0|15323.0| 7813.0|\n",
      "|    6170|    2022-08-25| 75034515922|  22285|     416278|19.654995598411727|ba240514-5dea-405...|       Luke Greene|   WA|  Male|             NULL|   Ac Eleifend Corp.|[[digital goods: ...|[digital goods: b...|    a| 6.22|          NULL|              31.0|                   2153.0|                   2012.0|                   3.0|8615.0|17329.0| 8709.0|\n",
      "|    3677|    2022-08-25| 96334476428|  11140|     813297| 6.383881161736656|3f1c61aa-6b5b-4c8...|Benjamin Schneider|  VIC|  Male|             NULL|         Sed Est Ltd|[[bicycle shops -...|[bicycle shops - ...|    b| 3.66|          NULL|              44.0|                   1694.0|                   1218.0|                   2.2|9043.0|19214.0|10169.0|\n",
      "|    6170|    2022-08-25| 96442520325|  22285|     416278| 91.14307120608396|89e25ac5-7775-4be...|       Luke Greene|   WA|  Male|             NULL|Nullam Lobortis Q...|[[computers, comp...|[computers, compu...|    b| 3.65|          NULL|              31.0|                   2153.0|                   2012.0|                   3.0|8615.0|17329.0| 8709.0|\n",
      "|    3677|    2022-08-25| 74753274268|  11140|     813297| 1532.603740282265|9764b14c-82ba-498...|Benjamin Schneider|  VIC|  Male|             NULL|       Duis A Mi LLP|[[music shops - m...|[music shops - mu...|    b| 3.16|          NULL|              44.0|                   1694.0|                   1218.0|                   2.2|9043.0|19214.0|10169.0|\n",
      "|    1044|    2022-08-25| 89107518982|  22288|     530970| 89.41184219239359|b95d447c-a089-4a5...|     Robert Harmon|  NSW|  Male|             NULL|Adipiscing Lobort...|[[gift, card, nov...|[gift, card, nove...|    b| 3.66|          NULL|              NULL|                     NULL|                     NULL|                  NULL|  NULL|   NULL|   NULL|\n",
      "|    3677|    2022-08-25| 28896046710|  11140|     813297|   371.95178106226|dd5d2e91-c03b-4f0...|Benjamin Schneider|  VIC|  Male|             NULL|        Nec Orci Ltd|[[computers, comp...|[computers, compu...|    a| 6.75|          NULL|              44.0|                   1694.0|                   1218.0|                   2.2|9043.0|19214.0|10169.0|\n",
      "|    5049|    2022-08-25| 86578477987|  22289|     708403| 29.86919166344463|91317698-0a33-468...|    Gary Contreras|   SA|  Male|             NULL|   Leo In Consulting|[[watch, clock, a...|[watch, clock, an...|    a| 6.43|          NULL|              44.0|                   2247.0|                   1853.0|                   2.5|5079.0|10380.0| 5297.0|\n",
      "|    5049|    2022-08-25| 23338656015|  22289|     708403|208.56112392056014|d2f80078-57bf-477...|    Gary Contreras|   SA|  Male|             NULL|         Iaculis LLC|[[watch, clock, a...|[watch, clock, an...|    b| 3.25|          NULL|              44.0|                   2247.0|                   1853.0|                   2.5|5079.0|10380.0| 5297.0|\n",
      "|    3202|    2022-08-25| 71674475255|  11141|    1027466|28.632569840078762|aabf0b5b-4cb2-414...|         Amy Jones|  VIC|Female|             NULL|  Lacinia Mattis LLC|[[opticians, opti...|[opticians, optic...|    b| 3.81|          NULL|              41.0|                   2531.0|                   2088.0|                   2.8|1386.0| 2826.0| 1441.0|\n",
      "|    5139|    2022-08-25| 19933438190|  22290|     948149|14.323239293792307|e21d5163-4224-403...|    Stephen Nguyen|   SA|  Male|             NULL| Dui Nec Corporation|[[tent and awning...|[tent and awning ...|    c| 2.22|          NULL|              38.0|                   2333.0|                   2089.0|                   2.8| 139.0|  290.0|  145.0|\n",
      "|    3202|    2022-08-25| 33495932835|  11141|    1027466| 41.29031713659889|99e70960-fbf4-4c3...|         Amy Jones|  VIC|Female|             NULL| Vel Arcu Foundation|[[furniture, home...|[furniture, home ...|    b| 4.69|          NULL|              41.0|                   2531.0|                   2088.0|                   2.8|1386.0| 2826.0| 1441.0|\n",
      "|    5139|    2022-08-25| 24598653065|  22290|     948149|153.15593430224752|549cba08-9ae5-47b...|    Stephen Nguyen|   SA|  Male|             NULL|Et Rutrum Foundation|[[cable, satellit...|[cable, satellite...|    c| 2.17|          NULL|              38.0|                   2333.0|                   2089.0|                   2.8| 139.0|  290.0|  145.0|\n",
      "|    3501|    2022-08-25| 43186523025|  11142|     926065|48.875777274640306|006278ce-6897-484...|     Joseph Bailey|  VIC|  Male|             NULL|Lorem Ipsum Sodal...|[[florists suppli...|[florists supplie...|    b| 4.47|          NULL|              40.0|                   2357.0|                   2055.0|                   2.9|1074.0| 2146.0| 1074.0|\n",
      "|    4861|    2022-08-25| 75089928159|  22293|     969847| 84.36075929447935|aaceca97-402c-4da...|     Eric Odonnell|  QLD|  Male|             NULL|Porttitor Vulputa...|[[gift, card, nov...|[gift, card, nove...|    c| 1.67|          NULL|              47.0|                   1529.0|                   1131.0|                   2.3| 797.0| 1541.0|  745.0|\n",
      "|    3501|    2022-08-25| 79283124876|  11142|     926065|243.81248238450115|8e402226-1bde-453...|     Joseph Bailey|  VIC|  Male|             NULL|Pellentesque Mass...|[[florists suppli...|[florists supplie...|    b| 5.03|          NULL|              40.0|                   2357.0|                   2055.0|                   2.9|1074.0| 2146.0| 1074.0|\n",
      "|    3147|    2022-08-25| 63290521567|  22294|     349919| 7.762579944884716|f415da44-ea65-4cb...|  Christina Phelps|  VIC|Female|             NULL|Vehicula Pellente...|[[artist supply a...|[artist supply an...|    a| 6.48|          NULL|              40.0|                   2969.0|                   2273.0|                   2.6|7439.0|15102.0| 7664.0|\n",
      "|    3501|    2022-08-25| 49505931725|  11142|     926065| 93.94146089501055|1144ebc2-2998-490...|     Joseph Bailey|  VIC|  Male|             NULL|Suspendisse Ac As...|[[digital goods: ...|[digital goods: b...|    b|  4.7|          NULL|              40.0|                   2357.0|                   2055.0|                   2.9|1074.0| 2146.0| 1074.0|\n",
      "+--------+--------------+------------+-------+-----------+------------------+--------------------+------------------+-----+------+-----------------+--------------------+--------------------+--------------------+-----+-----+--------------+------------------+-------------------------+-------------------------+----------------------+------+-------+-------+\n",
      "only showing top 20 rows\n",
      "\n"
     ]
    }
   ],
   "source": [
    "transactions.show()"
   ]
  },
  {
   "cell_type": "code",
   "execution_count": 6,
   "metadata": {},
   "outputs": [],
   "source": [
    "full_transactions = spark.read.parquet(\".././data/curated/full_transaction3\")"
   ]
  },
  {
   "cell_type": "code",
   "execution_count": 7,
   "metadata": {},
   "outputs": [
    {
     "name": "stdout",
     "output_type": "stream",
     "text": [
      "+--------------+------------+-------+-----------+------------------+--------------------+------------------+-----+--------+------+-----------------+--------------------+--------------------+----+---------+--------------+\n",
      "|order_datetime|merchant_abn|user_id|consumer_id|      dollar_value|            order_id|     consumer_name|state|postcode|gender|fraud_probability|       merchant_name|                tags|type|take_rate|merchant_fraud|\n",
      "+--------------+------------+-------+-----------+------------------+--------------------+------------------+-----+--------+------+-----------------+--------------------+--------------------+----+---------+--------------+\n",
      "|    2022-08-25| 63290521567|  11138|     401483|41.239626303220014|09f6132a-a6a8-47a...|   Veronica Nelson|   WA|    6519|Female|             NULL|Vehicula Pellente...|artist supply, craft|   a|     6.48|          NULL|\n",
      "|    2022-08-25| 63465140133|  22285|     416278| 8.815286645396842|f4fc1a3b-a5b1-4d7...|       Luke Greene|   WA|    6170|  Male|             NULL|  Vitae Odio Limited|digital goods, bo...|   b|     3.68|          NULL|\n",
      "|    2022-08-25| 21359184622|  11139|     505718| 66.46301590693417|b1a52524-b6e6-42a...|    Monica Garrett|  NSW|    2281|Female|             NULL|         Sit Amet PC|motor vehicle sup...|   b|      3.6|          NULL|\n",
      "|    2022-08-25| 75034515922|  22285|     416278|19.654995598411727|ba240514-5dea-405...|       Luke Greene|   WA|    6170|  Male|             NULL|   Ac Eleifend Corp.|digital goods, bo...|   a|     6.22|          NULL|\n",
      "|    2022-08-25| 96334476428|  11140|     813297| 6.383881161736656|3f1c61aa-6b5b-4c8...|Benjamin Schneider|  VIC|    3677|  Male|             NULL|         Sed Est Ltd|            bicycle,|   b|     3.66|          NULL|\n",
      "|    2022-08-25| 96442520325|  22285|     416278| 91.14307120608396|89e25ac5-7775-4be...|       Luke Greene|   WA|    6170|  Male|             NULL|Nullam Lobortis Q...|computers, comput...|   b|     3.65|          NULL|\n",
      "|    2022-08-25| 74753274268|  11140|     813297| 1532.603740282265|9764b14c-82ba-498...|Benjamin Schneider|  VIC|    3677|  Male|             NULL|       Duis A Mi LLP|music, musical in...|   b|     3.16|          NULL|\n",
      "|    2022-08-25| 89107518982|  22288|     530970| 89.41184219239359|b95d447c-a089-4a5...|     Robert Harmon|  NSW|    1044|  Male|             NULL|Adipiscing Lobort...|gift, card, novel...|   b|     3.66|          NULL|\n",
      "|    2022-08-25| 28896046710|  11140|     813297|   371.95178106226|dd5d2e91-c03b-4f0...|Benjamin Schneider|  VIC|    3677|  Male|             NULL|        Nec Orci Ltd|computers, comput...|   a|     6.75|          NULL|\n",
      "|    2022-08-25| 86578477987|  22289|     708403| 29.86919166344463|91317698-0a33-468...|    Gary Contreras|   SA|    5049|  Male|             NULL|   Leo In Consulting|watch, clock, jew...|   a|     6.43|          NULL|\n",
      "|    2022-08-25| 23338656015|  22289|     708403|208.56112392056014|d2f80078-57bf-477...|    Gary Contreras|   SA|    5049|  Male|             NULL|         Iaculis LLC|watch, clock, jew...|   b|     3.25|          NULL|\n",
      "|    2022-08-25| 71674475255|  11141|    1027466|28.632569840078762|aabf0b5b-4cb2-414...|         Amy Jones|  VIC|    3202|Female|             NULL|  Lacinia Mattis LLC|opticians, optica...|   b|     3.81|          NULL|\n",
      "|    2022-08-25| 19933438190|  22290|     948149|14.323239293792307|e21d5163-4224-403...|    Stephen Nguyen|   SA|    5139|  Male|             NULL| Dui Nec Corporation|        tent, awning|   c|     2.22|          NULL|\n",
      "|    2022-08-25| 33495932835|  11141|    1027466| 41.29031713659889|99e70960-fbf4-4c3...|         Amy Jones|  VIC|    3202|Female|             NULL| Vel Arcu Foundation|furniture, home f...|   b|     4.69|          NULL|\n",
      "|    2022-08-25| 24598653065|  22290|     948149|153.15593430224752|549cba08-9ae5-47b...|    Stephen Nguyen|   SA|    5139|  Male|             NULL|Et Rutrum Foundation|cable, satellite,...|   c|     2.17|          NULL|\n",
      "|    2022-08-25| 43186523025|  11142|     926065|48.875777274640306|006278ce-6897-484...|     Joseph Bailey|  VIC|    3501|  Male|             NULL|Lorem Ipsum Sodal...|florists supplies...|   b|     4.47|          NULL|\n",
      "|    2022-08-25| 75089928159|  22293|     969847| 84.36075929447935|aaceca97-402c-4da...|     Eric Odonnell|  QLD|    4861|  Male|             NULL|Porttitor Vulputa...|gift, card, novel...|   c|     1.67|          NULL|\n",
      "|    2022-08-25| 79283124876|  11142|     926065|243.81248238450115|8e402226-1bde-453...|     Joseph Bailey|  VIC|    3501|  Male|             NULL|Pellentesque Mass...|florists supplies...|   b|     5.03|          NULL|\n",
      "|    2022-08-25| 63290521567|  22294|     349919| 7.762579944884716|f415da44-ea65-4cb...|  Christina Phelps|  VIC|    3147|Female|             NULL|Vehicula Pellente...|artist supply, craft|   a|     6.48|          NULL|\n",
      "|    2022-08-25| 49505931725|  11142|     926065| 93.94146089501055|1144ebc2-2998-490...|     Joseph Bailey|  VIC|    3501|  Male|             NULL|Suspendisse Ac As...|digital goods, bo...|   b|      4.7|          NULL|\n",
      "+--------------+------------+-------+-----------+------------------+--------------------+------------------+-----+--------+------+-----------------+--------------------+--------------------+----+---------+--------------+\n",
      "only showing top 20 rows\n",
      "\n"
     ]
    }
   ],
   "source": [
    "transactions.show()"
   ]
  },
  {
   "cell_type": "code",
   "execution_count": 8,
   "metadata": {},
   "outputs": [
    {
     "name": "stderr",
     "output_type": "stream",
     "text": [
      "/tmp/ipykernel_18803/1659376015.py:4: UserWarning: Geometry is in a geographic CRS. Results from 'centroid' are likely incorrect. Use 'GeoSeries.to_crs()' to re-project geometries to a projected CRS before this operation.\n",
      "\n",
      "  postcodes['lon'] = postcodes.geometry.centroid.x\n",
      "/tmp/ipykernel_18803/1659376015.py:5: UserWarning: Geometry is in a geographic CRS. Results from 'centroid' are likely incorrect. Use 'GeoSeries.to_crs()' to re-project geometries to a projected CRS before this operation.\n",
      "\n",
      "  postcodes['lat'] = postcodes.geometry.centroid.y\n",
      "[Stage 7:====================================================>      (8 + 1) / 9]\r"
     ]
    },
    {
     "name": "stdout",
     "output_type": "stream",
     "text": [
      "+--------+--------------+------------+-------+-----------+------------------+------------------------------------+-----------------+-----+-----------+-----------------+------------------------------+----------------------------------------------------------------+----+---------+--------------+----------+--------------+----------------+------------------+-------------------+\n",
      "|postcode|order_datetime|merchant_abn|user_id|consumer_id|dollar_value      |order_id                            |consumer_name    |state|gender     |fraud_probability|merchant_name                 |tags                                                            |type|take_rate|merchant_fraud|AREASQKM21|SHAPE_Leng    |SHAPE_Area      |lon               |lat                |\n",
      "+--------+--------------+------------+-------+-----------+------------------+------------------------------------+-----------------+-----+-----------+-----------------+------------------------------+----------------------------------------------------------------+----+---------+--------------+----------+--------------+----------------+------------------+-------------------+\n",
      "|2142    |2022-08-25    |41980722395 |11240  |316024     |464.1076353206549 |fcab5587-b884-4f31-8eff-8053e4339716|Mark Contreras   |NSW  |Male       |NULL             |Aliquet Nec PC                |health, beauty spas                                             |a   |6.76     |NULL          |10.9833   |0.238432668749|0.00106984111332|151.0182549977228 |-33.83533956139707 |\n",
      "|2122    |2022-08-25    |57900494384 |11482  |384881     |12.77966707909852 |e622ca0f-1cd4-45aa-b4b3-a50404fd39bd|Calvin Smith     |NSW  |Male       |NULL             |Porttitor Tellus Corporation  |tent, awning                                                    |a   |6.39     |NULL          |9.0576    |0.22490915974 |8.81651713683E-4|151.09284322996638|-33.783252288704404|\n",
      "|3175    |2022-08-25    |62694031334 |22729  |858744     |21.518476766879743|06ac0a2f-ec61-4192-9e72-f36a89d12d05|Jeffery Scott    |VIC  |Male       |NULL             |Vel Est Tempor LLP            |computers, computer peripheral equipment, software              |a   |5.76     |NULL          |73.8315   |0.51405223764 |0.00757504154593|145.20312279038728|-38.018618025142885|\n",
      "|3175    |2022-08-25    |91104916025 |22729  |858744     |257.3320848021063 |7cad9c78-4604-424e-9fd1-931dd8f8578e|Jeffery Scott    |VIC  |Male       |NULL             |Id Associates                 |furniture, home furnishings, equipment, manufacturers           |b   |4.43     |NULL          |73.8315   |0.51405223764 |0.00757504154593|145.20312279038728|-38.018618025142885|\n",
      "|3918    |2022-08-25    |48734393022 |11642  |818018     |135.28913574889128|583b5faf-a088-4181-8d3f-a860642b7544|Adam Cabrera     |VIC  |Male       |NULL             |Dis Parturient Institute      |furniture, home furnishings, equipment, manufacturers           |c   |1.63     |NULL          |17.216    |0.258944929025|0.00177400392061|145.16951584826788|-38.336720256146734|\n",
      "|3918    |2022-08-25    |49891706470 |22855  |1098987    |51.03477551610067 |b8508726-171e-4179-8f18-fd63ceb0dc44|Brianna Madden   |VIC  |Female     |NULL             |Non Vestibulum Industries     |tent, awning                                                    |a   |5.8      |NULL          |17.216    |0.258944929025|0.00177400392061|145.16951584826788|-38.336720256146734|\n",
      "|3918    |2022-08-25    |44160392990 |22855  |1098987    |63.16907474263811 |8400ff59-ffac-4d98-985d-ca374b5a8bf4|Brianna Madden   |VIC  |Female     |NULL             |Sociis Natoque Incorporated   |digital goods, books, movies, music                             |a   |5.97     |NULL          |17.216    |0.258944929025|0.00177400392061|145.16951584826788|-38.336720256146734|\n",
      "|4818    |2022-08-25    |38090089066 |11959  |302173     |46.033113563367365|54881f01-76e2-4157-ad2d-90000f46ddbd|Jason Mckinney   |QLD  |Male       |NULL             |Interdum Feugiat Sed Inc.     |furniture, home furnishings, equipment, manufacturers           |b   |3.24     |NULL          |537.4411  |1.48088387627 |0.0461750612709 |146.5481700137065 |-19.228976738409077|\n",
      "|4101    |2022-08-25    |94729574738 |11980  |741092     |20.284307362343025|74655ef8-956b-4023-9ee0-85bdb8040aef|Kristin Howard   |QLD  |Undisclosed|NULL             |Scelerisque Corporation       |computer programming, data processing, integrated systems design|b   |4.51     |NULL          |5.1012    |0.108637329326|4.65815186464E-4|153.01381682255663|-27.482568999221773|\n",
      "|4101    |2022-08-25    |28935822912 |11980  |741092     |25.06351606486264 |3cea4cbc-de84-4088-85e6-db5f2e55a0ae|Kristin Howard   |QLD  |Undisclosed|NULL             |Conubia Nostra Limited        |shoe                                                            |c   |2.06     |NULL          |5.1012    |0.108637329326|4.65815186464E-4|153.01381682255663|-27.482568999221773|\n",
      "|4818    |2022-08-25    |43186523025 |23173  |1237321    |37.24333536283015 |185071c4-dce7-4435-afc7-cb45a51365fa|Brandon Johnson  |QLD  |Male       |NULL             |Lorem Ipsum Sodales Industries|florists supplies, nursery stock, flowers                       |b   |4.47     |NULL          |537.4411  |1.48088387627 |0.0461750612709 |146.5481700137065 |-19.228976738409077|\n",
      "|4818    |2022-08-25    |89726005175 |23173  |1237321    |57.97024174669414 |490faecb-9c83-46a8-b889-e4ce60e445ed|Brandon Johnson  |QLD  |Male       |NULL             |Est Nunc Consulting           |tent, awning                                                    |a   |6.01     |NULL          |537.4411  |1.48088387627 |0.0461750612709 |146.5481700137065 |-19.228976738409077|\n",
      "|3175    |2022-08-25    |57900494384 |23183  |28403      |43.907079878885206|b85fb715-0b61-4cf6-9721-00a742eeee6a|Joshua Martinez  |VIC  |Male       |NULL             |Porttitor Tellus Corporation  |tent, awning                                                    |a   |6.39     |NULL          |73.8315   |0.51405223764 |0.00757504154593|145.20312279038728|-38.018618025142885|\n",
      "|2866    |2022-08-25    |71041015148 |23223  |1211756    |98.04703583130213 |accda507-966e-4e61-88a8-b2911af65472|Jessica Garza    |NSW  |Female     |NULL             |Orci Ltd                      |digital goods, books, movies, music                             |c   |2.19     |NULL          |1198.7089 |2.84411255958 |0.115669364331  |148.96053902650607|-33.00974119599155 |\n",
      "|6336    |2022-08-25    |64573039027 |12242  |1036827    |140.0654420752833 |2341e315-39b8-42e7-b844-55a26ff4014a|Madeline Anderson|WA   |Female     |NULL             |Magna Sed Eu Associates       |computer programming, data processing, integrated systems design|a   |5.64     |NULL          |2355.7587 |2.53237735139 |0.229794169814  |118.57142836329123|-33.96531978188668 |\n",
      "|6336    |2022-08-25    |85139489422 |12242  |1036827    |0.616543055858192 |8bc38749-d1c8-4fab-b72d-46d80cdd3cae|Madeline Anderson|WA   |Female     |NULL             |Ut Institute                  |cable, satellite, other pay television, radio                   |b   |4.25     |NULL          |2355.7587 |2.53237735139 |0.229794169814  |118.57142836329123|-33.96531978188668 |\n",
      "|7253    |2022-08-25    |11173270682 |12562  |203434     |51.11588238565625 |f97548f9-e84e-4110-9572-3ab5e0deedf9|Mark Garcia      |TAS  |Male       |NULL             |Feugiat Tellus LLP            |computer programming, data processing, integrated systems design|d   |1.26     |NULL          |153.8115  |0.964122511863|0.0164857466159 |146.89543355509116|-41.09684422636655 |\n",
      "|6466    |2022-08-25    |49891706470 |12636  |955526     |44.85309804453674 |7d85817e-7933-46db-8644-08fde9f90594|Mark Beasley     |WA   |Male       |NULL             |Non Vestibulum Industries     |tent, awning                                                    |a   |5.8      |NULL          |449.0598  |0.957617646959|0.0422891076382 |117.11014984970681|-30.720207181121193|\n",
      "|6466    |2022-08-25    |19933438190 |12636  |955526     |6.1469247101147255|d6217363-394f-453f-8da8-0ecb5dd542a9|Mark Beasley     |WA   |Male       |NULL             |Dui Nec Corporation           |tent, awning                                                    |c   |2.22     |NULL          |449.0598  |0.957617646959|0.0422891076382 |117.11014984970681|-30.720207181121193|\n",
      "|6466    |2022-08-25    |94690988633 |12636  |955526     |109.44427635457703|fe1bd224-7dad-4f48-a796-af50ea22f118|Mark Beasley     |WA   |Male       |NULL             |Eu Placerat LLC               |computers, computer peripheral equipment, software              |a   |6.16     |NULL          |449.0598  |0.957617646959|0.0422891076382 |117.11014984970681|-30.720207181121193|\n",
      "+--------+--------------+------------+-------+-----------+------------------+------------------------------------+-----------------+-----+-----------+-----------------+------------------------------+----------------------------------------------------------------+----+---------+--------------+----------+--------------+----------------+------------------+-------------------+\n",
      "only showing top 20 rows\n",
      "\n"
     ]
    },
    {
     "name": "stderr",
     "output_type": "stream",
     "text": [
      "                                                                                \r"
     ]
    }
   ],
   "source": [
    "postcodes = gpd.read_file(\".././data/landing/POA_2021_AUST_GDA2020_SHP\")\n",
    "postcodes = postcodes.to_crs(epsg='4326')\n",
    "\n",
    "postcodes['lon'] = postcodes.geometry.centroid.x\n",
    "postcodes['lat'] = postcodes.geometry.centroid.y\n",
    "postcodes = postcodes.drop(columns='geometry')\n",
    "postcodes = postcodes.loc[:, ['POA_CODE21', 'AREASQKM21', 'SHAPE_Leng', 'SHAPE_Area', 'lon', 'lat']]\n",
    "postcodes = postcodes.rename(columns={'POA_CODE21': 'postcode'})\n",
    "\n",
    "postcodes = spark.createDataFrame(postcodes)\n",
    "\n",
    "full_transactions = full_transactions.join(postcodes, on='postcode')\n",
    "full_transactions.show(truncate=False)"
   ]
  },
  {
   "cell_type": "code",
   "execution_count": 11,
   "metadata": {},
   "outputs": [
    {
     "name": "stdout",
     "output_type": "stream",
     "text": [
      "+--------+------------------+-------------------------+-------------------------+----------------------+-------+-------+-------+\n",
      "|postcode|Median_age_persons|Median_tot_fam_inc_weekly|Median_tot_hhd_inc_weekly|Average_household_size|Tot_M  |Tot_P  |Tot_F  |\n",
      "+--------+------------------+-------------------------+-------------------------+----------------------+-------+-------+-------+\n",
      "|2000    |32.0              |2367.0                   |2225.0                   |2.1                   |14223.0|27936.0|13713.0|\n",
      "|2007    |30.0              |2197.0                   |1805.0                   |2.1                   |3763.0 |7410.0 |3644.0 |\n",
      "|2008    |28.0              |2453.0                   |1746.0                   |1.9                   |5315.0 |10400.0|5083.0 |\n",
      "|2009    |37.0              |3035.0                   |2422.0                   |2.1                   |6391.0 |12658.0|6267.0 |\n",
      "|2010    |36.0              |3709.0                   |2297.0                   |1.7                   |15356.0|26443.0|11082.0|\n",
      "|2011    |39.0              |3565.0                   |2041.0                   |1.5                   |9758.0 |18187.0|8424.0 |\n",
      "|2015    |34.0              |3514.0                   |2607.0                   |2.1                   |5906.0 |11422.0|5515.0 |\n",
      "|2016    |36.0              |3263.0                   |2145.0                   |1.9                   |7123.0 |13072.0|5943.0 |\n",
      "|2017    |32.0              |2684.0                   |2104.0                   |1.9                   |15333.0|29003.0|13669.0|\n",
      "|2018    |34.0              |2407.0                   |2017.0                   |2.3                   |9958.0 |19878.0|9919.0 |\n",
      "|2019    |36.0              |2834.0                   |2363.0                   |2.6                   |6647.0 |13467.0|6816.0 |\n",
      "|2020    |30.0              |2394.0                   |2254.0                   |2.5                   |11057.0|21591.0|10539.0|\n",
      "|2021    |37.0              |4589.0                   |2823.0                   |2.1                   |7167.0 |14946.0|7776.0 |\n",
      "|2022    |36.0              |3460.0                   |2484.0                   |2.2                   |6547.0 |13509.0|6959.0 |\n",
      "|2023    |39.0              |4509.0                   |3315.0                   |2.5                   |5066.0 |10590.0|5529.0 |\n",
      "|2024    |38.0              |4259.0                   |3197.0                   |2.4                   |5421.0 |11380.0|5961.0 |\n",
      "|2025    |42.0              |4557.0                   |3013.0                   |2.2                   |3220.0 |7189.0 |3966.0 |\n",
      "|2026    |34.0              |3685.0                   |2896.0                   |2.2                   |15997.0|32693.0|16699.0|\n",
      "|2027    |46.0              |4558.0                   |3027.0                   |2.0                   |3580.0 |7810.0 |4230.0 |\n",
      "|2028    |39.0              |4250.0                   |3077.0                   |2.1                   |2114.0 |4709.0 |2598.0 |\n",
      "+--------+------------------+-------------------------+-------------------------+----------------------+-------+-------+-------+\n",
      "only showing top 20 rows\n",
      "\n"
     ]
    },
    {
     "name": "stderr",
     "output_type": "stream",
     "text": [
      "24/10/03 01:53:24 WARN SparkStringUtils: Truncated the string representation of a plan since it was too large. This behavior can be adjusted by setting 'spark.sql.debug.maxToStringFields'.\n",
      "[Stage 22:===================================================>      (8 + 1) / 9]\r"
     ]
    },
    {
     "name": "stdout",
     "output_type": "stream",
     "text": [
      "+--------+--------------+------------+-------+-----------+------------------+------------------------------------+-----------------+-----+-----------+-----------------+------------------------------+----------------------------------------------------------------+----+---------+--------------+----------+--------------+----------------+------------------+-------------------+------------------+-------------------------+-------------------------+----------------------+-------+-------+-------+\n",
      "|postcode|order_datetime|merchant_abn|user_id|consumer_id|dollar_value      |order_id                            |consumer_name    |state|gender     |fraud_probability|merchant_name                 |tags                                                            |type|take_rate|merchant_fraud|AREASQKM21|SHAPE_Leng    |SHAPE_Area      |lon               |lat                |Median_age_persons|Median_tot_fam_inc_weekly|Median_tot_hhd_inc_weekly|Average_household_size|Tot_M  |Tot_P  |Tot_F  |\n",
      "+--------+--------------+------------+-------+-----------+------------------+------------------------------------+-----------------+-----+-----------+-----------------+------------------------------+----------------------------------------------------------------+----+---------+--------------+----------+--------------+----------------+------------------+-------------------+------------------+-------------------------+-------------------------+----------------------+-------+-------+-------+\n",
      "|2142    |2022-08-25    |41980722395 |11240  |316024     |464.1076353206549 |fcab5587-b884-4f31-8eff-8053e4339716|Mark Contreras   |NSW  |Male       |NULL             |Aliquet Nec PC                |health, beauty spas                                             |a   |6.76     |NULL          |10.9833   |0.238432668749|0.00106984111332|151.0182549977228 |-33.83533956139707 |31.0              |1661.0                   |1547.0                   |2.8                   |14798.0|27993.0|13197.0|\n",
      "|2122    |2022-08-25    |57900494384 |11482  |384881     |12.77966707909852 |e622ca0f-1cd4-45aa-b4b3-a50404fd39bd|Calvin Smith     |NSW  |Male       |NULL             |Porttitor Tellus Corporation  |tent, awning                                                    |a   |6.39     |NULL          |9.0576    |0.22490915974 |8.81651713683E-4|151.09284322996638|-33.783252288704404|39.0              |2248.0                   |1944.0                   |2.6                   |15239.0|31187.0|15941.0|\n",
      "|3175    |2022-08-25    |62694031334 |22729  |858744     |21.518476766879743|06ac0a2f-ec61-4192-9e72-f36a89d12d05|Jeffery Scott    |VIC  |Male       |NULL             |Vel Est Tempor LLP            |computers, computer peripheral equipment, software              |a   |5.76     |NULL          |73.8315   |0.51405223764 |0.00757504154593|145.20312279038728|-38.018618025142885|36.0              |1486.0                   |1313.0                   |2.7                   |27627.0|53545.0|25919.0|\n",
      "|3175    |2022-08-25    |91104916025 |22729  |858744     |257.3320848021063 |7cad9c78-4604-424e-9fd1-931dd8f8578e|Jeffery Scott    |VIC  |Male       |NULL             |Id Associates                 |furniture, home furnishings, equipment, manufacturers           |b   |4.43     |NULL          |73.8315   |0.51405223764 |0.00757504154593|145.20312279038728|-38.018618025142885|36.0              |1486.0                   |1313.0                   |2.7                   |27627.0|53545.0|25919.0|\n",
      "|3918    |2022-08-25    |48734393022 |11642  |818018     |135.28913574889128|583b5faf-a088-4181-8d3f-a860642b7544|Adam Cabrera     |VIC  |Male       |NULL             |Dis Parturient Institute      |furniture, home furnishings, equipment, manufacturers           |c   |1.63     |NULL          |17.216    |0.258944929025|0.00177400392061|145.16951584826788|-38.336720256146734|46.0              |1991.0                   |1615.0                   |2.5                   |2126.0 |4276.0 |2152.0 |\n",
      "|3918    |2022-08-25    |49891706470 |22855  |1098987    |51.03477551610067 |b8508726-171e-4179-8f18-fd63ceb0dc44|Brianna Madden   |VIC  |Female     |NULL             |Non Vestibulum Industries     |tent, awning                                                    |a   |5.8      |NULL          |17.216    |0.258944929025|0.00177400392061|145.16951584826788|-38.336720256146734|46.0              |1991.0                   |1615.0                   |2.5                   |2126.0 |4276.0 |2152.0 |\n",
      "|3918    |2022-08-25    |44160392990 |22855  |1098987    |63.16907474263811 |8400ff59-ffac-4d98-985d-ca374b5a8bf4|Brianna Madden   |VIC  |Female     |NULL             |Sociis Natoque Incorporated   |digital goods, books, movies, music                             |a   |5.97     |NULL          |17.216    |0.258944929025|0.00177400392061|145.16951584826788|-38.336720256146734|46.0              |1991.0                   |1615.0                   |2.5                   |2126.0 |4276.0 |2152.0 |\n",
      "|4818    |2022-08-25    |38090089066 |11959  |302173     |46.033113563367365|54881f01-76e2-4157-ad2d-90000f46ddbd|Jason Mckinney   |QLD  |Male       |NULL             |Interdum Feugiat Sed Inc.     |furniture, home furnishings, equipment, manufacturers           |b   |3.24     |NULL          |537.4411  |1.48088387627 |0.0461750612709 |146.5481700137065 |-19.228976738409077|32.0              |2248.0                   |2074.0                   |2.8                   |16171.0|32004.0|15830.0|\n",
      "|4101    |2022-08-25    |94729574738 |11980  |741092     |20.284307362343025|74655ef8-956b-4023-9ee0-85bdb8040aef|Kristin Howard   |QLD  |Undisclosed|NULL             |Scelerisque Corporation       |computer programming, data processing, integrated systems design|b   |4.51     |NULL          |5.1012    |0.108637329326|4.65815186464E-4|153.01381682255663|-27.482568999221773|32.0              |2524.0                   |1973.0                   |2.1                   |17233.0|35246.0|18013.0|\n",
      "|4101    |2022-08-25    |28935822912 |11980  |741092     |25.06351606486264 |3cea4cbc-de84-4088-85e6-db5f2e55a0ae|Kristin Howard   |QLD  |Undisclosed|NULL             |Conubia Nostra Limited        |shoe                                                            |c   |2.06     |NULL          |5.1012    |0.108637329326|4.65815186464E-4|153.01381682255663|-27.482568999221773|32.0              |2524.0                   |1973.0                   |2.1                   |17233.0|35246.0|18013.0|\n",
      "|4818    |2022-08-25    |43186523025 |23173  |1237321    |37.24333536283015 |185071c4-dce7-4435-afc7-cb45a51365fa|Brandon Johnson  |QLD  |Male       |NULL             |Lorem Ipsum Sodales Industries|florists supplies, nursery stock, flowers                       |b   |4.47     |NULL          |537.4411  |1.48088387627 |0.0461750612709 |146.5481700137065 |-19.228976738409077|32.0              |2248.0                   |2074.0                   |2.8                   |16171.0|32004.0|15830.0|\n",
      "|4818    |2022-08-25    |89726005175 |23173  |1237321    |57.97024174669414 |490faecb-9c83-46a8-b889-e4ce60e445ed|Brandon Johnson  |QLD  |Male       |NULL             |Est Nunc Consulting           |tent, awning                                                    |a   |6.01     |NULL          |537.4411  |1.48088387627 |0.0461750612709 |146.5481700137065 |-19.228976738409077|32.0              |2248.0                   |2074.0                   |2.8                   |16171.0|32004.0|15830.0|\n",
      "|3175    |2022-08-25    |57900494384 |23183  |28403      |43.907079878885206|b85fb715-0b61-4cf6-9721-00a742eeee6a|Joshua Martinez  |VIC  |Male       |NULL             |Porttitor Tellus Corporation  |tent, awning                                                    |a   |6.39     |NULL          |73.8315   |0.51405223764 |0.00757504154593|145.20312279038728|-38.018618025142885|36.0              |1486.0                   |1313.0                   |2.7                   |27627.0|53545.0|25919.0|\n",
      "|2866    |2022-08-25    |71041015148 |23223  |1211756    |98.04703583130213 |accda507-966e-4e61-88a8-b2911af65472|Jessica Garza    |NSW  |Female     |NULL             |Orci Ltd                      |digital goods, books, movies, music                             |c   |2.19     |NULL          |1198.7089 |2.84411255958 |0.115669364331  |148.96053902650607|-33.00974119599155 |42.0              |1882.0                   |1397.0                   |2.5                   |1535.0 |3112.0 |1574.0 |\n",
      "|6336    |2022-08-25    |64573039027 |12242  |1036827    |140.0654420752833 |2341e315-39b8-42e7-b844-55a26ff4014a|Madeline Anderson|WA   |Female     |NULL             |Magna Sed Eu Associates       |computer programming, data processing, integrated systems design|a   |5.64     |NULL          |2355.7587 |2.53237735139 |0.229794169814  |118.57142836329123|-33.96531978188668 |38.0              |1541.0                   |1369.0                   |2.3                   |191.0  |343.0  |150.0  |\n",
      "|6336    |2022-08-25    |85139489422 |12242  |1036827    |0.616543055858192 |8bc38749-d1c8-4fab-b72d-46d80cdd3cae|Madeline Anderson|WA   |Female     |NULL             |Ut Institute                  |cable, satellite, other pay television, radio                   |b   |4.25     |NULL          |2355.7587 |2.53237735139 |0.229794169814  |118.57142836329123|-33.96531978188668 |38.0              |1541.0                   |1369.0                   |2.3                   |191.0  |343.0  |150.0  |\n",
      "|7253    |2022-08-25    |11173270682 |12562  |203434     |51.11588238565625 |f97548f9-e84e-4110-9572-3ab5e0deedf9|Mark Garcia      |TAS  |Male       |NULL             |Feugiat Tellus LLP            |computer programming, data processing, integrated systems design|d   |1.26     |NULL          |153.8115  |0.964122511863|0.0164857466159 |146.89543355509116|-41.09684422636655 |47.0              |1180.0                   |911.0                    |2.2                   |2564.0 |5160.0 |2601.0 |\n",
      "|6466    |2022-08-25    |49891706470 |12636  |955526     |44.85309804453674 |7d85817e-7933-46db-8644-08fde9f90594|Mark Beasley     |WA   |Male       |NULL             |Non Vestibulum Industries     |tent, awning                                                    |a   |5.8      |NULL          |449.0598  |0.957617646959|0.0422891076382 |117.11014984970681|-30.720207181121193|51.0              |1749.0                   |1437.0                   |2.8                   |33.0   |56.0   |26.0   |\n",
      "|6466    |2022-08-25    |19933438190 |12636  |955526     |6.1469247101147255|d6217363-394f-453f-8da8-0ecb5dd542a9|Mark Beasley     |WA   |Male       |NULL             |Dui Nec Corporation           |tent, awning                                                    |c   |2.22     |NULL          |449.0598  |0.957617646959|0.0422891076382 |117.11014984970681|-30.720207181121193|51.0              |1749.0                   |1437.0                   |2.8                   |33.0   |56.0   |26.0   |\n",
      "|6466    |2022-08-25    |94690988633 |12636  |955526     |109.44427635457703|fe1bd224-7dad-4f48-a796-af50ea22f118|Mark Beasley     |WA   |Male       |NULL             |Eu Placerat LLC               |computers, computer peripheral equipment, software              |a   |6.16     |NULL          |449.0598  |0.957617646959|0.0422891076382 |117.11014984970681|-30.720207181121193|51.0              |1749.0                   |1437.0                   |2.8                   |33.0   |56.0   |26.0   |\n",
      "+--------+--------------+------------+-------+-----------+------------------+------------------------------------+-----------------+-----+-----------+-----------------+------------------------------+----------------------------------------------------------------+----+---------+--------------+----------+--------------+----------------+------------------+-------------------+------------------+-------------------------+-------------------------+----------------------+-------+-------+-------+\n",
      "only showing top 20 rows\n",
      "\n"
     ]
    },
    {
     "name": "stderr",
     "output_type": "stream",
     "text": [
      "                                                                                \r"
     ]
    }
   ],
   "source": [
    "# Combine the census data into a single dataframe, by postcode\n",
    "# https://www.abs.gov.au/census/find-census-data/datapacks?release=2021&product=GCP&geography=SA2&header=S\n",
    "TABLES = [\n",
    "    '2021Census_G02_AUST_POA.csv',\n",
    "    '2021Census_G04A_AUST_POA.csv',\n",
    "    '2021Census_G04B_AUST_POA.csv'\n",
    "]\n",
    "POSTCODE_COLUMN = 'POA_CODE_2021'\n",
    "SELECTED_COLUMNS = [\n",
    "    POSTCODE_COLUMN,\n",
    "    'Median_age_persons', \n",
    "    'Median_tot_fam_inc_weekly', \n",
    "    'Median_tot_hhd_inc_weekly', \n",
    "    'Average_household_size', \n",
    "    'Tot_M', \n",
    "    'Tot_P', \n",
    "    'Tot_F'\n",
    "]\n",
    "\n",
    "census_df = None\n",
    "for table in TABLES:\n",
    "    df = spark.read.options(header=True) \\\n",
    "        .csv(f\".././data/landing/2021_GCP_POA_for_AUS_short-header/2021 Census GCP Postal Areas for AUS/{table}\")\n",
    "\n",
    "    if census_df is None:\n",
    "        census_df = df\n",
    "    else:\n",
    "        census_df = census_df.join(df, POSTCODE_COLUMN).drop(df[POSTCODE_COLUMN])\n",
    "\n",
    "census_df = census_df.withColumn(POSTCODE_COLUMN, F.regexp_replace(F.col(POSTCODE_COLUMN), \"(\\D)\", \"\"))\n",
    "census_df = census_df.select(*SELECTED_COLUMNS)\n",
    "for column in SELECTED_COLUMNS[1:]:\n",
    "    census_df = census_df.withColumn(column, F.col(column).cast(DoubleType()))\n",
    "census_df = census_df.withColumnRenamed(\"POA_CODE_2021\", \"postcode\")\n",
    "census_df.show(truncate=False)\n",
    "\n",
    "full_transactions = full_transactions.join(census_df, on='postcode', how=\"left\")\n",
    "full_transactions.show(truncate=False)"
   ]
  },
  {
   "cell_type": "code",
   "execution_count": 12,
   "metadata": {},
   "outputs": [
    {
     "name": "stdout",
     "output_type": "stream",
     "text": [
      "+------------+------------+------------+-----------+-----------+------------+-----------+------------+--------------+------------+------------+------------+-----------+-----------+------------+-----------+------------+--------------+-----+----+\n",
      "|NSW_original|VIC_original|QLD_original|SA_original|WA_original|TAS_original|NT_original|ACT_original|Total_original|NSW_seasonal|VIC_seasonal|QLD_seasonal|SA_seasonal|WA_seasonal|TAS_seasonal|NT_seasonal|ACT_seasonal|Total_seasonal|month|year|\n",
      "+------------+------------+------------+-----------+-----------+------------+-----------+------------+--------------+------------+------------+------------+-----------+-----------+------------+-----------+------------+--------------+-----+----+\n",
      "|1234.2      |887.0       |494.1       |277.2      |301.5      |77.5        |NULL       |55.3        |3357.8        |1309.8      |952.8       |518.6       |288.9      |321.2      |81.0        |NULL       |58.3        |3561.5        |6    |1982|\n",
      "|1265.0      |921.3       |515.6       |296.1      |316.4      |82.7        |NULL       |56.3        |3486.8        |1291.9      |955.9       |518.1       |296.2      |320.4      |83.7        |NULL       |56.8        |3553.9        |7    |1982|\n",
      "|1217.6      |883.2       |501.4       |288.4      |300.5      |78.1        |NULL       |55.4        |3355.9        |1314.4      |950.7       |521.4       |303.6      |318.5      |83.3        |NULL       |58.9        |3581.8        |8    |1982|\n",
      "|1244.9      |917.9       |517.7       |293.0      |312.3      |79.1        |NULL       |57.5        |3454.3        |1292.4      |971.8       |521.0       |303.7      |319.6      |82.5        |NULL       |59.0        |3581.2        |9    |1982|\n",
      "|1264.2      |983.3       |504.2       |307.9      |318.7      |78.7        |NULL       |61.9        |3551.5        |1289.4      |987.7       |510.9       |310.8      |322.2      |81.1        |NULL       |61.6        |3595.6        |10   |1982|\n",
      "|1372.6      |1065.2      |536.0       |332.1      |337.9      |86.5        |NULL       |68.3        |3830.5        |1300.6      |1007.5      |520.6       |318.0      |326.9      |82.9        |NULL       |63.2        |3651.7        |11   |1982|\n",
      "|1888.3      |1427.3      |715.9       |440.9      |457.4      |118.6       |NULL       |92.2        |5179.7        |1293.2      |1008.1      |519.9       |322.3      |326.4      |83.3        |NULL       |65.3        |3650.4        |12   |1982|\n",
      "|1214.5      |920.3       |502.4       |295.9      |295.4      |75.2        |NULL       |53.0        |3384.5        |1332.7      |1010.8      |527.3       |326.7      |321.0      |84.1        |NULL       |61.0        |3695.6        |1    |1983|\n",
      "|1240.6      |921.7       |470.0       |284.1      |292.6      |76.5        |NULL       |55.1        |3369.8        |1419.3      |1024.8      |539.7       |325.2      |328.1      |85.2        |NULL       |65.2        |3821.0        |2    |1983|\n",
      "|1375.7      |1049.2      |535.7       |340.5      |319.6      |89.1        |NULL       |63.1        |3805.3        |1394.4      |1037.3      |540.0       |337.5      |326.5      |88.6        |NULL       |65.0        |3822.8        |3    |1983|\n",
      "|1344.2      |994.9       |509.0       |326.0      |313.0      |83.5        |NULL       |63.3        |3665.1        |1431.9      |1042.0      |548.5       |343.3      |333.0      |87.8        |NULL       |65.5        |3885.2        |4    |1983|\n",
      "|1379.9      |990.4       |527.5       |341.1      |336.8      |85.1        |NULL       |65.6        |3760.0        |1396.1      |993.6       |542.9       |340.4      |335.5      |86.0        |NULL       |65.9        |3793.2        |5    |1983|\n",
      "|1325.8      |950.0       |524.2       |335.0      |316.9      |83.0        |NULL       |62.3        |3630.8        |1406.0      |1016.2      |547.3       |348.0      |335.9      |87.3        |NULL       |65.2        |3839.4        |6    |1983|\n",
      "|1328.1      |971.0       |534.8       |342.3      |326.5      |83.9        |NULL       |64.5        |3686.5        |1398.1      |1038.4      |551.9       |354.5      |339.6      |88.3        |NULL       |66.4        |3871.1        |7    |1983|\n",
      "|1366.3      |1015.5      |551.0       |356.4      |340.9      |88.1        |NULL       |62.5        |3816.3        |1414.6      |1067.5      |558.4       |366.4      |349.0      |90.9        |NULL       |64.4        |3945.5        |8    |1983|\n",
      "|1370.8      |1019.2      |553.9       |349.7      |342.3      |88.0        |NULL       |64.1        |3823.4        |1433.7      |1065.1      |555.1       |357.7      |349.2      |91.1        |NULL       |65.1        |3951.4        |9    |1983|\n",
      "|1412.3      |1053.0      |545.1       |332.8      |340.5      |88.7        |NULL       |71.4        |3878.7        |1447.4      |1075.7      |560.6       |341.9      |348.1      |92.7        |NULL       |71.5        |3972.3        |10   |1983|\n",
      "|1541.6      |1136.8      |593.3       |363.9      |365.3      |97.7        |NULL       |78.0        |4211.5        |1442.0      |1073.0      |570.3       |346.7      |350.6      |93.1        |NULL       |72.8        |3983.3        |11   |1983|\n",
      "|2119.6      |1543.3      |772.2       |480.0      |485.3      |133.5       |NULL       |107.7       |5684.3        |1453.6      |1090.6      |566.3       |351.4      |349.7      |93.5        |NULL       |77.7        |4017.6        |12   |1983|\n",
      "|1299.1      |1020.7      |548.9       |320.5      |333.7      |85.8        |NULL       |59.4        |3698.5        |1434.0      |1119.0      |572.7       |351.7      |363.9      |95.1        |NULL       |67.9        |4039.3        |1    |1984|\n",
      "+------------+------------+------------+-----------+-----------+------------+-----------+------------+--------------+------------+------------+------------+-----------+-----------+------------+-----------+------------+--------------+-----+----+\n",
      "only showing top 20 rows\n",
      "\n"
     ]
    },
    {
     "name": "stderr",
     "output_type": "stream",
     "text": [
      "[Stage 35:===================================================>      (8 + 1) / 9]\r"
     ]
    },
    {
     "name": "stdout",
     "output_type": "stream",
     "text": [
      "+-----+----+--------+--------------+------------+-------+-----------+------------------+------------------------------------+-----------------+-----+-----------+-----------------+------------------------------+----------------------------------------------------------------+----+---------+--------------+----------+--------------+----------------+------------------+-------------------+------------------+-------------------------+-------------------------+----------------------+-------+-------+-------+------------+------------+------------+-----------+-----------+------------+-----------+------------+--------------+------------+------------+------------+-----------+-----------+------------+-----------+------------+--------------+\n",
      "|month|year|postcode|order_datetime|merchant_abn|user_id|consumer_id|dollar_value      |order_id                            |consumer_name    |state|gender     |fraud_probability|merchant_name                 |tags                                                            |type|take_rate|merchant_fraud|AREASQKM21|SHAPE_Leng    |SHAPE_Area      |lon               |lat                |Median_age_persons|Median_tot_fam_inc_weekly|Median_tot_hhd_inc_weekly|Average_household_size|Tot_M  |Tot_P  |Tot_F  |NSW_original|VIC_original|QLD_original|SA_original|WA_original|TAS_original|NT_original|ACT_original|Total_original|NSW_seasonal|VIC_seasonal|QLD_seasonal|SA_seasonal|WA_seasonal|TAS_seasonal|NT_seasonal|ACT_seasonal|Total_seasonal|\n",
      "+-----+----+--------+--------------+------------+-------+-----------+------------------+------------------------------------+-----------------+-----+-----------+-----------------+------------------------------+----------------------------------------------------------------+----+---------+--------------+----------+--------------+----------------+------------------+-------------------+------------------+-------------------------+-------------------------+----------------------+-------+-------+-------+------------+------------+------------+-----------+-----------+------------+-----------+------------+--------------+------------+------------+------------+-----------+-----------+------------+-----------+------------+--------------+\n",
      "|8    |2022|2142    |2022-08-25    |41980722395 |11240  |316024     |464.1076353206549 |fcab5587-b884-4f31-8eff-8053e4339716|Mark Contreras   |NSW  |Male       |NULL             |Aliquet Nec PC                |health, beauty spas                                             |a   |6.76     |NULL          |10.9833   |0.238432668749|0.00106984111332|151.0182549977228 |-33.83533956139707 |31.0              |1661.0                   |1547.0                   |2.8                   |14798.0|27993.0|13197.0|10635.3     |8580.0      |7135.8      |2155.7     |3745.1     |671.3       |335.8      |618.6       |33877.5       |10985.6     |8926.6      |7191.0      |2216.6     |3823.1     |702.0       |313.3      |639.4       |34797.6       |\n",
      "|8    |2022|2122    |2022-08-25    |57900494384 |11482  |384881     |12.77966707909852 |e622ca0f-1cd4-45aa-b4b3-a50404fd39bd|Calvin Smith     |NSW  |Male       |NULL             |Porttitor Tellus Corporation  |tent, awning                                                    |a   |6.39     |NULL          |9.0576    |0.22490915974 |8.81651713683E-4|151.09284322996638|-33.783252288704404|39.0              |2248.0                   |1944.0                   |2.6                   |15239.0|31187.0|15941.0|10635.3     |8580.0      |7135.8      |2155.7     |3745.1     |671.3       |335.8      |618.6       |33877.5       |10985.6     |8926.6      |7191.0      |2216.6     |3823.1     |702.0       |313.3      |639.4       |34797.6       |\n",
      "|8    |2022|3175    |2022-08-25    |62694031334 |22729  |858744     |21.518476766879743|06ac0a2f-ec61-4192-9e72-f36a89d12d05|Jeffery Scott    |VIC  |Male       |NULL             |Vel Est Tempor LLP            |computers, computer peripheral equipment, software              |a   |5.76     |NULL          |73.8315   |0.51405223764 |0.00757504154593|145.20312279038728|-38.018618025142885|36.0              |1486.0                   |1313.0                   |2.7                   |27627.0|53545.0|25919.0|10635.3     |8580.0      |7135.8      |2155.7     |3745.1     |671.3       |335.8      |618.6       |33877.5       |10985.6     |8926.6      |7191.0      |2216.6     |3823.1     |702.0       |313.3      |639.4       |34797.6       |\n",
      "|8    |2022|3175    |2022-08-25    |91104916025 |22729  |858744     |257.3320848021063 |7cad9c78-4604-424e-9fd1-931dd8f8578e|Jeffery Scott    |VIC  |Male       |NULL             |Id Associates                 |furniture, home furnishings, equipment, manufacturers           |b   |4.43     |NULL          |73.8315   |0.51405223764 |0.00757504154593|145.20312279038728|-38.018618025142885|36.0              |1486.0                   |1313.0                   |2.7                   |27627.0|53545.0|25919.0|10635.3     |8580.0      |7135.8      |2155.7     |3745.1     |671.3       |335.8      |618.6       |33877.5       |10985.6     |8926.6      |7191.0      |2216.6     |3823.1     |702.0       |313.3      |639.4       |34797.6       |\n",
      "|8    |2022|3918    |2022-08-25    |48734393022 |11642  |818018     |135.28913574889128|583b5faf-a088-4181-8d3f-a860642b7544|Adam Cabrera     |VIC  |Male       |NULL             |Dis Parturient Institute      |furniture, home furnishings, equipment, manufacturers           |c   |1.63     |NULL          |17.216    |0.258944929025|0.00177400392061|145.16951584826788|-38.336720256146734|46.0              |1991.0                   |1615.0                   |2.5                   |2126.0 |4276.0 |2152.0 |10635.3     |8580.0      |7135.8      |2155.7     |3745.1     |671.3       |335.8      |618.6       |33877.5       |10985.6     |8926.6      |7191.0      |2216.6     |3823.1     |702.0       |313.3      |639.4       |34797.6       |\n",
      "|8    |2022|3918    |2022-08-25    |49891706470 |22855  |1098987    |51.03477551610067 |b8508726-171e-4179-8f18-fd63ceb0dc44|Brianna Madden   |VIC  |Female     |NULL             |Non Vestibulum Industries     |tent, awning                                                    |a   |5.8      |NULL          |17.216    |0.258944929025|0.00177400392061|145.16951584826788|-38.336720256146734|46.0              |1991.0                   |1615.0                   |2.5                   |2126.0 |4276.0 |2152.0 |10635.3     |8580.0      |7135.8      |2155.7     |3745.1     |671.3       |335.8      |618.6       |33877.5       |10985.6     |8926.6      |7191.0      |2216.6     |3823.1     |702.0       |313.3      |639.4       |34797.6       |\n",
      "|8    |2022|3918    |2022-08-25    |44160392990 |22855  |1098987    |63.16907474263811 |8400ff59-ffac-4d98-985d-ca374b5a8bf4|Brianna Madden   |VIC  |Female     |NULL             |Sociis Natoque Incorporated   |digital goods, books, movies, music                             |a   |5.97     |NULL          |17.216    |0.258944929025|0.00177400392061|145.16951584826788|-38.336720256146734|46.0              |1991.0                   |1615.0                   |2.5                   |2126.0 |4276.0 |2152.0 |10635.3     |8580.0      |7135.8      |2155.7     |3745.1     |671.3       |335.8      |618.6       |33877.5       |10985.6     |8926.6      |7191.0      |2216.6     |3823.1     |702.0       |313.3      |639.4       |34797.6       |\n",
      "|8    |2022|4818    |2022-08-25    |38090089066 |11959  |302173     |46.033113563367365|54881f01-76e2-4157-ad2d-90000f46ddbd|Jason Mckinney   |QLD  |Male       |NULL             |Interdum Feugiat Sed Inc.     |furniture, home furnishings, equipment, manufacturers           |b   |3.24     |NULL          |537.4411  |1.48088387627 |0.0461750612709 |146.5481700137065 |-19.228976738409077|32.0              |2248.0                   |2074.0                   |2.8                   |16171.0|32004.0|15830.0|10635.3     |8580.0      |7135.8      |2155.7     |3745.1     |671.3       |335.8      |618.6       |33877.5       |10985.6     |8926.6      |7191.0      |2216.6     |3823.1     |702.0       |313.3      |639.4       |34797.6       |\n",
      "|8    |2022|4101    |2022-08-25    |94729574738 |11980  |741092     |20.284307362343025|74655ef8-956b-4023-9ee0-85bdb8040aef|Kristin Howard   |QLD  |Undisclosed|NULL             |Scelerisque Corporation       |computer programming, data processing, integrated systems design|b   |4.51     |NULL          |5.1012    |0.108637329326|4.65815186464E-4|153.01381682255663|-27.482568999221773|32.0              |2524.0                   |1973.0                   |2.1                   |17233.0|35246.0|18013.0|10635.3     |8580.0      |7135.8      |2155.7     |3745.1     |671.3       |335.8      |618.6       |33877.5       |10985.6     |8926.6      |7191.0      |2216.6     |3823.1     |702.0       |313.3      |639.4       |34797.6       |\n",
      "|8    |2022|4101    |2022-08-25    |28935822912 |11980  |741092     |25.06351606486264 |3cea4cbc-de84-4088-85e6-db5f2e55a0ae|Kristin Howard   |QLD  |Undisclosed|NULL             |Conubia Nostra Limited        |shoe                                                            |c   |2.06     |NULL          |5.1012    |0.108637329326|4.65815186464E-4|153.01381682255663|-27.482568999221773|32.0              |2524.0                   |1973.0                   |2.1                   |17233.0|35246.0|18013.0|10635.3     |8580.0      |7135.8      |2155.7     |3745.1     |671.3       |335.8      |618.6       |33877.5       |10985.6     |8926.6      |7191.0      |2216.6     |3823.1     |702.0       |313.3      |639.4       |34797.6       |\n",
      "|8    |2022|4818    |2022-08-25    |43186523025 |23173  |1237321    |37.24333536283015 |185071c4-dce7-4435-afc7-cb45a51365fa|Brandon Johnson  |QLD  |Male       |NULL             |Lorem Ipsum Sodales Industries|florists supplies, nursery stock, flowers                       |b   |4.47     |NULL          |537.4411  |1.48088387627 |0.0461750612709 |146.5481700137065 |-19.228976738409077|32.0              |2248.0                   |2074.0                   |2.8                   |16171.0|32004.0|15830.0|10635.3     |8580.0      |7135.8      |2155.7     |3745.1     |671.3       |335.8      |618.6       |33877.5       |10985.6     |8926.6      |7191.0      |2216.6     |3823.1     |702.0       |313.3      |639.4       |34797.6       |\n",
      "|8    |2022|4818    |2022-08-25    |89726005175 |23173  |1237321    |57.97024174669414 |490faecb-9c83-46a8-b889-e4ce60e445ed|Brandon Johnson  |QLD  |Male       |NULL             |Est Nunc Consulting           |tent, awning                                                    |a   |6.01     |NULL          |537.4411  |1.48088387627 |0.0461750612709 |146.5481700137065 |-19.228976738409077|32.0              |2248.0                   |2074.0                   |2.8                   |16171.0|32004.0|15830.0|10635.3     |8580.0      |7135.8      |2155.7     |3745.1     |671.3       |335.8      |618.6       |33877.5       |10985.6     |8926.6      |7191.0      |2216.6     |3823.1     |702.0       |313.3      |639.4       |34797.6       |\n",
      "|8    |2022|3175    |2022-08-25    |57900494384 |23183  |28403      |43.907079878885206|b85fb715-0b61-4cf6-9721-00a742eeee6a|Joshua Martinez  |VIC  |Male       |NULL             |Porttitor Tellus Corporation  |tent, awning                                                    |a   |6.39     |NULL          |73.8315   |0.51405223764 |0.00757504154593|145.20312279038728|-38.018618025142885|36.0              |1486.0                   |1313.0                   |2.7                   |27627.0|53545.0|25919.0|10635.3     |8580.0      |7135.8      |2155.7     |3745.1     |671.3       |335.8      |618.6       |33877.5       |10985.6     |8926.6      |7191.0      |2216.6     |3823.1     |702.0       |313.3      |639.4       |34797.6       |\n",
      "|8    |2022|2866    |2022-08-25    |71041015148 |23223  |1211756    |98.04703583130213 |accda507-966e-4e61-88a8-b2911af65472|Jessica Garza    |NSW  |Female     |NULL             |Orci Ltd                      |digital goods, books, movies, music                             |c   |2.19     |NULL          |1198.7089 |2.84411255958 |0.115669364331  |148.96053902650607|-33.00974119599155 |42.0              |1882.0                   |1397.0                   |2.5                   |1535.0 |3112.0 |1574.0 |10635.3     |8580.0      |7135.8      |2155.7     |3745.1     |671.3       |335.8      |618.6       |33877.5       |10985.6     |8926.6      |7191.0      |2216.6     |3823.1     |702.0       |313.3      |639.4       |34797.6       |\n",
      "|8    |2022|6336    |2022-08-25    |64573039027 |12242  |1036827    |140.0654420752833 |2341e315-39b8-42e7-b844-55a26ff4014a|Madeline Anderson|WA   |Female     |NULL             |Magna Sed Eu Associates       |computer programming, data processing, integrated systems design|a   |5.64     |NULL          |2355.7587 |2.53237735139 |0.229794169814  |118.57142836329123|-33.96531978188668 |38.0              |1541.0                   |1369.0                   |2.3                   |191.0  |343.0  |150.0  |10635.3     |8580.0      |7135.8      |2155.7     |3745.1     |671.3       |335.8      |618.6       |33877.5       |10985.6     |8926.6      |7191.0      |2216.6     |3823.1     |702.0       |313.3      |639.4       |34797.6       |\n",
      "|8    |2022|6336    |2022-08-25    |85139489422 |12242  |1036827    |0.616543055858192 |8bc38749-d1c8-4fab-b72d-46d80cdd3cae|Madeline Anderson|WA   |Female     |NULL             |Ut Institute                  |cable, satellite, other pay television, radio                   |b   |4.25     |NULL          |2355.7587 |2.53237735139 |0.229794169814  |118.57142836329123|-33.96531978188668 |38.0              |1541.0                   |1369.0                   |2.3                   |191.0  |343.0  |150.0  |10635.3     |8580.0      |7135.8      |2155.7     |3745.1     |671.3       |335.8      |618.6       |33877.5       |10985.6     |8926.6      |7191.0      |2216.6     |3823.1     |702.0       |313.3      |639.4       |34797.6       |\n",
      "|8    |2022|7253    |2022-08-25    |11173270682 |12562  |203434     |51.11588238565625 |f97548f9-e84e-4110-9572-3ab5e0deedf9|Mark Garcia      |TAS  |Male       |NULL             |Feugiat Tellus LLP            |computer programming, data processing, integrated systems design|d   |1.26     |NULL          |153.8115  |0.964122511863|0.0164857466159 |146.89543355509116|-41.09684422636655 |47.0              |1180.0                   |911.0                    |2.2                   |2564.0 |5160.0 |2601.0 |10635.3     |8580.0      |7135.8      |2155.7     |3745.1     |671.3       |335.8      |618.6       |33877.5       |10985.6     |8926.6      |7191.0      |2216.6     |3823.1     |702.0       |313.3      |639.4       |34797.6       |\n",
      "|8    |2022|6466    |2022-08-25    |49891706470 |12636  |955526     |44.85309804453674 |7d85817e-7933-46db-8644-08fde9f90594|Mark Beasley     |WA   |Male       |NULL             |Non Vestibulum Industries     |tent, awning                                                    |a   |5.8      |NULL          |449.0598  |0.957617646959|0.0422891076382 |117.11014984970681|-30.720207181121193|51.0              |1749.0                   |1437.0                   |2.8                   |33.0   |56.0   |26.0   |10635.3     |8580.0      |7135.8      |2155.7     |3745.1     |671.3       |335.8      |618.6       |33877.5       |10985.6     |8926.6      |7191.0      |2216.6     |3823.1     |702.0       |313.3      |639.4       |34797.6       |\n",
      "|8    |2022|6466    |2022-08-25    |19933438190 |12636  |955526     |6.1469247101147255|d6217363-394f-453f-8da8-0ecb5dd542a9|Mark Beasley     |WA   |Male       |NULL             |Dui Nec Corporation           |tent, awning                                                    |c   |2.22     |NULL          |449.0598  |0.957617646959|0.0422891076382 |117.11014984970681|-30.720207181121193|51.0              |1749.0                   |1437.0                   |2.8                   |33.0   |56.0   |26.0   |10635.3     |8580.0      |7135.8      |2155.7     |3745.1     |671.3       |335.8      |618.6       |33877.5       |10985.6     |8926.6      |7191.0      |2216.6     |3823.1     |702.0       |313.3      |639.4       |34797.6       |\n",
      "|8    |2022|6466    |2022-08-25    |94690988633 |12636  |955526     |109.44427635457703|fe1bd224-7dad-4f48-a796-af50ea22f118|Mark Beasley     |WA   |Male       |NULL             |Eu Placerat LLC               |computers, computer peripheral equipment, software              |a   |6.16     |NULL          |449.0598  |0.957617646959|0.0422891076382 |117.11014984970681|-30.720207181121193|51.0              |1749.0                   |1437.0                   |2.8                   |33.0   |56.0   |26.0   |10635.3     |8580.0      |7135.8      |2155.7     |3745.1     |671.3       |335.8      |618.6       |33877.5       |10985.6     |8926.6      |7191.0      |2216.6     |3823.1     |702.0       |313.3      |639.4       |34797.6       |\n",
      "+-----+----+--------+--------------+------------+-------+-----------+------------------+------------------------------------+-----------------+-----+-----------+-----------------+------------------------------+----------------------------------------------------------------+----+---------+--------------+----------+--------------+----------------+------------------+-------------------+------------------+-------------------------+-------------------------+----------------------+-------+-------+-------+------------+------------+------------+-----------+-----------+------------+-----------+------------+--------------+------------+------------+------------+-----------+-----------+------------+-----------+------------+--------------+\n",
      "only showing top 20 rows\n",
      "\n"
     ]
    },
    {
     "name": "stderr",
     "output_type": "stream",
     "text": [
      "                                                                                \r"
     ]
    }
   ],
   "source": [
    "retail_df = spark.read.parquet(\".././data/raw/retail_sales.parquet\")\n",
    "retail_df = retail_df.withColumn(\"month\", F.month(\"date\"))\n",
    "retail_df = retail_df.withColumn(\"year\", F.year(\"date\"))\n",
    "retail_df = retail_df.drop('date')\n",
    "retail_df = retail_df.select([col for col in retail_df.columns if not col.endswith('trend')])\n",
    "retail_df.show(truncate=False)\n",
    "\n",
    "full_transactions = full_transactions.withColumn(\"month\", F.month(\"order_datetime\"))\n",
    "full_transactions = full_transactions.withColumn(\"year\", F.year(\"order_datetime\"))\n",
    "full_transactions = full_transactions.join(retail_df, on=['month', 'year'], how='left')\n",
    "full_transactions.show(truncate=False)"
   ]
  },
  {
   "cell_type": "code",
   "execution_count": 13,
   "metadata": {},
   "outputs": [
    {
     "name": "stderr",
     "output_type": "stream",
     "text": [
      "                                                                                \r"
     ]
    }
   ],
   "source": [
    "full_transactions.write.mode('overwrite').parquet('.././data/curated/transaction_external')"
   ]
  }
 ],
 "metadata": {
  "kernelspec": {
   "display_name": "Python 3",
   "language": "python",
   "name": "python3"
  },
  "language_info": {
   "codemirror_mode": {
    "name": "ipython",
    "version": 3
   },
   "file_extension": ".py",
   "mimetype": "text/x-python",
   "name": "python",
   "nbconvert_exporter": "python",
   "pygments_lexer": "ipython3",
   "version": "3.10.12"
  }
 },
 "nbformat": 4,
 "nbformat_minor": 2
}
